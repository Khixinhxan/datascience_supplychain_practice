{
 "cells": [
  {
   "cell_type": "code",
   "execution_count": 685,
   "metadata": {},
   "outputs": [],
   "source": [
    "import pandas as pd\n",
    "import numpy as np\n",
    "import seaborn as sns\n",
    "import matplotlib.pyplot as plt"
   ]
  },
  {
   "cell_type": "code",
   "execution_count": 686,
   "metadata": {},
   "outputs": [],
   "source": [
    "retail_clean = pd.read_csv(\"/Users/dang/Desktop/Learning/DataScience_SupplyChain/Jupyternotebook_source/Section_9/retail_clean.csv\")"
   ]
  },
  {
   "cell_type": "code",
   "execution_count": 687,
   "metadata": {},
   "outputs": [
    {
     "data": {
      "text/html": [
       "<div>\n",
       "<style scoped>\n",
       "    .dataframe tbody tr th:only-of-type {\n",
       "        vertical-align: middle;\n",
       "    }\n",
       "\n",
       "    .dataframe tbody tr th {\n",
       "        vertical-align: top;\n",
       "    }\n",
       "\n",
       "    .dataframe thead th {\n",
       "        text-align: right;\n",
       "    }\n",
       "</style>\n",
       "<table border=\"1\" class=\"dataframe\">\n",
       "  <thead>\n",
       "    <tr style=\"text-align: right;\">\n",
       "      <th></th>\n",
       "      <th>Unnamed: 0</th>\n",
       "      <th>Invoice</th>\n",
       "      <th>StockCode</th>\n",
       "      <th>Description</th>\n",
       "      <th>Quantity</th>\n",
       "      <th>InvoiceDate</th>\n",
       "      <th>Price</th>\n",
       "      <th>Customer ID</th>\n",
       "      <th>Country</th>\n",
       "      <th>Revenue</th>\n",
       "    </tr>\n",
       "  </thead>\n",
       "  <tbody>\n",
       "    <tr>\n",
       "      <th>0</th>\n",
       "      <td>0</td>\n",
       "      <td>489434</td>\n",
       "      <td>85048</td>\n",
       "      <td>15CM CHRISTMAS GLASS BALL 20 LIGHTS</td>\n",
       "      <td>12</td>\n",
       "      <td>2009-12-01 07:45:00</td>\n",
       "      <td>6.95</td>\n",
       "      <td>13085.0</td>\n",
       "      <td>United Kingdom</td>\n",
       "      <td>83.4</td>\n",
       "    </tr>\n",
       "    <tr>\n",
       "      <th>1</th>\n",
       "      <td>1</td>\n",
       "      <td>489434</td>\n",
       "      <td>79323P</td>\n",
       "      <td>PINK CHERRY LIGHTS</td>\n",
       "      <td>12</td>\n",
       "      <td>2009-12-01 07:45:00</td>\n",
       "      <td>6.75</td>\n",
       "      <td>13085.0</td>\n",
       "      <td>United Kingdom</td>\n",
       "      <td>81.0</td>\n",
       "    </tr>\n",
       "    <tr>\n",
       "      <th>2</th>\n",
       "      <td>2</td>\n",
       "      <td>489434</td>\n",
       "      <td>79323W</td>\n",
       "      <td>WHITE CHERRY LIGHTS</td>\n",
       "      <td>12</td>\n",
       "      <td>2009-12-01 07:45:00</td>\n",
       "      <td>6.75</td>\n",
       "      <td>13085.0</td>\n",
       "      <td>United Kingdom</td>\n",
       "      <td>81.0</td>\n",
       "    </tr>\n",
       "    <tr>\n",
       "      <th>3</th>\n",
       "      <td>3</td>\n",
       "      <td>489434</td>\n",
       "      <td>22041</td>\n",
       "      <td>RECORD FRAME 7\" SINGLE SIZE</td>\n",
       "      <td>48</td>\n",
       "      <td>2009-12-01 07:45:00</td>\n",
       "      <td>2.10</td>\n",
       "      <td>13085.0</td>\n",
       "      <td>United Kingdom</td>\n",
       "      <td>100.8</td>\n",
       "    </tr>\n",
       "    <tr>\n",
       "      <th>4</th>\n",
       "      <td>4</td>\n",
       "      <td>489434</td>\n",
       "      <td>21232</td>\n",
       "      <td>STRAWBERRY CERAMIC TRINKET BOX</td>\n",
       "      <td>24</td>\n",
       "      <td>2009-12-01 07:45:00</td>\n",
       "      <td>1.25</td>\n",
       "      <td>13085.0</td>\n",
       "      <td>United Kingdom</td>\n",
       "      <td>30.0</td>\n",
       "    </tr>\n",
       "  </tbody>\n",
       "</table>\n",
       "</div>"
      ],
      "text/plain": [
       "   Unnamed: 0  Invoice StockCode                          Description  \\\n",
       "0           0   489434     85048  15CM CHRISTMAS GLASS BALL 20 LIGHTS   \n",
       "1           1   489434    79323P                   PINK CHERRY LIGHTS   \n",
       "2           2   489434    79323W                  WHITE CHERRY LIGHTS   \n",
       "3           3   489434     22041         RECORD FRAME 7\" SINGLE SIZE    \n",
       "4           4   489434     21232       STRAWBERRY CERAMIC TRINKET BOX   \n",
       "\n",
       "   Quantity          InvoiceDate  Price  Customer ID         Country  Revenue  \n",
       "0        12  2009-12-01 07:45:00   6.95      13085.0  United Kingdom     83.4  \n",
       "1        12  2009-12-01 07:45:00   6.75      13085.0  United Kingdom     81.0  \n",
       "2        12  2009-12-01 07:45:00   6.75      13085.0  United Kingdom     81.0  \n",
       "3        48  2009-12-01 07:45:00   2.10      13085.0  United Kingdom    100.8  \n",
       "4        24  2009-12-01 07:45:00   1.25      13085.0  United Kingdom     30.0  "
      ]
     },
     "execution_count": 687,
     "metadata": {},
     "output_type": "execute_result"
    }
   ],
   "source": [
    "retail_clean.head()"
   ]
  },
  {
   "cell_type": "code",
   "execution_count": 688,
   "metadata": {},
   "outputs": [
    {
     "name": "stdout",
     "output_type": "stream",
     "text": [
      "<class 'pandas.core.frame.DataFrame'>\n",
      "RangeIndex: 779495 entries, 0 to 779494\n",
      "Data columns (total 10 columns):\n",
      " #   Column       Non-Null Count   Dtype  \n",
      "---  ------       --------------   -----  \n",
      " 0   Unnamed: 0   779495 non-null  int64  \n",
      " 1   Invoice      779495 non-null  int64  \n",
      " 2   StockCode    779495 non-null  object \n",
      " 3   Description  779495 non-null  object \n",
      " 4   Quantity     779495 non-null  int64  \n",
      " 5   InvoiceDate  779495 non-null  object \n",
      " 6   Price        779495 non-null  float64\n",
      " 7   Customer ID  779495 non-null  float64\n",
      " 8   Country      779495 non-null  object \n",
      " 9   Revenue      779495 non-null  float64\n",
      "dtypes: float64(3), int64(3), object(4)\n",
      "memory usage: 59.5+ MB\n"
     ]
    }
   ],
   "source": [
    "retail_clean.info()"
   ]
  },
  {
   "cell_type": "code",
   "execution_count": 689,
   "metadata": {},
   "outputs": [
    {
     "data": {
      "text/plain": [
       "0         2009-12-01 07:45:00\n",
       "1         2009-12-01 07:45:00\n",
       "2         2009-12-01 07:45:00\n",
       "3         2009-12-01 07:45:00\n",
       "4         2009-12-01 07:45:00\n",
       "                 ...         \n",
       "779490    2011-12-09 12:50:00\n",
       "779491    2011-12-09 12:50:00\n",
       "779492    2011-12-09 12:50:00\n",
       "779493    2011-12-09 12:50:00\n",
       "779494    2011-12-09 12:50:00\n",
       "Name: InvoiceDate, Length: 779495, dtype: object"
      ]
     },
     "execution_count": 689,
     "metadata": {},
     "output_type": "execute_result"
    }
   ],
   "source": [
    "retail_clean.InvoiceDate"
   ]
  },
  {
   "cell_type": "code",
   "execution_count": 690,
   "metadata": {},
   "outputs": [],
   "source": [
    "retail_clean['InvoiceDate'] = pd.to_datetime(retail_clean['InvoiceDate'])"
   ]
  },
  {
   "cell_type": "code",
   "execution_count": 691,
   "metadata": {},
   "outputs": [],
   "source": [
    "retail_clean['date'] = retail_clean['InvoiceDate'].dt.strftime(\"%Y-%m-%d\")"
   ]
  },
  {
   "cell_type": "code",
   "execution_count": 692,
   "metadata": {},
   "outputs": [],
   "source": [
    "retail_clean['date'] = pd.to_datetime(retail_clean['date'])"
   ]
  },
  {
   "cell_type": "code",
   "execution_count": 693,
   "metadata": {},
   "outputs": [
    {
     "name": "stderr",
     "output_type": "stream",
     "text": [
      "/Users/dang/opt/anaconda3/envs/datascience_supplychain/lib/python3.7/site-packages/ipykernel_launcher.py:3: FutureWarning: Series.dt.weekofyear and Series.dt.week have been deprecated.  Please use Series.dt.isocalendar().week instead.\n",
      "  This is separate from the ipykernel package so we can avoid doing imports until\n"
     ]
    }
   ],
   "source": [
    "retail_clean['year'] = retail_clean['date'].dt.year\n",
    "retail_clean['month'] = retail_clean['date'].dt.month\n",
    "retail_clean['week'] = retail_clean['date'].dt.week\n"
   ]
  },
  {
   "cell_type": "code",
   "execution_count": 694,
   "metadata": {},
   "outputs": [
    {
     "data": {
      "text/html": [
       "<div>\n",
       "<style scoped>\n",
       "    .dataframe tbody tr th:only-of-type {\n",
       "        vertical-align: middle;\n",
       "    }\n",
       "\n",
       "    .dataframe tbody tr th {\n",
       "        vertical-align: top;\n",
       "    }\n",
       "\n",
       "    .dataframe thead th {\n",
       "        text-align: right;\n",
       "    }\n",
       "</style>\n",
       "<table border=\"1\" class=\"dataframe\">\n",
       "  <thead>\n",
       "    <tr style=\"text-align: right;\">\n",
       "      <th></th>\n",
       "      <th>Unnamed: 0</th>\n",
       "      <th>Invoice</th>\n",
       "      <th>Quantity</th>\n",
       "      <th>Price</th>\n",
       "      <th>Customer ID</th>\n",
       "      <th>Revenue</th>\n",
       "      <th>year</th>\n",
       "      <th>month</th>\n",
       "      <th>week</th>\n",
       "    </tr>\n",
       "  </thead>\n",
       "  <tbody>\n",
       "    <tr>\n",
       "      <th>count</th>\n",
       "      <td>7.794950e+05</td>\n",
       "      <td>779495.000000</td>\n",
       "      <td>779495.000000</td>\n",
       "      <td>779495.000000</td>\n",
       "      <td>779495.000000</td>\n",
       "      <td>779495.000000</td>\n",
       "      <td>779495.000000</td>\n",
       "      <td>779495.000000</td>\n",
       "      <td>779495.000000</td>\n",
       "    </tr>\n",
       "    <tr>\n",
       "      <th>mean</th>\n",
       "      <td>5.315660e+05</td>\n",
       "      <td>537427.005391</td>\n",
       "      <td>13.507085</td>\n",
       "      <td>3.218199</td>\n",
       "      <td>15320.262918</td>\n",
       "      <td>22.289821</td>\n",
       "      <td>2010.432050</td>\n",
       "      <td>7.417110</td>\n",
       "      <td>30.126300</td>\n",
       "    </tr>\n",
       "    <tr>\n",
       "      <th>std</th>\n",
       "      <td>3.110433e+05</td>\n",
       "      <td>26901.961110</td>\n",
       "      <td>146.540284</td>\n",
       "      <td>29.674823</td>\n",
       "      <td>1695.722988</td>\n",
       "      <td>227.416962</td>\n",
       "      <td>0.568394</td>\n",
       "      <td>3.422346</td>\n",
       "      <td>14.840159</td>\n",
       "    </tr>\n",
       "    <tr>\n",
       "      <th>min</th>\n",
       "      <td>0.000000e+00</td>\n",
       "      <td>489434.000000</td>\n",
       "      <td>1.000000</td>\n",
       "      <td>0.000000</td>\n",
       "      <td>12346.000000</td>\n",
       "      <td>0.000000</td>\n",
       "      <td>2009.000000</td>\n",
       "      <td>1.000000</td>\n",
       "      <td>1.000000</td>\n",
       "    </tr>\n",
       "    <tr>\n",
       "      <th>25%</th>\n",
       "      <td>2.598405e+05</td>\n",
       "      <td>514483.000000</td>\n",
       "      <td>2.000000</td>\n",
       "      <td>1.250000</td>\n",
       "      <td>13971.000000</td>\n",
       "      <td>4.950000</td>\n",
       "      <td>2010.000000</td>\n",
       "      <td>5.000000</td>\n",
       "      <td>18.000000</td>\n",
       "    </tr>\n",
       "    <tr>\n",
       "      <th>50%</th>\n",
       "      <td>5.071680e+05</td>\n",
       "      <td>536754.000000</td>\n",
       "      <td>6.000000</td>\n",
       "      <td>1.950000</td>\n",
       "      <td>15246.000000</td>\n",
       "      <td>12.480000</td>\n",
       "      <td>2010.000000</td>\n",
       "      <td>8.000000</td>\n",
       "      <td>33.000000</td>\n",
       "    </tr>\n",
       "    <tr>\n",
       "      <th>75%</th>\n",
       "      <td>8.114895e+05</td>\n",
       "      <td>562002.000000</td>\n",
       "      <td>12.000000</td>\n",
       "      <td>3.750000</td>\n",
       "      <td>16794.000000</td>\n",
       "      <td>19.800000</td>\n",
       "      <td>2011.000000</td>\n",
       "      <td>11.000000</td>\n",
       "      <td>44.000000</td>\n",
       "    </tr>\n",
       "    <tr>\n",
       "      <th>max</th>\n",
       "      <td>1.067370e+06</td>\n",
       "      <td>581587.000000</td>\n",
       "      <td>80995.000000</td>\n",
       "      <td>10953.500000</td>\n",
       "      <td>18287.000000</td>\n",
       "      <td>168469.600000</td>\n",
       "      <td>2011.000000</td>\n",
       "      <td>12.000000</td>\n",
       "      <td>52.000000</td>\n",
       "    </tr>\n",
       "  </tbody>\n",
       "</table>\n",
       "</div>"
      ],
      "text/plain": [
       "         Unnamed: 0        Invoice       Quantity          Price  \\\n",
       "count  7.794950e+05  779495.000000  779495.000000  779495.000000   \n",
       "mean   5.315660e+05  537427.005391      13.507085       3.218199   \n",
       "std    3.110433e+05   26901.961110     146.540284      29.674823   \n",
       "min    0.000000e+00  489434.000000       1.000000       0.000000   \n",
       "25%    2.598405e+05  514483.000000       2.000000       1.250000   \n",
       "50%    5.071680e+05  536754.000000       6.000000       1.950000   \n",
       "75%    8.114895e+05  562002.000000      12.000000       3.750000   \n",
       "max    1.067370e+06  581587.000000   80995.000000   10953.500000   \n",
       "\n",
       "         Customer ID        Revenue           year          month  \\\n",
       "count  779495.000000  779495.000000  779495.000000  779495.000000   \n",
       "mean    15320.262918      22.289821    2010.432050       7.417110   \n",
       "std      1695.722988     227.416962       0.568394       3.422346   \n",
       "min     12346.000000       0.000000    2009.000000       1.000000   \n",
       "25%     13971.000000       4.950000    2010.000000       5.000000   \n",
       "50%     15246.000000      12.480000    2010.000000       8.000000   \n",
       "75%     16794.000000      19.800000    2011.000000      11.000000   \n",
       "max     18287.000000  168469.600000    2011.000000      12.000000   \n",
       "\n",
       "                week  \n",
       "count  779495.000000  \n",
       "mean       30.126300  \n",
       "std        14.840159  \n",
       "min         1.000000  \n",
       "25%        18.000000  \n",
       "50%        33.000000  \n",
       "75%        44.000000  \n",
       "max        52.000000  "
      ]
     },
     "execution_count": 694,
     "metadata": {},
     "output_type": "execute_result"
    }
   ],
   "source": [
    "retail_clean.describe()"
   ]
  },
  {
   "cell_type": "code",
   "execution_count": 695,
   "metadata": {},
   "outputs": [],
   "source": [
    "time_series = retail_clean.groupby(['week', 'month', 'year']).agg(date=('date', 'first'), \n",
    "                                                                  total_revenue=('Revenue', 'sum')\n",
    "                                                                 ).reset_index().sort_values('date')"
   ]
  },
  {
   "cell_type": "code",
   "execution_count": 696,
   "metadata": {},
   "outputs": [
    {
     "data": {
      "text/html": [
       "<div>\n",
       "<style scoped>\n",
       "    .dataframe tbody tr th:only-of-type {\n",
       "        vertical-align: middle;\n",
       "    }\n",
       "\n",
       "    .dataframe tbody tr th {\n",
       "        vertical-align: top;\n",
       "    }\n",
       "\n",
       "    .dataframe thead th {\n",
       "        text-align: right;\n",
       "    }\n",
       "</style>\n",
       "<table border=\"1\" class=\"dataframe\">\n",
       "  <thead>\n",
       "    <tr style=\"text-align: right;\">\n",
       "      <th></th>\n",
       "      <th>week</th>\n",
       "      <th>month</th>\n",
       "      <th>year</th>\n",
       "      <th>date</th>\n",
       "      <th>total_revenue</th>\n",
       "    </tr>\n",
       "  </thead>\n",
       "  <tbody>\n",
       "    <tr>\n",
       "      <th>113</th>\n",
       "      <td>49</td>\n",
       "      <td>12</td>\n",
       "      <td>2009</td>\n",
       "      <td>2009-12-01</td>\n",
       "      <td>232177.51</td>\n",
       "    </tr>\n",
       "    <tr>\n",
       "      <th>116</th>\n",
       "      <td>50</td>\n",
       "      <td>12</td>\n",
       "      <td>2009</td>\n",
       "      <td>2009-12-07</td>\n",
       "      <td>207908.73</td>\n",
       "    </tr>\n",
       "    <tr>\n",
       "      <th>118</th>\n",
       "      <td>51</td>\n",
       "      <td>12</td>\n",
       "      <td>2009</td>\n",
       "      <td>2009-12-14</td>\n",
       "      <td>207685.87</td>\n",
       "    </tr>\n",
       "    <tr>\n",
       "      <th>120</th>\n",
       "      <td>52</td>\n",
       "      <td>12</td>\n",
       "      <td>2009</td>\n",
       "      <td>2009-12-21</td>\n",
       "      <td>35731.90</td>\n",
       "    </tr>\n",
       "    <tr>\n",
       "      <th>0</th>\n",
       "      <td>1</td>\n",
       "      <td>1</td>\n",
       "      <td>2010</td>\n",
       "      <td>2010-01-04</td>\n",
       "      <td>167636.95</td>\n",
       "    </tr>\n",
       "  </tbody>\n",
       "</table>\n",
       "</div>"
      ],
      "text/plain": [
       "     week  month  year       date  total_revenue\n",
       "113    49     12  2009 2009-12-01      232177.51\n",
       "116    50     12  2009 2009-12-07      207908.73\n",
       "118    51     12  2009 2009-12-14      207685.87\n",
       "120    52     12  2009 2009-12-21       35731.90\n",
       "0       1      1  2010 2010-01-04      167636.95"
      ]
     },
     "execution_count": 696,
     "metadata": {},
     "output_type": "execute_result"
    }
   ],
   "source": [
    "time_series.head()"
   ]
  },
  {
   "cell_type": "code",
   "execution_count": 697,
   "metadata": {},
   "outputs": [
    {
     "data": {
      "text/plain": [
       "<AxesSubplot:xlabel='date', ylabel='total_revenue'>"
      ]
     },
     "execution_count": 697,
     "metadata": {},
     "output_type": "execute_result"
    },
    {
     "data": {
      "image/png": "[encoded data removed]",
      "text/plain": [
       "<Figure size 2160x432 with 1 Axes>"
      ]
     },
     "metadata": {
      "needs_background": "light"
     },
     "output_type": "display_data"
    }
   ],
   "source": [
    "fig, ax = plt.subplots(figsize=(30,6))\n",
    "sns.lineplot(x='date', y='total_revenue', data=time_series)"
   ]
  },
  {
   "cell_type": "code",
   "execution_count": 698,
   "metadata": {},
   "outputs": [],
   "source": [
    "from sklearn.linear_model import LinearRegression"
   ]
  },
  {
   "cell_type": "code",
   "execution_count": 699,
   "metadata": {},
   "outputs": [],
   "source": [
    "time_series['trend'] = range(time_series.shape[0])"
   ]
  },
  {
   "cell_type": "code",
   "execution_count": 700,
   "metadata": {},
   "outputs": [],
   "source": [
    "time_series['month'] = time_series['month'].astype('category')"
   ]
  },
  {
   "cell_type": "code",
   "execution_count": 701,
   "metadata": {},
   "outputs": [
    {
     "data": {
      "text/html": [
       "<div>\n",
       "<style scoped>\n",
       "    .dataframe tbody tr th:only-of-type {\n",
       "        vertical-align: middle;\n",
       "    }\n",
       "\n",
       "    .dataframe tbody tr th {\n",
       "        vertical-align: top;\n",
       "    }\n",
       "\n",
       "    .dataframe thead th {\n",
       "        text-align: right;\n",
       "    }\n",
       "</style>\n",
       "<table border=\"1\" class=\"dataframe\">\n",
       "  <thead>\n",
       "    <tr style=\"text-align: right;\">\n",
       "      <th></th>\n",
       "      <th>week</th>\n",
       "      <th>month</th>\n",
       "      <th>year</th>\n",
       "      <th>date</th>\n",
       "      <th>total_revenue</th>\n",
       "      <th>trend</th>\n",
       "    </tr>\n",
       "  </thead>\n",
       "  <tbody>\n",
       "    <tr>\n",
       "      <th>113</th>\n",
       "      <td>49</td>\n",
       "      <td>12</td>\n",
       "      <td>2009</td>\n",
       "      <td>2009-12-01</td>\n",
       "      <td>232177.51</td>\n",
       "      <td>0</td>\n",
       "    </tr>\n",
       "    <tr>\n",
       "      <th>116</th>\n",
       "      <td>50</td>\n",
       "      <td>12</td>\n",
       "      <td>2009</td>\n",
       "      <td>2009-12-07</td>\n",
       "      <td>207908.73</td>\n",
       "      <td>1</td>\n",
       "    </tr>\n",
       "    <tr>\n",
       "      <th>118</th>\n",
       "      <td>51</td>\n",
       "      <td>12</td>\n",
       "      <td>2009</td>\n",
       "      <td>2009-12-14</td>\n",
       "      <td>207685.87</td>\n",
       "      <td>2</td>\n",
       "    </tr>\n",
       "    <tr>\n",
       "      <th>120</th>\n",
       "      <td>52</td>\n",
       "      <td>12</td>\n",
       "      <td>2009</td>\n",
       "      <td>2009-12-21</td>\n",
       "      <td>35731.90</td>\n",
       "      <td>3</td>\n",
       "    </tr>\n",
       "    <tr>\n",
       "      <th>0</th>\n",
       "      <td>1</td>\n",
       "      <td>1</td>\n",
       "      <td>2010</td>\n",
       "      <td>2010-01-04</td>\n",
       "      <td>167636.95</td>\n",
       "      <td>4</td>\n",
       "    </tr>\n",
       "    <tr>\n",
       "      <th>...</th>\n",
       "      <td>...</td>\n",
       "      <td>...</td>\n",
       "      <td>...</td>\n",
       "      <td>...</td>\n",
       "      <td>...</td>\n",
       "      <td>...</td>\n",
       "    </tr>\n",
       "    <tr>\n",
       "      <th>106</th>\n",
       "      <td>46</td>\n",
       "      <td>11</td>\n",
       "      <td>2011</td>\n",
       "      <td>2011-11-14</td>\n",
       "      <td>276216.98</td>\n",
       "      <td>116</td>\n",
       "    </tr>\n",
       "    <tr>\n",
       "      <th>108</th>\n",
       "      <td>47</td>\n",
       "      <td>11</td>\n",
       "      <td>2011</td>\n",
       "      <td>2011-11-21</td>\n",
       "      <td>248234.58</td>\n",
       "      <td>117</td>\n",
       "    </tr>\n",
       "    <tr>\n",
       "      <th>110</th>\n",
       "      <td>48</td>\n",
       "      <td>11</td>\n",
       "      <td>2011</td>\n",
       "      <td>2011-11-28</td>\n",
       "      <td>141669.57</td>\n",
       "      <td>118</td>\n",
       "    </tr>\n",
       "    <tr>\n",
       "      <th>112</th>\n",
       "      <td>48</td>\n",
       "      <td>12</td>\n",
       "      <td>2011</td>\n",
       "      <td>2011-12-01</td>\n",
       "      <td>109163.47</td>\n",
       "      <td>119</td>\n",
       "    </tr>\n",
       "    <tr>\n",
       "      <th>115</th>\n",
       "      <td>49</td>\n",
       "      <td>12</td>\n",
       "      <td>2011</td>\n",
       "      <td>2011-12-05</td>\n",
       "      <td>408044.97</td>\n",
       "      <td>120</td>\n",
       "    </tr>\n",
       "  </tbody>\n",
       "</table>\n",
       "<p>121 rows × 6 columns</p>\n",
       "</div>"
      ],
      "text/plain": [
       "     week month  year       date  total_revenue  trend\n",
       "113    49    12  2009 2009-12-01      232177.51      0\n",
       "116    50    12  2009 2009-12-07      207908.73      1\n",
       "118    51    12  2009 2009-12-14      207685.87      2\n",
       "120    52    12  2009 2009-12-21       35731.90      3\n",
       "0       1     1  2010 2010-01-04      167636.95      4\n",
       "..    ...   ...   ...        ...            ...    ...\n",
       "106    46    11  2011 2011-11-14      276216.98    116\n",
       "108    47    11  2011 2011-11-21      248234.58    117\n",
       "110    48    11  2011 2011-11-28      141669.57    118\n",
       "112    48    12  2011 2011-12-01      109163.47    119\n",
       "115    49    12  2011 2011-12-05      408044.97    120\n",
       "\n",
       "[121 rows x 6 columns]"
      ]
     },
     "execution_count": 701,
     "metadata": {},
     "output_type": "execute_result"
    }
   ],
   "source": [
    "time_series"
   ]
  },
  {
   "cell_type": "code",
   "execution_count": 702,
   "metadata": {},
   "outputs": [],
   "source": [
    "X = time_series.drop(['week', 'year', 'date', 'total_revenue'], axis=1)"
   ]
  },
  {
   "cell_type": "code",
   "execution_count": 703,
   "metadata": {},
   "outputs": [
    {
     "data": {
      "text/html": [
       "<div>\n",
       "<style scoped>\n",
       "    .dataframe tbody tr th:only-of-type {\n",
       "        vertical-align: middle;\n",
       "    }\n",
       "\n",
       "    .dataframe tbody tr th {\n",
       "        vertical-align: top;\n",
       "    }\n",
       "\n",
       "    .dataframe thead th {\n",
       "        text-align: right;\n",
       "    }\n",
       "</style>\n",
       "<table border=\"1\" class=\"dataframe\">\n",
       "  <thead>\n",
       "    <tr style=\"text-align: right;\">\n",
       "      <th></th>\n",
       "      <th>month</th>\n",
       "      <th>trend</th>\n",
       "    </tr>\n",
       "  </thead>\n",
       "  <tbody>\n",
       "    <tr>\n",
       "      <th>113</th>\n",
       "      <td>12</td>\n",
       "      <td>0</td>\n",
       "    </tr>\n",
       "    <tr>\n",
       "      <th>116</th>\n",
       "      <td>12</td>\n",
       "      <td>1</td>\n",
       "    </tr>\n",
       "    <tr>\n",
       "      <th>118</th>\n",
       "      <td>12</td>\n",
       "      <td>2</td>\n",
       "    </tr>\n",
       "    <tr>\n",
       "      <th>120</th>\n",
       "      <td>12</td>\n",
       "      <td>3</td>\n",
       "    </tr>\n",
       "    <tr>\n",
       "      <th>0</th>\n",
       "      <td>1</td>\n",
       "      <td>4</td>\n",
       "    </tr>\n",
       "    <tr>\n",
       "      <th>...</th>\n",
       "      <td>...</td>\n",
       "      <td>...</td>\n",
       "    </tr>\n",
       "    <tr>\n",
       "      <th>106</th>\n",
       "      <td>11</td>\n",
       "      <td>116</td>\n",
       "    </tr>\n",
       "    <tr>\n",
       "      <th>108</th>\n",
       "      <td>11</td>\n",
       "      <td>117</td>\n",
       "    </tr>\n",
       "    <tr>\n",
       "      <th>110</th>\n",
       "      <td>11</td>\n",
       "      <td>118</td>\n",
       "    </tr>\n",
       "    <tr>\n",
       "      <th>112</th>\n",
       "      <td>12</td>\n",
       "      <td>119</td>\n",
       "    </tr>\n",
       "    <tr>\n",
       "      <th>115</th>\n",
       "      <td>12</td>\n",
       "      <td>120</td>\n",
       "    </tr>\n",
       "  </tbody>\n",
       "</table>\n",
       "<p>121 rows × 2 columns</p>\n",
       "</div>"
      ],
      "text/plain": [
       "    month  trend\n",
       "113    12      0\n",
       "116    12      1\n",
       "118    12      2\n",
       "120    12      3\n",
       "0       1      4\n",
       "..    ...    ...\n",
       "106    11    116\n",
       "108    11    117\n",
       "110    11    118\n",
       "112    12    119\n",
       "115    12    120\n",
       "\n",
       "[121 rows x 2 columns]"
      ]
     },
     "execution_count": 703,
     "metadata": {},
     "output_type": "execute_result"
    }
   ],
   "source": [
    "X"
   ]
  },
  {
   "cell_type": "code",
   "execution_count": 704,
   "metadata": {},
   "outputs": [],
   "source": [
    "names = pd.get_dummies(X).columns"
   ]
  },
  {
   "cell_type": "code",
   "execution_count": 705,
   "metadata": {},
   "outputs": [
    {
     "data": {
      "text/plain": [
       "Index(['trend', 'month_1', 'month_2', 'month_3', 'month_4', 'month_5',\n",
       "       'month_6', 'month_7', 'month_8', 'month_9', 'month_10', 'month_11',\n",
       "       'month_12'],\n",
       "      dtype='object')"
      ]
     },
     "execution_count": 705,
     "metadata": {},
     "output_type": "execute_result"
    }
   ],
   "source": [
    "names"
   ]
  },
  {
   "cell_type": "code",
   "execution_count": 706,
   "metadata": {},
   "outputs": [],
   "source": [
    "X = pd.get_dummies(X).values"
   ]
  },
  {
   "cell_type": "code",
   "execution_count": 707,
   "metadata": {},
   "outputs": [
    {
     "data": {
      "text/plain": [
       "array([[  0,   0,   0, ...,   0,   0,   1],\n",
       "       [  1,   0,   0, ...,   0,   0,   1],\n",
       "       [  2,   0,   0, ...,   0,   0,   1],\n",
       "       ...,\n",
       "       [118,   0,   0, ...,   0,   1,   0],\n",
       "       [119,   0,   0, ...,   0,   0,   1],\n",
       "       [120,   0,   0, ...,   0,   0,   1]])"
      ]
     },
     "execution_count": 707,
     "metadata": {},
     "output_type": "execute_result"
    }
   ],
   "source": [
    "X"
   ]
  },
  {
   "cell_type": "code",
   "execution_count": 708,
   "metadata": {},
   "outputs": [],
   "source": [
    "y = time_series.total_revenue.values"
   ]
  },
  {
   "cell_type": "code",
   "execution_count": 709,
   "metadata": {},
   "outputs": [
    {
     "data": {
      "text/plain": [
       "array([232177.51      , 207908.73      , 207685.87      ,  35731.9       ,\n",
       "       167636.95      , 125493.61      , 119473.351     , 143198.761     ,\n",
       "       112299.692     ,  80059.66      , 160506.402     , 151693.202     ,\n",
       "       151813.96      , 118785.1       , 164459.771     , 172063.68      ,\n",
       "        89855.96      ,  28646.66      , 124314.76      , 141539.381     ,\n",
       "       138922.62      , 158558.581     ,  12342.17      , 149102.83      ,\n",
       "       155673.54      , 138681.57      , 142033.27      ,  90358.06      ,\n",
       "       200239.71      , 126987.39      , 103924.84      , 114861.13      ,\n",
       "        55932.44      , 136775.12      , 144495.58      , 133616.        ,\n",
       "       118917.03      ,  30637.95      , 117866.37      , 139842.07      ,\n",
       "       154786.91      , 136279.55      ,  22811.75      , 100807.8       ,\n",
       "       119333.94      , 155778.921     , 223587.04      , 229506.25      ,\n",
       "        72886.41      , 243007.44      , 298614.04000001, 220882.67      ,\n",
       "       197721.45      , 262597.86000001, 282707.70100001, 261610.06100001,\n",
       "       246492.99000001, 113051.41      , 148627.97      , 212619.13      ,\n",
       "       163116.12      ,  46059.51      , 114636.8       , 154344.85      ,\n",
       "       175452.23      , 104861.        ,  18806.43      ,  87149.38      ,\n",
       "        87827.94      , 125700.15      , 130380.77      ,  15026.68      ,\n",
       "       102360.14      , 112193.93      , 137669.82      , 129560.72      ,\n",
       "       112297.15      ,  31360.43      , 119697.73      , 134930.821     ,\n",
       "       115969.4       ,  66415.95      ,   6958.11      , 131094.12      ,\n",
       "       178574.32      , 195818.79      , 146776.61      ,  18133.2       ,\n",
       "        83907.17      , 193704.12      , 171702.44      , 112600.67      ,\n",
       "        98131.65      ,  18119.17      , 131222.52      , 118078.73      ,\n",
       "       167284.44      , 164258.041     , 155943.        , 143544.62      ,\n",
       "       167634.4       , 147595.96      ,  29333.06      ,  84492.91      ,\n",
       "       166212.46      , 208718.88      , 309091.50100001, 182174.451     ,\n",
       "        11479.98      , 296214.24      , 203708.95      , 254775.57      ,\n",
       "       236456.84      ,  33006.87      , 226367.15      , 263717.33      ,\n",
       "       276216.98      , 248234.58      , 141669.57      , 109163.47      ,\n",
       "       408044.97      ])"
      ]
     },
     "execution_count": 709,
     "metadata": {},
     "output_type": "execute_result"
    }
   ],
   "source": [
    "y"
   ]
  },
  {
   "cell_type": "code",
   "execution_count": 710,
   "metadata": {},
   "outputs": [],
   "source": [
    "model = LinearRegression()"
   ]
  },
  {
   "cell_type": "code",
   "execution_count": 711,
   "metadata": {},
   "outputs": [
    {
     "data": {
      "text/plain": [
       "array([-7.50587618e+00, -1.85162279e+04, -3.77331573e+04, -1.42433897e+04,\n",
       "       -3.72762502e+04, -2.73256065e+04, -1.35913538e+04, -2.43256353e+04,\n",
       "       -2.98789922e+04,  3.48536846e+04,  4.50119036e+04,  8.92286442e+04,\n",
       "        3.37963804e+04])"
      ]
     },
     "execution_count": 711,
     "metadata": {},
     "output_type": "execute_result"
    }
   ],
   "source": [
    "model.fit(X,y)\n",
    "model.coef_"
   ]
  },
  {
   "cell_type": "code",
   "execution_count": 712,
   "metadata": {},
   "outputs": [
    {
     "data": {
      "text/plain": [
       "{'copy_X': True,\n",
       " 'fit_intercept': True,\n",
       " 'n_jobs': None,\n",
       " 'normalize': False,\n",
       " 'positive': False}"
      ]
     },
     "execution_count": 712,
     "metadata": {},
     "output_type": "execute_result"
    }
   ],
   "source": [
    "model.get_params()"
   ]
  },
  {
   "cell_type": "code",
   "execution_count": 713,
   "metadata": {},
   "outputs": [],
   "source": [
    "dict1 = list(zip(names, model.coef_))"
   ]
  },
  {
   "cell_type": "code",
   "execution_count": 714,
   "metadata": {},
   "outputs": [
    {
     "data": {
      "text/plain": [
       "[('trend', -7.505876175663627),\n",
       " ('month_1', -18516.227879107577),\n",
       " ('month_2', -37733.157332084804),\n",
       " ('month_3', -14243.389744275866),\n",
       " ('month_4', -37276.25016339746),\n",
       " ('month_5', -27325.606453991753),\n",
       " ('month_6', -13591.353763553147),\n",
       " ('month_7', -24325.63528267498),\n",
       " ('month_8', -29878.992237689818),\n",
       " ('month_9', 34853.684617170824),\n",
       " ('month_10', 45011.90359930485),\n",
       " ('month_11', 89228.64421701827),\n",
       " ('month_12', 33796.38042328141)]"
      ]
     },
     "execution_count": 714,
     "metadata": {},
     "output_type": "execute_result"
    }
   ],
   "source": [
    "dict1"
   ]
  },
  {
   "cell_type": "code",
   "execution_count": 715,
   "metadata": {},
   "outputs": [],
   "source": [
    "prediction = model.predict(X)"
   ]
  },
  {
   "cell_type": "code",
   "execution_count": 716,
   "metadata": {},
   "outputs": [
    {
     "data": {
      "text/plain": [
       "array([177476.05181929, 177468.54594311, 177461.04006693, 177453.53419076,\n",
       "       125133.42001219, 125125.91413602, 125118.40825984, 125110.90238367,\n",
       "       105886.46705451, 105878.96117834, 105871.45530216, 105863.94942599,\n",
       "       129346.21113762, 129338.70526144, 129331.19938527, 129323.69350909,\n",
       "       129316.18763292, 106275.82133762, 106268.31546145, 106260.80958527,\n",
       "       106253.30370909, 106245.79783292, 116188.93566615, 116181.42978997,\n",
       "       116173.9239138 , 116166.41803762, 116158.91216145, 129885.65897571,\n",
       "       129878.15309953, 129870.64722336, 129863.14134718, 129855.63547101,\n",
       "       119113.84807571, 119106.34219953, 119098.83632336, 119091.33044718,\n",
       "       119083.82457101, 113522.96173982, 113515.45586364, 113507.94998746,\n",
       "       113500.44411129, 113492.93823511, 113485.43235894, 178210.60333762,\n",
       "       178203.09746145, 178195.59158527, 178188.08570909, 178180.57983292,\n",
       "       188331.29293888, 188323.7870627 , 188316.28118653, 188308.77531035,\n",
       "       188301.26943417, 232510.50417571, 232502.99829954, 232495.49242336,\n",
       "       232487.98654719, 232480.48067101, 177040.7110011 , 177033.20512492,\n",
       "       177025.69924875, 177018.19337257, 124698.07919401, 124690.57331783,\n",
       "       124683.06744165, 124675.56156548, 124668.0556893 , 105443.62036015,\n",
       "       105436.11448397, 105428.6086078 , 105421.10273162, 105413.59685545,\n",
       "       128895.85856708, 128888.35269091, 128880.84681473, 128873.34093855,\n",
       "       128865.83506238, 105825.46876708, 105817.96289091, 105810.45701473,\n",
       "       105802.95113855, 105795.44526238, 115738.58309561, 115731.07721943,\n",
       "       115723.57134326, 115716.06546708, 115708.55959091, 115701.05371473,\n",
       "       129427.80052899, 129420.29465282, 129412.78877664, 129405.28290047,\n",
       "       129397.77702429, 118655.98962899, 118648.48375282, 118640.97787664,\n",
       "       118633.47200047, 118625.96612429, 113065.1032931 , 113057.59741692,\n",
       "       113050.09154075, 113042.58566457, 113035.0797884 , 177760.25076708,\n",
       "       177752.74489091, 177745.23901473, 177737.73313855, 177730.22726238,\n",
       "       187880.94036834, 187873.43449216, 187865.92861599, 187858.42273981,\n",
       "       187850.91686363, 187843.41098746, 232052.645729  , 232045.13985282,\n",
       "       232037.63397665, 232030.12810047, 232022.62222429, 176582.85255438,\n",
       "       176575.34667821])"
      ]
     },
     "execution_count": 716,
     "metadata": {},
     "output_type": "execute_result"
    }
   ],
   "source": [
    "prediction"
   ]
  },
  {
   "cell_type": "code",
   "execution_count": 717,
   "metadata": {},
   "outputs": [],
   "source": [
    "time_series['prediction'] = prediction"
   ]
  },
  {
   "cell_type": "code",
   "execution_count": 718,
   "metadata": {
    "scrolled": true
   },
   "outputs": [
    {
     "data": {
      "image/png": "[encoded data removed]",
      "text/plain": [
       "<Figure size 2160x432 with 1 Axes>"
      ]
     },
     "metadata": {
      "needs_background": "light"
     },
     "output_type": "display_data"
    }
   ],
   "source": [
    "fig, ax = plt.subplots(figsize=(30,6))\n",
    "plt.plot(time_series.date, time_series.total_revenue, label='Actual')\n",
    "plt.plot(time_series.date, time_series.prediction, label='prediction')\n",
    "plt.legend(loc='upper left')\n",
    "plt.show()"
   ]
  },
  {
   "cell_type": "code",
   "execution_count": 719,
   "metadata": {},
   "outputs": [],
   "source": [
    "time_series.to_csv('./time_series.csv', index=False)"
   ]
  },
  {
   "cell_type": "code",
   "execution_count": 720,
   "metadata": {},
   "outputs": [],
   "source": [
    "#### forecasting\n",
    "max_date = time_series.date.max()"
   ]
  },
  {
   "cell_type": "code",
   "execution_count": 721,
   "metadata": {},
   "outputs": [],
   "source": [
    "dates = pd.DataFrame({'date': pd.date_range('2011-12-12', '2012-02-5', freq='W')})"
   ]
  },
  {
   "cell_type": "code",
   "execution_count": 722,
   "metadata": {},
   "outputs": [
    {
     "data": {
      "text/html": [
       "<div>\n",
       "<style scoped>\n",
       "    .dataframe tbody tr th:only-of-type {\n",
       "        vertical-align: middle;\n",
       "    }\n",
       "\n",
       "    .dataframe tbody tr th {\n",
       "        vertical-align: top;\n",
       "    }\n",
       "\n",
       "    .dataframe thead th {\n",
       "        text-align: right;\n",
       "    }\n",
       "</style>\n",
       "<table border=\"1\" class=\"dataframe\">\n",
       "  <thead>\n",
       "    <tr style=\"text-align: right;\">\n",
       "      <th></th>\n",
       "      <th>date</th>\n",
       "    </tr>\n",
       "  </thead>\n",
       "  <tbody>\n",
       "    <tr>\n",
       "      <th>0</th>\n",
       "      <td>2011-12-18</td>\n",
       "    </tr>\n",
       "    <tr>\n",
       "      <th>1</th>\n",
       "      <td>2011-12-25</td>\n",
       "    </tr>\n",
       "    <tr>\n",
       "      <th>2</th>\n",
       "      <td>2012-01-01</td>\n",
       "    </tr>\n",
       "    <tr>\n",
       "      <th>3</th>\n",
       "      <td>2012-01-08</td>\n",
       "    </tr>\n",
       "    <tr>\n",
       "      <th>4</th>\n",
       "      <td>2012-01-15</td>\n",
       "    </tr>\n",
       "    <tr>\n",
       "      <th>5</th>\n",
       "      <td>2012-01-22</td>\n",
       "    </tr>\n",
       "    <tr>\n",
       "      <th>6</th>\n",
       "      <td>2012-01-29</td>\n",
       "    </tr>\n",
       "    <tr>\n",
       "      <th>7</th>\n",
       "      <td>2012-02-05</td>\n",
       "    </tr>\n",
       "  </tbody>\n",
       "</table>\n",
       "</div>"
      ],
      "text/plain": [
       "        date\n",
       "0 2011-12-18\n",
       "1 2011-12-25\n",
       "2 2012-01-01\n",
       "3 2012-01-08\n",
       "4 2012-01-15\n",
       "5 2012-01-22\n",
       "6 2012-01-29\n",
       "7 2012-02-05"
      ]
     },
     "execution_count": 722,
     "metadata": {},
     "output_type": "execute_result"
    }
   ],
   "source": [
    "dates"
   ]
  },
  {
   "cell_type": "code",
   "execution_count": 723,
   "metadata": {},
   "outputs": [],
   "source": [
    "time_series = pd.concat([time_series, dates], axis=0)"
   ]
  },
  {
   "cell_type": "code",
   "execution_count": 724,
   "metadata": {},
   "outputs": [],
   "source": [
    "# time_series['date'] = pd.to_datetime(time_series['date'])\n",
    "time_series['trend'] = range(time_series.shape[0])"
   ]
  },
  {
   "cell_type": "code",
   "execution_count": 725,
   "metadata": {},
   "outputs": [
    {
     "data": {
      "text/plain": [
       "Timestamp('2012-02-05 00:00:00')"
      ]
     },
     "execution_count": 725,
     "metadata": {},
     "output_type": "execute_result"
    }
   ],
   "source": [
    "time_series.date.max()"
   ]
  },
  {
   "cell_type": "code",
   "execution_count": 726,
   "metadata": {
    "scrolled": true
   },
   "outputs": [
    {
     "data": {
      "text/plain": [
       "array([1, 2, 3, nan, 3, 4, 5, 6, 7, 8, 9, 10, 11, 12, nan, 1, 2, 3, 4, 5,\n",
       "       6, 7, nan, nan, nan, 6, 7, 8, 9, 10, 11, nan, 11, 12, nan, nan],\n",
       "      dtype=object)"
      ]
     },
     "execution_count": 726,
     "metadata": {},
     "output_type": "execute_result"
    }
   ],
   "source": [
    "np.unique(time_series['month'])"
   ]
  },
  {
   "cell_type": "code",
   "execution_count": 727,
   "metadata": {
    "scrolled": false
   },
   "outputs": [
    {
     "data": {
      "text/html": [
       "<div>\n",
       "<style scoped>\n",
       "    .dataframe tbody tr th:only-of-type {\n",
       "        vertical-align: middle;\n",
       "    }\n",
       "\n",
       "    .dataframe tbody tr th {\n",
       "        vertical-align: top;\n",
       "    }\n",
       "\n",
       "    .dataframe thead th {\n",
       "        text-align: right;\n",
       "    }\n",
       "</style>\n",
       "<table border=\"1\" class=\"dataframe\">\n",
       "  <thead>\n",
       "    <tr style=\"text-align: right;\">\n",
       "      <th></th>\n",
       "      <th>week</th>\n",
       "      <th>year</th>\n",
       "      <th>total_revenue</th>\n",
       "      <th>trend</th>\n",
       "      <th>prediction</th>\n",
       "    </tr>\n",
       "  </thead>\n",
       "  <tbody>\n",
       "    <tr>\n",
       "      <th>count</th>\n",
       "      <td>121.000000</td>\n",
       "      <td>121.000000</td>\n",
       "      <td>121.000000</td>\n",
       "      <td>129.000000</td>\n",
       "      <td>121.000000</td>\n",
       "    </tr>\n",
       "    <tr>\n",
       "      <th>mean</th>\n",
       "      <td>26.603306</td>\n",
       "      <td>2010.454545</td>\n",
       "      <td>143593.423702</td>\n",
       "      <td>64.000000</td>\n",
       "      <td>143593.423702</td>\n",
       "    </tr>\n",
       "    <tr>\n",
       "      <th>std</th>\n",
       "      <td>14.808488</td>\n",
       "      <td>0.562731</td>\n",
       "      <td>72769.820728</td>\n",
       "      <td>37.383151</td>\n",
       "      <td>38982.212536</td>\n",
       "    </tr>\n",
       "    <tr>\n",
       "      <th>min</th>\n",
       "      <td>1.000000</td>\n",
       "      <td>2009.000000</td>\n",
       "      <td>6958.110000</td>\n",
       "      <td>0.000000</td>\n",
       "      <td>105413.596855</td>\n",
       "    </tr>\n",
       "    <tr>\n",
       "      <th>25%</th>\n",
       "      <td>14.000000</td>\n",
       "      <td>2010.000000</td>\n",
       "      <td>109163.470000</td>\n",
       "      <td>32.000000</td>\n",
       "      <td>115701.053715</td>\n",
       "    </tr>\n",
       "    <tr>\n",
       "      <th>50%</th>\n",
       "      <td>26.000000</td>\n",
       "      <td>2010.000000</td>\n",
       "      <td>138922.620000</td>\n",
       "      <td>64.000000</td>\n",
       "      <td>128865.835062</td>\n",
       "    </tr>\n",
       "    <tr>\n",
       "      <th>75%</th>\n",
       "      <td>39.000000</td>\n",
       "      <td>2011.000000</td>\n",
       "      <td>175452.230000</td>\n",
       "      <td>96.000000</td>\n",
       "      <td>177730.227262</td>\n",
       "    </tr>\n",
       "    <tr>\n",
       "      <th>max</th>\n",
       "      <td>52.000000</td>\n",
       "      <td>2011.000000</td>\n",
       "      <td>408044.970000</td>\n",
       "      <td>128.000000</td>\n",
       "      <td>232510.504176</td>\n",
       "    </tr>\n",
       "  </tbody>\n",
       "</table>\n",
       "</div>"
      ],
      "text/plain": [
       "             week         year  total_revenue       trend     prediction\n",
       "count  121.000000   121.000000     121.000000  129.000000     121.000000\n",
       "mean    26.603306  2010.454545  143593.423702   64.000000  143593.423702\n",
       "std     14.808488     0.562731   72769.820728   37.383151   38982.212536\n",
       "min      1.000000  2009.000000    6958.110000    0.000000  105413.596855\n",
       "25%     14.000000  2010.000000  109163.470000   32.000000  115701.053715\n",
       "50%     26.000000  2010.000000  138922.620000   64.000000  128865.835062\n",
       "75%     39.000000  2011.000000  175452.230000   96.000000  177730.227262\n",
       "max     52.000000  2011.000000  408044.970000  128.000000  232510.504176"
      ]
     },
     "execution_count": 727,
     "metadata": {},
     "output_type": "execute_result"
    }
   ],
   "source": [
    "time_series.describe()"
   ]
  },
  {
   "cell_type": "code",
   "execution_count": 728,
   "metadata": {},
   "outputs": [
    {
     "data": {
      "text/html": [
       "<div>\n",
       "<style scoped>\n",
       "    .dataframe tbody tr th:only-of-type {\n",
       "        vertical-align: middle;\n",
       "    }\n",
       "\n",
       "    .dataframe tbody tr th {\n",
       "        vertical-align: top;\n",
       "    }\n",
       "\n",
       "    .dataframe thead th {\n",
       "        text-align: right;\n",
       "    }\n",
       "</style>\n",
       "<table border=\"1\" class=\"dataframe\">\n",
       "  <thead>\n",
       "    <tr style=\"text-align: right;\">\n",
       "      <th></th>\n",
       "      <th>week</th>\n",
       "      <th>month</th>\n",
       "      <th>year</th>\n",
       "      <th>date</th>\n",
       "      <th>total_revenue</th>\n",
       "      <th>trend</th>\n",
       "      <th>prediction</th>\n",
       "    </tr>\n",
       "  </thead>\n",
       "  <tbody>\n",
       "    <tr>\n",
       "      <th>113</th>\n",
       "      <td>49.0</td>\n",
       "      <td>12</td>\n",
       "      <td>2009.0</td>\n",
       "      <td>2009-12-01</td>\n",
       "      <td>232177.51</td>\n",
       "      <td>0</td>\n",
       "      <td>177476.051819</td>\n",
       "    </tr>\n",
       "    <tr>\n",
       "      <th>116</th>\n",
       "      <td>50.0</td>\n",
       "      <td>12</td>\n",
       "      <td>2009.0</td>\n",
       "      <td>2009-12-07</td>\n",
       "      <td>207908.73</td>\n",
       "      <td>1</td>\n",
       "      <td>177468.545943</td>\n",
       "    </tr>\n",
       "    <tr>\n",
       "      <th>118</th>\n",
       "      <td>51.0</td>\n",
       "      <td>12</td>\n",
       "      <td>2009.0</td>\n",
       "      <td>2009-12-14</td>\n",
       "      <td>207685.87</td>\n",
       "      <td>2</td>\n",
       "      <td>177461.040067</td>\n",
       "    </tr>\n",
       "    <tr>\n",
       "      <th>120</th>\n",
       "      <td>52.0</td>\n",
       "      <td>12</td>\n",
       "      <td>2009.0</td>\n",
       "      <td>2009-12-21</td>\n",
       "      <td>35731.90</td>\n",
       "      <td>3</td>\n",
       "      <td>177453.534191</td>\n",
       "    </tr>\n",
       "    <tr>\n",
       "      <th>0</th>\n",
       "      <td>1.0</td>\n",
       "      <td>1</td>\n",
       "      <td>2010.0</td>\n",
       "      <td>2010-01-04</td>\n",
       "      <td>167636.95</td>\n",
       "      <td>4</td>\n",
       "      <td>125133.420012</td>\n",
       "    </tr>\n",
       "    <tr>\n",
       "      <th>...</th>\n",
       "      <td>...</td>\n",
       "      <td>...</td>\n",
       "      <td>...</td>\n",
       "      <td>...</td>\n",
       "      <td>...</td>\n",
       "      <td>...</td>\n",
       "      <td>...</td>\n",
       "    </tr>\n",
       "    <tr>\n",
       "      <th>3</th>\n",
       "      <td>NaN</td>\n",
       "      <td>NaN</td>\n",
       "      <td>NaN</td>\n",
       "      <td>2012-01-08</td>\n",
       "      <td>NaN</td>\n",
       "      <td>124</td>\n",
       "      <td>NaN</td>\n",
       "    </tr>\n",
       "    <tr>\n",
       "      <th>4</th>\n",
       "      <td>NaN</td>\n",
       "      <td>NaN</td>\n",
       "      <td>NaN</td>\n",
       "      <td>2012-01-15</td>\n",
       "      <td>NaN</td>\n",
       "      <td>125</td>\n",
       "      <td>NaN</td>\n",
       "    </tr>\n",
       "    <tr>\n",
       "      <th>5</th>\n",
       "      <td>NaN</td>\n",
       "      <td>NaN</td>\n",
       "      <td>NaN</td>\n",
       "      <td>2012-01-22</td>\n",
       "      <td>NaN</td>\n",
       "      <td>126</td>\n",
       "      <td>NaN</td>\n",
       "    </tr>\n",
       "    <tr>\n",
       "      <th>6</th>\n",
       "      <td>NaN</td>\n",
       "      <td>NaN</td>\n",
       "      <td>NaN</td>\n",
       "      <td>2012-01-29</td>\n",
       "      <td>NaN</td>\n",
       "      <td>127</td>\n",
       "      <td>NaN</td>\n",
       "    </tr>\n",
       "    <tr>\n",
       "      <th>7</th>\n",
       "      <td>NaN</td>\n",
       "      <td>NaN</td>\n",
       "      <td>NaN</td>\n",
       "      <td>2012-02-05</td>\n",
       "      <td>NaN</td>\n",
       "      <td>128</td>\n",
       "      <td>NaN</td>\n",
       "    </tr>\n",
       "  </tbody>\n",
       "</table>\n",
       "<p>129 rows × 7 columns</p>\n",
       "</div>"
      ],
      "text/plain": [
       "     week month    year       date  total_revenue  trend     prediction\n",
       "113  49.0    12  2009.0 2009-12-01      232177.51      0  177476.051819\n",
       "116  50.0    12  2009.0 2009-12-07      207908.73      1  177468.545943\n",
       "118  51.0    12  2009.0 2009-12-14      207685.87      2  177461.040067\n",
       "120  52.0    12  2009.0 2009-12-21       35731.90      3  177453.534191\n",
       "0     1.0     1  2010.0 2010-01-04      167636.95      4  125133.420012\n",
       "..    ...   ...     ...        ...            ...    ...            ...\n",
       "3     NaN   NaN     NaN 2012-01-08            NaN    124            NaN\n",
       "4     NaN   NaN     NaN 2012-01-15            NaN    125            NaN\n",
       "5     NaN   NaN     NaN 2012-01-22            NaN    126            NaN\n",
       "6     NaN   NaN     NaN 2012-01-29            NaN    127            NaN\n",
       "7     NaN   NaN     NaN 2012-02-05            NaN    128            NaN\n",
       "\n",
       "[129 rows x 7 columns]"
      ]
     },
     "execution_count": 728,
     "metadata": {},
     "output_type": "execute_result"
    }
   ],
   "source": [
    "time_series"
   ]
  },
  {
   "cell_type": "code",
   "execution_count": 729,
   "metadata": {},
   "outputs": [
    {
     "data": {
      "text/plain": [
       "array(['2009-12-01T00:00:00.000000000', '2009-12-07T00:00:00.000000000',\n",
       "       '2009-12-14T00:00:00.000000000', '2009-12-21T00:00:00.000000000',\n",
       "       '2010-01-04T00:00:00.000000000', '2010-01-11T00:00:00.000000000',\n",
       "       '2010-01-18T00:00:00.000000000', '2010-01-25T00:00:00.000000000',\n",
       "       '2010-02-01T00:00:00.000000000', '2010-02-08T00:00:00.000000000',\n",
       "       '2010-02-15T00:00:00.000000000', '2010-02-22T00:00:00.000000000',\n",
       "       '2010-03-01T00:00:00.000000000', '2010-03-08T00:00:00.000000000',\n",
       "       '2010-03-15T00:00:00.000000000', '2010-03-22T00:00:00.000000000',\n",
       "       '2010-03-29T00:00:00.000000000', '2010-04-01T00:00:00.000000000',\n",
       "       '2010-04-06T00:00:00.000000000', '2010-04-12T00:00:00.000000000',\n",
       "       '2010-04-19T00:00:00.000000000', '2010-04-26T00:00:00.000000000',\n",
       "       '2010-05-02T00:00:00.000000000', '2010-05-04T00:00:00.000000000',\n",
       "       '2010-05-10T00:00:00.000000000', '2010-05-17T00:00:00.000000000',\n",
       "       '2010-05-24T00:00:00.000000000', '2010-06-01T00:00:00.000000000',\n",
       "       '2010-06-07T00:00:00.000000000', '2010-06-14T00:00:00.000000000',\n",
       "       '2010-06-21T00:00:00.000000000', '2010-06-28T00:00:00.000000000',\n",
       "       '2010-07-01T00:00:00.000000000', '2010-07-05T00:00:00.000000000',\n",
       "       '2010-07-12T00:00:00.000000000', '2010-07-19T00:00:00.000000000',\n",
       "       '2010-07-26T00:00:00.000000000', '2010-08-01T00:00:00.000000000',\n",
       "       '2010-08-02T00:00:00.000000000', '2010-08-09T00:00:00.000000000',\n",
       "       '2010-08-16T00:00:00.000000000', '2010-08-23T00:00:00.000000000',\n",
       "       '2010-08-31T00:00:00.000000000', '2010-09-01T00:00:00.000000000',\n",
       "       '2010-09-06T00:00:00.000000000', '2010-09-13T00:00:00.000000000',\n",
       "       '2010-09-20T00:00:00.000000000', '2010-09-27T00:00:00.000000000',\n",
       "       '2010-10-01T00:00:00.000000000', '2010-10-04T00:00:00.000000000',\n",
       "       '2010-10-11T00:00:00.000000000', '2010-10-18T00:00:00.000000000',\n",
       "       '2010-10-25T00:00:00.000000000', '2010-11-01T00:00:00.000000000',\n",
       "       '2010-11-08T00:00:00.000000000', '2010-11-15T00:00:00.000000000',\n",
       "       '2010-11-22T00:00:00.000000000', '2010-11-29T00:00:00.000000000',\n",
       "       '2010-12-01T00:00:00.000000000', '2010-12-06T00:00:00.000000000',\n",
       "       '2010-12-13T00:00:00.000000000', '2010-12-20T00:00:00.000000000',\n",
       "       '2011-01-04T00:00:00.000000000', '2011-01-10T00:00:00.000000000',\n",
       "       '2011-01-17T00:00:00.000000000', '2011-01-24T00:00:00.000000000',\n",
       "       '2011-01-31T00:00:00.000000000', '2011-02-01T00:00:00.000000000',\n",
       "       '2011-02-07T00:00:00.000000000', '2011-02-14T00:00:00.000000000',\n",
       "       '2011-02-21T00:00:00.000000000', '2011-02-28T00:00:00.000000000',\n",
       "       '2011-03-01T00:00:00.000000000', '2011-03-07T00:00:00.000000000',\n",
       "       '2011-03-14T00:00:00.000000000', '2011-03-21T00:00:00.000000000',\n",
       "       '2011-03-28T00:00:00.000000000', '2011-04-01T00:00:00.000000000',\n",
       "       '2011-04-04T00:00:00.000000000', '2011-04-11T00:00:00.000000000',\n",
       "       '2011-04-18T00:00:00.000000000', '2011-04-26T00:00:00.000000000',\n",
       "       '2011-05-01T00:00:00.000000000', '2011-05-03T00:00:00.000000000',\n",
       "       '2011-05-09T00:00:00.000000000', '2011-05-16T00:00:00.000000000',\n",
       "       '2011-05-23T00:00:00.000000000', '2011-05-31T00:00:00.000000000',\n",
       "       '2011-06-01T00:00:00.000000000', '2011-06-06T00:00:00.000000000',\n",
       "       '2011-06-13T00:00:00.000000000', '2011-06-20T00:00:00.000000000',\n",
       "       '2011-06-27T00:00:00.000000000', '2011-07-01T00:00:00.000000000',\n",
       "       '2011-07-04T00:00:00.000000000', '2011-07-11T00:00:00.000000000',\n",
       "       '2011-07-18T00:00:00.000000000', '2011-07-25T00:00:00.000000000',\n",
       "       '2011-08-01T00:00:00.000000000', '2011-08-08T00:00:00.000000000',\n",
       "       '2011-08-15T00:00:00.000000000', '2011-08-22T00:00:00.000000000',\n",
       "       '2011-08-30T00:00:00.000000000', '2011-09-01T00:00:00.000000000',\n",
       "       '2011-09-05T00:00:00.000000000', '2011-09-12T00:00:00.000000000',\n",
       "       '2011-09-19T00:00:00.000000000', '2011-09-26T00:00:00.000000000',\n",
       "       '2011-10-02T00:00:00.000000000', '2011-10-03T00:00:00.000000000',\n",
       "       '2011-10-10T00:00:00.000000000', '2011-10-17T00:00:00.000000000',\n",
       "       '2011-10-24T00:00:00.000000000', '2011-10-31T00:00:00.000000000',\n",
       "       '2011-11-01T00:00:00.000000000', '2011-11-07T00:00:00.000000000',\n",
       "       '2011-11-14T00:00:00.000000000', '2011-11-21T00:00:00.000000000',\n",
       "       '2011-11-28T00:00:00.000000000', '2011-12-01T00:00:00.000000000',\n",
       "       '2011-12-05T00:00:00.000000000', '2011-12-18T00:00:00.000000000',\n",
       "       '2011-12-25T00:00:00.000000000', '2012-01-01T00:00:00.000000000',\n",
       "       '2012-01-08T00:00:00.000000000', '2012-01-15T00:00:00.000000000',\n",
       "       '2012-01-22T00:00:00.000000000', '2012-01-29T00:00:00.000000000',\n",
       "       '2012-02-05T00:00:00.000000000'], dtype='datetime64[ns]')"
      ]
     },
     "execution_count": 729,
     "metadata": {},
     "output_type": "execute_result"
    }
   ],
   "source": [
    "np.unique(time_series['date'])"
   ]
  },
  {
   "cell_type": "code",
   "execution_count": 730,
   "metadata": {
    "scrolled": false
   },
   "outputs": [],
   "source": [
    "time_series['month'] = time_series['date'].dt.month"
   ]
  },
  {
   "cell_type": "code",
   "execution_count": 731,
   "metadata": {},
   "outputs": [],
   "source": [
    "time_series['month'] = time_series['month'].astype('category')"
   ]
  },
  {
   "cell_type": "code",
   "execution_count": 732,
   "metadata": {},
   "outputs": [],
   "source": [
    "X= time_series.drop(['week','year','date','total_revenue'],axis=1)"
   ]
  },
  {
   "cell_type": "code",
   "execution_count": 733,
   "metadata": {
    "scrolled": true
   },
   "outputs": [],
   "source": [
    "names=pd.get_dummies(X).columns"
   ]
  },
  {
   "cell_type": "code",
   "execution_count": 734,
   "metadata": {},
   "outputs": [],
   "source": [
    "X= pd.get_dummies(X).values"
   ]
  },
  {
   "cell_type": "code",
   "execution_count": 735,
   "metadata": {},
   "outputs": [
    {
     "data": {
      "text/plain": [
       "array([[0.00000000e+00, 1.77476052e+05, 0.00000000e+00, ...,\n",
       "        0.00000000e+00, 0.00000000e+00, 1.00000000e+00],\n",
       "       [1.00000000e+00, 1.77468546e+05, 0.00000000e+00, ...,\n",
       "        0.00000000e+00, 0.00000000e+00, 1.00000000e+00],\n",
       "       [2.00000000e+00, 1.77461040e+05, 0.00000000e+00, ...,\n",
       "        0.00000000e+00, 0.00000000e+00, 1.00000000e+00],\n",
       "       ...,\n",
       "       [1.26000000e+02,            nan, 1.00000000e+00, ...,\n",
       "        0.00000000e+00, 0.00000000e+00, 0.00000000e+00],\n",
       "       [1.27000000e+02,            nan, 1.00000000e+00, ...,\n",
       "        0.00000000e+00, 0.00000000e+00, 0.00000000e+00],\n",
       "       [1.28000000e+02,            nan, 0.00000000e+00, ...,\n",
       "        0.00000000e+00, 0.00000000e+00, 0.00000000e+00]])"
      ]
     },
     "execution_count": 735,
     "metadata": {},
     "output_type": "execute_result"
    }
   ],
   "source": [
    "X"
   ]
  },
  {
   "cell_type": "code",
   "execution_count": 736,
   "metadata": {},
   "outputs": [],
   "source": [
    "y= time_series.total_revenue.values"
   ]
  },
  {
   "cell_type": "code",
   "execution_count": 737,
   "metadata": {
    "scrolled": true
   },
   "outputs": [
    {
     "name": "stdout",
     "output_type": "stream",
     "text": [
      "129\n",
      "129\n"
     ]
    }
   ],
   "source": [
    "print(len(X))\n",
    "print(len(y))"
   ]
  },
  {
   "cell_type": "code",
   "execution_count": 738,
   "metadata": {},
   "outputs": [
    {
     "data": {
      "text/plain": [
       "array([232177.51      , 207908.73      , 207685.87      ,  35731.9       ,\n",
       "       167636.95      , 125493.61      , 119473.351     , 143198.761     ,\n",
       "       112299.692     ,  80059.66      , 160506.402     , 151693.202     ,\n",
       "       151813.96      , 118785.1       , 164459.771     , 172063.68      ,\n",
       "        89855.96      ,  28646.66      , 124314.76      , 141539.381     ,\n",
       "       138922.62      , 158558.581     ,  12342.17      , 149102.83      ,\n",
       "       155673.54      , 138681.57      , 142033.27      ,  90358.06      ,\n",
       "       200239.71      , 126987.39      , 103924.84      , 114861.13      ,\n",
       "        55932.44      , 136775.12      , 144495.58      , 133616.        ,\n",
       "       118917.03      ,  30637.95      , 117866.37      , 139842.07      ,\n",
       "       154786.91      , 136279.55      ,  22811.75      , 100807.8       ,\n",
       "       119333.94      , 155778.921     , 223587.04      , 229506.25      ,\n",
       "        72886.41      , 243007.44      , 298614.04000001, 220882.67      ,\n",
       "       197721.45      , 262597.86000001, 282707.70100001, 261610.06100001,\n",
       "       246492.99000001, 113051.41      , 148627.97      , 212619.13      ,\n",
       "       163116.12      ,  46059.51      , 114636.8       , 154344.85      ,\n",
       "       175452.23      , 104861.        ,  18806.43      ,  87149.38      ,\n",
       "        87827.94      , 125700.15      , 130380.77      ,  15026.68      ,\n",
       "       102360.14      , 112193.93      , 137669.82      , 129560.72      ,\n",
       "       112297.15      ,  31360.43      , 119697.73      , 134930.821     ,\n",
       "       115969.4       ,  66415.95      ,   6958.11      , 131094.12      ,\n",
       "       178574.32      , 195818.79      , 146776.61      ,  18133.2       ,\n",
       "        83907.17      , 193704.12      , 171702.44      , 112600.67      ,\n",
       "        98131.65      ,  18119.17      , 131222.52      , 118078.73      ,\n",
       "       167284.44      , 164258.041     , 155943.        , 143544.62      ,\n",
       "       167634.4       , 147595.96      ,  29333.06      ,  84492.91      ,\n",
       "       166212.46      , 208718.88      , 309091.50100001, 182174.451     ,\n",
       "        11479.98      , 296214.24      , 203708.95      , 254775.57      ,\n",
       "       236456.84      ,  33006.87      , 226367.15      , 263717.33      ,\n",
       "       276216.98      , 248234.58      , 141669.57      , 109163.47      ,\n",
       "       408044.97      ,             nan,             nan,             nan,\n",
       "                   nan,             nan,             nan,             nan,\n",
       "                   nan])"
      ]
     },
     "execution_count": 738,
     "metadata": {},
     "output_type": "execute_result"
    }
   ],
   "source": [
    "y"
   ]
  },
  {
   "cell_type": "code",
   "execution_count": 739,
   "metadata": {},
   "outputs": [
    {
     "ename": "ValueError",
     "evalue": "Input contains NaN, infinity or a value too large for dtype('float64').",
     "output_type": "error",
     "traceback": [
      "\u001b[0;31m---------------------------------------------------------------------------\u001b[0m",
      "\u001b[0;31mValueError\u001b[0m                                Traceback (most recent call last)",
      "\u001b[0;32m<ipython-input-739-fee2837334bd>\u001b[0m in \u001b[0;36m<module>\u001b[0;34m\u001b[0m\n\u001b[0;32m----> 1\u001b[0;31m \u001b[0mprediction\u001b[0m\u001b[0;34m=\u001b[0m \u001b[0mmodel\u001b[0m\u001b[0;34m.\u001b[0m\u001b[0mpredict\u001b[0m\u001b[0;34m(\u001b[0m\u001b[0mX\u001b[0m\u001b[0;34m)\u001b[0m\u001b[0;34m\u001b[0m\u001b[0;34m\u001b[0m\u001b[0m\n\u001b[0m\u001b[1;32m      2\u001b[0m \u001b[0;34m\u001b[0m\u001b[0m\n\u001b[1;32m      3\u001b[0m \u001b[0mtime_series\u001b[0m\u001b[0;34m[\u001b[0m\u001b[0;34m'prediction'\u001b[0m\u001b[0;34m]\u001b[0m\u001b[0;34m=\u001b[0m \u001b[0mprediction\u001b[0m\u001b[0;34m\u001b[0m\u001b[0;34m\u001b[0m\u001b[0m\n\u001b[1;32m      4\u001b[0m \u001b[0;34m\u001b[0m\u001b[0m\n\u001b[1;32m      5\u001b[0m \u001b[0mplt\u001b[0m\u001b[0;34m.\u001b[0m\u001b[0mplot\u001b[0m\u001b[0;34m(\u001b[0m\u001b[0mtime_series\u001b[0m\u001b[0;34m.\u001b[0m\u001b[0mdate\u001b[0m\u001b[0;34m,\u001b[0m\u001b[0mtime_series\u001b[0m\u001b[0;34m.\u001b[0m\u001b[0mtotal_revenue\u001b[0m\u001b[0;34m,\u001b[0m\u001b[0mlabel\u001b[0m\u001b[0;34m=\u001b[0m\u001b[0;34m'Actual'\u001b[0m\u001b[0;34m)\u001b[0m\u001b[0;34m\u001b[0m\u001b[0;34m\u001b[0m\u001b[0m\n",
      "\u001b[0;32m~/opt/anaconda3/envs/datascience_supplychain/lib/python3.7/site-packages/sklearn/linear_model/_base.py\u001b[0m in \u001b[0;36mpredict\u001b[0;34m(self, X)\u001b[0m\n\u001b[1;32m    236\u001b[0m             \u001b[0mReturns\u001b[0m \u001b[0mpredicted\u001b[0m \u001b[0mvalues\u001b[0m\u001b[0;34m.\u001b[0m\u001b[0;34m\u001b[0m\u001b[0;34m\u001b[0m\u001b[0m\n\u001b[1;32m    237\u001b[0m         \"\"\"\n\u001b[0;32m--> 238\u001b[0;31m         \u001b[0;32mreturn\u001b[0m \u001b[0mself\u001b[0m\u001b[0;34m.\u001b[0m\u001b[0m_decision_function\u001b[0m\u001b[0;34m(\u001b[0m\u001b[0mX\u001b[0m\u001b[0;34m)\u001b[0m\u001b[0;34m\u001b[0m\u001b[0;34m\u001b[0m\u001b[0m\n\u001b[0m\u001b[1;32m    239\u001b[0m \u001b[0;34m\u001b[0m\u001b[0m\n\u001b[1;32m    240\u001b[0m     \u001b[0m_preprocess_data\u001b[0m \u001b[0;34m=\u001b[0m \u001b[0mstaticmethod\u001b[0m\u001b[0;34m(\u001b[0m\u001b[0m_preprocess_data\u001b[0m\u001b[0;34m)\u001b[0m\u001b[0;34m\u001b[0m\u001b[0;34m\u001b[0m\u001b[0m\n",
      "\u001b[0;32m~/opt/anaconda3/envs/datascience_supplychain/lib/python3.7/site-packages/sklearn/linear_model/_base.py\u001b[0m in \u001b[0;36m_decision_function\u001b[0;34m(self, X)\u001b[0m\n\u001b[1;32m    218\u001b[0m         \u001b[0mcheck_is_fitted\u001b[0m\u001b[0;34m(\u001b[0m\u001b[0mself\u001b[0m\u001b[0;34m)\u001b[0m\u001b[0;34m\u001b[0m\u001b[0;34m\u001b[0m\u001b[0m\n\u001b[1;32m    219\u001b[0m \u001b[0;34m\u001b[0m\u001b[0m\n\u001b[0;32m--> 220\u001b[0;31m         \u001b[0mX\u001b[0m \u001b[0;34m=\u001b[0m \u001b[0mcheck_array\u001b[0m\u001b[0;34m(\u001b[0m\u001b[0mX\u001b[0m\u001b[0;34m,\u001b[0m \u001b[0maccept_sparse\u001b[0m\u001b[0;34m=\u001b[0m\u001b[0;34m[\u001b[0m\u001b[0;34m'csr'\u001b[0m\u001b[0;34m,\u001b[0m \u001b[0;34m'csc'\u001b[0m\u001b[0;34m,\u001b[0m \u001b[0;34m'coo'\u001b[0m\u001b[0;34m]\u001b[0m\u001b[0;34m)\u001b[0m\u001b[0;34m\u001b[0m\u001b[0;34m\u001b[0m\u001b[0m\n\u001b[0m\u001b[1;32m    221\u001b[0m         return safe_sparse_dot(X, self.coef_.T,\n\u001b[1;32m    222\u001b[0m                                dense_output=True) + self.intercept_\n",
      "\u001b[0;32m~/opt/anaconda3/envs/datascience_supplychain/lib/python3.7/site-packages/sklearn/utils/validation.py\u001b[0m in \u001b[0;36minner_f\u001b[0;34m(*args, **kwargs)\u001b[0m\n\u001b[1;32m     61\u001b[0m             \u001b[0mextra_args\u001b[0m \u001b[0;34m=\u001b[0m \u001b[0mlen\u001b[0m\u001b[0;34m(\u001b[0m\u001b[0margs\u001b[0m\u001b[0;34m)\u001b[0m \u001b[0;34m-\u001b[0m \u001b[0mlen\u001b[0m\u001b[0;34m(\u001b[0m\u001b[0mall_args\u001b[0m\u001b[0;34m)\u001b[0m\u001b[0;34m\u001b[0m\u001b[0;34m\u001b[0m\u001b[0m\n\u001b[1;32m     62\u001b[0m             \u001b[0;32mif\u001b[0m \u001b[0mextra_args\u001b[0m \u001b[0;34m<=\u001b[0m \u001b[0;36m0\u001b[0m\u001b[0;34m:\u001b[0m\u001b[0;34m\u001b[0m\u001b[0;34m\u001b[0m\u001b[0m\n\u001b[0;32m---> 63\u001b[0;31m                 \u001b[0;32mreturn\u001b[0m \u001b[0mf\u001b[0m\u001b[0;34m(\u001b[0m\u001b[0;34m*\u001b[0m\u001b[0margs\u001b[0m\u001b[0;34m,\u001b[0m \u001b[0;34m**\u001b[0m\u001b[0mkwargs\u001b[0m\u001b[0;34m)\u001b[0m\u001b[0;34m\u001b[0m\u001b[0;34m\u001b[0m\u001b[0m\n\u001b[0m\u001b[1;32m     64\u001b[0m \u001b[0;34m\u001b[0m\u001b[0m\n\u001b[1;32m     65\u001b[0m             \u001b[0;31m# extra_args > 0\u001b[0m\u001b[0;34m\u001b[0m\u001b[0;34m\u001b[0m\u001b[0;34m\u001b[0m\u001b[0m\n",
      "\u001b[0;32m~/opt/anaconda3/envs/datascience_supplychain/lib/python3.7/site-packages/sklearn/utils/validation.py\u001b[0m in \u001b[0;36mcheck_array\u001b[0;34m(array, accept_sparse, accept_large_sparse, dtype, order, copy, force_all_finite, ensure_2d, allow_nd, ensure_min_samples, ensure_min_features, estimator)\u001b[0m\n\u001b[1;32m    662\u001b[0m         \u001b[0;32mif\u001b[0m \u001b[0mforce_all_finite\u001b[0m\u001b[0;34m:\u001b[0m\u001b[0;34m\u001b[0m\u001b[0;34m\u001b[0m\u001b[0m\n\u001b[1;32m    663\u001b[0m             _assert_all_finite(array,\n\u001b[0;32m--> 664\u001b[0;31m                                allow_nan=force_all_finite == 'allow-nan')\n\u001b[0m\u001b[1;32m    665\u001b[0m \u001b[0;34m\u001b[0m\u001b[0m\n\u001b[1;32m    666\u001b[0m     \u001b[0;32mif\u001b[0m \u001b[0mensure_min_samples\u001b[0m \u001b[0;34m>\u001b[0m \u001b[0;36m0\u001b[0m\u001b[0;34m:\u001b[0m\u001b[0;34m\u001b[0m\u001b[0;34m\u001b[0m\u001b[0m\n",
      "\u001b[0;32m~/opt/anaconda3/envs/datascience_supplychain/lib/python3.7/site-packages/sklearn/utils/validation.py\u001b[0m in \u001b[0;36m_assert_all_finite\u001b[0;34m(X, allow_nan, msg_dtype)\u001b[0m\n\u001b[1;32m    104\u001b[0m                     \u001b[0mmsg_err\u001b[0m\u001b[0;34m.\u001b[0m\u001b[0mformat\u001b[0m\u001b[0;34m\u001b[0m\u001b[0;34m\u001b[0m\u001b[0m\n\u001b[1;32m    105\u001b[0m                     (type_err,\n\u001b[0;32m--> 106\u001b[0;31m                      msg_dtype if msg_dtype is not None else X.dtype)\n\u001b[0m\u001b[1;32m    107\u001b[0m             )\n\u001b[1;32m    108\u001b[0m     \u001b[0;31m# for object dtype data, we only check for NaNs (GH-13254)\u001b[0m\u001b[0;34m\u001b[0m\u001b[0;34m\u001b[0m\u001b[0;34m\u001b[0m\u001b[0m\n",
      "\u001b[0;31mValueError\u001b[0m: Input contains NaN, infinity or a value too large for dtype('float64')."
     ]
    }
   ],
   "source": [
    "\n",
    "prediction= model.predict(X)\n",
    "\n",
    "time_series['prediction']= prediction\n",
    "\n",
    "plt.plot(time_series.date,time_series.total_revenue,label='Actual')\n",
    "plt.plot(time_series.date,time_series.prediction,label='prediction')\n",
    "plt.legend(loc='upper left')\n",
    "plt.show()\n"
   ]
  },
  {
   "cell_type": "code",
   "execution_count": null,
   "metadata": {},
   "outputs": [],
   "source": []
  }
 ],
 "metadata": {
  "kernelspec": {
   "display_name": "Python 3",
   "language": "python",
   "name": "python3"
  },
  "language_info": {
   "codemirror_mode": {
    "name": "ipython",
    "version": 3
   },
   "file_extension": ".py",
   "mimetype": "text/x-python",
   "name": "python",
   "nbconvert_exporter": "python",
   "pygments_lexer": "ipython3",
   "version": "3.7.9"
  }
 },
 "nbformat": 4,
 "nbformat_minor": 4
}
