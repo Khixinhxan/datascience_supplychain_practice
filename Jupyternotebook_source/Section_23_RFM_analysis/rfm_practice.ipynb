{
 "cells": [
  {
   "cell_type": "code",
   "execution_count": 1,
   "source": [
    "import numpy as np\n",
    "import matplotlib.pyplot as plt\n",
    "import pandas as pd\n",
    "import os \n",
    "path  = os.getcwd()\n",
    "print(path)"
   ],
   "outputs": [
    {
     "output_type": "stream",
     "name": "stdout",
     "text": [
      "/Users/dang/Desktop/Learning/Mygit/datascience_supplychain_practice/Jupyternotebook_source/Section_23_RFM_analysis\n"
     ]
    }
   ],
   "metadata": {}
  },
  {
   "cell_type": "code",
   "execution_count": 2,
   "source": [
    "retail = pd.read_csv(\"{0}/retail_clean.csv\".format(path))"
   ],
   "outputs": [],
   "metadata": {}
  },
  {
   "cell_type": "code",
   "execution_count": 3,
   "source": [
    "retail['InvoiceDate'] = pd.to_datetime(retail['InvoiceDate'])\n",
    "retail['date'] = retail['InvoiceDate'].dt.strftime('%Y-%m-%d')\n",
    "retail['date'] = pd.to_datetime(retail['date'])"
   ],
   "outputs": [],
   "metadata": {}
  },
  {
   "cell_type": "code",
   "execution_count": 9,
   "source": [
    "# recency\n",
    "max_date = retail['date'].max()"
   ],
   "outputs": [],
   "metadata": {}
  },
  {
   "cell_type": "code",
   "execution_count": 5,
   "source": [
    "retail.columns"
   ],
   "outputs": [
    {
     "output_type": "execute_result",
     "data": {
      "text/plain": [
       "Index(['Unnamed: 0', 'Invoice', 'StockCode', 'Description', 'Quantity',\n",
       "       'InvoiceDate', 'Price', 'Customer ID', 'Country', 'Revenue', 'date'],\n",
       "      dtype='object')"
      ]
     },
     "metadata": {},
     "execution_count": 5
    }
   ],
   "metadata": {}
  },
  {
   "cell_type": "code",
   "execution_count": 6,
   "source": [
    "customers_recency = retail.groupby('Customer ID').agg(last_date = ('date', 'max')).reset_index()"
   ],
   "outputs": [],
   "metadata": {}
  },
  {
   "cell_type": "code",
   "execution_count": 7,
   "source": [
    "customers_recency['recency'] = max_date - customers_recency['last_date']\n",
    "customers_recency['recency'] = customers_recency['recency'].astype('string').str.replace('days', '').astype(int)"
   ],
   "outputs": [],
   "metadata": {}
  },
  {
   "cell_type": "code",
   "execution_count": 8,
   "source": [
    "customers_recency['recency']"
   ],
   "outputs": [
    {
     "output_type": "execute_result",
     "data": {
      "text/plain": [
       "0       325\n",
       "1         2\n",
       "2        75\n",
       "3        18\n",
       "4       310\n",
       "       ... \n",
       "5876      3\n",
       "5877    431\n",
       "5878    660\n",
       "5879    476\n",
       "5880     42\n",
       "Name: recency, Length: 5881, dtype: int64"
      ]
     },
     "metadata": {},
     "execution_count": 8
    }
   ],
   "metadata": {}
  },
  {
   "cell_type": "code",
   "execution_count": 10,
   "source": [
    "### frequency"
   ],
   "outputs": [],
   "metadata": {}
  },
  {
   "cell_type": "code",
   "execution_count": 11,
   "source": [
    "freq2 = retail.groupby('Customer ID').date.count().reset_index()\n",
    "freq2.columns = ['Customer ID', 'frequency']"
   ],
   "outputs": [],
   "metadata": {}
  },
  {
   "cell_type": "code",
   "execution_count": 12,
   "source": [
    "freq2"
   ],
   "outputs": [
    {
     "output_type": "execute_result",
     "data": {
      "text/plain": [
       "      Customer ID  frequency\n",
       "0         12346.0         34\n",
       "1         12347.0        222\n",
       "2         12348.0         51\n",
       "3         12349.0        175\n",
       "4         12350.0         17\n",
       "...           ...        ...\n",
       "5876      18283.0        938\n",
       "5877      18284.0         28\n",
       "5878      18285.0         12\n",
       "5879      18286.0         67\n",
       "5880      18287.0        155\n",
       "\n",
       "[5881 rows x 2 columns]"
      ],
      "text/html": [
       "<div>\n",
       "<style scoped>\n",
       "    .dataframe tbody tr th:only-of-type {\n",
       "        vertical-align: middle;\n",
       "    }\n",
       "\n",
       "    .dataframe tbody tr th {\n",
       "        vertical-align: top;\n",
       "    }\n",
       "\n",
       "    .dataframe thead th {\n",
       "        text-align: right;\n",
       "    }\n",
       "</style>\n",
       "<table border=\"1\" class=\"dataframe\">\n",
       "  <thead>\n",
       "    <tr style=\"text-align: right;\">\n",
       "      <th></th>\n",
       "      <th>Customer ID</th>\n",
       "      <th>frequency</th>\n",
       "    </tr>\n",
       "  </thead>\n",
       "  <tbody>\n",
       "    <tr>\n",
       "      <th>0</th>\n",
       "      <td>12346.0</td>\n",
       "      <td>34</td>\n",
       "    </tr>\n",
       "    <tr>\n",
       "      <th>1</th>\n",
       "      <td>12347.0</td>\n",
       "      <td>222</td>\n",
       "    </tr>\n",
       "    <tr>\n",
       "      <th>2</th>\n",
       "      <td>12348.0</td>\n",
       "      <td>51</td>\n",
       "    </tr>\n",
       "    <tr>\n",
       "      <th>3</th>\n",
       "      <td>12349.0</td>\n",
       "      <td>175</td>\n",
       "    </tr>\n",
       "    <tr>\n",
       "      <th>4</th>\n",
       "      <td>12350.0</td>\n",
       "      <td>17</td>\n",
       "    </tr>\n",
       "    <tr>\n",
       "      <th>...</th>\n",
       "      <td>...</td>\n",
       "      <td>...</td>\n",
       "    </tr>\n",
       "    <tr>\n",
       "      <th>5876</th>\n",
       "      <td>18283.0</td>\n",
       "      <td>938</td>\n",
       "    </tr>\n",
       "    <tr>\n",
       "      <th>5877</th>\n",
       "      <td>18284.0</td>\n",
       "      <td>28</td>\n",
       "    </tr>\n",
       "    <tr>\n",
       "      <th>5878</th>\n",
       "      <td>18285.0</td>\n",
       "      <td>12</td>\n",
       "    </tr>\n",
       "    <tr>\n",
       "      <th>5879</th>\n",
       "      <td>18286.0</td>\n",
       "      <td>67</td>\n",
       "    </tr>\n",
       "    <tr>\n",
       "      <th>5880</th>\n",
       "      <td>18287.0</td>\n",
       "      <td>155</td>\n",
       "    </tr>\n",
       "  </tbody>\n",
       "</table>\n",
       "<p>5881 rows × 2 columns</p>\n",
       "</div>"
      ]
     },
     "metadata": {},
     "execution_count": 12
    }
   ],
   "metadata": {}
  },
  {
   "cell_type": "code",
   "execution_count": 13,
   "source": [
    "### Monetary value"
   ],
   "outputs": [],
   "metadata": {}
  },
  {
   "cell_type": "code",
   "execution_count": 14,
   "source": [
    "retail.columns"
   ],
   "outputs": [
    {
     "output_type": "execute_result",
     "data": {
      "text/plain": [
       "Index(['Unnamed: 0', 'Invoice', 'StockCode', 'Description', 'Quantity',\n",
       "       'InvoiceDate', 'Price', 'Customer ID', 'Country', 'Revenue', 'date'],\n",
       "      dtype='object')"
      ]
     },
     "metadata": {},
     "execution_count": 14
    }
   ],
   "metadata": {}
  },
  {
   "cell_type": "code",
   "execution_count": 15,
   "source": [
    "monet1 = retail.groupby(['Customer ID', 'Invoice']).agg(revenue = ('Revenue', 'sum')).reset_index()"
   ],
   "outputs": [],
   "metadata": {}
  },
  {
   "cell_type": "code",
   "execution_count": 16,
   "source": [
    "monet2 = monet1.groupby('Customer ID').agg(monetary = ('revenue', 'mean')).reset_index()"
   ],
   "outputs": [],
   "metadata": {}
  },
  {
   "cell_type": "code",
   "execution_count": 18,
   "source": [
    "customers_recency['rank_recency'] = customers_recency['recency'].rank(pct=True)"
   ],
   "outputs": [],
   "metadata": {}
  },
  {
   "cell_type": "code",
   "execution_count": 19,
   "source": [
    "freq2['freq_ranking'] = freq2['frequency'].rank(ascending=False, pct=True)\n",
    "monet2['rank_monet'] = monet2['monetary'].rank(ascending=False, pct=True)"
   ],
   "outputs": [],
   "metadata": {}
  },
  {
   "cell_type": "code",
   "execution_count": 20,
   "source": [
    "all_data = pd.merge(customers_recency, freq2, how='left', on='Customer ID')\n",
    "all_data = pd.merge(all_data, monet2, how='left', on='Customer ID')"
   ],
   "outputs": [],
   "metadata": {}
  },
  {
   "cell_type": "code",
   "execution_count": 23,
   "source": [
    "bins = [0,0.5,1]\n",
    "names = ['1', '2']"
   ],
   "outputs": [],
   "metadata": {}
  },
  {
   "cell_type": "code",
   "execution_count": 24,
   "source": [
    "final = pd.DataFrame(customers_recency['Customer ID'])\n",
    "final['frequency'] = pd.cut(freq2['freq_ranking'], bins, labels=names).astype('string')\n",
    "final['recency'] = pd.cut(customers_recency['rank_recency'], bins, labels=names).astype('string')\n",
    "final['monetary'] = pd.cut(monet2['rank_monet'], bins, labels=names).astype('string')"
   ],
   "outputs": [],
   "metadata": {}
  },
  {
   "cell_type": "code",
   "execution_count": 25,
   "source": [
    "final['rec_freq_mone'] = final['recency'] + final['frequency'] + final['monetary']"
   ],
   "outputs": [],
   "metadata": {}
  },
  {
   "cell_type": "code",
   "execution_count": 26,
   "source": [
    "all_data['rec_freq_monet'] = final['rec_freq_mone']\n",
    "all_data.to_csv('rfm.csv')"
   ],
   "outputs": [],
   "metadata": {}
  },
  {
   "cell_type": "code",
   "execution_count": 27,
   "source": [
    "all_data"
   ],
   "outputs": [
    {
     "output_type": "execute_result",
     "data": {
      "text/plain": [
       "      Customer ID  last_date  recency  rank_recency  frequency  freq_ranking  \\\n",
       "0         12346.0 2011-01-18      325      0.710338         34      0.621068   \n",
       "1         12347.0 2011-12-07        2      0.031202        222      0.153715   \n",
       "2         12348.0 2011-09-25       75      0.458085         51      0.505951   \n",
       "3         12349.0 2011-11-21       18      0.192229        175      0.197585   \n",
       "4         12350.0 2011-02-02      310      0.699286         17      0.790342   \n",
       "...           ...        ...      ...           ...        ...           ...   \n",
       "5876      18283.0 2011-12-06        3      0.046846        938      0.014708   \n",
       "5877      18284.0 2010-10-04      431      0.831406         28      0.674545   \n",
       "5878      18285.0 2010-02-17      660      0.967267         12      0.851301   \n",
       "5879      18286.0 2010-08-20      476      0.868730         67      0.430539   \n",
       "5880      18287.0 2011-10-28       42      0.337188        155      0.222411   \n",
       "\n",
       "         monetary  rank_monet rec_freq_monet  \n",
       "0     6463.038333    0.001530            221  \n",
       "1      615.191250    0.106104            111  \n",
       "2      403.880000    0.263051            121  \n",
       "3     1107.172500    0.028567            111  \n",
       "4      334.400000    0.375446            221  \n",
       "...           ...         ...            ...  \n",
       "5876   121.131818    0.892365            112  \n",
       "5877   461.680000    0.199456            221  \n",
       "5878   427.000000    0.235504            221  \n",
       "5879   648.215000    0.095732            211  \n",
       "5880   597.570000    0.113586            111  \n",
       "\n",
       "[5881 rows x 9 columns]"
      ],
      "text/html": [
       "<div>\n",
       "<style scoped>\n",
       "    .dataframe tbody tr th:only-of-type {\n",
       "        vertical-align: middle;\n",
       "    }\n",
       "\n",
       "    .dataframe tbody tr th {\n",
       "        vertical-align: top;\n",
       "    }\n",
       "\n",
       "    .dataframe thead th {\n",
       "        text-align: right;\n",
       "    }\n",
       "</style>\n",
       "<table border=\"1\" class=\"dataframe\">\n",
       "  <thead>\n",
       "    <tr style=\"text-align: right;\">\n",
       "      <th></th>\n",
       "      <th>Customer ID</th>\n",
       "      <th>last_date</th>\n",
       "      <th>recency</th>\n",
       "      <th>rank_recency</th>\n",
       "      <th>frequency</th>\n",
       "      <th>freq_ranking</th>\n",
       "      <th>monetary</th>\n",
       "      <th>rank_monet</th>\n",
       "      <th>rec_freq_monet</th>\n",
       "    </tr>\n",
       "  </thead>\n",
       "  <tbody>\n",
       "    <tr>\n",
       "      <th>0</th>\n",
       "      <td>12346.0</td>\n",
       "      <td>2011-01-18</td>\n",
       "      <td>325</td>\n",
       "      <td>0.710338</td>\n",
       "      <td>34</td>\n",
       "      <td>0.621068</td>\n",
       "      <td>6463.038333</td>\n",
       "      <td>0.001530</td>\n",
       "      <td>221</td>\n",
       "    </tr>\n",
       "    <tr>\n",
       "      <th>1</th>\n",
       "      <td>12347.0</td>\n",
       "      <td>2011-12-07</td>\n",
       "      <td>2</td>\n",
       "      <td>0.031202</td>\n",
       "      <td>222</td>\n",
       "      <td>0.153715</td>\n",
       "      <td>615.191250</td>\n",
       "      <td>0.106104</td>\n",
       "      <td>111</td>\n",
       "    </tr>\n",
       "    <tr>\n",
       "      <th>2</th>\n",
       "      <td>12348.0</td>\n",
       "      <td>2011-09-25</td>\n",
       "      <td>75</td>\n",
       "      <td>0.458085</td>\n",
       "      <td>51</td>\n",
       "      <td>0.505951</td>\n",
       "      <td>403.880000</td>\n",
       "      <td>0.263051</td>\n",
       "      <td>121</td>\n",
       "    </tr>\n",
       "    <tr>\n",
       "      <th>3</th>\n",
       "      <td>12349.0</td>\n",
       "      <td>2011-11-21</td>\n",
       "      <td>18</td>\n",
       "      <td>0.192229</td>\n",
       "      <td>175</td>\n",
       "      <td>0.197585</td>\n",
       "      <td>1107.172500</td>\n",
       "      <td>0.028567</td>\n",
       "      <td>111</td>\n",
       "    </tr>\n",
       "    <tr>\n",
       "      <th>4</th>\n",
       "      <td>12350.0</td>\n",
       "      <td>2011-02-02</td>\n",
       "      <td>310</td>\n",
       "      <td>0.699286</td>\n",
       "      <td>17</td>\n",
       "      <td>0.790342</td>\n",
       "      <td>334.400000</td>\n",
       "      <td>0.375446</td>\n",
       "      <td>221</td>\n",
       "    </tr>\n",
       "    <tr>\n",
       "      <th>...</th>\n",
       "      <td>...</td>\n",
       "      <td>...</td>\n",
       "      <td>...</td>\n",
       "      <td>...</td>\n",
       "      <td>...</td>\n",
       "      <td>...</td>\n",
       "      <td>...</td>\n",
       "      <td>...</td>\n",
       "      <td>...</td>\n",
       "    </tr>\n",
       "    <tr>\n",
       "      <th>5876</th>\n",
       "      <td>18283.0</td>\n",
       "      <td>2011-12-06</td>\n",
       "      <td>3</td>\n",
       "      <td>0.046846</td>\n",
       "      <td>938</td>\n",
       "      <td>0.014708</td>\n",
       "      <td>121.131818</td>\n",
       "      <td>0.892365</td>\n",
       "      <td>112</td>\n",
       "    </tr>\n",
       "    <tr>\n",
       "      <th>5877</th>\n",
       "      <td>18284.0</td>\n",
       "      <td>2010-10-04</td>\n",
       "      <td>431</td>\n",
       "      <td>0.831406</td>\n",
       "      <td>28</td>\n",
       "      <td>0.674545</td>\n",
       "      <td>461.680000</td>\n",
       "      <td>0.199456</td>\n",
       "      <td>221</td>\n",
       "    </tr>\n",
       "    <tr>\n",
       "      <th>5878</th>\n",
       "      <td>18285.0</td>\n",
       "      <td>2010-02-17</td>\n",
       "      <td>660</td>\n",
       "      <td>0.967267</td>\n",
       "      <td>12</td>\n",
       "      <td>0.851301</td>\n",
       "      <td>427.000000</td>\n",
       "      <td>0.235504</td>\n",
       "      <td>221</td>\n",
       "    </tr>\n",
       "    <tr>\n",
       "      <th>5879</th>\n",
       "      <td>18286.0</td>\n",
       "      <td>2010-08-20</td>\n",
       "      <td>476</td>\n",
       "      <td>0.868730</td>\n",
       "      <td>67</td>\n",
       "      <td>0.430539</td>\n",
       "      <td>648.215000</td>\n",
       "      <td>0.095732</td>\n",
       "      <td>211</td>\n",
       "    </tr>\n",
       "    <tr>\n",
       "      <th>5880</th>\n",
       "      <td>18287.0</td>\n",
       "      <td>2011-10-28</td>\n",
       "      <td>42</td>\n",
       "      <td>0.337188</td>\n",
       "      <td>155</td>\n",
       "      <td>0.222411</td>\n",
       "      <td>597.570000</td>\n",
       "      <td>0.113586</td>\n",
       "      <td>111</td>\n",
       "    </tr>\n",
       "  </tbody>\n",
       "</table>\n",
       "<p>5881 rows × 9 columns</p>\n",
       "</div>"
      ]
     },
     "metadata": {},
     "execution_count": 27
    }
   ],
   "metadata": {}
  },
  {
   "cell_type": "code",
   "execution_count": 28,
   "source": [
    "import seaborn as sns"
   ],
   "outputs": [],
   "metadata": {}
  },
  {
   "cell_type": "code",
   "execution_count": 30,
   "source": [
    "fig = sns.countplot(x='rec_freq_monet', data= all_data)"
   ],
   "outputs": [
    {
     "output_type": "display_data",
     "data": {
      "text/plain": [
       "<Figure size 432x288 with 1 Axes>"
      ],
      "image/png": "[encoded data removed]"
     },
     "metadata": {
      "needs_background": "light"
     }
    }
   ],
   "metadata": {}
  },
  {
   "cell_type": "code",
   "execution_count": null,
   "source": [],
   "outputs": [],
   "metadata": {}
  }
 ],
 "metadata": {
  "orig_nbformat": 4,
  "language_info": {
   "name": "python",
   "version": "3.7.9",
   "mimetype": "text/x-python",
   "codemirror_mode": {
    "name": "ipython",
    "version": 3
   },
   "pygments_lexer": "ipython3",
   "nbconvert_exporter": "python",
   "file_extension": ".py"
  },
  "kernelspec": {
   "name": "python3",
   "display_name": "Python 3.7.9 64-bit ('env': venv)"
  },
  "interpreter": {
   "hash": "272a83b994da64918daf8b774315e72334003c8696cc4358695b72acf32d7fce"
  }
 },
 "nbformat": 4,
 "nbformat_minor": 2
}