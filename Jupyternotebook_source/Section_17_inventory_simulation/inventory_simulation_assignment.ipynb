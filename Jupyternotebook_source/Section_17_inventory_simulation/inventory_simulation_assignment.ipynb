{
 "metadata": {
  "language_info": {
   "codemirror_mode": {
    "name": "ipython",
    "version": 3
   },
   "file_extension": ".py",
   "mimetype": "text/x-python",
   "name": "python",
   "nbconvert_exporter": "python",
   "pygments_lexer": "ipython3",
   "version": "3.7.9"
  },
  "orig_nbformat": 4,
  "kernelspec": {
   "name": "python3",
   "display_name": "Python 3.7.9 64-bit ('env': venv)"
  },
  "interpreter": {
   "hash": "272a83b994da64918daf8b774315e72334003c8696cc4358695b72acf32d7fce"
  }
 },
 "nbformat": 4,
 "nbformat_minor": 2,
 "cells": [
  {
   "cell_type": "code",
   "execution_count": 1,
   "metadata": {},
   "outputs": [
    {
     "output_type": "stream",
     "name": "stdout",
     "text": [
      "/Users/dang/Desktop/Learning/Mygit/datascience_supplychain_practice/Jupyternotebook_source/Section_17_inventory_simulation\n"
     ]
    }
   ],
   "source": [
    "import pandas as pd\n",
    "import inventorize as inv\n",
    "import os \n",
    "path = os.getcwd()\n",
    "print(path)"
   ]
  },
  {
   "cell_type": "code",
   "execution_count": 2,
   "metadata": {},
   "outputs": [],
   "source": [
    "pineapple = pd.read_csv('{0}/pinapple_juice.csv'.format(path))"
   ]
  },
  {
   "cell_type": "code",
   "execution_count": 3,
   "metadata": {},
   "outputs": [
    {
     "output_type": "stream",
     "name": "stdout",
     "text": [
      "<class 'pandas.core.frame.DataFrame'>\nRangeIndex: 366 entries, 0 to 365\nData columns (total 3 columns):\n #   Column          Non-Null Count  Dtype  \n---  ------          --------------  -----  \n 0   Day             366 non-null    int64  \n 1   Pinapple juice  366 non-null    int64  \n 2   Price           366 non-null    float64\ndtypes: float64(1), int64(2)\nmemory usage: 8.7 KB\n"
     ]
    }
   ],
   "source": [
    "pineapple.info()"
   ]
  },
  {
   "cell_type": "code",
   "execution_count": 4,
   "metadata": {},
   "outputs": [],
   "source": [
    "demand = pineapple['Pinapple juice']"
   ]
  },
  {
   "cell_type": "code",
   "execution_count": 5,
   "metadata": {},
   "outputs": [],
   "source": [
    "leadtime = 7\n",
    "mean = pineapple['Pinapple juice'].mean()\n",
    "sd = pineapple['Pinapple juice'].std()"
   ]
  },
  {
   "cell_type": "code",
   "execution_count": 6,
   "metadata": {},
   "outputs": [],
   "source": [
    "### comparison"
   ]
  },
  {
   "cell_type": "code",
   "execution_count": 7,
   "metadata": {},
   "outputs": [
    {
     "output_type": "stream",
     "name": "stdout",
     "text": [
      "130.58196721311475\n21.32199590901676\n"
     ]
    }
   ],
   "source": [
    "print(mean)\n",
    "print(sd)"
   ]
  },
  {
   "cell_type": "code",
   "execution_count": 8,
   "metadata": {},
   "outputs": [
    {
     "output_type": "execute_result",
     "data": {
      "text/plain": [
       "21.32199590901676"
      ]
     },
     "metadata": {},
     "execution_count": 8
    }
   ],
   "source": [
    "sd"
   ]
  },
  {
   "cell_type": "code",
   "execution_count": 9,
   "metadata": {},
   "outputs": [],
   "source": [
    "  \"\"\"[The Function takes a demand vector, mean of demand ,sd,lead time and requested service level to simulate and inventory system, \n",
    "      orders are lost if inventory level is less than requested demand, also ordering is made at\n",
    "      day t+1, metrics like item fill rate and cycle service level are calculated. the min is calculated based on a normal distribution.]\n",
    "\"\"\"\n",
    "pine_sq = inv.sim_min_Q_normal(demand, mean, sd, leadtime, service_level=0.8, Quantity=1000, ordering_cost=100, inventory_cost=5)"
   ]
  },
  {
   "cell_type": "code",
   "execution_count": 10,
   "metadata": {},
   "outputs": [],
   "source": [
    "  \"\"\"[the Function takes a demand vector, mean of demand ,sd,lead time and requested service level to simulate and inventory system, \n",
    "      orders are lost if inventory level is less than requested demand, also ordering is made at\n",
    "      day t+1, metrics like item fill rate and cycle service level are calculated based on a \n",
    "      normal distribution.]\n",
    "\"\"\"\n",
    "pine_base = inv.sim_base_normal(demand, mean, sd, leadtime=7, service_level=0.8, ordering_cost=100, inventory_cost=5)"
   ]
  },
  {
   "cell_type": "code",
   "execution_count": 12,
   "metadata": {},
   "outputs": [],
   "source": [
    "pine_minmax = inv.sim_min_max_normal(demand, mean, sd, leadtime, Max=1100,service_level=0.8, ordering_cost=100, inventory_cost=5)"
   ]
  },
  {
   "cell_type": "code",
   "execution_count": 13,
   "metadata": {},
   "outputs": [],
   "source": [
    "pine_periodic = inv.Periodic_review_normal(demand, mean, sd, leadtime, service_level=0.8, ordering_cost=100, inventory_cost=5, Review_period=7)"
   ]
  },
  {
   "cell_type": "code",
   "execution_count": 14,
   "metadata": {},
   "outputs": [],
   "source": [
    "pine_hibrid = inv.Hibrid_normal(demand, mean, sd, leadtime, Min=20, service_level=0.8, ordering_cost=100, inventory_cost=5, Review_period=7)"
   ]
  },
  {
   "cell_type": "code",
   "execution_count": 15,
   "metadata": {},
   "outputs": [
    {
     "output_type": "execute_result",
     "data": {
      "text/plain": [
       "{'shortage_cost': 0.0,\n",
       " 'inventory_cost': 781460.0,\n",
       " 'average_inventory_level': 425.86376021798367,\n",
       " 'ordering_cost': 4600,\n",
       " 'total_lost_sales': 1914.0,\n",
       " 'Item_fill_rate': 0.9598455922460454,\n",
       " 'cycle_service_level': 0.907103825136612,\n",
       " 'saftey_stock': 47.47812501082669}"
      ]
     },
     "metadata": {},
     "execution_count": 15
    }
   ],
   "source": [
    "pine_sq[1]"
   ]
  },
  {
   "cell_type": "code",
   "execution_count": 16,
   "metadata": {},
   "outputs": [
    {
     "output_type": "execute_result",
     "data": {
      "text/plain": [
       "{'shortage_cost': 0.0,\n",
       " 'inventory_cost': 127155.0,\n",
       " 'average_inventory_level': 69.29427792915531,\n",
       " 'ordering_cost': 36600,\n",
       " 'total_lost_sales': 610.0,\n",
       " 'Item_fill_rate': 0.9872026182184366,\n",
       " 'cycle_service_level': 0.9153005464480874,\n",
       " 'saftey_stock': 47.47812501082669}"
      ]
     },
     "metadata": {},
     "execution_count": 16
    }
   ],
   "source": [
    "pine_base[1]"
   ]
  },
  {
   "cell_type": "code",
   "execution_count": 17,
   "metadata": {},
   "outputs": [
    {
     "output_type": "execute_result",
     "data": {
      "text/plain": [
       "{'shortage_cost': 0.0,\n",
       " 'inventory_cost': 156895.0,\n",
       " 'average_inventory_level': 85.50136239782016,\n",
       " 'ordering_cost': 20700,\n",
       " 'total_lost_sales': 3078.0,\n",
       " 'Item_fill_rate': 0.935425670289095,\n",
       " 'cycle_service_level': 0.7595628415300546,\n",
       " 'saftey_stock': 47.47812501082669}"
      ]
     },
     "metadata": {},
     "execution_count": 17
    }
   ],
   "source": [
    "pine_minmax[1]"
   ]
  },
  {
   "cell_type": "code",
   "execution_count": 18,
   "metadata": {},
   "outputs": [
    {
     "output_type": "execute_result",
     "data": {
      "text/plain": [
       "{'shortage_cost': 0.0,\n",
       " 'inventory_cost': 894025.0,\n",
       " 'average_inventory_level': 487.20708446866485,\n",
       " 'ordering_cost': 5200,\n",
       " 'total_lost_sales': 253.0,\n",
       " 'Item_fill_rate': 0.9946922334578105,\n",
       " 'cycle_service_level': 0.9836065573770492,\n",
       " 'saftey_stock': 67.14420830635635}"
      ]
     },
     "metadata": {},
     "execution_count": 18
    }
   ],
   "source": [
    "pine_periodic[1]"
   ]
  },
  {
   "cell_type": "code",
   "execution_count": 19,
   "metadata": {},
   "outputs": [
    {
     "output_type": "execute_result",
     "data": {
      "text/plain": [
       "{'shortage_cost': 0.0,\n",
       " 'inventory_cost': 894025.0,\n",
       " 'average_inventory_level': 487.20708446866485,\n",
       " 'ordering_cost': 5200,\n",
       " 'total_lost_sales': 253.0,\n",
       " 'Item_fill_rate': 0.9946922334578105,\n",
       " 'cycle_service_level': 0.9836065573770492,\n",
       " 'saftey_stock': 67.14420830635635}"
      ]
     },
     "metadata": {},
     "execution_count": 19
    }
   ],
   "source": [
    "pine_hibrid[1]"
   ]
  }
 ]
}