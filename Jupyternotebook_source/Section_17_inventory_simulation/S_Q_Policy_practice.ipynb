{
 "metadata": {
  "language_info": {
   "codemirror_mode": {
    "name": "ipython",
    "version": 3
   },
   "file_extension": ".py",
   "mimetype": "text/x-python",
   "name": "python",
   "nbconvert_exporter": "python",
   "pygments_lexer": "ipython3",
   "version": "3.7.9"
  },
  "orig_nbformat": 4,
  "kernelspec": {
   "name": "python3",
   "display_name": "Python 3.7.9 64-bit ('env': venv)"
  },
  "interpreter": {
   "hash": "272a83b994da64918daf8b774315e72334003c8696cc4358695b72acf32d7fce"
  }
 },
 "nbformat": 4,
 "nbformat_minor": 2,
 "cells": [
  {
   "cell_type": "code",
   "execution_count": 1,
   "metadata": {},
   "outputs": [],
   "source": [
    "import pandas as pd"
   ]
  },
  {
   "cell_type": "code",
   "execution_count": 40,
   "metadata": {},
   "outputs": [
    {
     "output_type": "stream",
     "name": "stdout",
     "text": [
      "/Users/dang/Desktop/Learning/Mygit/datascience_supplychain_practice/Jupyternotebook_source/Section_17_inventory_simulation\n"
     ]
    }
   ],
   "source": [
    "import inventorize as inv \n",
    "import numpy as np \n",
    "import os \n",
    "path = os.getcwd()\n",
    "print(path)"
   ]
  },
  {
   "cell_type": "code",
   "execution_count": 4,
   "metadata": {},
   "outputs": [],
   "source": [
    "skus = pd.read_csv(\"{0}/sku_distributions.csv\".format(path))"
   ]
  },
  {
   "cell_type": "code",
   "execution_count": 5,
   "metadata": {},
   "outputs": [
    {
     "output_type": "stream",
     "name": "stdout",
     "text": [
      "<class 'pandas.core.frame.DataFrame'>\nRangeIndex: 333 entries, 0 to 332\nData columns (total 4 columns):\n #   Column          Non-Null Count  Dtype\n---  ------          --------------  -----\n 0   day             333 non-null    int64\n 1   grape_juice     333 non-null    int64\n 2   cantalop_juice  333 non-null    int64\n 3   apple_juice     333 non-null    int64\ndtypes: int64(4)\nmemory usage: 10.5 KB\n"
     ]
    }
   ],
   "source": [
    "skus.info()"
   ]
  },
  {
   "cell_type": "code",
   "execution_count": 28,
   "metadata": {},
   "outputs": [],
   "source": [
    "apple_juice= skus[['apple_juice']]"
   ]
  },
  {
   "cell_type": "code",
   "execution_count": 7,
   "metadata": {},
   "outputs": [],
   "source": [
    "mean_apple = apple_juice.mean()"
   ]
  },
  {
   "cell_type": "code",
   "execution_count": 8,
   "metadata": {},
   "outputs": [],
   "source": [
    "sd_apple = apple_juice.std()"
   ]
  },
  {
   "cell_type": "code",
   "execution_count": 9,
   "metadata": {},
   "outputs": [],
   "source": [
    "leadtime = 7"
   ]
  },
  {
   "cell_type": "code",
   "execution_count": 36,
   "metadata": {},
   "outputs": [],
   "source": [
    "apple_juice = np.array(apple_juice)"
   ]
  },
  {
   "cell_type": "code",
   "execution_count": 46,
   "metadata": {},
   "outputs": [],
   "source": [
    "apple_sq=inv.sim_min_Q_normal(apple_juice, mean_apple, sd_apple, leadtime=7,\n",
    "                     service_level=0.8, Quantity=100)\n"
   ]
  },
  {
   "cell_type": "code",
   "execution_count": 47,
   "metadata": {},
   "outputs": [
    {
     "output_type": "execute_result",
     "data": {
      "text/plain": [
       "[     period  demand  sales  inventory_level  inventory_position  min  order  \\\n",
       " 1         1       0    0.0            750.0               750.0  750    0.0   \n",
       " 2         2      96   96.0            654.0               754.0  750  100.0   \n",
       " 3         3      92   92.0            562.0               662.0  750    0.0   \n",
       " 4         4      84   84.0            478.0               678.0  750  100.0   \n",
       " 5         5     113  113.0            365.0               665.0  750  100.0   \n",
       " ..      ...     ...    ...              ...                 ...  ...    ...   \n",
       " 330     330      88   88.0             28.0               728.0  750  100.0   \n",
       " 331     331      77   77.0             51.0               751.0  750  100.0   \n",
       " 332     332      88   88.0             63.0               663.0  750    0.0   \n",
       " 333     333      85   85.0             78.0               678.0  750  100.0   \n",
       " 334     334      92   92.0             86.0               686.0  750  100.0   \n",
       " \n",
       "      recieved  lost_order  \n",
       " 1         0.0         0.0  \n",
       " 2         0.0         0.0  \n",
       " 3         0.0         0.0  \n",
       " 4         0.0         0.0  \n",
       " 5         0.0         0.0  \n",
       " ..        ...         ...  \n",
       " 330     100.0         0.0  \n",
       " 331     100.0         0.0  \n",
       " 332     100.0         0.0  \n",
       " 333     100.0         0.0  \n",
       " 334     100.0         0.0  \n",
       " \n",
       " [334 rows x 9 columns],\n",
       " {'shortage_cost': 0.0,\n",
       "  'inventory_cost': 0.0,\n",
       "  'average_inventory_level': 38.721556886227546,\n",
       "  'ordering_cost': 0,\n",
       "  'total_lost_sales': 1782.0,\n",
       "  'Item_fill_rate': 0.9467328271656603,\n",
       "  'cycle_service_level': 0.7417417417417418,\n",
       "  'saftey_stock': apple_juice    45.025715\n",
       "  dtype: float64}]"
      ]
     },
     "metadata": {},
     "execution_count": 47
    }
   ],
   "source": [
    "apple_sq"
   ]
  },
  {
   "cell_type": "code",
   "execution_count": 48,
   "metadata": {},
   "outputs": [],
   "source": [
    "apple_sq[0].to_csv('Apple_sq.csv')"
   ]
  },
  {
   "cell_type": "code",
   "execution_count": 50,
   "metadata": {},
   "outputs": [],
   "source": [
    "apple_sq1=inv.sim_min_Q_normal(apple_juice, mean_apple, sd_apple, leadtime=7,\n",
    "                     service_level=0.8, Quantity=100,shortage_cost=1,ordering_cost=1,inventory_cost=1)\n"
   ]
  },
  {
   "cell_type": "code",
   "execution_count": 51,
   "metadata": {},
   "outputs": [
    {
     "output_type": "execute_result",
     "data": {
      "text/plain": [
       "[     period  demand  sales  inventory_level  inventory_position  min  order  \\\n",
       " 1         1       0    0.0            750.0               750.0  750    0.0   \n",
       " 2         2      96   96.0            654.0               754.0  750  100.0   \n",
       " 3         3      92   92.0            562.0               662.0  750    0.0   \n",
       " 4         4      84   84.0            478.0               678.0  750  100.0   \n",
       " 5         5     113  113.0            365.0               665.0  750  100.0   \n",
       " ..      ...     ...    ...              ...                 ...  ...    ...   \n",
       " 330     330      88   88.0             28.0               728.0  750  100.0   \n",
       " 331     331      77   77.0             51.0               751.0  750  100.0   \n",
       " 332     332      88   88.0             63.0               663.0  750    0.0   \n",
       " 333     333      85   85.0             78.0               678.0  750  100.0   \n",
       " 334     334      92   92.0             86.0               686.0  750  100.0   \n",
       " \n",
       "      recieved  lost_order  \n",
       " 1         0.0         0.0  \n",
       " 2         0.0         0.0  \n",
       " 3         0.0         0.0  \n",
       " 4         0.0         0.0  \n",
       " 5         0.0         0.0  \n",
       " ..        ...         ...  \n",
       " 330     100.0         0.0  \n",
       " 331     100.0         0.0  \n",
       " 332     100.0         0.0  \n",
       " 333     100.0         0.0  \n",
       " 334     100.0         0.0  \n",
       " \n",
       " [334 rows x 9 columns],\n",
       " {'shortage_cost': 1782.0,\n",
       "  'inventory_cost': 12933.0,\n",
       "  'average_inventory_level': 38.721556886227546,\n",
       "  'ordering_cost': 317,\n",
       "  'total_lost_sales': 1782.0,\n",
       "  'Item_fill_rate': 0.9467328271656603,\n",
       "  'cycle_service_level': 0.7417417417417418,\n",
       "  'saftey_stock': apple_juice    45.025715\n",
       "  dtype: float64}]"
      ]
     },
     "metadata": {},
     "execution_count": 51
    }
   ],
   "source": [
    "apple_sq1"
   ]
  },
  {
   "cell_type": "code",
   "execution_count": 52,
   "metadata": {},
   "outputs": [],
   "source": [
    "apple_sq2=inv.sim_min_Q_normal(apple_juice, mean_apple, sd_apple, leadtime=7,\n",
    "                     service_level=0.9, Quantity=300,shortage_cost=1,ordering_cost=1,inventory_cost=1)\n"
   ]
  },
  {
   "cell_type": "code",
   "execution_count": 53,
   "metadata": {},
   "outputs": [
    {
     "output_type": "execute_result",
     "data": {
      "text/plain": [
       "[     period  demand  sales  inventory_level  inventory_position  min  order  \\\n",
       " 1         1       0    0.0            774.0               774.0  774    0.0   \n",
       " 2         2      96   96.0            678.0               978.0  774  300.0   \n",
       " 3         3      92   92.0            586.0               886.0  774    0.0   \n",
       " 4         4      84   84.0            502.0               802.0  774    0.0   \n",
       " 5         5     113  113.0            389.0               689.0  774    0.0   \n",
       " ..      ...     ...    ...              ...                 ...  ...    ...   \n",
       " 330     330      88   88.0             25.0               925.0  774  300.0   \n",
       " 331     331      77   77.0            248.0               848.0  774    0.0   \n",
       " 332     332      88   88.0            160.0               760.0  774    0.0   \n",
       " 333     333      85   85.0             75.0               975.0  774  300.0   \n",
       " 334     334      92   92.0            283.0               883.0  774    0.0   \n",
       " \n",
       "      recieved  lost_order  \n",
       " 1         0.0         0.0  \n",
       " 2         0.0         0.0  \n",
       " 3         0.0         0.0  \n",
       " 4         0.0         0.0  \n",
       " 5         0.0         0.0  \n",
       " ..        ...         ...  \n",
       " 330       0.0         0.0  \n",
       " 331     300.0         0.0  \n",
       " 332       0.0         0.0  \n",
       " 333       0.0         0.0  \n",
       " 334     300.0         0.0  \n",
       " \n",
       " [334 rows x 9 columns],\n",
       " {'shortage_cost': 1255.0,\n",
       "  'inventory_cost': 49809.0,\n",
       "  'average_inventory_level': 149.12874251497007,\n",
       "  'ordering_cost': 108,\n",
       "  'total_lost_sales': 1255.0,\n",
       "  'Item_fill_rate': 0.9624858013989358,\n",
       "  'cycle_service_level': 0.9159159159159159,\n",
       "  'saftey_stock': apple_juice    68.561454\n",
       "  dtype: float64}]"
      ]
     },
     "metadata": {},
     "execution_count": 53
    }
   ],
   "source": [
    "apple_sq2"
   ]
  },
  {
   "cell_type": "code",
   "execution_count": 54,
   "metadata": {},
   "outputs": [
    {
     "output_type": "execute_result",
     "data": {
      "text/plain": [
       "     day  grape_juice  cantalop_juice  apple_juice\n",
       "0      1            0              10           96\n",
       "1      2            3              10           92\n",
       "2      3            1               9           84\n",
       "3      4            2              10          113\n",
       "4      5            1              10           65\n",
       "..   ...          ...             ...          ...\n",
       "328  337            2              10           88\n",
       "329  338            0              11           77\n",
       "330  339            0              11           88\n",
       "331  340            1              10           85\n",
       "332  341            0              11           92\n",
       "\n",
       "[333 rows x 4 columns]"
      ],
      "text/html": "<div>\n<style scoped>\n    .dataframe tbody tr th:only-of-type {\n        vertical-align: middle;\n    }\n\n    .dataframe tbody tr th {\n        vertical-align: top;\n    }\n\n    .dataframe thead th {\n        text-align: right;\n    }\n</style>\n<table border=\"1\" class=\"dataframe\">\n  <thead>\n    <tr style=\"text-align: right;\">\n      <th></th>\n      <th>day</th>\n      <th>grape_juice</th>\n      <th>cantalop_juice</th>\n      <th>apple_juice</th>\n    </tr>\n  </thead>\n  <tbody>\n    <tr>\n      <th>0</th>\n      <td>1</td>\n      <td>0</td>\n      <td>10</td>\n      <td>96</td>\n    </tr>\n    <tr>\n      <th>1</th>\n      <td>2</td>\n      <td>3</td>\n      <td>10</td>\n      <td>92</td>\n    </tr>\n    <tr>\n      <th>2</th>\n      <td>3</td>\n      <td>1</td>\n      <td>9</td>\n      <td>84</td>\n    </tr>\n    <tr>\n      <th>3</th>\n      <td>4</td>\n      <td>2</td>\n      <td>10</td>\n      <td>113</td>\n    </tr>\n    <tr>\n      <th>4</th>\n      <td>5</td>\n      <td>1</td>\n      <td>10</td>\n      <td>65</td>\n    </tr>\n    <tr>\n      <th>...</th>\n      <td>...</td>\n      <td>...</td>\n      <td>...</td>\n      <td>...</td>\n    </tr>\n    <tr>\n      <th>328</th>\n      <td>337</td>\n      <td>2</td>\n      <td>10</td>\n      <td>88</td>\n    </tr>\n    <tr>\n      <th>329</th>\n      <td>338</td>\n      <td>0</td>\n      <td>11</td>\n      <td>77</td>\n    </tr>\n    <tr>\n      <th>330</th>\n      <td>339</td>\n      <td>0</td>\n      <td>11</td>\n      <td>88</td>\n    </tr>\n    <tr>\n      <th>331</th>\n      <td>340</td>\n      <td>1</td>\n      <td>10</td>\n      <td>85</td>\n    </tr>\n    <tr>\n      <th>332</th>\n      <td>341</td>\n      <td>0</td>\n      <td>11</td>\n      <td>92</td>\n    </tr>\n  </tbody>\n</table>\n<p>333 rows × 4 columns</p>\n</div>"
     },
     "metadata": {},
     "execution_count": 54
    }
   ],
   "source": [
    "skus"
   ]
  },
  {
   "cell_type": "code",
   "execution_count": 55,
   "metadata": {},
   "outputs": [],
   "source": [
    "grape_juice= inv.sim_min_max_pois(skus.grape_juice, lambda1=skus.grape_juice.mean(), \n",
    "                                  leadtime=7, service_level=0.8, Max= 30,\n",
    "                                  shortage_cost=1,ordering_cost=1,inventory_cost=1)\n"
   ]
  },
  {
   "cell_type": "code",
   "execution_count": 56,
   "metadata": {},
   "outputs": [
    {
     "output_type": "execute_result",
     "data": {
      "text/plain": [
       "[     period  demand  sales  inventory_level  inventory_position  min  order  \\\n",
       " 1         1       0    0.0             21.0                21.0   21    0.0   \n",
       " 2         2       0    0.0             21.0                30.0   21    9.0   \n",
       " 3         3       3    3.0             18.0                27.0   21    0.0   \n",
       " 4         4       1    1.0             17.0                26.0   21    0.0   \n",
       " 5         5       2    2.0             15.0                24.0   21    0.0   \n",
       " ..      ...     ...    ...              ...                 ...  ...    ...   \n",
       " 330     330       2    2.0             21.0                21.0   21    0.0   \n",
       " 331     331       0    0.0             21.0                30.0   21    9.0   \n",
       " 332     332       0    0.0             21.0                30.0   21    0.0   \n",
       " 333     333       1    1.0             20.0                29.0   21    0.0   \n",
       " 334     334       0    0.0             20.0                29.0   21    0.0   \n",
       " \n",
       "      max  recieved  lost_order  \n",
       " 1     30       0.0         0.0  \n",
       " 2     30       0.0         0.0  \n",
       " 3     30       0.0         0.0  \n",
       " 4     30       0.0         0.0  \n",
       " 5     30       0.0         0.0  \n",
       " ..   ...       ...         ...  \n",
       " 330   30      11.0         0.0  \n",
       " 331   30       0.0         0.0  \n",
       " 332   30       0.0         0.0  \n",
       " 333   30       0.0         0.0  \n",
       " 334   30       0.0         0.0  \n",
       " \n",
       " [334 rows x 10 columns],\n",
       " {'shortage_cost': 7.0,\n",
       "  'inventory_cost': 3603.0,\n",
       "  'average_inventory_level': 10.7874251497006,\n",
       "  'ordering_cost': 65,\n",
       "  'total_lost_sales': 7.0,\n",
       "  'Item_fill_rate': 0.989329268292683,\n",
       "  'cycle_service_level': 0.993993993993994,\n",
       "  'saftey_stock': 7.21021021021021}]"
      ]
     },
     "metadata": {},
     "execution_count": 56
    }
   ],
   "source": [
    "grape_juice"
   ]
  },
  {
   "cell_type": "code",
   "execution_count": 57,
   "metadata": {},
   "outputs": [],
   "source": [
    "grape_juice[0].to_csv('grape_juice.csv')"
   ]
  },
  {
   "cell_type": "code",
   "execution_count": 58,
   "metadata": {},
   "outputs": [],
   "source": [
    "cantalop_juice = skus[['cantalop_juice']]\n",
    "cantalop=inv.Periodic_review_pois(cantalop_juice, lambda1= cantalop_juice.mean(),\n",
    "                         leadtime=7, service_level=0.9, Review_period=3,ordering_cost=1,\n",
    "                         inventory_cost=1,shortage_cost=1)\n"
   ]
  },
  {
   "cell_type": "code",
   "execution_count": 60,
   "metadata": {},
   "outputs": [
    {
     "output_type": "execute_result",
     "data": {
      "text/plain": [
       "[     period  demand  sales  inventory_level  inventory_position  order  max  \\\n",
       " 1         1       0    0.0            140.0               140.0    0.0  140   \n",
       " 2         2      10   10.0            130.0               130.0    0.0  140   \n",
       " 3         3      10   10.0            120.0               120.0    0.0  140   \n",
       " 4         4       9    9.0            111.0               131.0   20.0  140   \n",
       " 5         5      10   10.0            101.0               121.0    0.0  140   \n",
       " ..      ...     ...    ...              ...                 ...    ...  ...   \n",
       " 330     330      10   10.0             55.0               110.0    0.0  140   \n",
       " 331     331      11   11.0             44.0               129.0   30.0  140   \n",
       " 332     332      11   11.0             62.0               118.0    0.0  140   \n",
       " 333     333      10   10.0             52.0               108.0    0.0  140   \n",
       " 334     334      11   11.0             41.0               129.0   32.0  140   \n",
       " \n",
       "      recieved  lost_order  \n",
       " 1         0.0         0.0  \n",
       " 2         0.0         0.0  \n",
       " 3         0.0         0.0  \n",
       " 4         0.0         0.0  \n",
       " 5         0.0         0.0  \n",
       " ..        ...         ...  \n",
       " 330       0.0         0.0  \n",
       " 331       0.0         0.0  \n",
       " 332      29.0         0.0  \n",
       " 333       0.0         0.0  \n",
       " 334       0.0         0.0  \n",
       " \n",
       " [334 rows x 9 columns],\n",
       " {'shortage_cost': 0.0,\n",
       "  'inventory_cost': 17907.0,\n",
       "  'average_inventory_level': 53.61377245508982,\n",
       "  'ordering_cost': 111,\n",
       "  'total_lost_sales': 0.0,\n",
       "  'Item_fill_rate': 1.0,\n",
       "  'cycle_service_level': 1.0,\n",
       "  'saftey_stock': cantalop_juice    71.744745\n",
       "  dtype: float64}]"
      ]
     },
     "metadata": {},
     "execution_count": 60
    }
   ],
   "source": [
    "cantalop"
   ]
  },
  {
   "cell_type": "code",
   "execution_count": 61,
   "metadata": {},
   "outputs": [],
   "source": [
    "cantalop_hybrid= inv.Hibrid_pois(cantalop_juice, lambda1= cantalop_juice.mean(),leadtime=7,\n",
    " service_level=0.9, Review_period=3,\n",
    "                         inventory_cost=1,shortage_cost=1,Min=120, ordering_cost=1\n",
    "                         )"
   ]
  },
  {
   "cell_type": "code",
   "execution_count": 63,
   "metadata": {},
   "outputs": [],
   "source": [
    "cantalop_hybrid[0].to_csv('cantalop_hybrid.csv')"
   ]
  },
  {
   "cell_type": "code",
   "execution_count": 64,
   "metadata": {},
   "outputs": [],
   "source": [
    "### base policy"
   ]
  },
  {
   "cell_type": "code",
   "execution_count": 65,
   "metadata": {},
   "outputs": [],
   "source": [
    "apple_sq = inv.sim_min_Q_normal(\n",
    "    apple_juice,\n",
    "    mean_apple,\n",
    "    sd_apple,\n",
    "    leadtime,\n",
    "    service_level=0.8,\n",
    "    Quantity=400,\n",
    "    shortage_cost=1,\n",
    "    ordering_cost=1,\n",
    "    inventory_cost=1\n",
    ")"
   ]
  },
  {
   "cell_type": "code",
   "execution_count": 66,
   "metadata": {},
   "outputs": [
    {
     "output_type": "execute_result",
     "data": {
      "text/plain": [
       "[     period  demand  sales  inventory_level  inventory_position  min  order  \\\n",
       " 1         1       0    0.0            750.0               750.0  750    0.0   \n",
       " 2         2      96   96.0            654.0              1054.0  750  400.0   \n",
       " 3         3      92   92.0            562.0               962.0  750    0.0   \n",
       " 4         4      84   84.0            478.0               878.0  750    0.0   \n",
       " 5         5     113  113.0            365.0               765.0  750    0.0   \n",
       " ..      ...     ...    ...              ...                 ...  ...    ...   \n",
       " 330     330      88   88.0            125.0               925.0  750    0.0   \n",
       " 331     331      77   77.0             48.0               848.0  750    0.0   \n",
       " 332     332      88   88.0            360.0               760.0  750    0.0   \n",
       " 333     333      85   85.0            275.0               675.0  750    0.0   \n",
       " 334     334      92   92.0            183.0               983.0  750  400.0   \n",
       " \n",
       "      recieved  lost_order  \n",
       " 1         0.0         0.0  \n",
       " 2         0.0         0.0  \n",
       " 3         0.0         0.0  \n",
       " 4         0.0         0.0  \n",
       " 5         0.0         0.0  \n",
       " ..        ...         ...  \n",
       " 330       0.0         0.0  \n",
       " 331       0.0         0.0  \n",
       " 332     400.0         0.0  \n",
       " 333       0.0         0.0  \n",
       " 334       0.0         0.0  \n",
       " \n",
       " [334 rows x 9 columns],\n",
       " {'shortage_cost': 1379.0,\n",
       "  'inventory_cost': 59428.0,\n",
       "  'average_inventory_level': 177.92814371257484,\n",
       "  'ordering_cost': 81,\n",
       "  'total_lost_sales': 1379.0,\n",
       "  'Item_fill_rate': 0.9587792192264004,\n",
       "  'cycle_service_level': 0.8918918918918919,\n",
       "  'saftey_stock': apple_juice    45.025715\n",
       "  dtype: float64}]"
      ]
     },
     "metadata": {},
     "execution_count": 66
    }
   ],
   "source": [
    "apple_sq"
   ]
  },
  {
   "cell_type": "code",
   "execution_count": null,
   "metadata": {},
   "outputs": [],
   "source": []
  }
 ]
}