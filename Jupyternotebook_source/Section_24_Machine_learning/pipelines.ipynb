{
 "cells": [
  {
   "cell_type": "code",
   "execution_count": 1,
   "source": [
    "### pipelines"
   ],
   "outputs": [],
   "metadata": {}
  },
  {
   "cell_type": "code",
   "execution_count": 2,
   "source": [
    "from sklearn.pipeline import Pipeline\n",
    "from sklearn.preprocessing import StandardScaler\n",
    "from sklearn.impute import SimpleImputer\n",
    "from sklearn.linear_model import LogisticRegression\n",
    "from sklearn.ensemble import RandomForestClassifier\n",
    "from sklearn.svm import SVC\n",
    "from sklearn.neighbors import KNeighborsClassifier\n",
    "from sklearn.model_selection import GridSearchCV\n",
    "from sklearn.metrics import roc_auc_score\n",
    "from sklearn.model_selection import train_test_split"
   ],
   "outputs": [],
   "metadata": {}
  },
  {
   "cell_type": "code",
   "execution_count": 3,
   "source": [
    "import pandas as pd\n",
    "import numpy as np\n",
    "import os \n",
    "path = os.getcwd()\n",
    "print(path)"
   ],
   "outputs": [
    {
     "output_type": "stream",
     "name": "stdout",
     "text": [
      "/Users/dang/Desktop/Learning/Mygit/datascience_supplychain_practice/Jupyternotebook_source/Section_24_Machine_learning\n"
     ]
    }
   ],
   "metadata": {}
  },
  {
   "cell_type": "code",
   "execution_count": 4,
   "source": [
    "banking = pd.read_csv('bank-full.csv')"
   ],
   "outputs": [],
   "metadata": {}
  },
  {
   "cell_type": "code",
   "execution_count": 5,
   "source": [
    "dict_target = {'yes':1, 'no': 0}"
   ],
   "outputs": [],
   "metadata": {}
  },
  {
   "cell_type": "code",
   "execution_count": 6,
   "source": [
    "banking['target'] = banking['y'].map(dict_target)"
   ],
   "outputs": [],
   "metadata": {}
  },
  {
   "cell_type": "code",
   "execution_count": 7,
   "source": [
    "banking = banking.drop('y', axis=1)"
   ],
   "outputs": [],
   "metadata": {}
  },
  {
   "cell_type": "code",
   "execution_count": 8,
   "source": [
    "y  = banking['target'].values"
   ],
   "outputs": [],
   "metadata": {}
  },
  {
   "cell_type": "code",
   "execution_count": 9,
   "source": [
    "X_ = banking.drop('target', axis=1)\n",
    "X = pd.get_dummies(X_).values"
   ],
   "outputs": [],
   "metadata": {}
  },
  {
   "cell_type": "code",
   "execution_count": 10,
   "source": [
    "X_train, X_test, y_train, y_test = train_test_split(X, y, test_size=0.2, random_state=12)"
   ],
   "outputs": [],
   "metadata": {}
  },
  {
   "cell_type": "code",
   "execution_count": 11,
   "source": [
    "p_lr = Pipeline([('Imputing', SimpleImputer(missing_values=np.nan, strategy='mean')),\n",
    "('scaling', StandardScaler()),\n",
    "('logistic', LogisticRegression())\n",
    "])"
   ],
   "outputs": [],
   "metadata": {}
  },
  {
   "cell_type": "code",
   "execution_count": 14,
   "source": [
    "p_rf = Pipeline([('Imputing', SimpleImputer(missing_values = np.nan, strategy='mean')),\n",
    "('scaling', StandardScaler()),\n",
    "('rf', RandomForestClassifier())\n",
    "])"
   ],
   "outputs": [],
   "metadata": {}
  },
  {
   "cell_type": "code",
   "execution_count": 15,
   "source": [
    "p_svc = Pipeline([('Imputing', SimpleImputer(missing_values=np.nan, strategy='mean')),\n",
    "('scaling', StandardScaler()),\n",
    "('SVC', SVC())\n",
    "])"
   ],
   "outputs": [],
   "metadata": {}
  },
  {
   "cell_type": "code",
   "execution_count": 17,
   "source": [
    "p_KNN = Pipeline([('Imputing', SimpleImputer(missing_values=np.nan, strategy='mean')),\n",
    "('scaling', StandardScaler()),\n",
    "('knn', KNeighborsClassifier())\n",
    "])"
   ],
   "outputs": [],
   "metadata": {}
  },
  {
   "cell_type": "code",
   "execution_count": 18,
   "source": [
    "p_KNN"
   ],
   "outputs": [
    {
     "output_type": "execute_result",
     "data": {
      "text/plain": [
       "Pipeline(steps=[('Imputing', SimpleImputer()), ('scaling', StandardScaler()),\n",
       "                ('knn', KNeighborsClassifier())])"
      ]
     },
     "metadata": {},
     "execution_count": 18
    }
   ],
   "metadata": {}
  },
  {
   "cell_type": "code",
   "execution_count": 19,
   "source": [
    "param_range = [1,2,3,4,5,6,7,8,9,10]\n",
    "lr_range = np.logspace(-5,5,15)"
   ],
   "outputs": [],
   "metadata": {}
  },
  {
   "cell_type": "code",
   "execution_count": 20,
   "source": [
    "grid_logistic = [{'logistic__penalty': ['l1', 'l2'],\n",
    "'logistic__C': lr_range,\n",
    "'logistic__solver': ['liblinear']\n",
    "}]"
   ],
   "outputs": [],
   "metadata": {}
  },
  {
   "cell_type": "code",
   "execution_count": 21,
   "source": [
    "grid_rf = [{'rf_criterion': ['gini', 'entropy'],\n",
    "'rf__min_samples_leaf': param_range\n",
    "}]"
   ],
   "outputs": [],
   "metadata": {}
  },
  {
   "cell_type": "code",
   "execution_count": 22,
   "source": [
    "grid_svc = [{'SVC__kernel': ['linear', 'rbf'],\n",
    "'SVC__C': param_range\n",
    "}]"
   ],
   "outputs": [],
   "metadata": {}
  },
  {
   "cell_type": "code",
   "execution_count": 23,
   "source": [
    "grid_knn = [{'knn__n_neighbors': param_range}]"
   ],
   "outputs": [],
   "metadata": {}
  },
  {
   "cell_type": "code",
   "execution_count": 24,
   "source": [
    "pipes = [p_lr, p_KNN]"
   ],
   "outputs": [],
   "metadata": {}
  },
  {
   "cell_type": "code",
   "execution_count": 25,
   "source": [
    "grids = [grid_logistic, grid_knn]"
   ],
   "outputs": [],
   "metadata": {}
  },
  {
   "cell_type": "code",
   "execution_count": 26,
   "source": [
    "fitted_prams = []\n",
    "fitted_score = []\n",
    "fitted_roc = []\n",
    "n_jobs = -1"
   ],
   "outputs": [],
   "metadata": {}
  },
  {
   "cell_type": "code",
   "execution_count": 27,
   "source": [
    "for i in range(0,2):\n",
    "    model = GridSearchCV(pipes[i], grids[i], cv=3, scoring='accuracy', verbose=10)\n",
    "    model.fit(X_train, y_train)\n",
    "    y_pred_prob = model.predict_proba(X_test)[:,1]\n",
    "    roc = roc_auc_score(y_test, y_pred_prob)\n",
    "    fitted_prams.append(model.best_params_)\n",
    "    fitted_score.append(model.best_score_)\n",
    "    fitted_roc.append(roc)"
   ],
   "outputs": [
    {
     "output_type": "stream",
     "name": "stdout",
     "text": [
      "Fitting 3 folds for each of 30 candidates, totalling 90 fits\n",
      "[CV 1/3; 1/30] START logistic__C=1e-05, logistic__penalty=l1, logistic__solver=liblinear\n",
      "[CV 1/3; 1/30] END logistic__C=1e-05, logistic__penalty=l1, logistic__solver=liblinear;, score=0.883 total time=   0.2s\n",
      "[CV 2/3; 1/30] START logistic__C=1e-05, logistic__penalty=l1, logistic__solver=liblinear\n",
      "[CV 2/3; 1/30] END logistic__C=1e-05, logistic__penalty=l1, logistic__solver=liblinear;, score=0.883 total time=   0.1s\n",
      "[CV 3/3; 1/30] START logistic__C=1e-05, logistic__penalty=l1, logistic__solver=liblinear\n",
      "[CV 3/3; 1/30] END logistic__C=1e-05, logistic__penalty=l1, logistic__solver=liblinear;, score=0.883 total time=   0.1s\n",
      "[CV 1/3; 2/30] START logistic__C=1e-05, logistic__penalty=l2, logistic__solver=liblinear\n",
      "[CV 1/3; 2/30] END logistic__C=1e-05, logistic__penalty=l2, logistic__solver=liblinear;, score=0.886 total time=   0.2s\n",
      "[CV 2/3; 2/30] START logistic__C=1e-05, logistic__penalty=l2, logistic__solver=liblinear\n",
      "[CV 2/3; 2/30] END logistic__C=1e-05, logistic__penalty=l2, logistic__solver=liblinear;, score=0.886 total time=   0.1s\n",
      "[CV 3/3; 2/30] START logistic__C=1e-05, logistic__penalty=l2, logistic__solver=liblinear\n",
      "[CV 3/3; 2/30] END logistic__C=1e-05, logistic__penalty=l2, logistic__solver=liblinear;, score=0.888 total time=   0.2s\n",
      "[CV 1/3; 3/30] START logistic__C=5.1794746792312125e-05, logistic__penalty=l1, logistic__solver=liblinear\n",
      "[CV 1/3; 3/30] END logistic__C=5.1794746792312125e-05, logistic__penalty=l1, logistic__solver=liblinear;, score=0.883 total time=   0.1s\n",
      "[CV 2/3; 3/30] START logistic__C=5.1794746792312125e-05, logistic__penalty=l1, logistic__solver=liblinear\n",
      "[CV 2/3; 3/30] END logistic__C=5.1794746792312125e-05, logistic__penalty=l1, logistic__solver=liblinear;, score=0.883 total time=   0.1s\n",
      "[CV 3/3; 3/30] START logistic__C=5.1794746792312125e-05, logistic__penalty=l1, logistic__solver=liblinear\n",
      "[CV 3/3; 3/30] END logistic__C=5.1794746792312125e-05, logistic__penalty=l1, logistic__solver=liblinear;, score=0.883 total time=   0.1s\n",
      "[CV 1/3; 4/30] START logistic__C=5.1794746792312125e-05, logistic__penalty=l2, logistic__solver=liblinear\n",
      "[CV 1/3; 4/30] END logistic__C=5.1794746792312125e-05, logistic__penalty=l2, logistic__solver=liblinear;, score=0.897 total time=   0.2s\n",
      "[CV 2/3; 4/30] START logistic__C=5.1794746792312125e-05, logistic__penalty=l2, logistic__solver=liblinear\n",
      "[CV 2/3; 4/30] END logistic__C=5.1794746792312125e-05, logistic__penalty=l2, logistic__solver=liblinear;, score=0.895 total time=   0.2s\n",
      "[CV 3/3; 4/30] START logistic__C=5.1794746792312125e-05, logistic__penalty=l2, logistic__solver=liblinear\n",
      "[CV 3/3; 4/30] END logistic__C=5.1794746792312125e-05, logistic__penalty=l2, logistic__solver=liblinear;, score=0.895 total time=   0.2s\n",
      "[CV 1/3; 5/30] START logistic__C=0.0002682695795279727, logistic__penalty=l1, logistic__solver=liblinear\n",
      "[CV 1/3; 5/30] END logistic__C=0.0002682695795279727, logistic__penalty=l1, logistic__solver=liblinear;, score=0.883 total time=   0.2s\n",
      "[CV 2/3; 5/30] START logistic__C=0.0002682695795279727, logistic__penalty=l1, logistic__solver=liblinear\n",
      "[CV 2/3; 5/30] END logistic__C=0.0002682695795279727, logistic__penalty=l1, logistic__solver=liblinear;, score=0.883 total time=   0.1s\n",
      "[CV 3/3; 5/30] START logistic__C=0.0002682695795279727, logistic__penalty=l1, logistic__solver=liblinear\n",
      "[CV 3/3; 5/30] END logistic__C=0.0002682695795279727, logistic__penalty=l1, logistic__solver=liblinear;, score=0.883 total time=   0.1s\n",
      "[CV 1/3; 6/30] START logistic__C=0.0002682695795279727, logistic__penalty=l2, logistic__solver=liblinear\n",
      "[CV 1/3; 6/30] END logistic__C=0.0002682695795279727, logistic__penalty=l2, logistic__solver=liblinear;, score=0.904 total time=   0.2s\n",
      "[CV 2/3; 6/30] START logistic__C=0.0002682695795279727, logistic__penalty=l2, logistic__solver=liblinear\n",
      "[CV 2/3; 6/30] END logistic__C=0.0002682695795279727, logistic__penalty=l2, logistic__solver=liblinear;, score=0.898 total time=   0.2s\n",
      "[CV 3/3; 6/30] START logistic__C=0.0002682695795279727, logistic__penalty=l2, logistic__solver=liblinear\n",
      "[CV 3/3; 6/30] END logistic__C=0.0002682695795279727, logistic__penalty=l2, logistic__solver=liblinear;, score=0.899 total time=   0.2s\n",
      "[CV 1/3; 7/30] START logistic__C=0.0013894954943731374, logistic__penalty=l1, logistic__solver=liblinear\n",
      "[CV 1/3; 7/30] END logistic__C=0.0013894954943731374, logistic__penalty=l1, logistic__solver=liblinear;, score=0.897 total time=   0.1s\n",
      "[CV 2/3; 7/30] START logistic__C=0.0013894954943731374, logistic__penalty=l1, logistic__solver=liblinear\n",
      "[CV 2/3; 7/30] END logistic__C=0.0013894954943731374, logistic__penalty=l1, logistic__solver=liblinear;, score=0.895 total time=   0.1s\n",
      "[CV 3/3; 7/30] START logistic__C=0.0013894954943731374, logistic__penalty=l1, logistic__solver=liblinear\n",
      "[CV 3/3; 7/30] END logistic__C=0.0013894954943731374, logistic__penalty=l1, logistic__solver=liblinear;, score=0.895 total time=   0.1s\n",
      "[CV 1/3; 8/30] START logistic__C=0.0013894954943731374, logistic__penalty=l2, logistic__solver=liblinear\n",
      "[CV 1/3; 8/30] END logistic__C=0.0013894954943731374, logistic__penalty=l2, logistic__solver=liblinear;, score=0.904 total time=   0.2s\n",
      "[CV 2/3; 8/30] START logistic__C=0.0013894954943731374, logistic__penalty=l2, logistic__solver=liblinear\n",
      "[CV 2/3; 8/30] END logistic__C=0.0013894954943731374, logistic__penalty=l2, logistic__solver=liblinear;, score=0.899 total time=   0.2s\n",
      "[CV 3/3; 8/30] START logistic__C=0.0013894954943731374, logistic__penalty=l2, logistic__solver=liblinear\n",
      "[CV 3/3; 8/30] END logistic__C=0.0013894954943731374, logistic__penalty=l2, logistic__solver=liblinear;, score=0.900 total time=   0.3s\n",
      "[CV 1/3; 9/30] START logistic__C=0.0071968567300115215, logistic__penalty=l1, logistic__solver=liblinear\n",
      "[CV 1/3; 9/30] END logistic__C=0.0071968567300115215, logistic__penalty=l1, logistic__solver=liblinear;, score=0.904 total time=   0.2s\n",
      "[CV 2/3; 9/30] START logistic__C=0.0071968567300115215, logistic__penalty=l1, logistic__solver=liblinear\n",
      "[CV 2/3; 9/30] END logistic__C=0.0071968567300115215, logistic__penalty=l1, logistic__solver=liblinear;, score=0.898 total time=   0.3s\n",
      "[CV 3/3; 9/30] START logistic__C=0.0071968567300115215, logistic__penalty=l1, logistic__solver=liblinear\n",
      "[CV 3/3; 9/30] END logistic__C=0.0071968567300115215, logistic__penalty=l1, logistic__solver=liblinear;, score=0.901 total time=   0.2s\n",
      "[CV 1/3; 10/30] START logistic__C=0.0071968567300115215, logistic__penalty=l2, logistic__solver=liblinear\n",
      "[CV 1/3; 10/30] END logistic__C=0.0071968567300115215, logistic__penalty=l2, logistic__solver=liblinear;, score=0.904 total time=   0.3s\n",
      "[CV 2/3; 10/30] START logistic__C=0.0071968567300115215, logistic__penalty=l2, logistic__solver=liblinear\n",
      "[CV 2/3; 10/30] END logistic__C=0.0071968567300115215, logistic__penalty=l2, logistic__solver=liblinear;, score=0.898 total time=   0.3s\n",
      "[CV 3/3; 10/30] START logistic__C=0.0071968567300115215, logistic__penalty=l2, logistic__solver=liblinear\n",
      "[CV 3/3; 10/30] END logistic__C=0.0071968567300115215, logistic__penalty=l2, logistic__solver=liblinear;, score=0.900 total time=   0.3s\n",
      "[CV 1/3; 11/30] START logistic__C=0.037275937203149416, logistic__penalty=l1, logistic__solver=liblinear\n",
      "[CV 1/3; 11/30] END logistic__C=0.037275937203149416, logistic__penalty=l1, logistic__solver=liblinear;, score=0.905 total time=   0.3s\n",
      "[CV 2/3; 11/30] START logistic__C=0.037275937203149416, logistic__penalty=l1, logistic__solver=liblinear\n",
      "[CV 2/3; 11/30] END logistic__C=0.037275937203149416, logistic__penalty=l1, logistic__solver=liblinear;, score=0.898 total time=   0.4s\n",
      "[CV 3/3; 11/30] START logistic__C=0.037275937203149416, logistic__penalty=l1, logistic__solver=liblinear\n",
      "[CV 3/3; 11/30] END logistic__C=0.037275937203149416, logistic__penalty=l1, logistic__solver=liblinear;, score=0.899 total time=   0.3s\n",
      "[CV 1/3; 12/30] START logistic__C=0.037275937203149416, logistic__penalty=l2, logistic__solver=liblinear\n",
      "[CV 1/3; 12/30] END logistic__C=0.037275937203149416, logistic__penalty=l2, logistic__solver=liblinear;, score=0.905 total time=   0.3s\n",
      "[CV 2/3; 12/30] START logistic__C=0.037275937203149416, logistic__penalty=l2, logistic__solver=liblinear\n",
      "[CV 2/3; 12/30] END logistic__C=0.037275937203149416, logistic__penalty=l2, logistic__solver=liblinear;, score=0.898 total time=   0.3s\n",
      "[CV 3/3; 12/30] START logistic__C=0.037275937203149416, logistic__penalty=l2, logistic__solver=liblinear\n",
      "[CV 3/3; 12/30] END logistic__C=0.037275937203149416, logistic__penalty=l2, logistic__solver=liblinear;, score=0.900 total time=   0.4s\n",
      "[CV 1/3; 13/30] START logistic__C=0.19306977288832497, logistic__penalty=l1, logistic__solver=liblinear\n",
      "[CV 1/3; 13/30] END logistic__C=0.19306977288832497, logistic__penalty=l1, logistic__solver=liblinear;, score=0.905 total time=   0.6s\n",
      "[CV 2/3; 13/30] START logistic__C=0.19306977288832497, logistic__penalty=l1, logistic__solver=liblinear\n",
      "[CV 2/3; 13/30] END logistic__C=0.19306977288832497, logistic__penalty=l1, logistic__solver=liblinear;, score=0.898 total time=   0.8s\n",
      "[CV 3/3; 13/30] START logistic__C=0.19306977288832497, logistic__penalty=l1, logistic__solver=liblinear\n",
      "[CV 3/3; 13/30] END logistic__C=0.19306977288832497, logistic__penalty=l1, logistic__solver=liblinear;, score=0.900 total time=   0.8s\n",
      "[CV 1/3; 14/30] START logistic__C=0.19306977288832497, logistic__penalty=l2, logistic__solver=liblinear\n",
      "[CV 1/3; 14/30] END logistic__C=0.19306977288832497, logistic__penalty=l2, logistic__solver=liblinear;, score=0.905 total time=   0.4s\n",
      "[CV 2/3; 14/30] START logistic__C=0.19306977288832497, logistic__penalty=l2, logistic__solver=liblinear\n",
      "[CV 2/3; 14/30] END logistic__C=0.19306977288832497, logistic__penalty=l2, logistic__solver=liblinear;, score=0.898 total time=   0.3s\n",
      "[CV 3/3; 14/30] START logistic__C=0.19306977288832497, logistic__penalty=l2, logistic__solver=liblinear\n",
      "[CV 3/3; 14/30] END logistic__C=0.19306977288832497, logistic__penalty=l2, logistic__solver=liblinear;, score=0.900 total time=   0.4s\n",
      "[CV 1/3; 15/30] START logistic__C=1.0, logistic__penalty=l1, logistic__solver=liblinear\n",
      "[CV 1/3; 15/30] END logistic__C=1.0, logistic__penalty=l1, logistic__solver=liblinear;, score=0.905 total time=   2.3s\n",
      "[CV 2/3; 15/30] START logistic__C=1.0, logistic__penalty=l1, logistic__solver=liblinear\n",
      "[CV 2/3; 15/30] END logistic__C=1.0, logistic__penalty=l1, logistic__solver=liblinear;, score=0.898 total time=   5.8s\n",
      "[CV 3/3; 15/30] START logistic__C=1.0, logistic__penalty=l1, logistic__solver=liblinear\n",
      "[CV 3/3; 15/30] END logistic__C=1.0, logistic__penalty=l1, logistic__solver=liblinear;, score=0.899 total time=   5.7s\n",
      "[CV 1/3; 16/30] START logistic__C=1.0, logistic__penalty=l2, logistic__solver=liblinear\n",
      "[CV 1/3; 16/30] END logistic__C=1.0, logistic__penalty=l2, logistic__solver=liblinear;, score=0.905 total time=   0.3s\n",
      "[CV 2/3; 16/30] START logistic__C=1.0, logistic__penalty=l2, logistic__solver=liblinear\n",
      "[CV 2/3; 16/30] END logistic__C=1.0, logistic__penalty=l2, logistic__solver=liblinear;, score=0.898 total time=   0.3s\n",
      "[CV 3/3; 16/30] START logistic__C=1.0, logistic__penalty=l2, logistic__solver=liblinear\n",
      "[CV 3/3; 16/30] END logistic__C=1.0, logistic__penalty=l2, logistic__solver=liblinear;, score=0.900 total time=   0.4s\n",
      "[CV 1/3; 17/30] START logistic__C=5.1794746792312125, logistic__penalty=l1, logistic__solver=liblinear\n",
      "[CV 1/3; 17/30] END logistic__C=5.1794746792312125, logistic__penalty=l1, logistic__solver=liblinear;, score=0.905 total time=   8.1s\n",
      "[CV 2/3; 17/30] START logistic__C=5.1794746792312125, logistic__penalty=l1, logistic__solver=liblinear\n",
      "[CV 2/3; 17/30] END logistic__C=5.1794746792312125, logistic__penalty=l1, logistic__solver=liblinear;, score=0.898 total time=   3.5s\n",
      "[CV 3/3; 17/30] START logistic__C=5.1794746792312125, logistic__penalty=l1, logistic__solver=liblinear\n",
      "[CV 3/3; 17/30] END logistic__C=5.1794746792312125, logistic__penalty=l1, logistic__solver=liblinear;, score=0.900 total time=   5.3s\n",
      "[CV 1/3; 18/30] START logistic__C=5.1794746792312125, logistic__penalty=l2, logistic__solver=liblinear\n",
      "[CV 1/3; 18/30] END logistic__C=5.1794746792312125, logistic__penalty=l2, logistic__solver=liblinear;, score=0.905 total time=   0.3s\n",
      "[CV 2/3; 18/30] START logistic__C=5.1794746792312125, logistic__penalty=l2, logistic__solver=liblinear\n",
      "[CV 2/3; 18/30] END logistic__C=5.1794746792312125, logistic__penalty=l2, logistic__solver=liblinear;, score=0.898 total time=   0.3s\n",
      "[CV 3/3; 18/30] START logistic__C=5.1794746792312125, logistic__penalty=l2, logistic__solver=liblinear\n",
      "[CV 3/3; 18/30] END logistic__C=5.1794746792312125, logistic__penalty=l2, logistic__solver=liblinear;, score=0.900 total time=   0.3s\n",
      "[CV 1/3; 19/30] START logistic__C=26.826957952797272, logistic__penalty=l1, logistic__solver=liblinear\n",
      "[CV 1/3; 19/30] END logistic__C=26.826957952797272, logistic__penalty=l1, logistic__solver=liblinear;, score=0.905 total time=   2.1s\n",
      "[CV 2/3; 19/30] START logistic__C=26.826957952797272, logistic__penalty=l1, logistic__solver=liblinear\n",
      "[CV 2/3; 19/30] END logistic__C=26.826957952797272, logistic__penalty=l1, logistic__solver=liblinear;, score=0.898 total time=   0.3s\n",
      "[CV 3/3; 19/30] START logistic__C=26.826957952797272, logistic__penalty=l1, logistic__solver=liblinear\n",
      "[CV 3/3; 19/30] END logistic__C=26.826957952797272, logistic__penalty=l1, logistic__solver=liblinear;, score=0.900 total time=   1.6s\n",
      "[CV 1/3; 20/30] START logistic__C=26.826957952797272, logistic__penalty=l2, logistic__solver=liblinear\n",
      "[CV 1/3; 20/30] END logistic__C=26.826957952797272, logistic__penalty=l2, logistic__solver=liblinear;, score=0.905 total time=   0.3s\n",
      "[CV 2/3; 20/30] START logistic__C=26.826957952797272, logistic__penalty=l2, logistic__solver=liblinear\n",
      "[CV 2/3; 20/30] END logistic__C=26.826957952797272, logistic__penalty=l2, logistic__solver=liblinear;, score=0.898 total time=   0.3s\n",
      "[CV 3/3; 20/30] START logistic__C=26.826957952797272, logistic__penalty=l2, logistic__solver=liblinear\n",
      "[CV 3/3; 20/30] END logistic__C=26.826957952797272, logistic__penalty=l2, logistic__solver=liblinear;, score=0.900 total time=   0.3s\n",
      "[CV 1/3; 21/30] START logistic__C=138.9495494373139, logistic__penalty=l1, logistic__solver=liblinear\n",
      "[CV 1/3; 21/30] END logistic__C=138.9495494373139, logistic__penalty=l1, logistic__solver=liblinear;, score=0.905 total time=   0.3s\n",
      "[CV 2/3; 21/30] START logistic__C=138.9495494373139, logistic__penalty=l1, logistic__solver=liblinear\n",
      "[CV 2/3; 21/30] END logistic__C=138.9495494373139, logistic__penalty=l1, logistic__solver=liblinear;, score=0.898 total time=   0.2s\n",
      "[CV 3/3; 21/30] START logistic__C=138.9495494373139, logistic__penalty=l1, logistic__solver=liblinear\n",
      "[CV 3/3; 21/30] END logistic__C=138.9495494373139, logistic__penalty=l1, logistic__solver=liblinear;, score=0.900 total time=   0.2s\n",
      "[CV 1/3; 22/30] START logistic__C=138.9495494373139, logistic__penalty=l2, logistic__solver=liblinear\n",
      "[CV 1/3; 22/30] END logistic__C=138.9495494373139, logistic__penalty=l2, logistic__solver=liblinear;, score=0.905 total time=   0.3s\n",
      "[CV 2/3; 22/30] START logistic__C=138.9495494373139, logistic__penalty=l2, logistic__solver=liblinear\n",
      "[CV 2/3; 22/30] END logistic__C=138.9495494373139, logistic__penalty=l2, logistic__solver=liblinear;, score=0.898 total time=   0.3s\n",
      "[CV 3/3; 22/30] START logistic__C=138.9495494373139, logistic__penalty=l2, logistic__solver=liblinear\n",
      "[CV 3/3; 22/30] END logistic__C=138.9495494373139, logistic__penalty=l2, logistic__solver=liblinear;, score=0.900 total time=   0.3s\n",
      "[CV 1/3; 23/30] START logistic__C=719.6856730011528, logistic__penalty=l1, logistic__solver=liblinear\n",
      "[CV 1/3; 23/30] END logistic__C=719.6856730011528, logistic__penalty=l1, logistic__solver=liblinear;, score=0.905 total time=   0.3s\n",
      "[CV 2/3; 23/30] START logistic__C=719.6856730011528, logistic__penalty=l1, logistic__solver=liblinear\n",
      "[CV 2/3; 23/30] END logistic__C=719.6856730011528, logistic__penalty=l1, logistic__solver=liblinear;, score=0.898 total time=   0.2s\n",
      "[CV 3/3; 23/30] START logistic__C=719.6856730011528, logistic__penalty=l1, logistic__solver=liblinear\n",
      "[CV 3/3; 23/30] END logistic__C=719.6856730011528, logistic__penalty=l1, logistic__solver=liblinear;, score=0.900 total time=   0.2s\n",
      "[CV 1/3; 24/30] START logistic__C=719.6856730011528, logistic__penalty=l2, logistic__solver=liblinear\n",
      "[CV 1/3; 24/30] END logistic__C=719.6856730011528, logistic__penalty=l2, logistic__solver=liblinear;, score=0.905 total time=   0.3s\n",
      "[CV 2/3; 24/30] START logistic__C=719.6856730011528, logistic__penalty=l2, logistic__solver=liblinear\n",
      "[CV 2/3; 24/30] END logistic__C=719.6856730011528, logistic__penalty=l2, logistic__solver=liblinear;, score=0.898 total time=   0.3s\n",
      "[CV 3/3; 24/30] START logistic__C=719.6856730011528, logistic__penalty=l2, logistic__solver=liblinear\n",
      "[CV 3/3; 24/30] END logistic__C=719.6856730011528, logistic__penalty=l2, logistic__solver=liblinear;, score=0.900 total time=   0.3s\n",
      "[CV 1/3; 25/30] START logistic__C=3727.593720314938, logistic__penalty=l1, logistic__solver=liblinear\n",
      "[CV 1/3; 25/30] END logistic__C=3727.593720314938, logistic__penalty=l1, logistic__solver=liblinear;, score=0.905 total time=   0.2s\n",
      "[CV 2/3; 25/30] START logistic__C=3727.593720314938, logistic__penalty=l1, logistic__solver=liblinear\n",
      "[CV 2/3; 25/30] END logistic__C=3727.593720314938, logistic__penalty=l1, logistic__solver=liblinear;, score=0.898 total time=   0.2s\n",
      "[CV 3/3; 25/30] START logistic__C=3727.593720314938, logistic__penalty=l1, logistic__solver=liblinear\n",
      "[CV 3/3; 25/30] END logistic__C=3727.593720314938, logistic__penalty=l1, logistic__solver=liblinear;, score=0.900 total time=   0.2s\n",
      "[CV 1/3; 26/30] START logistic__C=3727.593720314938, logistic__penalty=l2, logistic__solver=liblinear\n",
      "[CV 1/3; 26/30] END logistic__C=3727.593720314938, logistic__penalty=l2, logistic__solver=liblinear;, score=0.905 total time=   0.3s\n",
      "[CV 2/3; 26/30] START logistic__C=3727.593720314938, logistic__penalty=l2, logistic__solver=liblinear\n",
      "[CV 2/3; 26/30] END logistic__C=3727.593720314938, logistic__penalty=l2, logistic__solver=liblinear;, score=0.898 total time=   0.3s\n",
      "[CV 3/3; 26/30] START logistic__C=3727.593720314938, logistic__penalty=l2, logistic__solver=liblinear\n",
      "[CV 3/3; 26/30] END logistic__C=3727.593720314938, logistic__penalty=l2, logistic__solver=liblinear;, score=0.900 total time=   0.3s\n",
      "[CV 1/3; 27/30] START logistic__C=19306.977288832535, logistic__penalty=l1, logistic__solver=liblinear\n",
      "[CV 1/3; 27/30] END logistic__C=19306.977288832535, logistic__penalty=l1, logistic__solver=liblinear;, score=0.905 total time=   0.2s\n",
      "[CV 2/3; 27/30] START logistic__C=19306.977288832535, logistic__penalty=l1, logistic__solver=liblinear\n",
      "[CV 2/3; 27/30] END logistic__C=19306.977288832535, logistic__penalty=l1, logistic__solver=liblinear;, score=0.898 total time=   0.2s\n",
      "[CV 3/3; 27/30] START logistic__C=19306.977288832535, logistic__penalty=l1, logistic__solver=liblinear\n",
      "[CV 3/3; 27/30] END logistic__C=19306.977288832535, logistic__penalty=l1, logistic__solver=liblinear;, score=0.900 total time=   0.2s\n",
      "[CV 1/3; 28/30] START logistic__C=19306.977288832535, logistic__penalty=l2, logistic__solver=liblinear\n",
      "[CV 1/3; 28/30] END logistic__C=19306.977288832535, logistic__penalty=l2, logistic__solver=liblinear;, score=0.905 total time=   0.3s\n",
      "[CV 2/3; 28/30] START logistic__C=19306.977288832535, logistic__penalty=l2, logistic__solver=liblinear\n",
      "[CV 2/3; 28/30] END logistic__C=19306.977288832535, logistic__penalty=l2, logistic__solver=liblinear;, score=0.898 total time=   0.3s\n",
      "[CV 3/3; 28/30] START logistic__C=19306.977288832535, logistic__penalty=l2, logistic__solver=liblinear\n",
      "[CV 3/3; 28/30] END logistic__C=19306.977288832535, logistic__penalty=l2, logistic__solver=liblinear;, score=0.900 total time=   0.3s\n",
      "[CV 1/3; 29/30] START logistic__C=100000.0, logistic__penalty=l1, logistic__solver=liblinear\n",
      "[CV 1/3; 29/30] END logistic__C=100000.0, logistic__penalty=l1, logistic__solver=liblinear;, score=0.905 total time=   0.2s\n",
      "[CV 2/3; 29/30] START logistic__C=100000.0, logistic__penalty=l1, logistic__solver=liblinear\n",
      "[CV 2/3; 29/30] END logistic__C=100000.0, logistic__penalty=l1, logistic__solver=liblinear;, score=0.898 total time=   0.2s\n",
      "[CV 3/3; 29/30] START logistic__C=100000.0, logistic__penalty=l1, logistic__solver=liblinear\n",
      "[CV 3/3; 29/30] END logistic__C=100000.0, logistic__penalty=l1, logistic__solver=liblinear;, score=0.900 total time=   0.2s\n",
      "[CV 1/3; 30/30] START logistic__C=100000.0, logistic__penalty=l2, logistic__solver=liblinear\n",
      "[CV 1/3; 30/30] END logistic__C=100000.0, logistic__penalty=l2, logistic__solver=liblinear;, score=0.905 total time=   0.3s\n",
      "[CV 2/3; 30/30] START logistic__C=100000.0, logistic__penalty=l2, logistic__solver=liblinear\n",
      "[CV 2/3; 30/30] END logistic__C=100000.0, logistic__penalty=l2, logistic__solver=liblinear;, score=0.898 total time=   0.3s\n",
      "[CV 3/3; 30/30] START logistic__C=100000.0, logistic__penalty=l2, logistic__solver=liblinear\n",
      "[CV 3/3; 30/30] END logistic__C=100000.0, logistic__penalty=l2, logistic__solver=liblinear;, score=0.900 total time=   0.3s\n",
      "Fitting 3 folds for each of 10 candidates, totalling 30 fits\n",
      "[CV 1/3; 1/10] START knn__n_neighbors=1.........................................\n",
      "[CV 1/3; 1/10] END ..........knn__n_neighbors=1;, score=0.873 total time=   4.7s\n",
      "[CV 2/3; 1/10] START knn__n_neighbors=1.........................................\n",
      "[CV 2/3; 1/10] END ..........knn__n_neighbors=1;, score=0.873 total time=   4.2s\n",
      "[CV 3/3; 1/10] START knn__n_neighbors=1.........................................\n",
      "[CV 3/3; 1/10] END ..........knn__n_neighbors=1;, score=0.870 total time=   3.9s\n",
      "[CV 1/3; 2/10] START knn__n_neighbors=2.........................................\n",
      "[CV 1/3; 2/10] END ..........knn__n_neighbors=2;, score=0.890 total time=   4.2s\n",
      "[CV 2/3; 2/10] START knn__n_neighbors=2.........................................\n",
      "[CV 2/3; 2/10] END ..........knn__n_neighbors=2;, score=0.888 total time=   4.9s\n",
      "[CV 3/3; 2/10] START knn__n_neighbors=2.........................................\n",
      "[CV 3/3; 2/10] END ..........knn__n_neighbors=2;, score=0.886 total time=   3.9s\n",
      "[CV 1/3; 3/10] START knn__n_neighbors=3.........................................\n",
      "[CV 1/3; 3/10] END ..........knn__n_neighbors=3;, score=0.891 total time=   4.1s\n",
      "[CV 2/3; 3/10] START knn__n_neighbors=3.........................................\n",
      "[CV 2/3; 3/10] END ..........knn__n_neighbors=3;, score=0.889 total time=   4.5s\n",
      "[CV 3/3; 3/10] START knn__n_neighbors=3.........................................\n",
      "[CV 3/3; 3/10] END ..........knn__n_neighbors=3;, score=0.888 total time=   4.7s\n",
      "[CV 1/3; 4/10] START knn__n_neighbors=4.........................................\n",
      "[CV 1/3; 4/10] END ..........knn__n_neighbors=4;, score=0.894 total time=   7.0s\n",
      "[CV 2/3; 4/10] START knn__n_neighbors=4.........................................\n",
      "[CV 2/3; 4/10] END ..........knn__n_neighbors=4;, score=0.893 total time=   6.0s\n",
      "[CV 3/3; 4/10] START knn__n_neighbors=4.........................................\n",
      "[CV 3/3; 4/10] END ..........knn__n_neighbors=4;, score=0.889 total time=   6.4s\n",
      "[CV 1/3; 5/10] START knn__n_neighbors=5.........................................\n",
      "[CV 1/3; 5/10] END ..........knn__n_neighbors=5;, score=0.895 total time=   6.3s\n",
      "[CV 2/3; 5/10] START knn__n_neighbors=5.........................................\n",
      "[CV 2/3; 5/10] END ..........knn__n_neighbors=5;, score=0.893 total time=   5.8s\n",
      "[CV 3/3; 5/10] START knn__n_neighbors=5.........................................\n",
      "[CV 3/3; 5/10] END ..........knn__n_neighbors=5;, score=0.890 total time=   5.8s\n",
      "[CV 1/3; 6/10] START knn__n_neighbors=6.........................................\n",
      "[CV 1/3; 6/10] END ..........knn__n_neighbors=6;, score=0.895 total time=   6.4s\n",
      "[CV 2/3; 6/10] START knn__n_neighbors=6.........................................\n",
      "[CV 2/3; 6/10] END ..........knn__n_neighbors=6;, score=0.896 total time=   6.4s\n",
      "[CV 3/3; 6/10] START knn__n_neighbors=6.........................................\n",
      "[CV 3/3; 6/10] END ..........knn__n_neighbors=6;, score=0.892 total time=   5.7s\n",
      "[CV 1/3; 7/10] START knn__n_neighbors=7.........................................\n",
      "[CV 1/3; 7/10] END ..........knn__n_neighbors=7;, score=0.897 total time=   5.9s\n",
      "[CV 2/3; 7/10] START knn__n_neighbors=7.........................................\n",
      "[CV 2/3; 7/10] END ..........knn__n_neighbors=7;, score=0.896 total time=   5.9s\n",
      "[CV 3/3; 7/10] START knn__n_neighbors=7.........................................\n",
      "[CV 3/3; 7/10] END ..........knn__n_neighbors=7;, score=0.893 total time=   6.1s\n",
      "[CV 1/3; 8/10] START knn__n_neighbors=8.........................................\n",
      "[CV 1/3; 8/10] END ..........knn__n_neighbors=8;, score=0.896 total time=   5.9s\n",
      "[CV 2/3; 8/10] START knn__n_neighbors=8.........................................\n",
      "[CV 2/3; 8/10] END ..........knn__n_neighbors=8;, score=0.894 total time=   5.9s\n",
      "[CV 3/3; 8/10] START knn__n_neighbors=8.........................................\n",
      "[CV 3/3; 8/10] END ..........knn__n_neighbors=8;, score=0.891 total time=   6.0s\n",
      "[CV 1/3; 9/10] START knn__n_neighbors=9.........................................\n",
      "[CV 1/3; 9/10] END ..........knn__n_neighbors=9;, score=0.897 total time=   5.7s\n",
      "[CV 2/3; 9/10] START knn__n_neighbors=9.........................................\n",
      "[CV 2/3; 9/10] END ..........knn__n_neighbors=9;, score=0.894 total time=   5.5s\n",
      "[CV 3/3; 9/10] START knn__n_neighbors=9.........................................\n",
      "[CV 3/3; 9/10] END ..........knn__n_neighbors=9;, score=0.893 total time=   6.1s\n",
      "[CV 1/3; 10/10] START knn__n_neighbors=10.......................................\n",
      "[CV 1/3; 10/10] END ........knn__n_neighbors=10;, score=0.896 total time=   6.0s\n",
      "[CV 2/3; 10/10] START knn__n_neighbors=10.......................................\n",
      "[CV 2/3; 10/10] END ........knn__n_neighbors=10;, score=0.893 total time=   5.9s\n",
      "[CV 3/3; 10/10] START knn__n_neighbors=10.......................................\n",
      "[CV 3/3; 10/10] END ........knn__n_neighbors=10;, score=0.891 total time=   6.1s\n"
     ]
    }
   ],
   "metadata": {}
  },
  {
   "cell_type": "code",
   "execution_count": 28,
   "source": [
    "fitted_prams"
   ],
   "outputs": [
    {
     "output_type": "execute_result",
     "data": {
      "text/plain": [
       "[{'logistic__C': 0.0013894954943731374,\n",
       "  'logistic__penalty': 'l2',\n",
       "  'logistic__solver': 'liblinear'},\n",
       " {'knn__n_neighbors': 7}]"
      ]
     },
     "metadata": {},
     "execution_count": 28
    }
   ],
   "metadata": {}
  },
  {
   "cell_type": "code",
   "execution_count": 29,
   "source": [
    "fitted_score"
   ],
   "outputs": [
    {
     "output_type": "execute_result",
     "data": {
      "text/plain": [
       "[0.9012386640123866, 0.894907100199071]"
      ]
     },
     "metadata": {},
     "execution_count": 29
    }
   ],
   "metadata": {}
  },
  {
   "cell_type": "code",
   "execution_count": 30,
   "source": [
    "fitted_roc"
   ],
   "outputs": [
    {
     "output_type": "execute_result",
     "data": {
      "text/plain": [
       "[0.911073737139044, 0.8238139324289705]"
      ]
     },
     "metadata": {},
     "execution_count": 30
    }
   ],
   "metadata": {}
  },
  {
   "cell_type": "code",
   "execution_count": 31,
   "source": [
    "from random import randint"
   ],
   "outputs": [],
   "metadata": {}
  },
  {
   "cell_type": "code",
   "execution_count": 32,
   "source": [
    "from sklearn.tree import DecisionTreeClassifier\n",
    "from sklearn.ensemble import RandomForestClassifier\n",
    "from sklearn.model_selection import RandomizedSearchCV\n",
    "from sklearn.metrics import roc_auc_score"
   ],
   "outputs": [],
   "metadata": {}
  },
  {
   "cell_type": "code",
   "execution_count": 33,
   "source": [
    "param_dist = {\"max_depth\": [3,None],\n",
    "\"min_samples_leaf\": range(1,9),\n",
    "\"criterion\": [\"gini\", \"entropy\"]\n",
    "}"
   ],
   "outputs": [],
   "metadata": {}
  },
  {
   "cell_type": "code",
   "execution_count": 35,
   "source": [
    "tree = DecisionTreeClassifier()"
   ],
   "outputs": [],
   "metadata": {}
  },
  {
   "cell_type": "code",
   "execution_count": 46,
   "source": [
    "rf = RandomForestClassifier()"
   ],
   "outputs": [],
   "metadata": {}
  },
  {
   "cell_type": "code",
   "execution_count": 37,
   "source": [
    "tree.fit(X_train, y_train)\n",
    "tree.score(X_train,y_train)\n",
    "predict_tree = tree.predict_proba(X_test)[:,1]"
   ],
   "outputs": [],
   "metadata": {}
  },
  {
   "cell_type": "code",
   "execution_count": 38,
   "source": [
    "roc_auc_score(y_test, predict_tree)"
   ],
   "outputs": [
    {
     "output_type": "execute_result",
     "data": {
      "text/plain": [
       "0.6981533246352463"
      ]
     },
     "metadata": {},
     "execution_count": 38
    }
   ],
   "metadata": {}
  },
  {
   "cell_type": "code",
   "execution_count": 41,
   "source": [
    "tree_cv = RandomizedSearchCV(tree, param_dist, cv=5)"
   ],
   "outputs": [],
   "metadata": {}
  },
  {
   "cell_type": "code",
   "execution_count": 47,
   "source": [
    "rf_cv = RandomizedSearchCV(rf, param_dist, cv=5)"
   ],
   "outputs": [],
   "metadata": {}
  },
  {
   "cell_type": "code",
   "execution_count": 48,
   "source": [
    "tree_cv.fit(X_train, y_train)\n",
    "rf_cv.fit(X_train,y_train)"
   ],
   "outputs": [
    {
     "output_type": "execute_result",
     "data": {
      "text/plain": [
       "RandomizedSearchCV(cv=5, estimator=RandomForestClassifier(),\n",
       "                   param_distributions={'criterion': ['gini', 'entropy'],\n",
       "                                        'max_depth': [3, None],\n",
       "                                        'min_samples_leaf': range(1, 9)})"
      ]
     },
     "metadata": {},
     "execution_count": 48
    }
   ],
   "metadata": {}
  },
  {
   "cell_type": "code",
   "execution_count": 44,
   "source": [
    "tree_cv.best_score_"
   ],
   "outputs": [
    {
     "output_type": "execute_result",
     "data": {
      "text/plain": [
       "0.9000497749367866"
      ]
     },
     "metadata": {},
     "execution_count": 44
    }
   ],
   "metadata": {}
  },
  {
   "cell_type": "code",
   "execution_count": 49,
   "source": [
    "rf_cv.best_score_"
   ],
   "outputs": [
    {
     "output_type": "execute_result",
     "data": {
      "text/plain": [
       "0.9062153575976785"
      ]
     },
     "metadata": {},
     "execution_count": 49
    }
   ],
   "metadata": {}
  },
  {
   "cell_type": "code",
   "execution_count": 50,
   "source": [
    "cv_tree_predict_prob = tree_cv.predict_proba(X_test)[:,1]"
   ],
   "outputs": [],
   "metadata": {}
  },
  {
   "cell_type": "code",
   "execution_count": 51,
   "source": [
    "roc_auc_score(y_test,cv_tree_predict_prob )\n"
   ],
   "outputs": [
    {
     "output_type": "execute_result",
     "data": {
      "text/plain": [
       "0.7595652743769846"
      ]
     },
     "metadata": {},
     "execution_count": 51
    }
   ],
   "metadata": {}
  },
  {
   "cell_type": "code",
   "execution_count": 52,
   "source": [
    "cv_rf_predict_prob=rf_cv.predict_proba(X_test)[:,1]"
   ],
   "outputs": [],
   "metadata": {}
  },
  {
   "cell_type": "code",
   "execution_count": 53,
   "source": [
    "roc_auc_score(y_test,cv_rf_predict_prob )\n"
   ],
   "outputs": [
    {
     "output_type": "execute_result",
     "data": {
      "text/plain": [
       "0.9289618892721607"
      ]
     },
     "metadata": {},
     "execution_count": 53
    }
   ],
   "metadata": {}
  },
  {
   "cell_type": "code",
   "execution_count": null,
   "source": [],
   "outputs": [],
   "metadata": {}
  }
 ],
 "metadata": {
  "orig_nbformat": 4,
  "language_info": {
   "name": "python",
   "version": "3.7.9",
   "mimetype": "text/x-python",
   "codemirror_mode": {
    "name": "ipython",
    "version": 3
   },
   "pygments_lexer": "ipython3",
   "nbconvert_exporter": "python",
   "file_extension": ".py"
  },
  "kernelspec": {
   "name": "python3",
   "display_name": "Python 3.7.9 64-bit ('env': venv)"
  },
  "interpreter": {
   "hash": "272a83b994da64918daf8b774315e72334003c8696cc4358695b72acf32d7fce"
  }
 },
 "nbformat": 4,
 "nbformat_minor": 2
}