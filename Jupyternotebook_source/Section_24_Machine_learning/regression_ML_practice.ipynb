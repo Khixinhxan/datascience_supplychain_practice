{
 "cells": [
  {
   "cell_type": "code",
   "execution_count": 1,
   "source": [
    "from sklearn.cluster import KMeans\n",
    "import pandas as pd\n",
    "import seaborn as sns\n",
    "import matplotlib.pyplot as plt"
   ],
   "outputs": [],
   "metadata": {}
  },
  {
   "cell_type": "code",
   "execution_count": 3,
   "source": [
    "import os \n",
    "path  = os.getcwd()\n",
    "print(path)"
   ],
   "outputs": [
    {
     "output_type": "stream",
     "name": "stdout",
     "text": [
      "/Users/dang/Desktop/Learning/Mygit/datascience_supplychain_practice/Jupyternotebook_source/Section_24_Machine_learning\n"
     ]
    }
   ],
   "metadata": {}
  },
  {
   "cell_type": "code",
   "execution_count": 6,
   "source": [
    "rfm = pd.read_csv('{0}/rfm.csv'.format(path))"
   ],
   "outputs": [],
   "metadata": {}
  },
  {
   "cell_type": "code",
   "execution_count": 7,
   "source": [
    "rfm.info"
   ],
   "outputs": [
    {
     "output_type": "execute_result",
     "data": {
      "text/plain": [
       "<bound method DataFrame.info of       Unnamed: 0  Customer ID   last_date  recency  rank_recency  frequency  \\\n",
       "0              0      12346.0  2011-01-18      325      0.710338         34   \n",
       "1              1      12347.0  2011-12-07        2      0.031202        222   \n",
       "2              2      12348.0  2011-09-25       75      0.458085         51   \n",
       "3              3      12349.0  2011-11-21       18      0.192229        175   \n",
       "4              4      12350.0  2011-02-02      310      0.699286         17   \n",
       "...          ...          ...         ...      ...           ...        ...   \n",
       "5876        5876      18283.0  2011-12-06        3      0.046846        938   \n",
       "5877        5877      18284.0  2010-10-04      431      0.831406         28   \n",
       "5878        5878      18285.0  2010-02-17      660      0.967267         12   \n",
       "5879        5879      18286.0  2010-08-20      476      0.868730         67   \n",
       "5880        5880      18287.0  2011-10-28       42      0.337188        155   \n",
       "\n",
       "      freq_ranking     monetary  rank_monet  rec_freq_monet  \n",
       "0         0.621068  6463.038333    0.001530             221  \n",
       "1         0.153715   615.191250    0.106104             111  \n",
       "2         0.505951   403.880000    0.263051             121  \n",
       "3         0.197585  1107.172500    0.028567             111  \n",
       "4         0.790342   334.400000    0.375446             221  \n",
       "...            ...          ...         ...             ...  \n",
       "5876      0.014708   121.131818    0.892365             112  \n",
       "5877      0.674545   461.680000    0.199456             221  \n",
       "5878      0.851301   427.000000    0.235504             221  \n",
       "5879      0.430539   648.215000    0.095732             211  \n",
       "5880      0.222411   597.570000    0.113586             111  \n",
       "\n",
       "[5881 rows x 10 columns]>"
      ]
     },
     "metadata": {},
     "execution_count": 7
    }
   ],
   "metadata": {}
  },
  {
   "cell_type": "code",
   "execution_count": 8,
   "source": [
    "X = rfm[['frequency', 'monetary', 'recency']]"
   ],
   "outputs": [],
   "metadata": {}
  },
  {
   "cell_type": "code",
   "execution_count": 9,
   "source": [
    "km = KMeans(n_clusters=3, n_init=10, max_iter=300, tol=0.0001)"
   ],
   "outputs": [],
   "metadata": {}
  },
  {
   "cell_type": "code",
   "execution_count": 11,
   "source": [
    "fitting = km.fit_predict(X)"
   ],
   "outputs": [],
   "metadata": {}
  },
  {
   "cell_type": "code",
   "execution_count": 12,
   "source": [
    "fitting"
   ],
   "outputs": [
    {
     "output_type": "execute_result",
     "data": {
      "text/plain": [
       "array([2, 0, 0, ..., 0, 0, 0], dtype=int32)"
      ]
     },
     "metadata": {},
     "execution_count": 12
    }
   ],
   "metadata": {}
  },
  {
   "cell_type": "code",
   "execution_count": 13,
   "source": [
    "X['centroids'] = fitting"
   ],
   "outputs": [
    {
     "output_type": "stream",
     "name": "stderr",
     "text": [
      "/Users/dang/Desktop/Learning/Mygit/datascience_supplychain_practice/env/lib/python3.7/site-packages/ipykernel_launcher.py:1: SettingWithCopyWarning: \n",
      "A value is trying to be set on a copy of a slice from a DataFrame.\n",
      "Try using .loc[row_indexer,col_indexer] = value instead\n",
      "\n",
      "See the caveats in the documentation: https://pandas.pydata.org/pandas-docs/stable/user_guide/indexing.html#returning-a-view-versus-a-copy\n",
      "  \"\"\"Entry point for launching an IPython kernel.\n"
     ]
    }
   ],
   "metadata": {}
  },
  {
   "cell_type": "code",
   "execution_count": 14,
   "source": [
    "sns.pairplot(data=X, hue='centroids')"
   ],
   "outputs": [
    {
     "output_type": "stream",
     "name": "stderr",
     "text": [
      "/Users/dang/Desktop/Learning/Mygit/datascience_supplychain_practice/env/lib/python3.7/site-packages/seaborn/distributions.py:306: UserWarning: Dataset has 0 variance; skipping density estimate.\n",
      "  warnings.warn(msg, UserWarning)\n",
      "/Users/dang/Desktop/Learning/Mygit/datascience_supplychain_practice/env/lib/python3.7/site-packages/seaborn/distributions.py:306: UserWarning: Dataset has 0 variance; skipping density estimate.\n",
      "  warnings.warn(msg, UserWarning)\n",
      "/Users/dang/Desktop/Learning/Mygit/datascience_supplychain_practice/env/lib/python3.7/site-packages/seaborn/distributions.py:306: UserWarning: Dataset has 0 variance; skipping density estimate.\n",
      "  warnings.warn(msg, UserWarning)\n"
     ]
    },
    {
     "output_type": "execute_result",
     "data": {
      "text/plain": [
       "<seaborn.axisgrid.PairGrid at 0x7f87564d0ad0>"
      ]
     },
     "metadata": {},
     "execution_count": 14
    },
    {
     "output_type": "display_data",
     "data": {
      "text/plain": [
       "<Figure size 594.25x540 with 12 Axes>"
      ],
      "image/png": "[encoded data removed]"
     },
     "metadata": {
      "needs_background": "light"
     }
    }
   ],
   "metadata": {}
  },
  {
   "cell_type": "code",
   "execution_count": 18,
   "source": [
    "sse = []\n",
    "for k in range(1,11):\n",
    "    kmeans = KMeans(n_clusters=k, n_init=10, max_iter=300, tol=0.0001)\n",
    "    a = kmeans.fit(X)\n",
    "    sse.append(a.inertia_)"
   ],
   "outputs": [],
   "metadata": {}
  },
  {
   "cell_type": "code",
   "execution_count": 19,
   "source": [
    "sse"
   ],
   "outputs": [
    {
     "output_type": "execute_result",
     "data": {
      "text/plain": [
       "[9612311021.280624,\n",
       " 2580021904.6090407,\n",
       " 1708732491.2442124,\n",
       " 1365145013.6737673,\n",
       " 1043715426.4588587,\n",
       " 819664333.8407749,\n",
       " 625268606.8265455,\n",
       " 491597941.6629905,\n",
       " 419147052.90212965,\n",
       " 349050389.53792155]"
      ]
     },
     "metadata": {},
     "execution_count": 19
    }
   ],
   "metadata": {}
  },
  {
   "cell_type": "code",
   "execution_count": 20,
   "source": [
    "plt.plot(range(1,11),sse)\n"
   ],
   "outputs": [
    {
     "output_type": "execute_result",
     "data": {
      "text/plain": [
       "[<matplotlib.lines.Line2D at 0x7f87593bdfd0>]"
      ]
     },
     "metadata": {},
     "execution_count": 20
    },
    {
     "output_type": "display_data",
     "data": {
      "text/plain": [
       "<Figure size 432x288 with 1 Axes>"
      ],
      "image/png": "[encoded data removed]"
     },
     "metadata": {
      "needs_background": "light"
     }
    }
   ],
   "metadata": {}
  },
  {
   "cell_type": "code",
   "execution_count": 21,
   "source": [
    "#### regression training model"
   ],
   "outputs": [],
   "metadata": {}
  },
  {
   "cell_type": "code",
   "execution_count": 22,
   "source": [
    "retail_clean = pd.read_csv('{0}/retail_clean.csv'.format(path))"
   ],
   "outputs": [],
   "metadata": {}
  },
  {
   "cell_type": "code",
   "execution_count": 23,
   "source": [
    "retail_clean.describe"
   ],
   "outputs": [
    {
     "output_type": "execute_result",
     "data": {
      "text/plain": [
       "<bound method NDFrame.describe of         Unnamed: 0  Invoice StockCode                          Description  \\\n",
       "0                0   489434     85048  15CM CHRISTMAS GLASS BALL 20 LIGHTS   \n",
       "1                1   489434    79323P                   PINK CHERRY LIGHTS   \n",
       "2                2   489434    79323W                  WHITE CHERRY LIGHTS   \n",
       "3                3   489434     22041         RECORD FRAME 7\" SINGLE SIZE    \n",
       "4                4   489434     21232       STRAWBERRY CERAMIC TRINKET BOX   \n",
       "...            ...      ...       ...                                  ...   \n",
       "779490     1067366   581587     22899         CHILDREN'S APRON DOLLY GIRL    \n",
       "779491     1067367   581587     23254        CHILDRENS CUTLERY DOLLY GIRL    \n",
       "779492     1067368   581587     23255      CHILDRENS CUTLERY CIRCUS PARADE   \n",
       "779493     1067369   581587     22138        BAKING SET 9 PIECE RETROSPOT    \n",
       "779494     1067370   581587      POST                              POSTAGE   \n",
       "\n",
       "        Quantity          InvoiceDate  Price  Customer ID         Country  \\\n",
       "0             12  2009-12-01 07:45:00   6.95      13085.0  United Kingdom   \n",
       "1             12  2009-12-01 07:45:00   6.75      13085.0  United Kingdom   \n",
       "2             12  2009-12-01 07:45:00   6.75      13085.0  United Kingdom   \n",
       "3             48  2009-12-01 07:45:00   2.10      13085.0  United Kingdom   \n",
       "4             24  2009-12-01 07:45:00   1.25      13085.0  United Kingdom   \n",
       "...          ...                  ...    ...          ...             ...   \n",
       "779490         6  2011-12-09 12:50:00   2.10      12680.0          France   \n",
       "779491         4  2011-12-09 12:50:00   4.15      12680.0          France   \n",
       "779492         4  2011-12-09 12:50:00   4.15      12680.0          France   \n",
       "779493         3  2011-12-09 12:50:00   4.95      12680.0          France   \n",
       "779494         1  2011-12-09 12:50:00  18.00      12680.0          France   \n",
       "\n",
       "        Revenue  \n",
       "0         83.40  \n",
       "1         81.00  \n",
       "2         81.00  \n",
       "3        100.80  \n",
       "4         30.00  \n",
       "...         ...  \n",
       "779490    12.60  \n",
       "779491    16.60  \n",
       "779492    16.60  \n",
       "779493    14.85  \n",
       "779494    18.00  \n",
       "\n",
       "[779495 rows x 10 columns]>"
      ]
     },
     "metadata": {},
     "execution_count": 23
    }
   ],
   "metadata": {}
  },
  {
   "cell_type": "code",
   "execution_count": 24,
   "source": [
    "retail_clean['InvoiceDate'] = pd.to_datetime(retail_clean['InvoiceDate'])\n",
    "retail_clean['date'] = retail_clean['InvoiceDate'].dt.strftime('%Y-%m-%d')\n",
    "retail_clean['date'] = pd.to_datetime(retail_clean['date'])"
   ],
   "outputs": [],
   "metadata": {}
  },
  {
   "cell_type": "code",
   "execution_count": 25,
   "source": [
    "daily_revenue = retail_clean.groupby(['date']).agg(total_revenue=('Revenue', 'sum')).reset_index()"
   ],
   "outputs": [],
   "metadata": {}
  },
  {
   "cell_type": "code",
   "execution_count": 26,
   "source": [
    "daily_revenue['month'] = daily_revenue['date'].dt.month\n",
    "daily_revenue['dayofweek'] = daily_revenue['date'].dt.dayofweek\n",
    "daily_revenue['trend'] = range(1, daily_revenue.shape[0] + 1)"
   ],
   "outputs": [],
   "metadata": {}
  },
  {
   "cell_type": "code",
   "execution_count": 27,
   "source": [
    "daily_revenue['month'] = daily_revenue['month'].astype('category')"
   ],
   "outputs": [],
   "metadata": {}
  },
  {
   "cell_type": "code",
   "execution_count": 28,
   "source": [
    "weekdays = {0: 'Monday',\n",
    "1: 'Tuesday',\n",
    "2: 'Wednesday',\n",
    "3: 'Thursday',\n",
    "4: 'Friday',\n",
    "5: 'Saturday',\n",
    "6: 'Sunday'\n",
    "}"
   ],
   "outputs": [],
   "metadata": {}
  },
  {
   "cell_type": "code",
   "execution_count": 29,
   "source": [
    "daily_revenue['dayofweek1'] = daily_revenue['dayofweek'].map(weekdays)"
   ],
   "outputs": [],
   "metadata": {}
  },
  {
   "cell_type": "code",
   "execution_count": 30,
   "source": [
    "daily_revenue = daily_revenue.drop('dayofweek', axis=1)\n",
    "daily_revenue_encoded = pd.get_dummies(daily_revenue)"
   ],
   "outputs": [],
   "metadata": {}
  },
  {
   "cell_type": "code",
   "execution_count": 31,
   "source": [
    "daily_revenue_encoded"
   ],
   "outputs": [
    {
     "output_type": "execute_result",
     "data": {
      "text/plain": [
       "          date  total_revenue  trend  month_1  month_2  month_3  month_4  \\\n",
       "0   2009-12-01       43894.87      1        0        0        0        0   \n",
       "1   2009-12-02       52762.06      2        0        0        0        0   \n",
       "2   2009-12-03       67413.62      3        0        0        0        0   \n",
       "3   2009-12-04       33913.81      4        0        0        0        0   \n",
       "4   2009-12-05        9803.05      5        0        0        0        0   \n",
       "..         ...            ...    ...      ...      ...      ...      ...   \n",
       "599 2011-12-05       58081.09    600        0        0        0        0   \n",
       "600 2011-12-06       45989.66    601        0        0        0        0   \n",
       "601 2011-12-07       69230.60    602        0        0        0        0   \n",
       "602 2011-12-08       50395.96    603        0        0        0        0   \n",
       "603 2011-12-09      184347.66    604        0        0        0        0   \n",
       "\n",
       "     month_5  month_6  month_7  ...  month_10  month_11  month_12  \\\n",
       "0          0        0        0  ...         0         0         1   \n",
       "1          0        0        0  ...         0         0         1   \n",
       "2          0        0        0  ...         0         0         1   \n",
       "3          0        0        0  ...         0         0         1   \n",
       "4          0        0        0  ...         0         0         1   \n",
       "..       ...      ...      ...  ...       ...       ...       ...   \n",
       "599        0        0        0  ...         0         0         1   \n",
       "600        0        0        0  ...         0         0         1   \n",
       "601        0        0        0  ...         0         0         1   \n",
       "602        0        0        0  ...         0         0         1   \n",
       "603        0        0        0  ...         0         0         1   \n",
       "\n",
       "     dayofweek1_Friday  dayofweek1_Monday  dayofweek1_Saturday  \\\n",
       "0                    0                  0                    0   \n",
       "1                    0                  0                    0   \n",
       "2                    0                  0                    0   \n",
       "3                    1                  0                    0   \n",
       "4                    0                  0                    1   \n",
       "..                 ...                ...                  ...   \n",
       "599                  0                  1                    0   \n",
       "600                  0                  0                    0   \n",
       "601                  0                  0                    0   \n",
       "602                  0                  0                    0   \n",
       "603                  1                  0                    0   \n",
       "\n",
       "     dayofweek1_Sunday  dayofweek1_Thursday  dayofweek1_Tuesday  \\\n",
       "0                    0                    0                   1   \n",
       "1                    0                    0                   0   \n",
       "2                    0                    1                   0   \n",
       "3                    0                    0                   0   \n",
       "4                    0                    0                   0   \n",
       "..                 ...                  ...                 ...   \n",
       "599                  0                    0                   0   \n",
       "600                  0                    0                   1   \n",
       "601                  0                    0                   0   \n",
       "602                  0                    1                   0   \n",
       "603                  0                    0                   0   \n",
       "\n",
       "     dayofweek1_Wednesday  \n",
       "0                       0  \n",
       "1                       1  \n",
       "2                       0  \n",
       "3                       0  \n",
       "4                       0  \n",
       "..                    ...  \n",
       "599                     0  \n",
       "600                     0  \n",
       "601                     1  \n",
       "602                     0  \n",
       "603                     0  \n",
       "\n",
       "[604 rows x 22 columns]"
      ],
      "text/html": [
       "<div>\n",
       "<style scoped>\n",
       "    .dataframe tbody tr th:only-of-type {\n",
       "        vertical-align: middle;\n",
       "    }\n",
       "\n",
       "    .dataframe tbody tr th {\n",
       "        vertical-align: top;\n",
       "    }\n",
       "\n",
       "    .dataframe thead th {\n",
       "        text-align: right;\n",
       "    }\n",
       "</style>\n",
       "<table border=\"1\" class=\"dataframe\">\n",
       "  <thead>\n",
       "    <tr style=\"text-align: right;\">\n",
       "      <th></th>\n",
       "      <th>date</th>\n",
       "      <th>total_revenue</th>\n",
       "      <th>trend</th>\n",
       "      <th>month_1</th>\n",
       "      <th>month_2</th>\n",
       "      <th>month_3</th>\n",
       "      <th>month_4</th>\n",
       "      <th>month_5</th>\n",
       "      <th>month_6</th>\n",
       "      <th>month_7</th>\n",
       "      <th>...</th>\n",
       "      <th>month_10</th>\n",
       "      <th>month_11</th>\n",
       "      <th>month_12</th>\n",
       "      <th>dayofweek1_Friday</th>\n",
       "      <th>dayofweek1_Monday</th>\n",
       "      <th>dayofweek1_Saturday</th>\n",
       "      <th>dayofweek1_Sunday</th>\n",
       "      <th>dayofweek1_Thursday</th>\n",
       "      <th>dayofweek1_Tuesday</th>\n",
       "      <th>dayofweek1_Wednesday</th>\n",
       "    </tr>\n",
       "  </thead>\n",
       "  <tbody>\n",
       "    <tr>\n",
       "      <th>0</th>\n",
       "      <td>2009-12-01</td>\n",
       "      <td>43894.87</td>\n",
       "      <td>1</td>\n",
       "      <td>0</td>\n",
       "      <td>0</td>\n",
       "      <td>0</td>\n",
       "      <td>0</td>\n",
       "      <td>0</td>\n",
       "      <td>0</td>\n",
       "      <td>0</td>\n",
       "      <td>...</td>\n",
       "      <td>0</td>\n",
       "      <td>0</td>\n",
       "      <td>1</td>\n",
       "      <td>0</td>\n",
       "      <td>0</td>\n",
       "      <td>0</td>\n",
       "      <td>0</td>\n",
       "      <td>0</td>\n",
       "      <td>1</td>\n",
       "      <td>0</td>\n",
       "    </tr>\n",
       "    <tr>\n",
       "      <th>1</th>\n",
       "      <td>2009-12-02</td>\n",
       "      <td>52762.06</td>\n",
       "      <td>2</td>\n",
       "      <td>0</td>\n",
       "      <td>0</td>\n",
       "      <td>0</td>\n",
       "      <td>0</td>\n",
       "      <td>0</td>\n",
       "      <td>0</td>\n",
       "      <td>0</td>\n",
       "      <td>...</td>\n",
       "      <td>0</td>\n",
       "      <td>0</td>\n",
       "      <td>1</td>\n",
       "      <td>0</td>\n",
       "      <td>0</td>\n",
       "      <td>0</td>\n",
       "      <td>0</td>\n",
       "      <td>0</td>\n",
       "      <td>0</td>\n",
       "      <td>1</td>\n",
       "    </tr>\n",
       "    <tr>\n",
       "      <th>2</th>\n",
       "      <td>2009-12-03</td>\n",
       "      <td>67413.62</td>\n",
       "      <td>3</td>\n",
       "      <td>0</td>\n",
       "      <td>0</td>\n",
       "      <td>0</td>\n",
       "      <td>0</td>\n",
       "      <td>0</td>\n",
       "      <td>0</td>\n",
       "      <td>0</td>\n",
       "      <td>...</td>\n",
       "      <td>0</td>\n",
       "      <td>0</td>\n",
       "      <td>1</td>\n",
       "      <td>0</td>\n",
       "      <td>0</td>\n",
       "      <td>0</td>\n",
       "      <td>0</td>\n",
       "      <td>1</td>\n",
       "      <td>0</td>\n",
       "      <td>0</td>\n",
       "    </tr>\n",
       "    <tr>\n",
       "      <th>3</th>\n",
       "      <td>2009-12-04</td>\n",
       "      <td>33913.81</td>\n",
       "      <td>4</td>\n",
       "      <td>0</td>\n",
       "      <td>0</td>\n",
       "      <td>0</td>\n",
       "      <td>0</td>\n",
       "      <td>0</td>\n",
       "      <td>0</td>\n",
       "      <td>0</td>\n",
       "      <td>...</td>\n",
       "      <td>0</td>\n",
       "      <td>0</td>\n",
       "      <td>1</td>\n",
       "      <td>1</td>\n",
       "      <td>0</td>\n",
       "      <td>0</td>\n",
       "      <td>0</td>\n",
       "      <td>0</td>\n",
       "      <td>0</td>\n",
       "      <td>0</td>\n",
       "    </tr>\n",
       "    <tr>\n",
       "      <th>4</th>\n",
       "      <td>2009-12-05</td>\n",
       "      <td>9803.05</td>\n",
       "      <td>5</td>\n",
       "      <td>0</td>\n",
       "      <td>0</td>\n",
       "      <td>0</td>\n",
       "      <td>0</td>\n",
       "      <td>0</td>\n",
       "      <td>0</td>\n",
       "      <td>0</td>\n",
       "      <td>...</td>\n",
       "      <td>0</td>\n",
       "      <td>0</td>\n",
       "      <td>1</td>\n",
       "      <td>0</td>\n",
       "      <td>0</td>\n",
       "      <td>1</td>\n",
       "      <td>0</td>\n",
       "      <td>0</td>\n",
       "      <td>0</td>\n",
       "      <td>0</td>\n",
       "    </tr>\n",
       "    <tr>\n",
       "      <th>...</th>\n",
       "      <td>...</td>\n",
       "      <td>...</td>\n",
       "      <td>...</td>\n",
       "      <td>...</td>\n",
       "      <td>...</td>\n",
       "      <td>...</td>\n",
       "      <td>...</td>\n",
       "      <td>...</td>\n",
       "      <td>...</td>\n",
       "      <td>...</td>\n",
       "      <td>...</td>\n",
       "      <td>...</td>\n",
       "      <td>...</td>\n",
       "      <td>...</td>\n",
       "      <td>...</td>\n",
       "      <td>...</td>\n",
       "      <td>...</td>\n",
       "      <td>...</td>\n",
       "      <td>...</td>\n",
       "      <td>...</td>\n",
       "      <td>...</td>\n",
       "    </tr>\n",
       "    <tr>\n",
       "      <th>599</th>\n",
       "      <td>2011-12-05</td>\n",
       "      <td>58081.09</td>\n",
       "      <td>600</td>\n",
       "      <td>0</td>\n",
       "      <td>0</td>\n",
       "      <td>0</td>\n",
       "      <td>0</td>\n",
       "      <td>0</td>\n",
       "      <td>0</td>\n",
       "      <td>0</td>\n",
       "      <td>...</td>\n",
       "      <td>0</td>\n",
       "      <td>0</td>\n",
       "      <td>1</td>\n",
       "      <td>0</td>\n",
       "      <td>1</td>\n",
       "      <td>0</td>\n",
       "      <td>0</td>\n",
       "      <td>0</td>\n",
       "      <td>0</td>\n",
       "      <td>0</td>\n",
       "    </tr>\n",
       "    <tr>\n",
       "      <th>600</th>\n",
       "      <td>2011-12-06</td>\n",
       "      <td>45989.66</td>\n",
       "      <td>601</td>\n",
       "      <td>0</td>\n",
       "      <td>0</td>\n",
       "      <td>0</td>\n",
       "      <td>0</td>\n",
       "      <td>0</td>\n",
       "      <td>0</td>\n",
       "      <td>0</td>\n",
       "      <td>...</td>\n",
       "      <td>0</td>\n",
       "      <td>0</td>\n",
       "      <td>1</td>\n",
       "      <td>0</td>\n",
       "      <td>0</td>\n",
       "      <td>0</td>\n",
       "      <td>0</td>\n",
       "      <td>0</td>\n",
       "      <td>1</td>\n",
       "      <td>0</td>\n",
       "    </tr>\n",
       "    <tr>\n",
       "      <th>601</th>\n",
       "      <td>2011-12-07</td>\n",
       "      <td>69230.60</td>\n",
       "      <td>602</td>\n",
       "      <td>0</td>\n",
       "      <td>0</td>\n",
       "      <td>0</td>\n",
       "      <td>0</td>\n",
       "      <td>0</td>\n",
       "      <td>0</td>\n",
       "      <td>0</td>\n",
       "      <td>...</td>\n",
       "      <td>0</td>\n",
       "      <td>0</td>\n",
       "      <td>1</td>\n",
       "      <td>0</td>\n",
       "      <td>0</td>\n",
       "      <td>0</td>\n",
       "      <td>0</td>\n",
       "      <td>0</td>\n",
       "      <td>0</td>\n",
       "      <td>1</td>\n",
       "    </tr>\n",
       "    <tr>\n",
       "      <th>602</th>\n",
       "      <td>2011-12-08</td>\n",
       "      <td>50395.96</td>\n",
       "      <td>603</td>\n",
       "      <td>0</td>\n",
       "      <td>0</td>\n",
       "      <td>0</td>\n",
       "      <td>0</td>\n",
       "      <td>0</td>\n",
       "      <td>0</td>\n",
       "      <td>0</td>\n",
       "      <td>...</td>\n",
       "      <td>0</td>\n",
       "      <td>0</td>\n",
       "      <td>1</td>\n",
       "      <td>0</td>\n",
       "      <td>0</td>\n",
       "      <td>0</td>\n",
       "      <td>0</td>\n",
       "      <td>1</td>\n",
       "      <td>0</td>\n",
       "      <td>0</td>\n",
       "    </tr>\n",
       "    <tr>\n",
       "      <th>603</th>\n",
       "      <td>2011-12-09</td>\n",
       "      <td>184347.66</td>\n",
       "      <td>604</td>\n",
       "      <td>0</td>\n",
       "      <td>0</td>\n",
       "      <td>0</td>\n",
       "      <td>0</td>\n",
       "      <td>0</td>\n",
       "      <td>0</td>\n",
       "      <td>0</td>\n",
       "      <td>...</td>\n",
       "      <td>0</td>\n",
       "      <td>0</td>\n",
       "      <td>1</td>\n",
       "      <td>1</td>\n",
       "      <td>0</td>\n",
       "      <td>0</td>\n",
       "      <td>0</td>\n",
       "      <td>0</td>\n",
       "      <td>0</td>\n",
       "      <td>0</td>\n",
       "    </tr>\n",
       "  </tbody>\n",
       "</table>\n",
       "<p>604 rows × 22 columns</p>\n",
       "</div>"
      ]
     },
     "metadata": {},
     "execution_count": 31
    }
   ],
   "metadata": {}
  },
  {
   "cell_type": "code",
   "execution_count": 32,
   "source": [
    "daily_revenue"
   ],
   "outputs": [
    {
     "output_type": "execute_result",
     "data": {
      "text/plain": [
       "          date  total_revenue month  trend dayofweek1\n",
       "0   2009-12-01       43894.87    12      1    Tuesday\n",
       "1   2009-12-02       52762.06    12      2  Wednesday\n",
       "2   2009-12-03       67413.62    12      3   Thursday\n",
       "3   2009-12-04       33913.81    12      4     Friday\n",
       "4   2009-12-05        9803.05    12      5   Saturday\n",
       "..         ...            ...   ...    ...        ...\n",
       "599 2011-12-05       58081.09    12    600     Monday\n",
       "600 2011-12-06       45989.66    12    601    Tuesday\n",
       "601 2011-12-07       69230.60    12    602  Wednesday\n",
       "602 2011-12-08       50395.96    12    603   Thursday\n",
       "603 2011-12-09      184347.66    12    604     Friday\n",
       "\n",
       "[604 rows x 5 columns]"
      ],
      "text/html": [
       "<div>\n",
       "<style scoped>\n",
       "    .dataframe tbody tr th:only-of-type {\n",
       "        vertical-align: middle;\n",
       "    }\n",
       "\n",
       "    .dataframe tbody tr th {\n",
       "        vertical-align: top;\n",
       "    }\n",
       "\n",
       "    .dataframe thead th {\n",
       "        text-align: right;\n",
       "    }\n",
       "</style>\n",
       "<table border=\"1\" class=\"dataframe\">\n",
       "  <thead>\n",
       "    <tr style=\"text-align: right;\">\n",
       "      <th></th>\n",
       "      <th>date</th>\n",
       "      <th>total_revenue</th>\n",
       "      <th>month</th>\n",
       "      <th>trend</th>\n",
       "      <th>dayofweek1</th>\n",
       "    </tr>\n",
       "  </thead>\n",
       "  <tbody>\n",
       "    <tr>\n",
       "      <th>0</th>\n",
       "      <td>2009-12-01</td>\n",
       "      <td>43894.87</td>\n",
       "      <td>12</td>\n",
       "      <td>1</td>\n",
       "      <td>Tuesday</td>\n",
       "    </tr>\n",
       "    <tr>\n",
       "      <th>1</th>\n",
       "      <td>2009-12-02</td>\n",
       "      <td>52762.06</td>\n",
       "      <td>12</td>\n",
       "      <td>2</td>\n",
       "      <td>Wednesday</td>\n",
       "    </tr>\n",
       "    <tr>\n",
       "      <th>2</th>\n",
       "      <td>2009-12-03</td>\n",
       "      <td>67413.62</td>\n",
       "      <td>12</td>\n",
       "      <td>3</td>\n",
       "      <td>Thursday</td>\n",
       "    </tr>\n",
       "    <tr>\n",
       "      <th>3</th>\n",
       "      <td>2009-12-04</td>\n",
       "      <td>33913.81</td>\n",
       "      <td>12</td>\n",
       "      <td>4</td>\n",
       "      <td>Friday</td>\n",
       "    </tr>\n",
       "    <tr>\n",
       "      <th>4</th>\n",
       "      <td>2009-12-05</td>\n",
       "      <td>9803.05</td>\n",
       "      <td>12</td>\n",
       "      <td>5</td>\n",
       "      <td>Saturday</td>\n",
       "    </tr>\n",
       "    <tr>\n",
       "      <th>...</th>\n",
       "      <td>...</td>\n",
       "      <td>...</td>\n",
       "      <td>...</td>\n",
       "      <td>...</td>\n",
       "      <td>...</td>\n",
       "    </tr>\n",
       "    <tr>\n",
       "      <th>599</th>\n",
       "      <td>2011-12-05</td>\n",
       "      <td>58081.09</td>\n",
       "      <td>12</td>\n",
       "      <td>600</td>\n",
       "      <td>Monday</td>\n",
       "    </tr>\n",
       "    <tr>\n",
       "      <th>600</th>\n",
       "      <td>2011-12-06</td>\n",
       "      <td>45989.66</td>\n",
       "      <td>12</td>\n",
       "      <td>601</td>\n",
       "      <td>Tuesday</td>\n",
       "    </tr>\n",
       "    <tr>\n",
       "      <th>601</th>\n",
       "      <td>2011-12-07</td>\n",
       "      <td>69230.60</td>\n",
       "      <td>12</td>\n",
       "      <td>602</td>\n",
       "      <td>Wednesday</td>\n",
       "    </tr>\n",
       "    <tr>\n",
       "      <th>602</th>\n",
       "      <td>2011-12-08</td>\n",
       "      <td>50395.96</td>\n",
       "      <td>12</td>\n",
       "      <td>603</td>\n",
       "      <td>Thursday</td>\n",
       "    </tr>\n",
       "    <tr>\n",
       "      <th>603</th>\n",
       "      <td>2011-12-09</td>\n",
       "      <td>184347.66</td>\n",
       "      <td>12</td>\n",
       "      <td>604</td>\n",
       "      <td>Friday</td>\n",
       "    </tr>\n",
       "  </tbody>\n",
       "</table>\n",
       "<p>604 rows × 5 columns</p>\n",
       "</div>"
      ]
     },
     "metadata": {},
     "execution_count": 32
    }
   ],
   "metadata": {}
  },
  {
   "cell_type": "markdown",
   "source": [],
   "metadata": {}
  },
  {
   "cell_type": "code",
   "execution_count": 33,
   "source": [
    "\n",
    "plt.plot(daily_revenue['date'],daily_revenue['total_revenue'])\n"
   ],
   "outputs": [
    {
     "output_type": "execute_result",
     "data": {
      "text/plain": [
       "[<matplotlib.lines.Line2D at 0x7f86ff8c2a10>]"
      ]
     },
     "metadata": {},
     "execution_count": 33
    },
    {
     "output_type": "display_data",
     "data": {
      "text/plain": [
       "<Figure size 432x288 with 1 Axes>"
      ],
      "image/png": "[encoded data removed]"
     },
     "metadata": {
      "needs_background": "light"
     }
    }
   ],
   "metadata": {}
  },
  {
   "cell_type": "code",
   "execution_count": 34,
   "source": [
    "# training"
   ],
   "outputs": [],
   "metadata": {}
  },
  {
   "cell_type": "code",
   "execution_count": 35,
   "source": [
    "from sklearn.model_selection import train_test_split"
   ],
   "outputs": [],
   "metadata": {}
  },
  {
   "cell_type": "code",
   "execution_count": 36,
   "source": [
    "daily_revenue_encoded.shape"
   ],
   "outputs": [
    {
     "output_type": "execute_result",
     "data": {
      "text/plain": [
       "(604, 22)"
      ]
     },
     "metadata": {},
     "execution_count": 36
    }
   ],
   "metadata": {}
  },
  {
   "cell_type": "code",
   "execution_count": 38,
   "source": [
    "X = daily_revenue_encoded.drop(['date', 'total_revenue'], axis=1).values"
   ],
   "outputs": [],
   "metadata": {}
  },
  {
   "cell_type": "code",
   "execution_count": 39,
   "source": [
    "X"
   ],
   "outputs": [
    {
     "output_type": "execute_result",
     "data": {
      "text/plain": [
       "array([[  1,   0,   0, ...,   0,   1,   0],\n",
       "       [  2,   0,   0, ...,   0,   0,   1],\n",
       "       [  3,   0,   0, ...,   1,   0,   0],\n",
       "       ...,\n",
       "       [602,   0,   0, ...,   0,   0,   1],\n",
       "       [603,   0,   0, ...,   1,   0,   0],\n",
       "       [604,   0,   0, ...,   0,   0,   0]])"
      ]
     },
     "metadata": {},
     "execution_count": 39
    }
   ],
   "metadata": {}
  },
  {
   "cell_type": "code",
   "execution_count": 40,
   "source": [
    "y = daily_revenue_encoded['total_revenue'].values"
   ],
   "outputs": [],
   "metadata": {}
  },
  {
   "cell_type": "code",
   "execution_count": 41,
   "source": [
    "y"
   ],
   "outputs": [
    {
     "output_type": "execute_result",
     "data": {
      "text/plain": [
       "array([ 43894.87 ,  52762.06 ,  67413.62 ,  33913.81 ,   9803.05 ,\n",
       "        24390.1  ,  33002.49 ,  44763.34 ,  30763.17 ,  38598.21 ,\n",
       "        39204.17 ,  21577.35 ,  51245.16 ,  46836.63 ,  36927.3  ,\n",
       "        29758.87 ,  31562.72 ,  11355.19 ,  15549.64 ,  10696.59 ,\n",
       "         9485.67 ,  13415.09 ,  19051.19 ,   8731.26 ,  72989.38 ,\n",
       "        30292.7  ,  23157.33 ,  19684.49 ,  38833.58 ,  12391.1  ,\n",
       "        23721.64 ,  13499.55 ,  17363.25 ,  12078.84 ,  21892.791,\n",
       "        13244.34 ,  27359.23 ,  29345.83 ,  15552.32 ,  18346.54 ,\n",
       "        38570.37 ,  23722.72 ,  18914.83 ,  25382.441,  18261.86 ,\n",
       "        16606.931,  19532.03 ,  17230.061,  22486.01 ,  19420.74 ,\n",
       "        17023.92 ,  13016.04 ,  18398.26 ,   6082.34 ,  15061.87 ,\n",
       "         9728.96 ,  17772.19 ,  42318.211,  25669.01 ,  26455.22 ,\n",
       "        35737.24 ,  18931.99 ,  11394.731,  26336.24 ,  20840.01 ,\n",
       "        30392.661,  44604.16 ,  12778.641,  16741.49 ,  23933.87 ,\n",
       "        21667.8  ,  31849.7  ,  29966.35 ,  25361.64 ,  19034.6  ,\n",
       "        26605.58 ,  19665.69 ,  22905.79 ,  21537.09 ,  19123.05 ,\n",
       "         8947.9  ,  20536.681,  21048.78 ,  29543.78 ,  37570.75 ,\n",
       "        35274.3  ,  20485.48 ,  21494.16 ,  41826.29 ,  25970.5  ,\n",
       "        30503.38 ,  29867.35 ,  22402.   ,  31740.38 ,  33524.51 ,\n",
       "        24591.07 ,  28646.66 ,  17900.83 ,  32146.75 ,  39866.6  ,\n",
       "        14668.53 ,  19732.05 ,  25912.471,  25736.04 ,  27054.25 ,\n",
       "        19538.34 ,  19363.82 ,  23934.46 ,  24561.04 ,  21202.35 ,\n",
       "        25873.86 ,  35741.2  ,  14969.64 ,  16574.53 ,  29734.03 ,\n",
       "        43534.06 ,  31181.87 ,  29575.671,  24532.95 ,  12342.17 ,\n",
       "        18945.33 ,  23625.22 ,  51704.13 ,  31976.09 ,  22852.06 ,\n",
       "        26496.43 ,  25201.04 ,  29744.74 ,  38966.   ,  16895.24 ,\n",
       "        18370.09 ,  23290.76 ,  26164.58 ,  16575.5  ,  25331.44 ,\n",
       "        22494.36 ,  24824.93 ,  33536.19 ,  20415.92 ,  29586.64 ,\n",
       "        29221.67 ,  18569.88 ,  10702.97 ,  13093.79 ,  13714.76 ,\n",
       "        26644.63 ,  11447.73 ,  25457.15 ,  45523.11 ,  48215.48 ,\n",
       "        36508.94 ,  18009.12 ,  30835.29 ,  21147.77 ,  21317.37 ,\n",
       "        26937.46 ,  29229.94 ,  22635.35 ,  17788.69 ,   9078.58 ,\n",
       "        18116.21 ,  12414.03 ,  25098.24 ,  17217.85 ,  12371.59 ,\n",
       "        18706.92 ,  51132.78 ,  32236.92 ,  31491.43 ,  28830.02 ,\n",
       "        16726.13 ,  10376.29 ,  30963.57 ,  19917.28 ,  24902.95 ,\n",
       "        19973.45 ,  33408.64 ,   7609.23 ,  16101.17 ,  17419.12 ,\n",
       "        19418.63 ,  55836.91 ,  21137.76 ,  14581.99 ,  28611.56 ,\n",
       "        23124.39 ,  19142.73 ,  21620.39 ,  23886.33 ,  17230.6  ,\n",
       "        20232.85 ,  28265.86 ,  23252.72 ,  32801.91 ,  14363.69 ,\n",
       "        30637.95 ,  26124.16 ,  22362.79 ,  17555.5  ,  23145.06 ,\n",
       "        14728.15 ,  13950.71 ,  31336.59 ,  28209.74 ,  18629.86 ,\n",
       "        26031.28 ,  15150.14 ,  20484.46 ,  14270.74 ,  28802.52 ,\n",
       "        35122.52 ,  30663.35 ,  23250.77 ,  22677.01 ,  20655.35 ,\n",
       "        26577.16 ,  30466.76 ,  31964.34 ,  12166.64 ,  14449.3  ,\n",
       "        22811.75 ,  20351.36 ,  33430.57 ,  34739.16 ,  12286.71 ,\n",
       "        23717.79 ,  24397.45 ,  16175.22 ,  23526.38 ,  15988.35 ,\n",
       "        15528.75 ,  32892.16 ,  19705.02 ,  33812.4  ,  27099.271,\n",
       "        19486.54 ,  22783.53 ,  38563.96 ,  54698.89 ,  27208.8  ,\n",
       "        34305.1  ,  47106.39 ,  21703.9  , 115172.24 ,  40015.41 ,\n",
       "        36740.03 ,  37578.57 ,  34550.89 ,  38335.52 ,  34956.56 ,\n",
       "        55108.91 ,  30355.01 ,  47610.92 ,  51836.73 ,  23139.31 ,\n",
       "        39962.9  ,  46566.35 ,  51564.7  ,  86945.13 ,  42398.82 ,\n",
       "        31176.14 ,  36591.44 ,  46577.64 ,  43387.26 ,  32847.8  ,\n",
       "        32843.94 ,  28634.59 ,  27945.06 ,  42545.95 ,  30480.55 ,\n",
       "        30701.3  ,  36100.95 ,  29947.64 ,  20730.24 ,  42866.91 ,\n",
       "        42870.87 ,  83876.12 ,  40907.93 ,  31345.79 ,  32303.991,\n",
       "        53013.21 ,  73575.93 ,  59712.61 ,  36167.25 ,  27934.71 ,\n",
       "        42964.04 ,  63788.84 ,  45726.741,  37074.97 ,  39999.42 ,\n",
       "        32056.05 ,  31724.88 ,  49805.35 ,  41138.6  ,  67870.96 ,\n",
       "        28828.04 ,  27125.16 ,  63245.18 ,  49806.23 ,  46192.49 ,\n",
       "        47197.57 ,  23876.63 ,  31361.28 ,  31009.33 ,  53730.96 ,\n",
       "        39094.2  ,  38193.91 ,  33488.38 ,  17102.35 ,  27578.34 ,\n",
       "        29235.13 ,  30251.47 ,  48791.87 ,  19966.36 ,   7292.95 ,\n",
       "        19599.06 ,  15929.16 ,   4886.52 ,   5644.77 ,  12105.11 ,\n",
       "        28799.43 ,  34343.79 ,  23797.79 ,  15590.68 ,  15330.83 ,\n",
       "        60243.73 ,  17124.74 ,  15159.46 ,  39509.7  ,   6976.39 ,\n",
       "        16527.05 ,  87559.21 ,  21586.78 ,  15197.08 ,  24276.01 ,\n",
       "        10306.1  ,  17601.87 ,  23994.38 ,  17424.45 ,  22050.49 ,\n",
       "        17247.2  ,   6542.61 ,  18806.43 ,  26358.7  ,  17091.15 ,\n",
       "        22171.9  ,  18087.96 ,   3439.67 ,  23382.97 ,  14153.34 ,\n",
       "        11910.83 ,  14155.36 ,  18579.96 ,   5645.48 ,  22999.39 ,\n",
       "        37750.62 ,  23413.97 ,  17659.64 ,  14438.73 ,   9437.8  ,\n",
       "        32724.38 ,  29116.63 ,  19315.97 ,  21463.94 ,  18377.14 ,\n",
       "         9382.71 ,  15026.68 ,  23621.59 ,  18666.14 ,  32818.19 ,\n",
       "        17302.55 ,   9951.67 ,  20247.85 ,  22184.11 ,  20320.23 ,\n",
       "        24429.77 ,  20894.75 ,   4117.22 ,  25866.33 ,  14896.28 ,\n",
       "        21715.11 ,  31976.51 ,  23334.6  ,  19880.99 ,  16020.1  ,\n",
       "        19016.94 ,  21566.02 ,  36496.79 ,  27271.1  ,   9189.77 ,\n",
       "        19961.67 ,  37190.52 ,  29523.85 ,  25621.11 ,  24487.9  ,\n",
       "         6872.53 ,  28998.01 ,  28667.42 ,  12698.32 ,  16780.32 ,\n",
       "        22673.91 ,   9879.75 ,  20179.7  ,  23988.6  ,  24450.27 ,\n",
       "        35682.73 ,  17999.181,  12630.34 ,  43671.37 ,  18811.19 ,\n",
       "        25715.8  ,  27771.04 ,  21536.86 ,  23566.91 ,  21312.18 ,\n",
       "         6958.11 ,  28877.21 ,  27509.81 ,  25191.79 ,  30783.33 ,\n",
       "        18731.98 ,  21608.16 ,  29807.25 ,  31848.3  ,  59827.74 ,\n",
       "        25815.72 ,   9667.15 ,  35706.7  ,  46361.09 ,  32775.69 ,\n",
       "        31521.87 ,  25351.44 ,  24102.   ,  31232.53 ,  32460.83 ,\n",
       "        21870.71 ,  32764.38 ,  21109.22 ,   7338.94 ,  18133.2  ,\n",
       "        15380.39 ,  28078.91 ,  15024.11 ,  25423.76 ,  16269.03 ,\n",
       "        33807.85 ,  30122.23 ,  42862.8  ,  58245.12 ,  12397.09 ,\n",
       "        19696.66 ,  33324.49 ,  44954.18 ,  32252.1  ,  19053.53 ,\n",
       "        22421.48 ,  26110.99 ,  19827.91 ,  21143.75 ,  22469.62 ,\n",
       "        16016.04 ,   7032.36 ,  13381.75 ,  30470.88 ,  12569.78 ,\n",
       "        41709.24 ,  12146.44 ,   5972.73 ,  30941.37 ,  25988.51 ,\n",
       "        22934.22 ,  27860.38 ,  17538.5  ,   5959.54 ,  20008.83 ,\n",
       "        17938.49 ,  19411.52 ,  31979.04 ,  11814.7  ,  16926.15 ,\n",
       "        22001.63 ,  46583.01 ,  27021.06 ,  30271.94 ,  14628.88 ,\n",
       "        26777.92 ,  19676.55 ,  17284.301,  22846.13 ,  54171.95 ,\n",
       "        17166.75 ,  33112.36 ,  19778.12 ,  20272.   ,  26572.83 ,\n",
       "        62074.19 ,  19703.95 ,   7541.91 ,  19743.98 ,  25949.92 ,\n",
       "        19853.41 ,  54325.27 ,  17970.17 ,   5701.87 ,  17235.95 ,\n",
       "        16072.71 ,  48554.44 ,  54034.98 ,  17326.07 ,  14410.25 ,\n",
       "        29617.26 ,  22384.02 ,  38371.37 ,  22441.26 ,  24095.49 ,\n",
       "        10686.56 ,   8805.17 ,  20527.89 ,  37358.62 ,  30203.86 ,\n",
       "        16930.43 ,  35439.91 ,  25466.97 ,  21967.42 ,  23048.38 ,\n",
       "        25082.86 ,  35206.92 ,  27777.36 ,  48116.5  ,  22013.75 ,\n",
       "        71926.69 ,  23245.03 ,  15639.55 ,  46588.21 , 103377.68 ,\n",
       "        38472.1  ,  57734.98 ,  31753.75 ,  31164.781,  29265.511,\n",
       "        29212.32 ,  39001.91 ,  44671.27 ,  40023.44 ,  11479.98 ,\n",
       "        62143.07 ,  38532.09 ,  73975.57 ,  60258.53 ,  49089.47 ,\n",
       "        12215.51 ,  42962.8  ,  46401.14 ,  27655.2  ,  32850.25 ,\n",
       "        32071.62 ,  21767.94 ,  46868.65 ,  37248.16 ,  37227.88 ,\n",
       "        60910.3  ,  60364.01 ,  12156.57 ,  38897.89 ,  36113.86 ,\n",
       "        34105.36 ,  55747.2  ,  37194.58 ,  34397.95 ,  33006.87 ,\n",
       "        29069.56 ,  38536.44 ,  60536.09 ,  55716.47 ,  42508.59 ,\n",
       "        28602.73 ,  38151.91 ,  61241.58 ,  70373.03 ,  36932.07 ,\n",
       "        28416.01 ,  58595.22 ,  47535.51 ,  48154.12 ,  55683.49 ,\n",
       "        36606.25 ,  29642.39 ,  45202.01 ,  49438.55 ,  71722.75 ,\n",
       "        38359.69 ,  26542.33 ,  16969.25 ,  51632.21 ,  48640.57 ,\n",
       "        41396.79 ,  44405.37 ,  44526.1  ,  20232.   ,  58081.09 ,\n",
       "        45989.66 ,  69230.6  ,  50395.96 , 184347.66 ])"
      ]
     },
     "metadata": {},
     "execution_count": 41
    }
   ],
   "metadata": {}
  },
  {
   "cell_type": "code",
   "execution_count": 42,
   "source": [
    "X_train, X_test, y_train, y_test = train_test_split(X,y, test_size=0.2, shuffle=False)"
   ],
   "outputs": [],
   "metadata": {}
  },
  {
   "cell_type": "code",
   "execution_count": 44,
   "source": [
    "len(X_train)"
   ],
   "outputs": [
    {
     "output_type": "execute_result",
     "data": {
      "text/plain": [
       "483"
      ]
     },
     "metadata": {},
     "execution_count": 44
    }
   ],
   "metadata": {}
  },
  {
   "cell_type": "code",
   "execution_count": 45,
   "source": [
    "len(X_test)"
   ],
   "outputs": [
    {
     "output_type": "execute_result",
     "data": {
      "text/plain": [
       "121"
      ]
     },
     "metadata": {},
     "execution_count": 45
    }
   ],
   "metadata": {}
  },
  {
   "cell_type": "code",
   "execution_count": 47,
   "source": [
    "from sklearn.linear_model import LinearRegression, Lasso\n",
    "from sklearn.tree import DecisionTreeRegressor\n",
    "from sklearn.metrics import mean_squared_error, mean_absolute_error\n",
    "from sklearn.neighbors import KNeighborsRegressor"
   ],
   "outputs": [],
   "metadata": {}
  },
  {
   "cell_type": "code",
   "execution_count": 54,
   "source": [
    "# model linear\n",
    "# model lasso\n",
    "# model tree\n",
    "# model knn\n",
    "model_linear = LinearRegression().fit(X_train,y_train)\n",
    "model_lasso = Lasso(alpha=0.006, normalize=True, tol=0.000001, max_iter=1000).fit(X_train, y_train)\n",
    "model_tree = DecisionTreeRegressor().fit(X_train,y_train)\n",
    "model_knn = KNeighborsRegressor(n_neighbors=3).fit(X_train, y_train)"
   ],
   "outputs": [
    {
     "output_type": "stream",
     "name": "stderr",
     "text": [
      "/Users/dang/Desktop/Learning/Mygit/datascience_supplychain_practice/env/lib/python3.7/site-packages/sklearn/linear_model/_coordinate_descent.py:532: ConvergenceWarning: Objective did not converge. You might want to increase the number of iterations. Duality gap: 1351571149.9668198, tolerance: 85916.1689576716\n",
      "  positive)\n"
     ]
    }
   ],
   "metadata": {}
  },
  {
   "cell_type": "code",
   "execution_count": 55,
   "source": [
    "### training score\n",
    "model_linear.score(X_train, y_train)\n",
    "print(model_linear.score(X_train, y_train))\n",
    "model_lasso.score(X_train, y_train)\n",
    "print(model_lasso.score(X_train, y_train))\n",
    "model_tree.score(X_train, y_train)\n",
    "print(model_tree.score(X_train, y_train))\n",
    "model_knn.score(X_train, y_train)\n",
    "print(model_knn.score(X_train, y_train))"
   ],
   "outputs": [
    {
     "output_type": "stream",
     "name": "stdout",
     "text": [
      "0.3796656758128837\n",
      "0.3796656746191387\n",
      "1.0\n",
      "0.5900015742911999\n"
     ]
    }
   ],
   "metadata": {}
  },
  {
   "cell_type": "code",
   "execution_count": 56,
   "source": [
    "### Testing Score\n",
    "model_linear.score(X_test,y_test)\n",
    "print(model_linear.score(X_test, y_test))\n",
    "model_lasso.score(X_test, y_test)\n",
    "print(model_lasso.score(X_test, y_test))\n",
    "model_tree.score(X_test, y_test)\n",
    "print(model_tree.score(X_test,y_test))\n",
    "model_knn.score(X_test, y_test)\n",
    "print(model_knn.score(X_test, y_test))"
   ],
   "outputs": [
    {
     "output_type": "stream",
     "name": "stdout",
     "text": [
      "0.11940207833647809\n",
      "0.11940015414401006\n",
      "-0.689449221481963\n",
      "-0.06775884984147851\n"
     ]
    }
   ],
   "metadata": {}
  },
  {
   "cell_type": "code",
   "execution_count": 57,
   "source": [
    "### predictions\n",
    "y_linear = model_linear.predict(X_test)\n",
    "y_lasso = model_lasso.predict(X_test)\n",
    "y_tree = model_tree.predict(X_test)\n",
    "y_knn = model_knn.predict(X_test)"
   ],
   "outputs": [],
   "metadata": {}
  },
  {
   "cell_type": "code",
   "execution_count": 58,
   "source": [
    "### mean squared error\n",
    "mean_squared_error(y_test, y_linear)\n",
    "print(mean_squared_error(y_test, y_linear))\n",
    "mean_squared_error(y_test, y_lasso)\n",
    "print(mean_squared_error(y_test, y_lasso))\n",
    "mean_squared_error(y_test, y_tree)\n",
    "print(mean_squared_error(y_test, y_tree))\n",
    "mean_squared_error(y_test, y_knn)\n",
    "print(mean_squared_error(y_test, y_knn))"
   ],
   "outputs": [
    {
     "output_type": "stream",
     "name": "stdout",
     "text": [
      "414852034.61777323\n",
      "414852941.10998803\n",
      "795904043.9150726\n",
      "503024048.13888186\n"
     ]
    }
   ],
   "metadata": {}
  },
  {
   "cell_type": "code",
   "execution_count": 59,
   "source": [
    "### mean absoluate error\n",
    "mean_absolute_error(y_test,y_linear)\n",
    "print(mean_absolute_error(y_test,y_linear))\n",
    "mean_absolute_error(y_test,y_lasso)\n",
    "print(mean_absolute_error(y_test,y_lasso))\n",
    "mean_absolute_error(y_test,y_tree)\n",
    "print(mean_absolute_error(y_test,y_tree))\n",
    "mean_absolute_error(y_test,y_knn)\n",
    "print(mean_absolute_error(y_test,y_knn))\n"
   ],
   "outputs": [
    {
     "output_type": "stream",
     "name": "stdout",
     "text": [
      "11604.045713869898\n",
      "11604.132357418448\n",
      "17410.624867768558\n",
      "15038.95661432505\n"
     ]
    }
   ],
   "metadata": {}
  },
  {
   "cell_type": "code",
   "execution_count": 60,
   "source": [
    "### parameter tuning"
   ],
   "outputs": [],
   "metadata": {}
  },
  {
   "cell_type": "code",
   "execution_count": 61,
   "source": [
    "MAE_training = []\n",
    "MAE_testing = []\n",
    "neighbors = range(1,20)\n",
    "\n",
    "for n in neighbors:\n",
    "    model = KNeighborsRegressor(n_neighbors=n).fit(X_train,y_train)\n",
    "    y_predict_training = model.predict(X_train)\n",
    "    y_predict_testing = model.predict(X_test)\n",
    "    training = mean_absolute_error(y_predict_training, y_train)\n",
    "    testing = mean_absolute_error(y_predict_testing, y_test)\n",
    "    MAE_training.append(training)\n",
    "    MAE_testing.append(testing)"
   ],
   "outputs": [],
   "metadata": {}
  },
  {
   "cell_type": "code",
   "execution_count": 62,
   "source": [
    "plt.plot(neighbors,MAE_training,label='training')\n",
    "plt.plot(neighbors,MAE_testing,label='testing')\n",
    "plt.legend(loc='upper left')\n",
    "\n"
   ],
   "outputs": [
    {
     "output_type": "execute_result",
     "data": {
      "text/plain": [
       "<matplotlib.legend.Legend at 0x7f86fde63450>"
      ]
     },
     "metadata": {},
     "execution_count": 62
    },
    {
     "output_type": "display_data",
     "data": {
      "text/plain": [
       "<Figure size 432x288 with 1 Axes>"
      ],
      "image/png": "[encoded data removed]"
     },
     "metadata": {
      "needs_background": "light"
     }
    }
   ],
   "metadata": {}
  },
  {
   "cell_type": "code",
   "execution_count": 63,
   "source": [
    "import numpy as np\n",
    "MAE_training = []\n",
    "MAE_testing = []\n",
    "model_scores = []\n",
    "alphas = np.linspace(0, 1, 100)"
   ],
   "outputs": [],
   "metadata": {}
  },
  {
   "cell_type": "code",
   "execution_count": 64,
   "source": [
    "for alpha in alphas:\n",
    "    model = Lasso(alpha=alpha, normalize=True, fit_intercept=True,\n",
    "    max_iter=20000).fit(X_train,y_train)\n",
    "    y_predict_training = model.predict(X_train)\n",
    "    y_predict_testing = model.predict(X_test)\n",
    "    scores = model.score(X_train, y_train)\n",
    "    training = mean_absolute_error(y_predict_training, y_train)\n",
    "    testing = mean_absolute_error(y_predict_testing, y_test)\n",
    "    MAE_training.append(training)\n",
    "    MAE_testing.append(testing)\n",
    "    model_scores.append(scores)"
   ],
   "outputs": [
    {
     "output_type": "stream",
     "name": "stderr",
     "text": [
      "/Users/dang/Desktop/Learning/Mygit/datascience_supplychain_practice/env/lib/python3.7/site-packages/ipykernel_launcher.py:3: UserWarning: With alpha=0, this algorithm does not converge well. You are advised to use the LinearRegression estimator\n",
      "  This is separate from the ipykernel package so we can avoid doing imports until\n",
      "/Users/dang/Desktop/Learning/Mygit/datascience_supplychain_practice/env/lib/python3.7/site-packages/sklearn/linear_model/_coordinate_descent.py:532: UserWarning: Coordinate descent with no regularization may lead to unexpected results and is discouraged.\n",
      "  positive)\n",
      "/Users/dang/Desktop/Learning/Mygit/datascience_supplychain_practice/env/lib/python3.7/site-packages/sklearn/linear_model/_coordinate_descent.py:532: ConvergenceWarning: Objective did not converge. You might want to increase the number of iterations. Duality gap: 26648374303.555267, tolerance: 8591616.89576716\n",
      "  positive)\n",
      "/Users/dang/Desktop/Learning/Mygit/datascience_supplychain_practice/env/lib/python3.7/site-packages/sklearn/linear_model/_coordinate_descent.py:532: ConvergenceWarning: Objective did not converge. You might want to increase the number of iterations. Duality gap: 67195647.08194733, tolerance: 8591616.89576716\n",
      "  positive)\n"
     ]
    }
   ],
   "metadata": {}
  },
  {
   "cell_type": "code",
   "execution_count": 65,
   "source": [
    "plt.plot(alphas,MAE_training,label='training')\n",
    "plt.plot(alphas,MAE_testing,label='testing')\n",
    "plt.legend(loc='upper left')\n"
   ],
   "outputs": [
    {
     "output_type": "execute_result",
     "data": {
      "text/plain": [
       "<matplotlib.legend.Legend at 0x7f86fadb4fd0>"
      ]
     },
     "metadata": {},
     "execution_count": 65
    },
    {
     "output_type": "display_data",
     "data": {
      "text/plain": [
       "<Figure size 432x288 with 1 Axes>"
      ],
      "image/png": "[encoded data removed]"
     },
     "metadata": {
      "needs_background": "light"
     }
    }
   ],
   "metadata": {}
  },
  {
   "cell_type": "code",
   "execution_count": 67,
   "source": [
    "\n",
    "alpha_data= pd.DataFrame({'alpha':alphas,'training': MAE_training,\n",
    "                          'testing':  MAE_testing,'scores':model_scores})\n",
    "\n",
    "\n",
    "alpha_data[alpha_data.scores==max(alpha_data.scores)]\n",
    "\n",
    "model_alpha= Lasso(alpha=20).fit(X_train,y_train)\n",
    "\n",
    "model_alpha.coef_\n",
    "\n",
    "names= daily_revenue_encoded.drop(['date','total_revenue'],axis=1).columns\n",
    "\n",
    "plt.plot(names,model_alpha.coef_)\n",
    "plt.xticks(rotation=90)\n",
    "\n",
    "data_ceof= pd.DataFrame({'names':names,'coef': model_alpha.coef_})\n",
    "\n"
   ],
   "outputs": [
    {
     "output_type": "display_data",
     "data": {
      "text/plain": [
       "<Figure size 432x288 with 1 Axes>"
      ],
      "image/png": "[encoded data removed]"
     },
     "metadata": {
      "needs_background": "light"
     }
    }
   ],
   "metadata": {}
  },
  {
   "cell_type": "code",
   "execution_count": null,
   "source": [],
   "outputs": [],
   "metadata": {}
  }
 ],
 "metadata": {
  "orig_nbformat": 4,
  "language_info": {
   "name": "python",
   "version": "3.7.9",
   "mimetype": "text/x-python",
   "codemirror_mode": {
    "name": "ipython",
    "version": 3
   },
   "pygments_lexer": "ipython3",
   "nbconvert_exporter": "python",
   "file_extension": ".py"
  },
  "kernelspec": {
   "name": "python3",
   "display_name": "Python 3.7.9 64-bit ('env': venv)"
  },
  "interpreter": {
   "hash": "272a83b994da64918daf8b774315e72334003c8696cc4358695b72acf32d7fce"
  }
 },
 "nbformat": 4,
 "nbformat_minor": 2
}