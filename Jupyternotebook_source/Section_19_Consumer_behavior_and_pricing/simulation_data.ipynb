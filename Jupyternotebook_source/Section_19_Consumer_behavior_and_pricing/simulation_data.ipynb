{
 "metadata": {
  "language_info": {
   "codemirror_mode": {
    "name": "ipython",
    "version": 3
   },
   "file_extension": ".py",
   "mimetype": "text/x-python",
   "name": "python",
   "nbconvert_exporter": "python",
   "pygments_lexer": "ipython3",
   "version": "3.7.9"
  },
  "orig_nbformat": 4,
  "kernelspec": {
   "name": "python3",
   "display_name": "Python 3.7.9 64-bit ('env': venv)"
  },
  "interpreter": {
   "hash": "272a83b994da64918daf8b774315e72334003c8696cc4358695b72acf32d7fce"
  }
 },
 "nbformat": 4,
 "nbformat_minor": 2,
 "cells": [
  {
   "cell_type": "code",
   "execution_count": 2,
   "metadata": {},
   "outputs": [],
   "source": [
    "import numpy as np\n",
    "import pandas as pd \n",
    "from sklearn.linear_model import LinearRegression\n",
    "import inventorize as inv "
   ]
  },
  {
   "cell_type": "code",
   "execution_count": 3,
   "metadata": {},
   "outputs": [],
   "source": [
    "price = [5,10,15,17,20,23,25]\n",
    "demand = [600, 550, 700, 680, 500, 400, 250]"
   ]
  },
  {
   "cell_type": "code",
   "execution_count": 5,
   "metadata": {},
   "outputs": [],
   "source": [
    "pricing_data = pd.DataFrame({\n",
    "    'price': price,\n",
    "    'demand': demand\n",
    "})"
   ]
  },
  {
   "cell_type": "code",
   "execution_count": 6,
   "metadata": {},
   "outputs": [
    {
     "output_type": "execute_result",
     "data": {
      "text/plain": [
       "   price  demand\n",
       "0      5     600\n",
       "1     10     550\n",
       "2     15     700\n",
       "3     17     680\n",
       "4     20     500\n",
       "5     23     400\n",
       "6     25     250"
      ],
      "text/html": "<div>\n<style scoped>\n    .dataframe tbody tr th:only-of-type {\n        vertical-align: middle;\n    }\n\n    .dataframe tbody tr th {\n        vertical-align: top;\n    }\n\n    .dataframe thead th {\n        text-align: right;\n    }\n</style>\n<table border=\"1\" class=\"dataframe\">\n  <thead>\n    <tr style=\"text-align: right;\">\n      <th></th>\n      <th>price</th>\n      <th>demand</th>\n    </tr>\n  </thead>\n  <tbody>\n    <tr>\n      <th>0</th>\n      <td>5</td>\n      <td>600</td>\n    </tr>\n    <tr>\n      <th>1</th>\n      <td>10</td>\n      <td>550</td>\n    </tr>\n    <tr>\n      <th>2</th>\n      <td>15</td>\n      <td>700</td>\n    </tr>\n    <tr>\n      <th>3</th>\n      <td>17</td>\n      <td>680</td>\n    </tr>\n    <tr>\n      <th>4</th>\n      <td>20</td>\n      <td>500</td>\n    </tr>\n    <tr>\n      <th>5</th>\n      <td>23</td>\n      <td>400</td>\n    </tr>\n    <tr>\n      <th>6</th>\n      <td>25</td>\n      <td>250</td>\n    </tr>\n  </tbody>\n</table>\n</div>"
     },
     "metadata": {},
     "execution_count": 6
    }
   ],
   "source": [
    "pricing_data"
   ]
  },
  {
   "cell_type": "code",
   "execution_count": 7,
   "metadata": {},
   "outputs": [],
   "source": [
    "model = LinearRegression()"
   ]
  },
  {
   "cell_type": "code",
   "execution_count": 9,
   "metadata": {},
   "outputs": [
    {
     "output_type": "execute_result",
     "data": {
      "text/plain": [
       "LinearRegression()"
      ]
     },
     "metadata": {},
     "execution_count": 9
    }
   ],
   "source": [
    "model.fit(pricing_data[['price']],\n",
    "pricing_data[['demand']])"
   ]
  },
  {
   "cell_type": "code",
   "execution_count": 10,
   "metadata": {},
   "outputs": [
    {
     "output_type": "execute_result",
     "data": {
      "text/plain": [
       "array([766.26999059])"
      ]
     },
     "metadata": {},
     "execution_count": 10
    }
   ],
   "source": [
    "model.intercept_"
   ]
  },
  {
   "cell_type": "code",
   "execution_count": 12,
   "metadata": {},
   "outputs": [
    {
     "output_type": "execute_result",
     "data": {
      "text/plain": [
       "array([[-14.64252117]])"
      ]
     },
     "metadata": {},
     "execution_count": 12
    }
   ],
   "source": [
    "model.coef_"
   ]
  },
  {
   "cell_type": "code",
   "execution_count": 20,
   "metadata": {},
   "outputs": [],
   "source": [
    "guava_cost = 2.5"
   ]
  },
  {
   "cell_type": "code",
   "execution_count": 14,
   "metadata": {},
   "outputs": [],
   "source": [
    "simulation_data = pd.DataFrame({\n",
    "    'price': range(1,50)\n",
    "})"
   ]
  },
  {
   "cell_type": "code",
   "execution_count": 16,
   "metadata": {},
   "outputs": [
    {
     "output_type": "execute_result",
     "data": {
      "text/plain": [
       "766.2699905926621"
      ]
     },
     "metadata": {},
     "execution_count": 16
    }
   ],
   "source": [
    "model.intercept_[0]"
   ]
  },
  {
   "cell_type": "code",
   "execution_count": 18,
   "metadata": {},
   "outputs": [],
   "source": [
    "simulation_data['expected_demand'] = model.intercept_[0] + model.coef_[0]* simulation_data['price']"
   ]
  },
  {
   "cell_type": "code",
   "execution_count": 21,
   "metadata": {},
   "outputs": [],
   "source": [
    "simulation_data['total_cost'] = simulation_data['expected_demand'] * guava_cost"
   ]
  },
  {
   "cell_type": "code",
   "execution_count": 23,
   "metadata": {},
   "outputs": [],
   "source": [
    "simulation_data['revenue'] = simulation_data['expected_demand'] * simulation_data['price']"
   ]
  },
  {
   "cell_type": "code",
   "execution_count": 24,
   "metadata": {},
   "outputs": [],
   "source": [
    "simulation_data['profit'] = simulation_data['revenue'] - simulation_data['total_cost']"
   ]
  },
  {
   "cell_type": "code",
   "execution_count": 25,
   "metadata": {},
   "outputs": [
    {
     "output_type": "execute_result",
     "data": {
      "text/plain": [
       "    price  expected_demand  total_cost       revenue       profit\n",
       "26     27       370.921919  927.304798  10014.891816  9087.587018"
      ],
      "text/html": "<div>\n<style scoped>\n    .dataframe tbody tr th:only-of-type {\n        vertical-align: middle;\n    }\n\n    .dataframe tbody tr th {\n        vertical-align: top;\n    }\n\n    .dataframe thead th {\n        text-align: right;\n    }\n</style>\n<table border=\"1\" class=\"dataframe\">\n  <thead>\n    <tr style=\"text-align: right;\">\n      <th></th>\n      <th>price</th>\n      <th>expected_demand</th>\n      <th>total_cost</th>\n      <th>revenue</th>\n      <th>profit</th>\n    </tr>\n  </thead>\n  <tbody>\n    <tr>\n      <th>26</th>\n      <td>27</td>\n      <td>370.921919</td>\n      <td>927.304798</td>\n      <td>10014.891816</td>\n      <td>9087.587018</td>\n    </tr>\n  </tbody>\n</table>\n</div>"
     },
     "metadata": {},
     "execution_count": 25
    }
   ],
   "source": [
    "simulation_data[simulation_data.profit == max(simulation_data.profit)]"
   ]
  },
  {
   "cell_type": "code",
   "execution_count": 27,
   "metadata": {},
   "outputs": [
    {
     "output_type": "execute_result",
     "data": {
      "text/plain": [
       "<matplotlib.legend.Legend at 0x7fbc8e4eef10>"
      ]
     },
     "metadata": {},
     "execution_count": 27
    },
    {
     "output_type": "display_data",
     "data": {
      "text/plain": "<Figure size 432x288 with 1 Axes>",
      "image/svg+xml": "<?xml version=\"1.0\" encoding=\"utf-8\" standalone=\"no\"?>\n<!DOCTYPE svg PUBLIC \"-//W3C//DTD SVG 1.1//EN\"\n  \"http://www.w3.org/Graphics/SVG/1.1/DTD/svg11.dtd\">\n<svg height=\"248.518125pt\" version=\"1.1\" viewBox=\"0 0 388.0125 248.518125\" width=\"388.0125pt\" xmlns=\"http://www.w3.org/2000/svg\" xmlns:xlink=\"http://www.w3.org/1999/xlink\">\n <metadata>\n  <rdf:RDF xmlns:cc=\"http://creativecommons.org/ns#\" xmlns:dc=\"http://purl.org/dc/elements/1.1/\" xmlns:rdf=\"http://www.w3.org/1999/02/22-rdf-syntax-ns#\">\n   <cc:Work>\n    <dc:type rdf:resource=\"http://purl.org/dc/dcmitype/StillImage\"/>\n    <dc:date>2021-07-19T15:18:05.794212</dc:date>\n    <dc:format>image/svg+xml</dc:format>\n    <dc:creator>\n     <cc:Agent>\n      <dc:title>Matplotlib v3.4.2, https://matplotlib.org/</dc:title>\n     </cc:Agent>\n    </dc:creator>\n   </cc:Work>\n  </rdf:RDF>\n </metadata>\n <defs>\n  <style type=\"text/css\">*{stroke-linecap:butt;stroke-linejoin:round;}</style>\n </defs>\n <g id=\"figure_1\">\n  <g id=\"patch_1\">\n   <path d=\"M 0 248.518125 \nL 388.0125 248.518125 \nL 388.0125 0 \nL 0 0 \nz\n\" style=\"fill:none;\"/>\n  </g>\n  <g id=\"axes_1\">\n   <g id=\"patch_2\">\n    <path d=\"M 46.0125 224.64 \nL 380.8125 224.64 \nL 380.8125 7.2 \nL 46.0125 7.2 \nz\n\" style=\"fill:#ffffff;\"/>\n   </g>\n   <g id=\"matplotlib.axis_1\">\n    <g id=\"xtick_1\">\n     <g id=\"line2d_1\">\n      <defs>\n       <path d=\"M 0 0 \nL 0 3.5 \n\" id=\"m9449cd63fb\" style=\"stroke:#000000;stroke-width:0.8;\"/>\n      </defs>\n      <g>\n       <use style=\"stroke:#000000;stroke-width:0.8;\" x=\"54.889773\" xlink:href=\"#m9449cd63fb\" y=\"224.64\"/>\n      </g>\n     </g>\n     <g id=\"text_1\">\n      <!-- 0 -->\n      <g transform=\"translate(51.708523 239.238437)scale(0.1 -0.1)\">\n       <defs>\n        <path d=\"M 2034 4250 \nQ 1547 4250 1301 3770 \nQ 1056 3291 1056 2328 \nQ 1056 1369 1301 889 \nQ 1547 409 2034 409 \nQ 2525 409 2770 889 \nQ 3016 1369 3016 2328 \nQ 3016 3291 2770 3770 \nQ 2525 4250 2034 4250 \nz\nM 2034 4750 \nQ 2819 4750 3233 4129 \nQ 3647 3509 3647 2328 \nQ 3647 1150 3233 529 \nQ 2819 -91 2034 -91 \nQ 1250 -91 836 529 \nQ 422 1150 422 2328 \nQ 422 3509 836 4129 \nQ 1250 4750 2034 4750 \nz\n\" id=\"DejaVuSans-30\" transform=\"scale(0.015625)\"/>\n       </defs>\n       <use xlink:href=\"#DejaVuSans-30\"/>\n      </g>\n     </g>\n    </g>\n    <g id=\"xtick_2\">\n     <g id=\"line2d_2\">\n      <g>\n       <use style=\"stroke:#000000;stroke-width:0.8;\" x=\"118.298864\" xlink:href=\"#m9449cd63fb\" y=\"224.64\"/>\n      </g>\n     </g>\n     <g id=\"text_2\">\n      <!-- 10 -->\n      <g transform=\"translate(111.936364 239.238437)scale(0.1 -0.1)\">\n       <defs>\n        <path d=\"M 794 531 \nL 1825 531 \nL 1825 4091 \nL 703 3866 \nL 703 4441 \nL 1819 4666 \nL 2450 4666 \nL 2450 531 \nL 3481 531 \nL 3481 0 \nL 794 0 \nL 794 531 \nz\n\" id=\"DejaVuSans-31\" transform=\"scale(0.015625)\"/>\n       </defs>\n       <use xlink:href=\"#DejaVuSans-31\"/>\n       <use x=\"63.623047\" xlink:href=\"#DejaVuSans-30\"/>\n      </g>\n     </g>\n    </g>\n    <g id=\"xtick_3\">\n     <g id=\"line2d_3\">\n      <g>\n       <use style=\"stroke:#000000;stroke-width:0.8;\" x=\"181.707955\" xlink:href=\"#m9449cd63fb\" y=\"224.64\"/>\n      </g>\n     </g>\n     <g id=\"text_3\">\n      <!-- 20 -->\n      <g transform=\"translate(175.345455 239.238437)scale(0.1 -0.1)\">\n       <defs>\n        <path d=\"M 1228 531 \nL 3431 531 \nL 3431 0 \nL 469 0 \nL 469 531 \nQ 828 903 1448 1529 \nQ 2069 2156 2228 2338 \nQ 2531 2678 2651 2914 \nQ 2772 3150 2772 3378 \nQ 2772 3750 2511 3984 \nQ 2250 4219 1831 4219 \nQ 1534 4219 1204 4116 \nQ 875 4013 500 3803 \nL 500 4441 \nQ 881 4594 1212 4672 \nQ 1544 4750 1819 4750 \nQ 2544 4750 2975 4387 \nQ 3406 4025 3406 3419 \nQ 3406 3131 3298 2873 \nQ 3191 2616 2906 2266 \nQ 2828 2175 2409 1742 \nQ 1991 1309 1228 531 \nz\n\" id=\"DejaVuSans-32\" transform=\"scale(0.015625)\"/>\n       </defs>\n       <use xlink:href=\"#DejaVuSans-32\"/>\n       <use x=\"63.623047\" xlink:href=\"#DejaVuSans-30\"/>\n      </g>\n     </g>\n    </g>\n    <g id=\"xtick_4\">\n     <g id=\"line2d_4\">\n      <g>\n       <use style=\"stroke:#000000;stroke-width:0.8;\" x=\"245.117045\" xlink:href=\"#m9449cd63fb\" y=\"224.64\"/>\n      </g>\n     </g>\n     <g id=\"text_4\">\n      <!-- 30 -->\n      <g transform=\"translate(238.754545 239.238437)scale(0.1 -0.1)\">\n       <defs>\n        <path d=\"M 2597 2516 \nQ 3050 2419 3304 2112 \nQ 3559 1806 3559 1356 \nQ 3559 666 3084 287 \nQ 2609 -91 1734 -91 \nQ 1441 -91 1130 -33 \nQ 819 25 488 141 \nL 488 750 \nQ 750 597 1062 519 \nQ 1375 441 1716 441 \nQ 2309 441 2620 675 \nQ 2931 909 2931 1356 \nQ 2931 1769 2642 2001 \nQ 2353 2234 1838 2234 \nL 1294 2234 \nL 1294 2753 \nL 1863 2753 \nQ 2328 2753 2575 2939 \nQ 2822 3125 2822 3475 \nQ 2822 3834 2567 4026 \nQ 2313 4219 1838 4219 \nQ 1578 4219 1281 4162 \nQ 984 4106 628 3988 \nL 628 4550 \nQ 988 4650 1302 4700 \nQ 1616 4750 1894 4750 \nQ 2613 4750 3031 4423 \nQ 3450 4097 3450 3541 \nQ 3450 3153 3228 2886 \nQ 3006 2619 2597 2516 \nz\n\" id=\"DejaVuSans-33\" transform=\"scale(0.015625)\"/>\n       </defs>\n       <use xlink:href=\"#DejaVuSans-33\"/>\n       <use x=\"63.623047\" xlink:href=\"#DejaVuSans-30\"/>\n      </g>\n     </g>\n    </g>\n    <g id=\"xtick_5\">\n     <g id=\"line2d_5\">\n      <g>\n       <use style=\"stroke:#000000;stroke-width:0.8;\" x=\"308.526136\" xlink:href=\"#m9449cd63fb\" y=\"224.64\"/>\n      </g>\n     </g>\n     <g id=\"text_5\">\n      <!-- 40 -->\n      <g transform=\"translate(302.163636 239.238437)scale(0.1 -0.1)\">\n       <defs>\n        <path d=\"M 2419 4116 \nL 825 1625 \nL 2419 1625 \nL 2419 4116 \nz\nM 2253 4666 \nL 3047 4666 \nL 3047 1625 \nL 3713 1625 \nL 3713 1100 \nL 3047 1100 \nL 3047 0 \nL 2419 0 \nL 2419 1100 \nL 313 1100 \nL 313 1709 \nL 2253 4666 \nz\n\" id=\"DejaVuSans-34\" transform=\"scale(0.015625)\"/>\n       </defs>\n       <use xlink:href=\"#DejaVuSans-34\"/>\n       <use x=\"63.623047\" xlink:href=\"#DejaVuSans-30\"/>\n      </g>\n     </g>\n    </g>\n    <g id=\"xtick_6\">\n     <g id=\"line2d_6\">\n      <g>\n       <use style=\"stroke:#000000;stroke-width:0.8;\" x=\"371.935227\" xlink:href=\"#m9449cd63fb\" y=\"224.64\"/>\n      </g>\n     </g>\n     <g id=\"text_6\">\n      <!-- 50 -->\n      <g transform=\"translate(365.572727 239.238437)scale(0.1 -0.1)\">\n       <defs>\n        <path d=\"M 691 4666 \nL 3169 4666 \nL 3169 4134 \nL 1269 4134 \nL 1269 2991 \nQ 1406 3038 1543 3061 \nQ 1681 3084 1819 3084 \nQ 2600 3084 3056 2656 \nQ 3513 2228 3513 1497 \nQ 3513 744 3044 326 \nQ 2575 -91 1722 -91 \nQ 1428 -91 1123 -41 \nQ 819 9 494 109 \nL 494 744 \nQ 775 591 1075 516 \nQ 1375 441 1709 441 \nQ 2250 441 2565 725 \nQ 2881 1009 2881 1497 \nQ 2881 1984 2565 2268 \nQ 2250 2553 1709 2553 \nQ 1456 2553 1204 2497 \nQ 953 2441 691 2322 \nL 691 4666 \nz\n\" id=\"DejaVuSans-35\" transform=\"scale(0.015625)\"/>\n       </defs>\n       <use xlink:href=\"#DejaVuSans-35\"/>\n       <use x=\"63.623047\" xlink:href=\"#DejaVuSans-30\"/>\n      </g>\n     </g>\n    </g>\n   </g>\n   <g id=\"matplotlib.axis_2\">\n    <g id=\"ytick_1\">\n     <g id=\"line2d_7\">\n      <defs>\n       <path d=\"M 0 0 \nL -3.5 0 \n\" id=\"m95d4060d02\" style=\"stroke:#000000;stroke-width:0.8;\"/>\n      </defs>\n      <g>\n       <use style=\"stroke:#000000;stroke-width:0.8;\" x=\"46.0125\" xlink:href=\"#m95d4060d02\" y=\"194.772321\"/>\n      </g>\n     </g>\n     <g id=\"text_7\">\n      <!-- 0 -->\n      <g transform=\"translate(32.65 198.571539)scale(0.1 -0.1)\">\n       <use xlink:href=\"#DejaVuSans-30\"/>\n      </g>\n     </g>\n    </g>\n    <g id=\"ytick_2\">\n     <g id=\"line2d_8\">\n      <g>\n       <use style=\"stroke:#000000;stroke-width:0.8;\" x=\"46.0125\" xlink:href=\"#m95d4060d02\" y=\"159.322059\"/>\n      </g>\n     </g>\n     <g id=\"text_8\">\n      <!-- 2000 -->\n      <g transform=\"translate(13.5625 163.121278)scale(0.1 -0.1)\">\n       <use xlink:href=\"#DejaVuSans-32\"/>\n       <use x=\"63.623047\" xlink:href=\"#DejaVuSans-30\"/>\n       <use x=\"127.246094\" xlink:href=\"#DejaVuSans-30\"/>\n       <use x=\"190.869141\" xlink:href=\"#DejaVuSans-30\"/>\n      </g>\n     </g>\n    </g>\n    <g id=\"ytick_3\">\n     <g id=\"line2d_9\">\n      <g>\n       <use style=\"stroke:#000000;stroke-width:0.8;\" x=\"46.0125\" xlink:href=\"#m95d4060d02\" y=\"123.871797\"/>\n      </g>\n     </g>\n     <g id=\"text_9\">\n      <!-- 4000 -->\n      <g transform=\"translate(13.5625 127.671016)scale(0.1 -0.1)\">\n       <use xlink:href=\"#DejaVuSans-34\"/>\n       <use x=\"63.623047\" xlink:href=\"#DejaVuSans-30\"/>\n       <use x=\"127.246094\" xlink:href=\"#DejaVuSans-30\"/>\n       <use x=\"190.869141\" xlink:href=\"#DejaVuSans-30\"/>\n      </g>\n     </g>\n    </g>\n    <g id=\"ytick_4\">\n     <g id=\"line2d_10\">\n      <g>\n       <use style=\"stroke:#000000;stroke-width:0.8;\" x=\"46.0125\" xlink:href=\"#m95d4060d02\" y=\"88.421535\"/>\n      </g>\n     </g>\n     <g id=\"text_10\">\n      <!-- 6000 -->\n      <g transform=\"translate(13.5625 92.220754)scale(0.1 -0.1)\">\n       <defs>\n        <path d=\"M 2113 2584 \nQ 1688 2584 1439 2293 \nQ 1191 2003 1191 1497 \nQ 1191 994 1439 701 \nQ 1688 409 2113 409 \nQ 2538 409 2786 701 \nQ 3034 994 3034 1497 \nQ 3034 2003 2786 2293 \nQ 2538 2584 2113 2584 \nz\nM 3366 4563 \nL 3366 3988 \nQ 3128 4100 2886 4159 \nQ 2644 4219 2406 4219 \nQ 1781 4219 1451 3797 \nQ 1122 3375 1075 2522 \nQ 1259 2794 1537 2939 \nQ 1816 3084 2150 3084 \nQ 2853 3084 3261 2657 \nQ 3669 2231 3669 1497 \nQ 3669 778 3244 343 \nQ 2819 -91 2113 -91 \nQ 1303 -91 875 529 \nQ 447 1150 447 2328 \nQ 447 3434 972 4092 \nQ 1497 4750 2381 4750 \nQ 2619 4750 2861 4703 \nQ 3103 4656 3366 4563 \nz\n\" id=\"DejaVuSans-36\" transform=\"scale(0.015625)\"/>\n       </defs>\n       <use xlink:href=\"#DejaVuSans-36\"/>\n       <use x=\"63.623047\" xlink:href=\"#DejaVuSans-30\"/>\n       <use x=\"127.246094\" xlink:href=\"#DejaVuSans-30\"/>\n       <use x=\"190.869141\" xlink:href=\"#DejaVuSans-30\"/>\n      </g>\n     </g>\n    </g>\n    <g id=\"ytick_5\">\n     <g id=\"line2d_11\">\n      <g>\n       <use style=\"stroke:#000000;stroke-width:0.8;\" x=\"46.0125\" xlink:href=\"#m95d4060d02\" y=\"52.971274\"/>\n      </g>\n     </g>\n     <g id=\"text_11\">\n      <!-- 8000 -->\n      <g transform=\"translate(13.5625 56.770492)scale(0.1 -0.1)\">\n       <defs>\n        <path d=\"M 2034 2216 \nQ 1584 2216 1326 1975 \nQ 1069 1734 1069 1313 \nQ 1069 891 1326 650 \nQ 1584 409 2034 409 \nQ 2484 409 2743 651 \nQ 3003 894 3003 1313 \nQ 3003 1734 2745 1975 \nQ 2488 2216 2034 2216 \nz\nM 1403 2484 \nQ 997 2584 770 2862 \nQ 544 3141 544 3541 \nQ 544 4100 942 4425 \nQ 1341 4750 2034 4750 \nQ 2731 4750 3128 4425 \nQ 3525 4100 3525 3541 \nQ 3525 3141 3298 2862 \nQ 3072 2584 2669 2484 \nQ 3125 2378 3379 2068 \nQ 3634 1759 3634 1313 \nQ 3634 634 3220 271 \nQ 2806 -91 2034 -91 \nQ 1263 -91 848 271 \nQ 434 634 434 1313 \nQ 434 1759 690 2068 \nQ 947 2378 1403 2484 \nz\nM 1172 3481 \nQ 1172 3119 1398 2916 \nQ 1625 2713 2034 2713 \nQ 2441 2713 2670 2916 \nQ 2900 3119 2900 3481 \nQ 2900 3844 2670 4047 \nQ 2441 4250 2034 4250 \nQ 1625 4250 1398 4047 \nQ 1172 3844 1172 3481 \nz\n\" id=\"DejaVuSans-38\" transform=\"scale(0.015625)\"/>\n       </defs>\n       <use xlink:href=\"#DejaVuSans-38\"/>\n       <use x=\"63.623047\" xlink:href=\"#DejaVuSans-30\"/>\n       <use x=\"127.246094\" xlink:href=\"#DejaVuSans-30\"/>\n       <use x=\"190.869141\" xlink:href=\"#DejaVuSans-30\"/>\n      </g>\n     </g>\n    </g>\n    <g id=\"ytick_6\">\n     <g id=\"line2d_12\">\n      <g>\n       <use style=\"stroke:#000000;stroke-width:0.8;\" x=\"46.0125\" xlink:href=\"#m95d4060d02\" y=\"17.521012\"/>\n      </g>\n     </g>\n     <g id=\"text_12\">\n      <!-- 10000 -->\n      <g transform=\"translate(7.2 21.320231)scale(0.1 -0.1)\">\n       <use xlink:href=\"#DejaVuSans-31\"/>\n       <use x=\"63.623047\" xlink:href=\"#DejaVuSans-30\"/>\n       <use x=\"127.246094\" xlink:href=\"#DejaVuSans-30\"/>\n       <use x=\"190.869141\" xlink:href=\"#DejaVuSans-30\"/>\n       <use x=\"254.492188\" xlink:href=\"#DejaVuSans-30\"/>\n      </g>\n     </g>\n    </g>\n   </g>\n   <g id=\"line2d_13\">\n    <path clip-path=\"url(#p11e5761f6b)\" d=\"M 61.230682 181.449625 \nL 67.571591 181.709166 \nL 73.9125 181.968707 \nL 80.253409 182.228247 \nL 86.594318 182.487788 \nL 92.935227 182.747328 \nL 99.276136 183.006869 \nL 105.617045 183.26641 \nL 111.957955 183.52595 \nL 118.298864 183.785491 \nL 124.639773 184.045031 \nL 130.980682 184.304572 \nL 137.321591 184.564113 \nL 143.6625 184.823653 \nL 150.003409 185.083194 \nL 156.344318 185.342735 \nL 162.685227 185.602275 \nL 169.026136 185.861816 \nL 175.367045 186.121356 \nL 181.707955 186.380897 \nL 188.048864 186.640438 \nL 194.389773 186.899978 \nL 200.730682 187.159519 \nL 207.071591 187.419059 \nL 213.4125 187.6786 \nL 219.753409 187.938141 \nL 226.094318 188.197681 \nL 232.435227 188.457222 \nL 238.776136 188.716762 \nL 245.117045 188.976303 \nL 251.457955 189.235844 \nL 257.798864 189.495384 \nL 264.139773 189.754925 \nL 270.480682 190.014465 \nL 276.821591 190.274006 \nL 283.1625 190.533547 \nL 289.503409 190.793087 \nL 295.844318 191.052628 \nL 302.185227 191.312168 \nL 308.526136 191.571709 \nL 314.867045 191.83125 \nL 321.207955 192.09079 \nL 327.548864 192.350331 \nL 333.889773 192.609871 \nL 340.230682 192.869412 \nL 346.571591 193.128953 \nL 352.9125 193.388493 \nL 359.253409 193.648034 \nL 365.594318 193.907574 \n\" style=\"fill:none;stroke:#1f77b4;stroke-linecap:square;stroke-width:1.5;\"/>\n   </g>\n   <g id=\"line2d_14\">\n    <path clip-path=\"url(#p11e5761f6b)\" d=\"M 61.230682 181.449625 \nL 67.571591 181.709166 \nL 73.9125 181.968707 \nL 80.253409 182.228247 \nL 86.594318 182.487788 \nL 92.935227 182.747328 \nL 99.276136 183.006869 \nL 105.617045 183.26641 \nL 111.957955 183.52595 \nL 118.298864 183.785491 \nL 124.639773 184.045031 \nL 130.980682 184.304572 \nL 137.321591 184.564113 \nL 143.6625 184.823653 \nL 150.003409 185.083194 \nL 156.344318 185.342735 \nL 162.685227 185.602275 \nL 169.026136 185.861816 \nL 175.367045 186.121356 \nL 181.707955 186.380897 \nL 188.048864 186.640438 \nL 194.389773 186.899978 \nL 200.730682 187.159519 \nL 207.071591 187.419059 \nL 213.4125 187.6786 \nL 219.753409 187.938141 \nL 226.094318 188.197681 \nL 232.435227 188.457222 \nL 238.776136 188.716762 \nL 245.117045 188.976303 \nL 251.457955 189.235844 \nL 257.798864 189.495384 \nL 264.139773 189.754925 \nL 270.480682 190.014465 \nL 276.821591 190.274006 \nL 283.1625 190.533547 \nL 289.503409 190.793087 \nL 295.844318 191.052628 \nL 302.185227 191.312168 \nL 308.526136 191.571709 \nL 314.867045 191.83125 \nL 321.207955 192.09079 \nL 327.548864 192.350331 \nL 333.889773 192.609871 \nL 340.230682 192.869412 \nL 346.571591 193.128953 \nL 352.9125 193.388493 \nL 359.253409 193.648034 \nL 365.594318 193.907574 \n\" style=\"fill:none;stroke:#ff7f0e;stroke-linecap:square;stroke-width:1.5;\"/>\n   </g>\n   <g id=\"line2d_15\">\n    <path clip-path=\"url(#p11e5761f6b)\" d=\"M 61.230682 181.449625 \nL 67.571591 168.646011 \nL 73.9125 156.361479 \nL 80.253409 144.596027 \nL 86.594318 133.349656 \nL 92.935227 122.622367 \nL 99.276136 112.414159 \nL 105.617045 102.725032 \nL 111.957955 93.554987 \nL 118.298864 84.904022 \nL 124.639773 76.772139 \nL 130.980682 69.159337 \nL 137.321591 62.065616 \nL 143.6625 55.490977 \nL 150.003409 49.435419 \nL 156.344318 43.898941 \nL 162.685227 38.881545 \nL 169.026136 34.383231 \nL 175.367045 30.403997 \nL 181.707955 26.943845 \nL 188.048864 24.002774 \nL 194.389773 21.580784 \nL 200.730682 19.677875 \nL 207.071591 18.294048 \nL 213.4125 17.429301 \nL 219.753409 17.083636 \nL 226.094318 17.257053 \nL 232.435227 17.94955 \nL 238.776136 19.161128 \nL 245.117045 20.891788 \nL 251.457955 23.141529 \nL 257.798864 25.910351 \nL 264.139773 29.198255 \nL 270.480682 33.005239 \nL 276.821591 37.331305 \nL 283.1625 42.176452 \nL 289.503409 47.54068 \nL 295.844318 53.42399 \nL 302.185227 59.82638 \nL 308.526136 66.747852 \nL 314.867045 74.188405 \nL 321.207955 82.14804 \nL 327.548864 90.626755 \nL 333.889773 99.624552 \nL 340.230682 109.14143 \nL 346.571591 119.177389 \nL 352.9125 129.732429 \nL 359.253409 140.806551 \nL 365.594318 152.399753 \n\" style=\"fill:none;stroke:#2ca02c;stroke-linecap:square;stroke-width:1.5;\"/>\n   </g>\n   <g id=\"line2d_16\">\n    <path clip-path=\"url(#p11e5761f6b)\" d=\"M 61.230682 214.756364 \nL 67.571591 201.303898 \nL 73.9125 188.370514 \nL 80.253409 175.956211 \nL 86.594318 164.060989 \nL 92.935227 152.684848 \nL 99.276136 141.827788 \nL 105.617045 131.48981 \nL 111.957955 121.670913 \nL 118.298864 112.371097 \nL 124.639773 103.590362 \nL 130.980682 95.328709 \nL 137.321591 87.586136 \nL 143.6625 80.362645 \nL 150.003409 73.658236 \nL 156.344318 67.472907 \nL 162.685227 61.806659 \nL 169.026136 56.659493 \nL 175.367045 52.031408 \nL 181.707955 47.922404 \nL 188.048864 44.332482 \nL 194.389773 41.26164 \nL 200.730682 38.70988 \nL 207.071591 36.677201 \nL 213.4125 35.163603 \nL 219.753409 34.169087 \nL 226.094318 33.693651 \nL 232.435227 33.737297 \nL 238.776136 34.300024 \nL 245.117045 35.381833 \nL 251.457955 36.982722 \nL 257.798864 39.102693 \nL 264.139773 41.741745 \nL 270.480682 44.899878 \nL 276.821591 48.577092 \nL 283.1625 52.773387 \nL 289.503409 57.488764 \nL 295.844318 62.723222 \nL 302.185227 68.476761 \nL 308.526136 74.749382 \nL 314.867045 81.541083 \nL 321.207955 88.851866 \nL 327.548864 96.68173 \nL 333.889773 105.030675 \nL 340.230682 113.898701 \nL 346.571591 123.285809 \nL 352.9125 133.191998 \nL 359.253409 143.617268 \nL 365.594318 154.561619 \n\" style=\"fill:none;stroke:#d62728;stroke-linecap:square;stroke-width:1.5;\"/>\n   </g>\n   <g id=\"patch_3\">\n    <path d=\"M 46.0125 224.64 \nL 46.0125 7.2 \n\" style=\"fill:none;stroke:#000000;stroke-linecap:square;stroke-linejoin:miter;stroke-width:0.8;\"/>\n   </g>\n   <g id=\"patch_4\">\n    <path d=\"M 380.8125 224.64 \nL 380.8125 7.2 \n\" style=\"fill:none;stroke:#000000;stroke-linecap:square;stroke-linejoin:miter;stroke-width:0.8;\"/>\n   </g>\n   <g id=\"patch_5\">\n    <path d=\"M 46.0125 224.64 \nL 380.8125 224.64 \n\" style=\"fill:none;stroke:#000000;stroke-linecap:square;stroke-linejoin:miter;stroke-width:0.8;\"/>\n   </g>\n   <g id=\"patch_6\">\n    <path d=\"M 46.0125 7.2 \nL 380.8125 7.2 \n\" style=\"fill:none;stroke:#000000;stroke-linecap:square;stroke-linejoin:miter;stroke-width:0.8;\"/>\n   </g>\n   <g id=\"legend_1\">\n    <g id=\"patch_7\">\n     <path d=\"M 53.0125 59.234375 \nL 126.06875 59.234375 \nQ 128.06875 59.234375 128.06875 57.234375 \nL 128.06875 14.2 \nQ 128.06875 12.2 126.06875 12.2 \nL 53.0125 12.2 \nQ 51.0125 12.2 51.0125 14.2 \nL 51.0125 57.234375 \nQ 51.0125 59.234375 53.0125 59.234375 \nz\n\" style=\"fill:#ffffff;opacity:0.8;stroke:#cccccc;stroke-linejoin:miter;\"/>\n    </g>\n    <g id=\"line2d_17\">\n     <path d=\"M 55.0125 20.298437 \nL 75.0125 20.298437 \n\" style=\"fill:none;stroke:#ff7f0e;stroke-linecap:square;stroke-width:1.5;\"/>\n    </g>\n    <g id=\"line2d_18\"/>\n    <g id=\"text_13\">\n     <!-- demand -->\n     <g transform=\"translate(83.0125 23.798437)scale(0.1 -0.1)\">\n      <defs>\n       <path d=\"M 2906 2969 \nL 2906 4863 \nL 3481 4863 \nL 3481 0 \nL 2906 0 \nL 2906 525 \nQ 2725 213 2448 61 \nQ 2172 -91 1784 -91 \nQ 1150 -91 751 415 \nQ 353 922 353 1747 \nQ 353 2572 751 3078 \nQ 1150 3584 1784 3584 \nQ 2172 3584 2448 3432 \nQ 2725 3281 2906 2969 \nz\nM 947 1747 \nQ 947 1113 1208 752 \nQ 1469 391 1925 391 \nQ 2381 391 2643 752 \nQ 2906 1113 2906 1747 \nQ 2906 2381 2643 2742 \nQ 2381 3103 1925 3103 \nQ 1469 3103 1208 2742 \nQ 947 2381 947 1747 \nz\n\" id=\"DejaVuSans-64\" transform=\"scale(0.015625)\"/>\n       <path d=\"M 3597 1894 \nL 3597 1613 \nL 953 1613 \nQ 991 1019 1311 708 \nQ 1631 397 2203 397 \nQ 2534 397 2845 478 \nQ 3156 559 3463 722 \nL 3463 178 \nQ 3153 47 2828 -22 \nQ 2503 -91 2169 -91 \nQ 1331 -91 842 396 \nQ 353 884 353 1716 \nQ 353 2575 817 3079 \nQ 1281 3584 2069 3584 \nQ 2775 3584 3186 3129 \nQ 3597 2675 3597 1894 \nz\nM 3022 2063 \nQ 3016 2534 2758 2815 \nQ 2500 3097 2075 3097 \nQ 1594 3097 1305 2825 \nQ 1016 2553 972 2059 \nL 3022 2063 \nz\n\" id=\"DejaVuSans-65\" transform=\"scale(0.015625)\"/>\n       <path d=\"M 3328 2828 \nQ 3544 3216 3844 3400 \nQ 4144 3584 4550 3584 \nQ 5097 3584 5394 3201 \nQ 5691 2819 5691 2113 \nL 5691 0 \nL 5113 0 \nL 5113 2094 \nQ 5113 2597 4934 2840 \nQ 4756 3084 4391 3084 \nQ 3944 3084 3684 2787 \nQ 3425 2491 3425 1978 \nL 3425 0 \nL 2847 0 \nL 2847 2094 \nQ 2847 2600 2669 2842 \nQ 2491 3084 2119 3084 \nQ 1678 3084 1418 2786 \nQ 1159 2488 1159 1978 \nL 1159 0 \nL 581 0 \nL 581 3500 \nL 1159 3500 \nL 1159 2956 \nQ 1356 3278 1631 3431 \nQ 1906 3584 2284 3584 \nQ 2666 3584 2933 3390 \nQ 3200 3197 3328 2828 \nz\n\" id=\"DejaVuSans-6d\" transform=\"scale(0.015625)\"/>\n       <path d=\"M 2194 1759 \nQ 1497 1759 1228 1600 \nQ 959 1441 959 1056 \nQ 959 750 1161 570 \nQ 1363 391 1709 391 \nQ 2188 391 2477 730 \nQ 2766 1069 2766 1631 \nL 2766 1759 \nL 2194 1759 \nz\nM 3341 1997 \nL 3341 0 \nL 2766 0 \nL 2766 531 \nQ 2569 213 2275 61 \nQ 1981 -91 1556 -91 \nQ 1019 -91 701 211 \nQ 384 513 384 1019 \nQ 384 1609 779 1909 \nQ 1175 2209 1959 2209 \nL 2766 2209 \nL 2766 2266 \nQ 2766 2663 2505 2880 \nQ 2244 3097 1772 3097 \nQ 1472 3097 1187 3025 \nQ 903 2953 641 2809 \nL 641 3341 \nQ 956 3463 1253 3523 \nQ 1550 3584 1831 3584 \nQ 2591 3584 2966 3190 \nQ 3341 2797 3341 1997 \nz\n\" id=\"DejaVuSans-61\" transform=\"scale(0.015625)\"/>\n       <path d=\"M 3513 2113 \nL 3513 0 \nL 2938 0 \nL 2938 2094 \nQ 2938 2591 2744 2837 \nQ 2550 3084 2163 3084 \nQ 1697 3084 1428 2787 \nQ 1159 2491 1159 1978 \nL 1159 0 \nL 581 0 \nL 581 3500 \nL 1159 3500 \nL 1159 2956 \nQ 1366 3272 1645 3428 \nQ 1925 3584 2291 3584 \nQ 2894 3584 3203 3211 \nQ 3513 2838 3513 2113 \nz\n\" id=\"DejaVuSans-6e\" transform=\"scale(0.015625)\"/>\n      </defs>\n      <use xlink:href=\"#DejaVuSans-64\"/>\n      <use x=\"63.476562\" xlink:href=\"#DejaVuSans-65\"/>\n      <use x=\"125\" xlink:href=\"#DejaVuSans-6d\"/>\n      <use x=\"222.412109\" xlink:href=\"#DejaVuSans-61\"/>\n      <use x=\"283.691406\" xlink:href=\"#DejaVuSans-6e\"/>\n      <use x=\"347.070312\" xlink:href=\"#DejaVuSans-64\"/>\n     </g>\n    </g>\n    <g id=\"line2d_19\">\n     <path d=\"M 55.0125 34.976562 \nL 75.0125 34.976562 \n\" style=\"fill:none;stroke:#2ca02c;stroke-linecap:square;stroke-width:1.5;\"/>\n    </g>\n    <g id=\"line2d_20\"/>\n    <g id=\"text_14\">\n     <!-- revenue -->\n     <g transform=\"translate(83.0125 38.476562)scale(0.1 -0.1)\">\n      <defs>\n       <path d=\"M 2631 2963 \nQ 2534 3019 2420 3045 \nQ 2306 3072 2169 3072 \nQ 1681 3072 1420 2755 \nQ 1159 2438 1159 1844 \nL 1159 0 \nL 581 0 \nL 581 3500 \nL 1159 3500 \nL 1159 2956 \nQ 1341 3275 1631 3429 \nQ 1922 3584 2338 3584 \nQ 2397 3584 2469 3576 \nQ 2541 3569 2628 3553 \nL 2631 2963 \nz\n\" id=\"DejaVuSans-72\" transform=\"scale(0.015625)\"/>\n       <path d=\"M 191 3500 \nL 800 3500 \nL 1894 563 \nL 2988 3500 \nL 3597 3500 \nL 2284 0 \nL 1503 0 \nL 191 3500 \nz\n\" id=\"DejaVuSans-76\" transform=\"scale(0.015625)\"/>\n       <path d=\"M 544 1381 \nL 544 3500 \nL 1119 3500 \nL 1119 1403 \nQ 1119 906 1312 657 \nQ 1506 409 1894 409 \nQ 2359 409 2629 706 \nQ 2900 1003 2900 1516 \nL 2900 3500 \nL 3475 3500 \nL 3475 0 \nL 2900 0 \nL 2900 538 \nQ 2691 219 2414 64 \nQ 2138 -91 1772 -91 \nQ 1169 -91 856 284 \nQ 544 659 544 1381 \nz\nM 1991 3584 \nL 1991 3584 \nz\n\" id=\"DejaVuSans-75\" transform=\"scale(0.015625)\"/>\n      </defs>\n      <use xlink:href=\"#DejaVuSans-72\"/>\n      <use x=\"38.863281\" xlink:href=\"#DejaVuSans-65\"/>\n      <use x=\"100.386719\" xlink:href=\"#DejaVuSans-76\"/>\n      <use x=\"159.566406\" xlink:href=\"#DejaVuSans-65\"/>\n      <use x=\"221.089844\" xlink:href=\"#DejaVuSans-6e\"/>\n      <use x=\"284.46875\" xlink:href=\"#DejaVuSans-75\"/>\n      <use x=\"347.847656\" xlink:href=\"#DejaVuSans-65\"/>\n     </g>\n    </g>\n    <g id=\"line2d_21\">\n     <path d=\"M 55.0125 49.654687 \nL 75.0125 49.654687 \n\" style=\"fill:none;stroke:#d62728;stroke-linecap:square;stroke-width:1.5;\"/>\n    </g>\n    <g id=\"line2d_22\"/>\n    <g id=\"text_15\">\n     <!-- profit -->\n     <g transform=\"translate(83.0125 53.154687)scale(0.1 -0.1)\">\n      <defs>\n       <path d=\"M 1159 525 \nL 1159 -1331 \nL 581 -1331 \nL 581 3500 \nL 1159 3500 \nL 1159 2969 \nQ 1341 3281 1617 3432 \nQ 1894 3584 2278 3584 \nQ 2916 3584 3314 3078 \nQ 3713 2572 3713 1747 \nQ 3713 922 3314 415 \nQ 2916 -91 2278 -91 \nQ 1894 -91 1617 61 \nQ 1341 213 1159 525 \nz\nM 3116 1747 \nQ 3116 2381 2855 2742 \nQ 2594 3103 2138 3103 \nQ 1681 3103 1420 2742 \nQ 1159 2381 1159 1747 \nQ 1159 1113 1420 752 \nQ 1681 391 2138 391 \nQ 2594 391 2855 752 \nQ 3116 1113 3116 1747 \nz\n\" id=\"DejaVuSans-70\" transform=\"scale(0.015625)\"/>\n       <path d=\"M 1959 3097 \nQ 1497 3097 1228 2736 \nQ 959 2375 959 1747 \nQ 959 1119 1226 758 \nQ 1494 397 1959 397 \nQ 2419 397 2687 759 \nQ 2956 1122 2956 1747 \nQ 2956 2369 2687 2733 \nQ 2419 3097 1959 3097 \nz\nM 1959 3584 \nQ 2709 3584 3137 3096 \nQ 3566 2609 3566 1747 \nQ 3566 888 3137 398 \nQ 2709 -91 1959 -91 \nQ 1206 -91 779 398 \nQ 353 888 353 1747 \nQ 353 2609 779 3096 \nQ 1206 3584 1959 3584 \nz\n\" id=\"DejaVuSans-6f\" transform=\"scale(0.015625)\"/>\n       <path d=\"M 2375 4863 \nL 2375 4384 \nL 1825 4384 \nQ 1516 4384 1395 4259 \nQ 1275 4134 1275 3809 \nL 1275 3500 \nL 2222 3500 \nL 2222 3053 \nL 1275 3053 \nL 1275 0 \nL 697 0 \nL 697 3053 \nL 147 3053 \nL 147 3500 \nL 697 3500 \nL 697 3744 \nQ 697 4328 969 4595 \nQ 1241 4863 1831 4863 \nL 2375 4863 \nz\n\" id=\"DejaVuSans-66\" transform=\"scale(0.015625)\"/>\n       <path d=\"M 603 3500 \nL 1178 3500 \nL 1178 0 \nL 603 0 \nL 603 3500 \nz\nM 603 4863 \nL 1178 4863 \nL 1178 4134 \nL 603 4134 \nL 603 4863 \nz\n\" id=\"DejaVuSans-69\" transform=\"scale(0.015625)\"/>\n       <path d=\"M 1172 4494 \nL 1172 3500 \nL 2356 3500 \nL 2356 3053 \nL 1172 3053 \nL 1172 1153 \nQ 1172 725 1289 603 \nQ 1406 481 1766 481 \nL 2356 481 \nL 2356 0 \nL 1766 0 \nQ 1100 0 847 248 \nQ 594 497 594 1153 \nL 594 3053 \nL 172 3053 \nL 172 3500 \nL 594 3500 \nL 594 4494 \nL 1172 4494 \nz\n\" id=\"DejaVuSans-74\" transform=\"scale(0.015625)\"/>\n      </defs>\n      <use xlink:href=\"#DejaVuSans-70\"/>\n      <use x=\"63.476562\" xlink:href=\"#DejaVuSans-72\"/>\n      <use x=\"102.339844\" xlink:href=\"#DejaVuSans-6f\"/>\n      <use x=\"163.521484\" xlink:href=\"#DejaVuSans-66\"/>\n      <use x=\"198.726562\" xlink:href=\"#DejaVuSans-69\"/>\n      <use x=\"226.509766\" xlink:href=\"#DejaVuSans-74\"/>\n     </g>\n    </g>\n   </g>\n  </g>\n </g>\n <defs>\n  <clipPath id=\"p11e5761f6b\">\n   <rect height=\"217.44\" width=\"334.8\" x=\"46.0125\" y=\"7.2\"/>\n  </clipPath>\n </defs>\n</svg>\n",
      "image/png": "[encoded data removed]"
     },
     "metadata": {
      "needs_background": "light"
     }
    }
   ],
   "source": [
    "import matplotlib.pyplot as plt\n",
    "plt.plot(simulation_data.price,simulation_data.expected_demand)\n",
    "plt.plot(simulation_data.price,simulation_data.expected_demand,label='demand')\n",
    "plt.plot(simulation_data.price,simulation_data.revenue,label='revenue')\n",
    "plt.plot(simulation_data.price,simulation_data.profit,label='profit')\n",
    "plt.legend(loc='upper left')"
   ]
  },
  {
   "cell_type": "code",
   "execution_count": 28,
   "metadata": {},
   "outputs": [
    {
     "output_type": "execute_result",
     "data": {
      "text/plain": [
       "   price  demand\n",
       "0      5     600\n",
       "1     10     550\n",
       "2     15     700\n",
       "3     17     680\n",
       "4     20     500\n",
       "5     23     400\n",
       "6     25     250"
      ],
      "text/html": "<div>\n<style scoped>\n    .dataframe tbody tr th:only-of-type {\n        vertical-align: middle;\n    }\n\n    .dataframe tbody tr th {\n        vertical-align: top;\n    }\n\n    .dataframe thead th {\n        text-align: right;\n    }\n</style>\n<table border=\"1\" class=\"dataframe\">\n  <thead>\n    <tr style=\"text-align: right;\">\n      <th></th>\n      <th>price</th>\n      <th>demand</th>\n    </tr>\n  </thead>\n  <tbody>\n    <tr>\n      <th>0</th>\n      <td>5</td>\n      <td>600</td>\n    </tr>\n    <tr>\n      <th>1</th>\n      <td>10</td>\n      <td>550</td>\n    </tr>\n    <tr>\n      <th>2</th>\n      <td>15</td>\n      <td>700</td>\n    </tr>\n    <tr>\n      <th>3</th>\n      <td>17</td>\n      <td>680</td>\n    </tr>\n    <tr>\n      <th>4</th>\n      <td>20</td>\n      <td>500</td>\n    </tr>\n    <tr>\n      <th>5</th>\n      <td>23</td>\n      <td>400</td>\n    </tr>\n    <tr>\n      <th>6</th>\n      <td>25</td>\n      <td>250</td>\n    </tr>\n  </tbody>\n</table>\n</div>"
     },
     "metadata": {},
     "execution_count": 28
    }
   ],
   "source": [
    "pricing_data"
   ]
  },
  {
   "cell_type": "code",
   "execution_count": 29,
   "metadata": {},
   "outputs": [
    {
     "output_type": "execute_result",
     "data": {
      "text/plain": [
       "{'Elasticity': array([[0.78413098]]),\n",
       " 'optimum_price_profit': array([[27.41591712]]),\n",
       " 'optimum_price_revenue': array([[26.16591712]])}"
      ]
     },
     "metadata": {},
     "execution_count": 29
    }
   ],
   "source": [
    "inv.linear_elasticity(\n",
    "    pricing_data['price'],\n",
    "    pricing_data['demand'],\n",
    "    23, 2.5\n",
    ")"
   ]
  },
  {
   "cell_type": "code",
   "execution_count": 31,
   "metadata": {},
   "outputs": [
    {
     "output_type": "stream",
     "name": "stdout",
     "text": [
      "/Users/dang/Desktop/Learning/Mygit/datascience_supplychain_practice/Jupyternotebook_source/Section_19_Consumer_behavior_and_pricing\n"
     ]
    }
   ],
   "source": [
    "import os \n",
    "path = os.getcwd()\n",
    "print(path)"
   ]
  },
  {
   "cell_type": "code",
   "execution_count": 32,
   "metadata": {},
   "outputs": [],
   "source": [
    "retail_clean = pd.read_csv('{0}/retail_clean.csv'.format(path))"
   ]
  },
  {
   "cell_type": "code",
   "execution_count": 33,
   "metadata": {},
   "outputs": [
    {
     "output_type": "stream",
     "name": "stdout",
     "text": [
      "<class 'pandas.core.frame.DataFrame'>\nRangeIndex: 779495 entries, 0 to 779494\nData columns (total 10 columns):\n #   Column       Non-Null Count   Dtype  \n---  ------       --------------   -----  \n 0   Unnamed: 0   779495 non-null  int64  \n 1   Invoice      779495 non-null  int64  \n 2   StockCode    779495 non-null  object \n 3   Description  779495 non-null  object \n 4   Quantity     779495 non-null  int64  \n 5   InvoiceDate  779495 non-null  object \n 6   Price        779495 non-null  float64\n 7   Customer ID  779495 non-null  float64\n 8   Country      779495 non-null  object \n 9   Revenue      779495 non-null  float64\ndtypes: float64(3), int64(3), object(4)\nmemory usage: 59.5+ MB\n"
     ]
    }
   ],
   "source": [
    "retail_clean.info()"
   ]
  },
  {
   "cell_type": "code",
   "execution_count": 34,
   "metadata": {},
   "outputs": [],
   "source": [
    "retail_clean['InvoiceDate'] = pd.to_datetime(retail_clean['InvoiceDate'])"
   ]
  },
  {
   "cell_type": "code",
   "execution_count": 35,
   "metadata": {},
   "outputs": [],
   "source": [
    "retail_clean['year'] = retail_clean['InvoiceDate'].dt.year"
   ]
  },
  {
   "cell_type": "code",
   "execution_count": 36,
   "metadata": {},
   "outputs": [
    {
     "output_type": "stream",
     "name": "stderr",
     "text": [
      "ipykernel_launcher:1: FutureWarning: Series.dt.weekofyear and Series.dt.week have been deprecated.  Please use Series.dt.isocalendar().week instead.\n"
     ]
    }
   ],
   "source": [
    "retail_clean['week'] = retail_clean['InvoiceDate'].dt.week"
   ]
  },
  {
   "cell_type": "code",
   "execution_count": 37,
   "metadata": {},
   "outputs": [],
   "source": [
    "retail_clean['weekyear'] = retail_clean['InvoiceDate'].dt.strftime('%W %Y')"
   ]
  },
  {
   "cell_type": "code",
   "execution_count": 38,
   "metadata": {},
   "outputs": [
    {
     "output_type": "execute_result",
     "data": {
      "text/plain": [
       "   Unnamed: 0  Invoice StockCode                          Description  \\\n",
       "0           0   489434     85048  15CM CHRISTMAS GLASS BALL 20 LIGHTS   \n",
       "1           1   489434    79323P                   PINK CHERRY LIGHTS   \n",
       "2           2   489434    79323W                  WHITE CHERRY LIGHTS   \n",
       "3           3   489434     22041         RECORD FRAME 7\" SINGLE SIZE    \n",
       "4           4   489434     21232       STRAWBERRY CERAMIC TRINKET BOX   \n",
       "\n",
       "   Quantity         InvoiceDate  Price  Customer ID         Country  Revenue  \\\n",
       "0        12 2009-12-01 07:45:00   6.95      13085.0  United Kingdom     83.4   \n",
       "1        12 2009-12-01 07:45:00   6.75      13085.0  United Kingdom     81.0   \n",
       "2        12 2009-12-01 07:45:00   6.75      13085.0  United Kingdom     81.0   \n",
       "3        48 2009-12-01 07:45:00   2.10      13085.0  United Kingdom    100.8   \n",
       "4        24 2009-12-01 07:45:00   1.25      13085.0  United Kingdom     30.0   \n",
       "\n",
       "   year  week weekyear  \n",
       "0  2009    49  48 2009  \n",
       "1  2009    49  48 2009  \n",
       "2  2009    49  48 2009  \n",
       "3  2009    49  48 2009  \n",
       "4  2009    49  48 2009  "
      ],
      "text/html": "<div>\n<style scoped>\n    .dataframe tbody tr th:only-of-type {\n        vertical-align: middle;\n    }\n\n    .dataframe tbody tr th {\n        vertical-align: top;\n    }\n\n    .dataframe thead th {\n        text-align: right;\n    }\n</style>\n<table border=\"1\" class=\"dataframe\">\n  <thead>\n    <tr style=\"text-align: right;\">\n      <th></th>\n      <th>Unnamed: 0</th>\n      <th>Invoice</th>\n      <th>StockCode</th>\n      <th>Description</th>\n      <th>Quantity</th>\n      <th>InvoiceDate</th>\n      <th>Price</th>\n      <th>Customer ID</th>\n      <th>Country</th>\n      <th>Revenue</th>\n      <th>year</th>\n      <th>week</th>\n      <th>weekyear</th>\n    </tr>\n  </thead>\n  <tbody>\n    <tr>\n      <th>0</th>\n      <td>0</td>\n      <td>489434</td>\n      <td>85048</td>\n      <td>15CM CHRISTMAS GLASS BALL 20 LIGHTS</td>\n      <td>12</td>\n      <td>2009-12-01 07:45:00</td>\n      <td>6.95</td>\n      <td>13085.0</td>\n      <td>United Kingdom</td>\n      <td>83.4</td>\n      <td>2009</td>\n      <td>49</td>\n      <td>48 2009</td>\n    </tr>\n    <tr>\n      <th>1</th>\n      <td>1</td>\n      <td>489434</td>\n      <td>79323P</td>\n      <td>PINK CHERRY LIGHTS</td>\n      <td>12</td>\n      <td>2009-12-01 07:45:00</td>\n      <td>6.75</td>\n      <td>13085.0</td>\n      <td>United Kingdom</td>\n      <td>81.0</td>\n      <td>2009</td>\n      <td>49</td>\n      <td>48 2009</td>\n    </tr>\n    <tr>\n      <th>2</th>\n      <td>2</td>\n      <td>489434</td>\n      <td>79323W</td>\n      <td>WHITE CHERRY LIGHTS</td>\n      <td>12</td>\n      <td>2009-12-01 07:45:00</td>\n      <td>6.75</td>\n      <td>13085.0</td>\n      <td>United Kingdom</td>\n      <td>81.0</td>\n      <td>2009</td>\n      <td>49</td>\n      <td>48 2009</td>\n    </tr>\n    <tr>\n      <th>3</th>\n      <td>3</td>\n      <td>489434</td>\n      <td>22041</td>\n      <td>RECORD FRAME 7\" SINGLE SIZE</td>\n      <td>48</td>\n      <td>2009-12-01 07:45:00</td>\n      <td>2.10</td>\n      <td>13085.0</td>\n      <td>United Kingdom</td>\n      <td>100.8</td>\n      <td>2009</td>\n      <td>49</td>\n      <td>48 2009</td>\n    </tr>\n    <tr>\n      <th>4</th>\n      <td>4</td>\n      <td>489434</td>\n      <td>21232</td>\n      <td>STRAWBERRY CERAMIC TRINKET BOX</td>\n      <td>24</td>\n      <td>2009-12-01 07:45:00</td>\n      <td>1.25</td>\n      <td>13085.0</td>\n      <td>United Kingdom</td>\n      <td>30.0</td>\n      <td>2009</td>\n      <td>49</td>\n      <td>48 2009</td>\n    </tr>\n  </tbody>\n</table>\n</div>"
     },
     "metadata": {},
     "execution_count": 38
    }
   ],
   "source": [
    "retail_clean.head()"
   ]
  },
  {
   "cell_type": "code",
   "execution_count": 39,
   "metadata": {},
   "outputs": [],
   "source": [
    "weekly_sales = retail_clean.groupby(['Description', 'weekyear']).agg(\n",
    "    total_sales = ('Quantity', 'sum'),\n",
    "    price = ('Price', 'mean')).reset_index()"
   ]
  },
  {
   "cell_type": "code",
   "execution_count": 40,
   "metadata": {},
   "outputs": [],
   "source": [
    "keys = weekly_sales.Description.unique()"
   ]
  },
  {
   "cell_type": "code",
   "execution_count": 41,
   "metadata": {},
   "outputs": [
    {
     "output_type": "execute_result",
     "data": {
      "text/plain": [
       "array(['  DOORMAT UNION JACK GUNS AND ROSES', ' 3 STRIPEY MICE FELTCRAFT',\n",
       "       ' 4 PURPLE FLOCK DINNER CANDLES', ...,\n",
       "       'ZINC WILLIE WINKIE  CANDLE STICK', 'ZINC WIRE KITCHEN ORGANISER',\n",
       "       'ZINC WIRE SWEETHEART LETTER TRAY'], dtype=object)"
      ]
     },
     "metadata": {},
     "execution_count": 41
    }
   ],
   "source": [
    "keys"
   ]
  },
  {
   "cell_type": "code",
   "execution_count": 42,
   "metadata": {},
   "outputs": [
    {
     "output_type": "execute_result",
     "data": {
      "text/plain": [
       "5283"
      ]
     },
     "metadata": {},
     "execution_count": 42
    }
   ],
   "source": [
    "len(keys)"
   ]
  },
  {
   "cell_type": "code",
   "execution_count": 43,
   "metadata": {},
   "outputs": [],
   "source": [
    "empty_data = pd.DataFrame()"
   ]
  },
  {
   "cell_type": "code",
   "execution_count": 45,
   "metadata": {
    "tags": [
     "outputPrepend"
    ]
   },
   "outputs": [
    {
     "output_type": "stream",
     "name": "stderr",
     "text": [
      "t=(-derv_p*cost_of_product+ intercept)/(2*-derv_p)\n",
      "/Users/dang/Desktop/Learning/Mygit/datascience_supplychain_practice/env/lib/python3.7/site-packages/inventorize/__init__.py:663: RuntimeWarning: divide by zero encountered in true_divide\n",
      "  optimum_revenue =intercept/(2*-derv_p)\n",
      "/Users/dang/Desktop/Learning/Mygit/datascience_supplychain_practice/env/lib/python3.7/site-packages/inventorize/__init__.py:662: RuntimeWarning: divide by zero encountered in true_divide\n",
      "  optimum_profit=(-derv_p*cost_of_product+ intercept)/(2*-derv_p)\n",
      "/Users/dang/Desktop/Learning/Mygit/datascience_supplychain_practice/env/lib/python3.7/site-packages/inventorize/__init__.py:663: RuntimeWarning: divide by zero encountered in true_divide\n",
      "  optimum_revenue =intercept/(2*-derv_p)\n",
      "/Users/dang/Desktop/Learning/Mygit/datascience_supplychain_practice/env/lib/python3.7/site-packages/inventorize/__init__.py:662: RuntimeWarning: divide by zero encountered in true_divide\n",
      "  optimum_profit=(-derv_p*cost_of_product+ intercept)/(2*-derv_p)\n",
      "/Users/dang/Desktop/Learning/Mygit/datascience_supplychain_practice/env/lib/python3.7/site-packages/inventorize/__init__.py:663: RuntimeWarning: divide by zero encountered in true_divide\n",
      "  optimum_revenue =intercept/(2*-derv_p)\n",
      "/Users/dang/Desktop/Learning/Mygit/datascience_supplychain_practice/env/lib/python3.7/site-packages/inventorize/__init__.py:662: RuntimeWarning: divide by zero encountered in true_divide\n",
      "  optimum_profit=(-derv_p*cost_of_product+ intercept)/(2*-derv_p)\n",
      "/Users/dang/Desktop/Learning/Mygit/datascience_supplychain_practice/env/lib/python3.7/site-packages/inventorize/__init__.py:663: RuntimeWarning: divide by zero encountered in true_divide\n",
      "  optimum_revenue =intercept/(2*-derv_p)\n",
      "/Users/dang/Desktop/Learning/Mygit/datascience_supplychain_practice/env/lib/python3.7/site-packages/inventorize/__init__.py:662: RuntimeWarning: divide by zero encountered in true_divide\n",
      "  optimum_profit=(-derv_p*cost_of_product+ intercept)/(2*-derv_p)\n",
      "/Users/dang/Desktop/Learning/Mygit/datascience_supplychain_practice/env/lib/python3.7/site-packages/inventorize/__init__.py:663: RuntimeWarning: divide by zero encountered in true_divide\n",
      "  optimum_revenue =intercept/(2*-derv_p)\n",
      "/Users/dang/Desktop/Learning/Mygit/datascience_supplychain_practice/env/lib/python3.7/site-packages/inventorize/__init__.py:662: RuntimeWarning: divide by zero encountered in true_divide\n",
      "  optimum_profit=(-derv_p*cost_of_product+ intercept)/(2*-derv_p)\n",
      "/Users/dang/Desktop/Learning/Mygit/datascience_supplychain_practice/env/lib/python3.7/site-packages/inventorize/__init__.py:663: RuntimeWarning: divide by zero encountered in true_divide\n",
      "  optimum_revenue =intercept/(2*-derv_p)\n",
      "/Users/dang/Desktop/Learning/Mygit/datascience_supplychain_practice/env/lib/python3.7/site-packages/inventorize/__init__.py:662: RuntimeWarning: divide by zero encountered in true_divide\n",
      "  optimum_profit=(-derv_p*cost_of_product+ intercept)/(2*-derv_p)\n",
      "/Users/dang/Desktop/Learning/Mygit/datascience_supplychain_practice/env/lib/python3.7/site-packages/inventorize/__init__.py:663: RuntimeWarning: divide by zero encountered in true_divide\n",
      "  optimum_revenue =intercept/(2*-derv_p)\n",
      "/Users/dang/Desktop/Learning/Mygit/datascience_supplychain_practice/env/lib/python3.7/site-packages/inventorize/__init__.py:662: RuntimeWarning: divide by zero encountered in true_divide\n",
      "  optimum_profit=(-derv_p*cost_of_product+ intercept)/(2*-derv_p)\n",
      "/Users/dang/Desktop/Learning/Mygit/datascience_supplychain_practice/env/lib/python3.7/site-packages/inventorize/__init__.py:663: RuntimeWarning: divide by zero encountered in true_divide\n",
      "  optimum_revenue =intercept/(2*-derv_p)\n",
      "/Users/dang/Desktop/Learning/Mygit/datascience_supplychain_practice/env/lib/python3.7/site-packages/inventorize/__init__.py:662: RuntimeWarning: divide by zero encountered in true_divide\n",
      "  optimum_profit=(-derv_p*cost_of_product+ intercept)/(2*-derv_p)\n",
      "/Users/dang/Desktop/Learning/Mygit/datascience_supplychain_practice/env/lib/python3.7/site-packages/inventorize/__init__.py:663: RuntimeWarning: divide by zero encountered in true_divide\n",
      "  optimum_revenue =intercept/(2*-derv_p)\n",
      "/Users/dang/Desktop/Learning/Mygit/datascience_supplychain_practice/env/lib/python3.7/site-packages/inventorize/__init__.py:662: RuntimeWarning: divide by zero encountered in true_divide\n",
      "  optimum_profit=(-derv_p*cost_of_product+ intercept)/(2*-derv_p)\n",
      "/Users/dang/Desktop/Learning/Mygit/datascience_supplychain_practice/env/lib/python3.7/site-packages/inventorize/__init__.py:663: RuntimeWarning: divide by zero encountered in true_divide\n",
      "  optimum_revenue =intercept/(2*-derv_p)\n",
      "/Users/dang/Desktop/Learning/Mygit/datascience_supplychain_practice/env/lib/python3.7/site-packages/inventorize/__init__.py:662: RuntimeWarning: divide by zero encountered in true_divide\n",
      "  optimum_profit=(-derv_p*cost_of_product+ intercept)/(2*-derv_p)\n",
      "/Users/dang/Desktop/Learning/Mygit/datascience_supplychain_practice/env/lib/python3.7/site-packages/inventorize/__init__.py:663: RuntimeWarning: divide by zero encountered in true_divide\n",
      "  optimum_revenue =intercept/(2*-derv_p)\n",
      "/Users/dang/Desktop/Learning/Mygit/datascience_supplychain_practice/env/lib/python3.7/site-packages/inventorize/__init__.py:662: RuntimeWarning: divide by zero encountered in true_divide\n",
      "  optimum_profit=(-derv_p*cost_of_product+ intercept)/(2*-derv_p)\n",
      "/Users/dang/Desktop/Learning/Mygit/datascience_supplychain_practice/env/lib/python3.7/site-packages/inventorize/__init__.py:663: RuntimeWarning: divide by zero encountered in true_divide\n",
      "  optimum_revenue =intercept/(2*-derv_p)\n",
      "/Users/dang/Desktop/Learning/Mygit/datascience_supplychain_practice/env/lib/python3.7/site-packages/inventorize/__init__.py:662: RuntimeWarning: divide by zero encountered in true_divide\n",
      "  optimum_profit=(-derv_p*cost_of_product+ intercept)/(2*-derv_p)\n",
      "/Users/dang/Desktop/Learning/Mygit/datascience_supplychain_practice/env/lib/python3.7/site-packages/inventorize/__init__.py:663: RuntimeWarning: divide by zero encountered in true_divide\n",
      "  optimum_revenue =intercept/(2*-derv_p)\n",
      "/Users/dang/Desktop/Learning/Mygit/datascience_supplychain_practice/env/lib/python3.7/site-packages/inventorize/__init__.py:662: RuntimeWarning: divide by zero encountered in true_divide\n",
      "  optimum_profit=(-derv_p*cost_of_product+ intercept)/(2*-derv_p)\n",
      "/Users/dang/Desktop/Learning/Mygit/datascience_supplychain_practice/env/lib/python3.7/site-packages/inventorize/__init__.py:663: RuntimeWarning: divide by zero encountered in true_divide\n",
      "  optimum_revenue =intercept/(2*-derv_p)\n",
      "/Users/dang/Desktop/Learning/Mygit/datascience_supplychain_practice/env/lib/python3.7/site-packages/inventorize/__init__.py:662: RuntimeWarning: divide by zero encountered in true_divide\n",
      "  optimum_profit=(-derv_p*cost_of_product+ intercept)/(2*-derv_p)\n",
      "/Users/dang/Desktop/Learning/Mygit/datascience_supplychain_practice/env/lib/python3.7/site-packages/inventorize/__init__.py:663: RuntimeWarning: divide by zero encountered in true_divide\n",
      "  optimum_revenue =intercept/(2*-derv_p)\n",
      "/Users/dang/Desktop/Learning/Mygit/datascience_supplychain_practice/env/lib/python3.7/site-packages/inventorize/__init__.py:662: RuntimeWarning: divide by zero encountered in true_divide\n",
      "  optimum_profit=(-derv_p*cost_of_product+ intercept)/(2*-derv_p)\n",
      "/Users/dang/Desktop/Learning/Mygit/datascience_supplychain_practice/env/lib/python3.7/site-packages/inventorize/__init__.py:663: RuntimeWarning: divide by zero encountered in true_divide\n",
      "  optimum_revenue =intercept/(2*-derv_p)\n",
      "/Users/dang/Desktop/Learning/Mygit/datascience_supplychain_practice/env/lib/python3.7/site-packages/inventorize/__init__.py:662: RuntimeWarning: divide by zero encountered in true_divide\n",
      "  optimum_profit=(-derv_p*cost_of_product+ intercept)/(2*-derv_p)\n",
      "/Users/dang/Desktop/Learning/Mygit/datascience_supplychain_practice/env/lib/python3.7/site-packages/inventorize/__init__.py:663: RuntimeWarning: divide by zero encountered in true_divide\n",
      "  optimum_revenue =intercept/(2*-derv_p)\n",
      "/Users/dang/Desktop/Learning/Mygit/datascience_supplychain_practice/env/lib/python3.7/site-packages/inventorize/__init__.py:662: RuntimeWarning: divide by zero encountered in true_divide\n",
      "  optimum_profit=(-derv_p*cost_of_product+ intercept)/(2*-derv_p)\n",
      "/Users/dang/Desktop/Learning/Mygit/datascience_supplychain_practice/env/lib/python3.7/site-packages/inventorize/__init__.py:663: RuntimeWarning: divide by zero encountered in true_divide\n",
      "  optimum_revenue =intercept/(2*-derv_p)\n",
      "/Users/dang/Desktop/Learning/Mygit/datascience_supplychain_practice/env/lib/python3.7/site-packages/inventorize/__init__.py:662: RuntimeWarning: divide by zero encountered in true_divide\n",
      "  optimum_profit=(-derv_p*cost_of_product+ intercept)/(2*-derv_p)\n",
      "/Users/dang/Desktop/Learning/Mygit/datascience_supplychain_practice/env/lib/python3.7/site-packages/inventorize/__init__.py:663: RuntimeWarning: divide by zero encountered in true_divide\n",
      "  optimum_revenue =intercept/(2*-derv_p)\n",
      "/Users/dang/Desktop/Learning/Mygit/datascience_supplychain_practice/env/lib/python3.7/site-packages/inventorize/__init__.py:662: RuntimeWarning: divide by zero encountered in true_divide\n",
      "  optimum_profit=(-derv_p*cost_of_product+ intercept)/(2*-derv_p)\n",
      "/Users/dang/Desktop/Learning/Mygit/datascience_supplychain_practice/env/lib/python3.7/site-packages/inventorize/__init__.py:663: RuntimeWarning: divide by zero encountered in true_divide\n",
      "  optimum_revenue =intercept/(2*-derv_p)\n",
      "/Users/dang/Desktop/Learning/Mygit/datascience_supplychain_practice/env/lib/python3.7/site-packages/inventorize/__init__.py:662: RuntimeWarning: divide by zero encountered in true_divide\n",
      "  optimum_profit=(-derv_p*cost_of_product+ intercept)/(2*-derv_p)\n",
      "/Users/dang/Desktop/Learning/Mygit/datascience_supplychain_practice/env/lib/python3.7/site-packages/inventorize/__init__.py:663: RuntimeWarning: divide by zero encountered in true_divide\n",
      "  optimum_revenue =intercept/(2*-derv_p)\n",
      "/Users/dang/Desktop/Learning/Mygit/datascience_supplychain_practice/env/lib/python3.7/site-packages/inventorize/__init__.py:662: RuntimeWarning: divide by zero encountered in true_divide\n",
      "  optimum_profit=(-derv_p*cost_of_product+ intercept)/(2*-derv_p)\n",
      "/Users/dang/Desktop/Learning/Mygit/datascience_supplychain_practice/env/lib/python3.7/site-packages/inventorize/__init__.py:663: RuntimeWarning: divide by zero encountered in true_divide\n",
      "  optimum_revenue =intercept/(2*-derv_p)\n",
      "/Users/dang/Desktop/Learning/Mygit/datascience_supplychain_practice/env/lib/python3.7/site-packages/inventorize/__init__.py:662: RuntimeWarning: divide by zero encountered in true_divide\n",
      "  optimum_profit=(-derv_p*cost_of_product+ intercept)/(2*-derv_p)\n",
      "/Users/dang/Desktop/Learning/Mygit/datascience_supplychain_practice/env/lib/python3.7/site-packages/inventorize/__init__.py:663: RuntimeWarning: divide by zero encountered in true_divide\n",
      "  optimum_revenue =intercept/(2*-derv_p)\n",
      "/Users/dang/Desktop/Learning/Mygit/datascience_supplychain_practice/env/lib/python3.7/site-packages/inventorize/__init__.py:662: RuntimeWarning: divide by zero encountered in true_divide\n",
      "  optimum_profit=(-derv_p*cost_of_product+ intercept)/(2*-derv_p)\n",
      "/Users/dang/Desktop/Learning/Mygit/datascience_supplychain_practice/env/lib/python3.7/site-packages/inventorize/__init__.py:663: RuntimeWarning: divide by zero encountered in true_divide\n",
      "  optimum_revenue =intercept/(2*-derv_p)\n",
      "/Users/dang/Desktop/Learning/Mygit/datascience_supplychain_practice/env/lib/python3.7/site-packages/inventorize/__init__.py:662: RuntimeWarning: divide by zero encountered in true_divide\n",
      "  optimum_profit=(-derv_p*cost_of_product+ intercept)/(2*-derv_p)\n",
      "/Users/dang/Desktop/Learning/Mygit/datascience_supplychain_practice/env/lib/python3.7/site-packages/inventorize/__init__.py:663: RuntimeWarning: divide by zero encountered in true_divide\n",
      "  optimum_revenue =intercept/(2*-derv_p)\n",
      "/Users/dang/Desktop/Learning/Mygit/datascience_supplychain_practice/env/lib/python3.7/site-packages/inventorize/__init__.py:662: RuntimeWarning: divide by zero encountered in true_divide\n",
      "  optimum_profit=(-derv_p*cost_of_product+ intercept)/(2*-derv_p)\n",
      "/Users/dang/Desktop/Learning/Mygit/datascience_supplychain_practice/env/lib/python3.7/site-packages/inventorize/__init__.py:663: RuntimeWarning: divide by zero encountered in true_divide\n",
      "  optimum_revenue =intercept/(2*-derv_p)\n",
      "/Users/dang/Desktop/Learning/Mygit/datascience_supplychain_practice/env/lib/python3.7/site-packages/inventorize/__init__.py:662: RuntimeWarning: divide by zero encountered in true_divide\n",
      "  optimum_profit=(-derv_p*cost_of_product+ intercept)/(2*-derv_p)\n",
      "/Users/dang/Desktop/Learning/Mygit/datascience_supplychain_practice/env/lib/python3.7/site-packages/inventorize/__init__.py:663: RuntimeWarning: divide by zero encountered in true_divide\n",
      "  optimum_revenue =intercept/(2*-derv_p)\n",
      "/Users/dang/Desktop/Learning/Mygit/datascience_supplychain_practice/env/lib/python3.7/site-packages/inventorize/__init__.py:662: RuntimeWarning: divide by zero encountered in true_divide\n",
      "  optimum_profit=(-derv_p*cost_of_product+ intercept)/(2*-derv_p)\n",
      "/Users/dang/Desktop/Learning/Mygit/datascience_supplychain_practice/env/lib/python3.7/site-packages/inventorize/__init__.py:663: RuntimeWarning: divide by zero encountered in true_divide\n",
      "  optimum_revenue =intercept/(2*-derv_p)\n",
      "/Users/dang/Desktop/Learning/Mygit/datascience_supplychain_practice/env/lib/python3.7/site-packages/inventorize/__init__.py:662: RuntimeWarning: divide by zero encountered in true_divide\n",
      "  optimum_profit=(-derv_p*cost_of_product+ intercept)/(2*-derv_p)\n",
      "/Users/dang/Desktop/Learning/Mygit/datascience_supplychain_practice/env/lib/python3.7/site-packages/inventorize/__init__.py:663: RuntimeWarning: divide by zero encountered in true_divide\n",
      "  optimum_revenue =intercept/(2*-derv_p)\n",
      "/Users/dang/Desktop/Learning/Mygit/datascience_supplychain_practice/env/lib/python3.7/site-packages/inventorize/__init__.py:662: RuntimeWarning: divide by zero encountered in true_divide\n",
      "  optimum_profit=(-derv_p*cost_of_product+ intercept)/(2*-derv_p)\n",
      "/Users/dang/Desktop/Learning/Mygit/datascience_supplychain_practice/env/lib/python3.7/site-packages/inventorize/__init__.py:663: RuntimeWarning: divide by zero encountered in true_divide\n",
      "  optimum_revenue =intercept/(2*-derv_p)\n",
      "/Users/dang/Desktop/Learning/Mygit/datascience_supplychain_practice/env/lib/python3.7/site-packages/inventorize/__init__.py:662: RuntimeWarning: divide by zero encountered in true_divide\n",
      "  optimum_profit=(-derv_p*cost_of_product+ intercept)/(2*-derv_p)\n",
      "/Users/dang/Desktop/Learning/Mygit/datascience_supplychain_practice/env/lib/python3.7/site-packages/inventorize/__init__.py:663: RuntimeWarning: divide by zero encountered in true_divide\n",
      "  optimum_revenue =intercept/(2*-derv_p)\n",
      "/Users/dang/Desktop/Learning/Mygit/datascience_supplychain_practice/env/lib/python3.7/site-packages/inventorize/__init__.py:662: RuntimeWarning: divide by zero encountered in true_divide\n",
      "  optimum_profit=(-derv_p*cost_of_product+ intercept)/(2*-derv_p)\n",
      "/Users/dang/Desktop/Learning/Mygit/datascience_supplychain_practice/env/lib/python3.7/site-packages/inventorize/__init__.py:663: RuntimeWarning: divide by zero encountered in true_divide\n",
      "  optimum_revenue =intercept/(2*-derv_p)\n",
      "/Users/dang/Desktop/Learning/Mygit/datascience_supplychain_practice/env/lib/python3.7/site-packages/inventorize/__init__.py:662: RuntimeWarning: divide by zero encountered in true_divide\n",
      "  optimum_profit=(-derv_p*cost_of_product+ intercept)/(2*-derv_p)\n",
      "/Users/dang/Desktop/Learning/Mygit/datascience_supplychain_practice/env/lib/python3.7/site-packages/inventorize/__init__.py:663: RuntimeWarning: divide by zero encountered in true_divide\n",
      "  optimum_revenue =intercept/(2*-derv_p)\n",
      "/Users/dang/Desktop/Learning/Mygit/datascience_supplychain_practice/env/lib/python3.7/site-packages/inventorize/__init__.py:662: RuntimeWarning: divide by zero encountered in true_divide\n",
      "  optimum_profit=(-derv_p*cost_of_product+ intercept)/(2*-derv_p)\n",
      "/Users/dang/Desktop/Learning/Mygit/datascience_supplychain_practice/env/lib/python3.7/site-packages/inventorize/__init__.py:663: RuntimeWarning: divide by zero encountered in true_divide\n",
      "  optimum_revenue =intercept/(2*-derv_p)\n",
      "/Users/dang/Desktop/Learning/Mygit/datascience_supplychain_practice/env/lib/python3.7/site-packages/inventorize/__init__.py:662: RuntimeWarning: divide by zero encountered in true_divide\n",
      "  optimum_profit=(-derv_p*cost_of_product+ intercept)/(2*-derv_p)\n",
      "/Users/dang/Desktop/Learning/Mygit/datascience_supplychain_practice/env/lib/python3.7/site-packages/inventorize/__init__.py:663: RuntimeWarning: divide by zero encountered in true_divide\n",
      "  optimum_revenue =intercept/(2*-derv_p)\n",
      "/Users/dang/Desktop/Learning/Mygit/datascience_supplychain_practice/env/lib/python3.7/site-packages/inventorize/__init__.py:662: RuntimeWarning: divide by zero encountered in true_divide\n",
      "  optimum_profit=(-derv_p*cost_of_product+ intercept)/(2*-derv_p)\n",
      "/Users/dang/Desktop/Learning/Mygit/datascience_supplychain_practice/env/lib/python3.7/site-packages/inventorize/__init__.py:663: RuntimeWarning: divide by zero encountered in true_divide\n",
      "  optimum_revenue =intercept/(2*-derv_p)\n",
      "/Users/dang/Desktop/Learning/Mygit/datascience_supplychain_practice/env/lib/python3.7/site-packages/inventorize/__init__.py:662: RuntimeWarning: divide by zero encountered in true_divide\n",
      "  optimum_profit=(-derv_p*cost_of_product+ intercept)/(2*-derv_p)\n",
      "/Users/dang/Desktop/Learning/Mygit/datascience_supplychain_practice/env/lib/python3.7/site-packages/inventorize/__init__.py:663: RuntimeWarning: divide by zero encountered in true_divide\n",
      "  optimum_revenue =intercept/(2*-derv_p)\n",
      "/Users/dang/Desktop/Learning/Mygit/datascience_supplychain_practice/env/lib/python3.7/site-packages/inventorize/__init__.py:662: RuntimeWarning: divide by zero encountered in true_divide\n",
      "  optimum_profit=(-derv_p*cost_of_product+ intercept)/(2*-derv_p)\n",
      "/Users/dang/Desktop/Learning/Mygit/datascience_supplychain_practice/env/lib/python3.7/site-packages/inventorize/__init__.py:663: RuntimeWarning: divide by zero encountered in true_divide\n",
      "  optimum_revenue =intercept/(2*-derv_p)\n",
      "/Users/dang/Desktop/Learning/Mygit/datascience_supplychain_practice/env/lib/python3.7/site-packages/inventorize/__init__.py:662: RuntimeWarning: divide by zero encountered in true_divide\n",
      "  optimum_profit=(-derv_p*cost_of_product+ intercept)/(2*-derv_p)\n",
      "/Users/dang/Desktop/Learning/Mygit/datascience_supplychain_practice/env/lib/python3.7/site-packages/inventorize/__init__.py:663: RuntimeWarning: divide by zero encountered in true_divide\n",
      "  optimum_revenue =intercept/(2*-derv_p)\n",
      "/Users/dang/Desktop/Learning/Mygit/datascience_supplychain_practice/env/lib/python3.7/site-packages/inventorize/__init__.py:662: RuntimeWarning: divide by zero encountered in true_divide\n",
      "  optimum_profit=(-derv_p*cost_of_product+ intercept)/(2*-derv_p)\n",
      "/Users/dang/Desktop/Learning/Mygit/datascience_supplychain_practice/env/lib/python3.7/site-packages/inventorize/__init__.py:663: RuntimeWarning: divide by zero encountered in true_divide\n",
      "  optimum_revenue =intercept/(2*-derv_p)\n",
      "/Users/dang/Desktop/Learning/Mygit/datascience_supplychain_practice/env/lib/python3.7/site-packages/inventorize/__init__.py:662: RuntimeWarning: divide by zero encountered in true_divide\n",
      "  optimum_profit=(-derv_p*cost_of_product+ intercept)/(2*-derv_p)\n",
      "/Users/dang/Desktop/Learning/Mygit/datascience_supplychain_practice/env/lib/python3.7/site-packages/inventorize/__init__.py:663: RuntimeWarning: divide by zero encountered in true_divide\n",
      "  optimum_revenue =intercept/(2*-derv_p)\n",
      "/Users/dang/Desktop/Learning/Mygit/datascience_supplychain_practice/env/lib/python3.7/site-packages/inventorize/__init__.py:662: RuntimeWarning: divide by zero encountered in true_divide\n",
      "  optimum_profit=(-derv_p*cost_of_product+ intercept)/(2*-derv_p)\n",
      "/Users/dang/Desktop/Learning/Mygit/datascience_supplychain_practice/env/lib/python3.7/site-packages/inventorize/__init__.py:663: RuntimeWarning: divide by zero encountered in true_divide\n",
      "  optimum_revenue =intercept/(2*-derv_p)\n"
     ]
    }
   ],
   "source": [
    "for key in keys:\n",
    "    try:\n",
    "        a = weekly_sales[weekly_sales.Description == key]\n",
    "        cost = 0.4 * max(a['price'])\n",
    "        current_price = a['price'].mean()\n",
    "        elasticity = inv.linear_elasticity(\n",
    "            a['price'], a['total_sales'],\n",
    "            current_price, cost\n",
    "        )\n",
    "        elasticity = {k:v[0] for k,v in elasticity.items()}\n",
    "        data = pd.DataFrame(elasticity, index = [0])\n",
    "        data['Description'] = key\n",
    "        empty_data = pd.concat([empty_data, data], axis=0)\n",
    "    except:\n",
    "        continue"
   ]
  },
  {
   "cell_type": "code",
   "execution_count": 47,
   "metadata": {},
   "outputs": [
    {
     "output_type": "execute_result",
     "data": {
      "text/plain": [
       "Elasticity                       2.317158\n",
       "optimum_price_profit             4.362780\n",
       "optimum_price_revenue            3.372780\n",
       "Description               FLAMINGO LIGHTS\n",
       "Name: 0, dtype: object"
      ]
     },
     "metadata": {},
     "execution_count": 47
    }
   ],
   "source": [
    "empty_data.iloc[2,:]"
   ]
  },
  {
   "cell_type": "code",
   "execution_count": 48,
   "metadata": {},
   "outputs": [],
   "source": [
    "price = [5,10,15,17,20,23,25]\n",
    "demand = [600, 550, 700, 680, 500, 400, 250]"
   ]
  },
  {
   "cell_type": "code",
   "execution_count": 49,
   "metadata": {},
   "outputs": [],
   "source": [
    "pricing_data = pd.DataFrame({\n",
    "    'price': price,\n",
    "    'demand': demand\n",
    "})"
   ]
  },
  {
   "cell_type": "code",
   "execution_count": 51,
   "metadata": {},
   "outputs": [
    {
     "output_type": "execute_result",
     "data": {
      "text/plain": [
       "   price  demand\n",
       "0      5     600\n",
       "1     10     550\n",
       "2     15     700\n",
       "3     17     680\n",
       "4     20     500\n",
       "5     23     400\n",
       "6     25     250"
      ],
      "text/html": "<div>\n<style scoped>\n    .dataframe tbody tr th:only-of-type {\n        vertical-align: middle;\n    }\n\n    .dataframe tbody tr th {\n        vertical-align: top;\n    }\n\n    .dataframe thead th {\n        text-align: right;\n    }\n</style>\n<table border=\"1\" class=\"dataframe\">\n  <thead>\n    <tr style=\"text-align: right;\">\n      <th></th>\n      <th>price</th>\n      <th>demand</th>\n    </tr>\n  </thead>\n  <tbody>\n    <tr>\n      <th>0</th>\n      <td>5</td>\n      <td>600</td>\n    </tr>\n    <tr>\n      <th>1</th>\n      <td>10</td>\n      <td>550</td>\n    </tr>\n    <tr>\n      <th>2</th>\n      <td>15</td>\n      <td>700</td>\n    </tr>\n    <tr>\n      <th>3</th>\n      <td>17</td>\n      <td>680</td>\n    </tr>\n    <tr>\n      <th>4</th>\n      <td>20</td>\n      <td>500</td>\n    </tr>\n    <tr>\n      <th>5</th>\n      <td>23</td>\n      <td>400</td>\n    </tr>\n    <tr>\n      <th>6</th>\n      <td>25</td>\n      <td>250</td>\n    </tr>\n  </tbody>\n</table>\n</div>"
     },
     "metadata": {},
     "execution_count": 51
    }
   ],
   "source": [
    "pricing_data"
   ]
  },
  {
   "cell_type": "code",
   "execution_count": 52,
   "metadata": {},
   "outputs": [
    {
     "output_type": "execute_result",
     "data": {
      "text/plain": [
       "<matplotlib.collections.PathCollection at 0x7fbc219769d0>"
      ]
     },
     "metadata": {},
     "execution_count": 52
    },
    {
     "output_type": "display_data",
     "data": {
      "text/plain": "<Figure size 432x288 with 1 Axes>",
      "image/svg+xml": "<?xml version=\"1.0\" encoding=\"utf-8\" standalone=\"no\"?>\n<!DOCTYPE svg PUBLIC \"-//W3C//DTD SVG 1.1//EN\"\n  \"http://www.w3.org/Graphics/SVG/1.1/DTD/svg11.dtd\">\n<svg height=\"248.518125pt\" version=\"1.1\" viewBox=\"0 0 375.2875 248.518125\" width=\"375.2875pt\" xmlns=\"http://www.w3.org/2000/svg\" xmlns:xlink=\"http://www.w3.org/1999/xlink\">\n <metadata>\n  <rdf:RDF xmlns:cc=\"http://creativecommons.org/ns#\" xmlns:dc=\"http://purl.org/dc/elements/1.1/\" xmlns:rdf=\"http://www.w3.org/1999/02/22-rdf-syntax-ns#\">\n   <cc:Work>\n    <dc:type rdf:resource=\"http://purl.org/dc/dcmitype/StillImage\"/>\n    <dc:date>2021-07-19T15:46:24.820072</dc:date>\n    <dc:format>image/svg+xml</dc:format>\n    <dc:creator>\n     <cc:Agent>\n      <dc:title>Matplotlib v3.4.2, https://matplotlib.org/</dc:title>\n     </cc:Agent>\n    </dc:creator>\n   </cc:Work>\n  </rdf:RDF>\n </metadata>\n <defs>\n  <style type=\"text/css\">*{stroke-linecap:butt;stroke-linejoin:round;}</style>\n </defs>\n <g id=\"figure_1\">\n  <g id=\"patch_1\">\n   <path d=\"M 0 248.518125 \nL 375.2875 248.518125 \nL 375.2875 0 \nL 0 0 \nz\n\" style=\"fill:none;\"/>\n  </g>\n  <g id=\"axes_1\">\n   <g id=\"patch_2\">\n    <path d=\"M 33.2875 224.64 \nL 368.0875 224.64 \nL 368.0875 7.2 \nL 33.2875 7.2 \nz\n\" style=\"fill:#ffffff;\"/>\n   </g>\n   <g id=\"PathCollection_1\">\n    <defs>\n     <path d=\"M 0 3 \nC 0.795609 3 1.55874 2.683901 2.12132 2.12132 \nC 2.683901 1.55874 3 0.795609 3 0 \nC 3 -0.795609 2.683901 -1.55874 2.12132 -2.12132 \nC 1.55874 -2.683901 0.795609 -3 0 -3 \nC -0.795609 -3 -1.55874 -2.683901 -2.12132 -2.12132 \nC -2.683901 -1.55874 -3 -0.795609 -3 0 \nC -3 0.795609 -2.683901 1.55874 -2.12132 2.12132 \nC -1.55874 2.683901 -0.795609 3 0 3 \nz\n\" id=\"mc7ecb61e5b\" style=\"stroke:#1f77b4;\"/>\n    </defs>\n    <g clip-path=\"url(#pf721e3b898)\">\n     <use style=\"fill:#1f77b4;stroke:#1f77b4;\" x=\"48.505682\" xlink:href=\"#mc7ecb61e5b\" y=\"61.010909\"/>\n     <use style=\"fill:#1f77b4;stroke:#1f77b4;\" x=\"124.596591\" xlink:href=\"#mc7ecb61e5b\" y=\"82.974545\"/>\n     <use style=\"fill:#1f77b4;stroke:#1f77b4;\" x=\"200.6875\" xlink:href=\"#mc7ecb61e5b\" y=\"17.083636\"/>\n     <use style=\"fill:#1f77b4;stroke:#1f77b4;\" x=\"231.123864\" xlink:href=\"#mc7ecb61e5b\" y=\"25.869091\"/>\n     <use style=\"fill:#1f77b4;stroke:#1f77b4;\" x=\"276.778409\" xlink:href=\"#mc7ecb61e5b\" y=\"104.938182\"/>\n     <use style=\"fill:#1f77b4;stroke:#1f77b4;\" x=\"322.432955\" xlink:href=\"#mc7ecb61e5b\" y=\"148.865455\"/>\n     <use style=\"fill:#1f77b4;stroke:#1f77b4;\" x=\"352.869318\" xlink:href=\"#mc7ecb61e5b\" y=\"214.756364\"/>\n    </g>\n   </g>\n   <g id=\"matplotlib.axis_1\">\n    <g id=\"xtick_1\">\n     <g id=\"line2d_1\">\n      <defs>\n       <path d=\"M 0 0 \nL 0 3.5 \n\" id=\"m0a2f874d36\" style=\"stroke:#000000;stroke-width:0.8;\"/>\n      </defs>\n      <g>\n       <use style=\"stroke:#000000;stroke-width:0.8;\" x=\"48.505682\" xlink:href=\"#m0a2f874d36\" y=\"224.64\"/>\n      </g>\n     </g>\n     <g id=\"text_1\">\n      <!-- 5.0 -->\n      <g transform=\"translate(40.554119 239.238437)scale(0.1 -0.1)\">\n       <defs>\n        <path d=\"M 691 4666 \nL 3169 4666 \nL 3169 4134 \nL 1269 4134 \nL 1269 2991 \nQ 1406 3038 1543 3061 \nQ 1681 3084 1819 3084 \nQ 2600 3084 3056 2656 \nQ 3513 2228 3513 1497 \nQ 3513 744 3044 326 \nQ 2575 -91 1722 -91 \nQ 1428 -91 1123 -41 \nQ 819 9 494 109 \nL 494 744 \nQ 775 591 1075 516 \nQ 1375 441 1709 441 \nQ 2250 441 2565 725 \nQ 2881 1009 2881 1497 \nQ 2881 1984 2565 2268 \nQ 2250 2553 1709 2553 \nQ 1456 2553 1204 2497 \nQ 953 2441 691 2322 \nL 691 4666 \nz\n\" id=\"DejaVuSans-35\" transform=\"scale(0.015625)\"/>\n        <path d=\"M 684 794 \nL 1344 794 \nL 1344 0 \nL 684 0 \nL 684 794 \nz\n\" id=\"DejaVuSans-2e\" transform=\"scale(0.015625)\"/>\n        <path d=\"M 2034 4250 \nQ 1547 4250 1301 3770 \nQ 1056 3291 1056 2328 \nQ 1056 1369 1301 889 \nQ 1547 409 2034 409 \nQ 2525 409 2770 889 \nQ 3016 1369 3016 2328 \nQ 3016 3291 2770 3770 \nQ 2525 4250 2034 4250 \nz\nM 2034 4750 \nQ 2819 4750 3233 4129 \nQ 3647 3509 3647 2328 \nQ 3647 1150 3233 529 \nQ 2819 -91 2034 -91 \nQ 1250 -91 836 529 \nQ 422 1150 422 2328 \nQ 422 3509 836 4129 \nQ 1250 4750 2034 4750 \nz\n\" id=\"DejaVuSans-30\" transform=\"scale(0.015625)\"/>\n       </defs>\n       <use xlink:href=\"#DejaVuSans-35\"/>\n       <use x=\"63.623047\" xlink:href=\"#DejaVuSans-2e\"/>\n       <use x=\"95.410156\" xlink:href=\"#DejaVuSans-30\"/>\n      </g>\n     </g>\n    </g>\n    <g id=\"xtick_2\">\n     <g id=\"line2d_2\">\n      <g>\n       <use style=\"stroke:#000000;stroke-width:0.8;\" x=\"86.551136\" xlink:href=\"#m0a2f874d36\" y=\"224.64\"/>\n      </g>\n     </g>\n     <g id=\"text_2\">\n      <!-- 7.5 -->\n      <g transform=\"translate(78.599574 239.238437)scale(0.1 -0.1)\">\n       <defs>\n        <path d=\"M 525 4666 \nL 3525 4666 \nL 3525 4397 \nL 1831 0 \nL 1172 0 \nL 2766 4134 \nL 525 4134 \nL 525 4666 \nz\n\" id=\"DejaVuSans-37\" transform=\"scale(0.015625)\"/>\n       </defs>\n       <use xlink:href=\"#DejaVuSans-37\"/>\n       <use x=\"63.623047\" xlink:href=\"#DejaVuSans-2e\"/>\n       <use x=\"95.410156\" xlink:href=\"#DejaVuSans-35\"/>\n      </g>\n     </g>\n    </g>\n    <g id=\"xtick_3\">\n     <g id=\"line2d_3\">\n      <g>\n       <use style=\"stroke:#000000;stroke-width:0.8;\" x=\"124.596591\" xlink:href=\"#m0a2f874d36\" y=\"224.64\"/>\n      </g>\n     </g>\n     <g id=\"text_3\">\n      <!-- 10.0 -->\n      <g transform=\"translate(113.463778 239.238437)scale(0.1 -0.1)\">\n       <defs>\n        <path d=\"M 794 531 \nL 1825 531 \nL 1825 4091 \nL 703 3866 \nL 703 4441 \nL 1819 4666 \nL 2450 4666 \nL 2450 531 \nL 3481 531 \nL 3481 0 \nL 794 0 \nL 794 531 \nz\n\" id=\"DejaVuSans-31\" transform=\"scale(0.015625)\"/>\n       </defs>\n       <use xlink:href=\"#DejaVuSans-31\"/>\n       <use x=\"63.623047\" xlink:href=\"#DejaVuSans-30\"/>\n       <use x=\"127.246094\" xlink:href=\"#DejaVuSans-2e\"/>\n       <use x=\"159.033203\" xlink:href=\"#DejaVuSans-30\"/>\n      </g>\n     </g>\n    </g>\n    <g id=\"xtick_4\">\n     <g id=\"line2d_4\">\n      <g>\n       <use style=\"stroke:#000000;stroke-width:0.8;\" x=\"162.642045\" xlink:href=\"#m0a2f874d36\" y=\"224.64\"/>\n      </g>\n     </g>\n     <g id=\"text_4\">\n      <!-- 12.5 -->\n      <g transform=\"translate(151.509233 239.238437)scale(0.1 -0.1)\">\n       <defs>\n        <path d=\"M 1228 531 \nL 3431 531 \nL 3431 0 \nL 469 0 \nL 469 531 \nQ 828 903 1448 1529 \nQ 2069 2156 2228 2338 \nQ 2531 2678 2651 2914 \nQ 2772 3150 2772 3378 \nQ 2772 3750 2511 3984 \nQ 2250 4219 1831 4219 \nQ 1534 4219 1204 4116 \nQ 875 4013 500 3803 \nL 500 4441 \nQ 881 4594 1212 4672 \nQ 1544 4750 1819 4750 \nQ 2544 4750 2975 4387 \nQ 3406 4025 3406 3419 \nQ 3406 3131 3298 2873 \nQ 3191 2616 2906 2266 \nQ 2828 2175 2409 1742 \nQ 1991 1309 1228 531 \nz\n\" id=\"DejaVuSans-32\" transform=\"scale(0.015625)\"/>\n       </defs>\n       <use xlink:href=\"#DejaVuSans-31\"/>\n       <use x=\"63.623047\" xlink:href=\"#DejaVuSans-32\"/>\n       <use x=\"127.246094\" xlink:href=\"#DejaVuSans-2e\"/>\n       <use x=\"159.033203\" xlink:href=\"#DejaVuSans-35\"/>\n      </g>\n     </g>\n    </g>\n    <g id=\"xtick_5\">\n     <g id=\"line2d_5\">\n      <g>\n       <use style=\"stroke:#000000;stroke-width:0.8;\" x=\"200.6875\" xlink:href=\"#m0a2f874d36\" y=\"224.64\"/>\n      </g>\n     </g>\n     <g id=\"text_5\">\n      <!-- 15.0 -->\n      <g transform=\"translate(189.554688 239.238437)scale(0.1 -0.1)\">\n       <use xlink:href=\"#DejaVuSans-31\"/>\n       <use x=\"63.623047\" xlink:href=\"#DejaVuSans-35\"/>\n       <use x=\"127.246094\" xlink:href=\"#DejaVuSans-2e\"/>\n       <use x=\"159.033203\" xlink:href=\"#DejaVuSans-30\"/>\n      </g>\n     </g>\n    </g>\n    <g id=\"xtick_6\">\n     <g id=\"line2d_6\">\n      <g>\n       <use style=\"stroke:#000000;stroke-width:0.8;\" x=\"238.732955\" xlink:href=\"#m0a2f874d36\" y=\"224.64\"/>\n      </g>\n     </g>\n     <g id=\"text_6\">\n      <!-- 17.5 -->\n      <g transform=\"translate(227.600142 239.238437)scale(0.1 -0.1)\">\n       <use xlink:href=\"#DejaVuSans-31\"/>\n       <use x=\"63.623047\" xlink:href=\"#DejaVuSans-37\"/>\n       <use x=\"127.246094\" xlink:href=\"#DejaVuSans-2e\"/>\n       <use x=\"159.033203\" xlink:href=\"#DejaVuSans-35\"/>\n      </g>\n     </g>\n    </g>\n    <g id=\"xtick_7\">\n     <g id=\"line2d_7\">\n      <g>\n       <use style=\"stroke:#000000;stroke-width:0.8;\" x=\"276.778409\" xlink:href=\"#m0a2f874d36\" y=\"224.64\"/>\n      </g>\n     </g>\n     <g id=\"text_7\">\n      <!-- 20.0 -->\n      <g transform=\"translate(265.645597 239.238437)scale(0.1 -0.1)\">\n       <use xlink:href=\"#DejaVuSans-32\"/>\n       <use x=\"63.623047\" xlink:href=\"#DejaVuSans-30\"/>\n       <use x=\"127.246094\" xlink:href=\"#DejaVuSans-2e\"/>\n       <use x=\"159.033203\" xlink:href=\"#DejaVuSans-30\"/>\n      </g>\n     </g>\n    </g>\n    <g id=\"xtick_8\">\n     <g id=\"line2d_8\">\n      <g>\n       <use style=\"stroke:#000000;stroke-width:0.8;\" x=\"314.823864\" xlink:href=\"#m0a2f874d36\" y=\"224.64\"/>\n      </g>\n     </g>\n     <g id=\"text_8\">\n      <!-- 22.5 -->\n      <g transform=\"translate(303.691051 239.238437)scale(0.1 -0.1)\">\n       <use xlink:href=\"#DejaVuSans-32\"/>\n       <use x=\"63.623047\" xlink:href=\"#DejaVuSans-32\"/>\n       <use x=\"127.246094\" xlink:href=\"#DejaVuSans-2e\"/>\n       <use x=\"159.033203\" xlink:href=\"#DejaVuSans-35\"/>\n      </g>\n     </g>\n    </g>\n    <g id=\"xtick_9\">\n     <g id=\"line2d_9\">\n      <g>\n       <use style=\"stroke:#000000;stroke-width:0.8;\" x=\"352.869318\" xlink:href=\"#m0a2f874d36\" y=\"224.64\"/>\n      </g>\n     </g>\n     <g id=\"text_9\">\n      <!-- 25.0 -->\n      <g transform=\"translate(341.736506 239.238437)scale(0.1 -0.1)\">\n       <use xlink:href=\"#DejaVuSans-32\"/>\n       <use x=\"63.623047\" xlink:href=\"#DejaVuSans-35\"/>\n       <use x=\"127.246094\" xlink:href=\"#DejaVuSans-2e\"/>\n       <use x=\"159.033203\" xlink:href=\"#DejaVuSans-30\"/>\n      </g>\n     </g>\n    </g>\n   </g>\n   <g id=\"matplotlib.axis_2\">\n    <g id=\"ytick_1\">\n     <g id=\"line2d_10\">\n      <defs>\n       <path d=\"M 0 0 \nL -3.5 0 \n\" id=\"mc7a0eda3c8\" style=\"stroke:#000000;stroke-width:0.8;\"/>\n      </defs>\n      <g>\n       <use style=\"stroke:#000000;stroke-width:0.8;\" x=\"33.2875\" xlink:href=\"#mc7a0eda3c8\" y=\"192.792727\"/>\n      </g>\n     </g>\n     <g id=\"text_10\">\n      <!-- 300 -->\n      <g transform=\"translate(7.2 196.591946)scale(0.1 -0.1)\">\n       <defs>\n        <path d=\"M 2597 2516 \nQ 3050 2419 3304 2112 \nQ 3559 1806 3559 1356 \nQ 3559 666 3084 287 \nQ 2609 -91 1734 -91 \nQ 1441 -91 1130 -33 \nQ 819 25 488 141 \nL 488 750 \nQ 750 597 1062 519 \nQ 1375 441 1716 441 \nQ 2309 441 2620 675 \nQ 2931 909 2931 1356 \nQ 2931 1769 2642 2001 \nQ 2353 2234 1838 2234 \nL 1294 2234 \nL 1294 2753 \nL 1863 2753 \nQ 2328 2753 2575 2939 \nQ 2822 3125 2822 3475 \nQ 2822 3834 2567 4026 \nQ 2313 4219 1838 4219 \nQ 1578 4219 1281 4162 \nQ 984 4106 628 3988 \nL 628 4550 \nQ 988 4650 1302 4700 \nQ 1616 4750 1894 4750 \nQ 2613 4750 3031 4423 \nQ 3450 4097 3450 3541 \nQ 3450 3153 3228 2886 \nQ 3006 2619 2597 2516 \nz\n\" id=\"DejaVuSans-33\" transform=\"scale(0.015625)\"/>\n       </defs>\n       <use xlink:href=\"#DejaVuSans-33\"/>\n       <use x=\"63.623047\" xlink:href=\"#DejaVuSans-30\"/>\n       <use x=\"127.246094\" xlink:href=\"#DejaVuSans-30\"/>\n      </g>\n     </g>\n    </g>\n    <g id=\"ytick_2\">\n     <g id=\"line2d_11\">\n      <g>\n       <use style=\"stroke:#000000;stroke-width:0.8;\" x=\"33.2875\" xlink:href=\"#mc7a0eda3c8\" y=\"148.865455\"/>\n      </g>\n     </g>\n     <g id=\"text_11\">\n      <!-- 400 -->\n      <g transform=\"translate(7.2 152.664673)scale(0.1 -0.1)\">\n       <defs>\n        <path d=\"M 2419 4116 \nL 825 1625 \nL 2419 1625 \nL 2419 4116 \nz\nM 2253 4666 \nL 3047 4666 \nL 3047 1625 \nL 3713 1625 \nL 3713 1100 \nL 3047 1100 \nL 3047 0 \nL 2419 0 \nL 2419 1100 \nL 313 1100 \nL 313 1709 \nL 2253 4666 \nz\n\" id=\"DejaVuSans-34\" transform=\"scale(0.015625)\"/>\n       </defs>\n       <use xlink:href=\"#DejaVuSans-34\"/>\n       <use x=\"63.623047\" xlink:href=\"#DejaVuSans-30\"/>\n       <use x=\"127.246094\" xlink:href=\"#DejaVuSans-30\"/>\n      </g>\n     </g>\n    </g>\n    <g id=\"ytick_3\">\n     <g id=\"line2d_12\">\n      <g>\n       <use style=\"stroke:#000000;stroke-width:0.8;\" x=\"33.2875\" xlink:href=\"#mc7a0eda3c8\" y=\"104.938182\"/>\n      </g>\n     </g>\n     <g id=\"text_12\">\n      <!-- 500 -->\n      <g transform=\"translate(7.2 108.737401)scale(0.1 -0.1)\">\n       <use xlink:href=\"#DejaVuSans-35\"/>\n       <use x=\"63.623047\" xlink:href=\"#DejaVuSans-30\"/>\n       <use x=\"127.246094\" xlink:href=\"#DejaVuSans-30\"/>\n      </g>\n     </g>\n    </g>\n    <g id=\"ytick_4\">\n     <g id=\"line2d_13\">\n      <g>\n       <use style=\"stroke:#000000;stroke-width:0.8;\" x=\"33.2875\" xlink:href=\"#mc7a0eda3c8\" y=\"61.010909\"/>\n      </g>\n     </g>\n     <g id=\"text_13\">\n      <!-- 600 -->\n      <g transform=\"translate(7.2 64.810128)scale(0.1 -0.1)\">\n       <defs>\n        <path d=\"M 2113 2584 \nQ 1688 2584 1439 2293 \nQ 1191 2003 1191 1497 \nQ 1191 994 1439 701 \nQ 1688 409 2113 409 \nQ 2538 409 2786 701 \nQ 3034 994 3034 1497 \nQ 3034 2003 2786 2293 \nQ 2538 2584 2113 2584 \nz\nM 3366 4563 \nL 3366 3988 \nQ 3128 4100 2886 4159 \nQ 2644 4219 2406 4219 \nQ 1781 4219 1451 3797 \nQ 1122 3375 1075 2522 \nQ 1259 2794 1537 2939 \nQ 1816 3084 2150 3084 \nQ 2853 3084 3261 2657 \nQ 3669 2231 3669 1497 \nQ 3669 778 3244 343 \nQ 2819 -91 2113 -91 \nQ 1303 -91 875 529 \nQ 447 1150 447 2328 \nQ 447 3434 972 4092 \nQ 1497 4750 2381 4750 \nQ 2619 4750 2861 4703 \nQ 3103 4656 3366 4563 \nz\n\" id=\"DejaVuSans-36\" transform=\"scale(0.015625)\"/>\n       </defs>\n       <use xlink:href=\"#DejaVuSans-36\"/>\n       <use x=\"63.623047\" xlink:href=\"#DejaVuSans-30\"/>\n       <use x=\"127.246094\" xlink:href=\"#DejaVuSans-30\"/>\n      </g>\n     </g>\n    </g>\n    <g id=\"ytick_5\">\n     <g id=\"line2d_14\">\n      <g>\n       <use style=\"stroke:#000000;stroke-width:0.8;\" x=\"33.2875\" xlink:href=\"#mc7a0eda3c8\" y=\"17.083636\"/>\n      </g>\n     </g>\n     <g id=\"text_14\">\n      <!-- 700 -->\n      <g transform=\"translate(7.2 20.882855)scale(0.1 -0.1)\">\n       <use xlink:href=\"#DejaVuSans-37\"/>\n       <use x=\"63.623047\" xlink:href=\"#DejaVuSans-30\"/>\n       <use x=\"127.246094\" xlink:href=\"#DejaVuSans-30\"/>\n      </g>\n     </g>\n    </g>\n   </g>\n   <g id=\"patch_3\">\n    <path d=\"M 33.2875 224.64 \nL 33.2875 7.2 \n\" style=\"fill:none;stroke:#000000;stroke-linecap:square;stroke-linejoin:miter;stroke-width:0.8;\"/>\n   </g>\n   <g id=\"patch_4\">\n    <path d=\"M 368.0875 224.64 \nL 368.0875 7.2 \n\" style=\"fill:none;stroke:#000000;stroke-linecap:square;stroke-linejoin:miter;stroke-width:0.8;\"/>\n   </g>\n   <g id=\"patch_5\">\n    <path d=\"M 33.2875 224.64 \nL 368.0875 224.64 \n\" style=\"fill:none;stroke:#000000;stroke-linecap:square;stroke-linejoin:miter;stroke-width:0.8;\"/>\n   </g>\n   <g id=\"patch_6\">\n    <path d=\"M 33.2875 7.2 \nL 368.0875 7.2 \n\" style=\"fill:none;stroke:#000000;stroke-linecap:square;stroke-linejoin:miter;stroke-width:0.8;\"/>\n   </g>\n  </g>\n </g>\n <defs>\n  <clipPath id=\"pf721e3b898\">\n   <rect height=\"217.44\" width=\"334.8\" x=\"33.2875\" y=\"7.2\"/>\n  </clipPath>\n </defs>\n</svg>\n",
      "image/png": "[encoded data removed]"
     },
     "metadata": {
      "needs_background": "light"
     }
    }
   ],
   "source": [
    "plt.scatter(price, demand)"
   ]
  },
  {
   "cell_type": "code",
   "execution_count": 53,
   "metadata": {},
   "outputs": [
    {
     "output_type": "stream",
     "name": "stderr",
     "text": [
      "/Users/dang/Desktop/Learning/Mygit/datascience_supplychain_practice/env/lib/python3.7/site-packages/numpy/core/_asarray.py:102: VisibleDeprecationWarning: Creating an ndarray from ragged nested sequences (which is a list-or-tuple of lists-or-tuples-or ndarrays with different lengths or shapes) is deprecated. If you meant to do this, you must specify 'dtype=object' when creating the ndarray.\n  return array(a, dtype, copy=False, order=order)\n"
     ]
    }
   ],
   "source": [
    "logit_linear = inv.single_product_optimization(price, demand, 'Mango', 20, 4)"
   ]
  },
  {
   "cell_type": "code",
   "execution_count": 54,
   "metadata": {},
   "outputs": [
    {
     "output_type": "execute_result",
     "data": {
      "text/plain": [
       "{'optimization_paremeters':  final_simplex: (array([[-4.76292472e+00,  2.29095916e-01,  5.07841645e+02],\n",
       "        [-4.76292471e+00,  2.29095915e-01,  5.07841645e+02],\n",
       "        [-4.76292466e+00,  2.29095913e-01,  5.07841645e+02],\n",
       "        [-4.76292469e+00,  2.29095914e-01,  5.07841645e+02]]), array([10993.65115399, 10993.65115399, 10993.65115399, 10993.65115399]))\n",
       "            fun: 10993.651153985002\n",
       "        message: 'Optimization terminated successfully.'\n",
       "           nfev: 267\n",
       "            nit: 149\n",
       "         status: 0\n",
       "        success: True\n",
       "              x: array([-4.76292472e+00,  2.29095916e-01,  5.07841645e+02]),\n",
       " 'lm_model': LinearRegression(),\n",
       " 'squared_error_logit': 'squared_error_logit= 10993.651153985002',\n",
       " 'squared_error_linear': 'squared_errorr_lm= 87654.04515522107',\n",
       " 'simulation_data':             x  predicted_linear  predicted_logit  revenue_linear  \\\n",
       " 0   -7.806472        880.576416       512.608727    -6874.194763   \n",
       " 1   -6.806472        865.933895       513.630096    -5893.954443   \n",
       " 2   -5.806472        851.291374       514.861834    -4942.999166   \n",
       " 3   -4.806472        836.648852       516.344685    -4021.328930   \n",
       " 4   -3.806472        822.006331       518.126446    -3128.943737   \n",
       " 5   -2.806472        807.363810       520.262872    -2265.843586   \n",
       " 6   -1.806472        792.721289       522.818564    -1432.028478   \n",
       " 7   -0.806472        778.078768       525.867754     -627.498412   \n",
       " 8    0.193528        763.436247       529.494829      147.746612   \n",
       " 9    1.193528        748.793725       533.794388      893.706593   \n",
       " 10   2.193528        734.151204       538.870479     1610.381532   \n",
       " 11   3.193528        719.508683       544.834507     2297.771429   \n",
       " 12   4.193528        704.866162       551.801036     2955.876283   \n",
       " 13   5.193528        690.223641       559.880391     3584.696096   \n",
       " 14   6.193528        675.581120       569.166498     4184.230865   \n",
       " 15   7.193528        660.938598       579.717888     4754.480593   \n",
       " 16   8.193528        646.296077       591.529265     5295.445278   \n",
       " 17   9.193528        631.653556       604.490743     5807.124921   \n",
       " 18  10.193528        617.011035       618.332309     6289.519521   \n",
       " 19  11.193528        602.368514       632.553126     6742.629079   \n",
       " 20  12.193528        587.725993       646.340197     7166.453595   \n",
       " 21  13.193528        573.083471       658.490247     7560.993068   \n",
       " 22  14.193528        558.440950       667.362771     7926.247499   \n",
       " 23  15.193528        543.798429       670.908486     8262.216888   \n",
       " 24  16.193528        529.155908       666.826950     8568.901234   \n",
       " 25  17.193528        514.513387       652.893682     8846.300538   \n",
       " 26  18.193528        499.870866       627.444350     9094.414800   \n",
       " 27  19.193528        485.228344       589.912586     9313.244020   \n",
       " 28  20.193528        470.585823       541.228843     9502.788197   \n",
       " 29  21.193528        455.943302       483.873017     9663.047331   \n",
       " 30  22.193528        441.300781       421.485317     9794.021424   \n",
       " 31  23.193528        426.658260       358.140129     9895.710474   \n",
       " 32  24.193528        412.015739       297.550365     9968.114482   \n",
       " 33  25.193528        397.373217       242.481850    10011.233447   \n",
       " 34  26.193528        382.730696       194.522169    10025.067370   \n",
       " 35  27.193528        368.088175       154.174090    10009.616251   \n",
       " 36  28.193528        353.445654       121.137466     9964.880089   \n",
       " 37  29.193528        338.803133        94.634465     9890.858885   \n",
       " 38  30.193528        324.160612        73.683432     9787.552639   \n",
       " 39  31.193528        309.518090        57.286080     9654.961351   \n",
       " 40  32.193528        294.875569        44.532715     9493.085020   \n",
       " 41  33.193528        280.233048        34.647156     9301.923646   \n",
       " 42  34.193528        265.590527        26.994409     9081.477231   \n",
       " 43  35.193528        250.948006        21.069019     8831.745773   \n",
       " 44  36.193528        236.305485        16.475667     8552.729273   \n",
       " 45  37.193528        221.662963        12.908525     8244.427730   \n",
       " \n",
       "     revenue_logit  profit_linear  profit_logit  \n",
       " 0    -4001.665456  -10396.500427  -6052.100363  \n",
       " 1    -3496.008652   -9357.690022  -5550.529038  \n",
       " 2    -2989.530605   -8348.164660  -5048.977941  \n",
       " 3    -2481.796055   -7367.924340  -4547.174796  \n",
       " 4    -1972.233592   -6416.969062  -4044.739377  \n",
       " 5    -1460.102962   -5495.298827  -3541.154449  \n",
       " 6     -944.456877   -4602.913634  -3035.731133  \n",
       " 7     -424.097398   -3739.813483  -2527.568415  \n",
       " 8      102.472299   -2905.998374  -2015.507019  \n",
       " 9      637.098773   -2101.468308  -1498.078778  \n",
       " 10    1182.027711   -1326.223285   -973.454204  \n",
       " 11    1739.944482    -580.263303   -439.393544  \n",
       " 12    2313.993328     136.411636    106.789184  \n",
       " 13    2907.754725     823.801533    668.233160  \n",
       " 14    3525.148882    1481.906387   1248.482890  \n",
       " 15    4170.217105    2110.726199   1851.345552  \n",
       " 16    4846.711848    2710.260969   2480.594787  \n",
       " 17    5557.402823    3280.510696   3139.439853  \n",
       " 18    6302.987967    3821.475381   3829.658730  \n",
       " 19    7080.501392    4333.155024   4550.288889  \n",
       " 20    7881.167561    4815.549624   5295.806774  \n",
       " 21    8687.809794    5268.659182   6053.848804  \n",
       " 22    9472.232454    5692.483698   6802.781371  \n",
       " 23   10193.467157    6087.023172   7509.833211  \n",
       " 24   10798.281168    6452.277603   8130.973368  \n",
       " 25   11225.546081    6788.246991   8613.971352  \n",
       " 26   11415.426608    7094.931338   8905.649209  \n",
       " 27   11322.503983    7372.330642   8962.853640  \n",
       " 28   10929.320021    7620.444904   8764.404650  \n",
       " 29   10254.976544    7839.274123   8319.484475  \n",
       " 30    9354.246370    8028.818300   7668.305100  \n",
       " 31    8306.533270    8189.077435   6873.972752  \n",
       " 32    7198.793211    8320.051527   6008.591751  \n",
       " 33    6108.973378    8421.740577   5139.045978  \n",
       " 34    5095.221960    8494.144585   4317.133284  \n",
       " 35    4192.537506    8537.263551   3575.841145  \n",
       " 36    3415.292603    8551.097474   2930.742737  \n",
       " 37    2762.713931    8535.646354   2384.176073  \n",
       " 38    2224.762812    8490.910193   1930.029083  \n",
       " 39    1786.954955    8416.888989   1557.810636  \n",
       " 40    1433.665216    8313.582743   1255.534358  \n",
       " 41    1150.061350    8180.991454   1011.472727  \n",
       " 42     923.034100    8019.115123    815.056463  \n",
       " 43     741.493104    7827.953750    657.217029  \n",
       " 44     596.312532    7607.507334    530.409862  \n",
       " 45     480.113592    7357.775876    428.479492  ,\n",
       " 'best_model': 'best_model is logit modelfor Mango',\n",
       " 'optimum_linear': 'optimum linear revenue price is [26.19352842]for Mango',\n",
       " 'optimum_logit': 'optimum logit revenue price is [18.19352842]for Mango',\n",
       " 'current_price': 'current price is 20',\n",
       " 'article_name': 'article name is Mango',\n",
       " 'predictions':     x    y        lm_p     logit_p\n",
       " 0   5  600  693.057385  558.225194\n",
       " 1  10  550  619.844779  615.604567\n",
       " 2  15  700  546.632173  670.744617\n",
       " 3  17  680  517.347131  656.449371\n",
       " 4  20  500  473.419567  551.424175\n",
       " 5  23  400  429.492004  370.288847\n",
       " 6  25  250  400.206961  252.617168,\n",
       " 'point_of_maximum_profits': {'linear': array([28.19352842]),\n",
       "  'logit': array([19.19352842])}}"
      ]
     },
     "metadata": {},
     "execution_count": 54
    }
   ],
   "source": [
    "logit_linear"
   ]
  },
  {
   "cell_type": "code",
   "execution_count": 56,
   "metadata": {},
   "outputs": [
    {
     "output_type": "execute_result",
     "data": {
      "text/plain": [
       "dict_keys(['optimization_paremeters', 'lm_model', 'squared_error_logit', 'squared_error_linear', 'simulation_data', 'best_model', 'optimum_linear', 'optimum_logit', 'current_price', 'article_name', 'predictions', 'point_of_maximum_profits'])"
      ]
     },
     "metadata": {},
     "execution_count": 56
    }
   ],
   "source": [
    "type(logit_linear)\n",
    "logit_linear.keys()"
   ]
  },
  {
   "cell_type": "code",
   "execution_count": 57,
   "metadata": {},
   "outputs": [],
   "source": [
    "prediction_Data = logit_linear['predictions']"
   ]
  },
  {
   "cell_type": "code",
   "execution_count": 58,
   "metadata": {},
   "outputs": [
    {
     "output_type": "execute_result",
     "data": {
      "text/plain": [
       "    x    y        lm_p     logit_p\n",
       "0   5  600  693.057385  558.225194\n",
       "1  10  550  619.844779  615.604567\n",
       "2  15  700  546.632173  670.744617\n",
       "3  17  680  517.347131  656.449371\n",
       "4  20  500  473.419567  551.424175\n",
       "5  23  400  429.492004  370.288847\n",
       "6  25  250  400.206961  252.617168"
      ],
      "text/html": "<div>\n<style scoped>\n    .dataframe tbody tr th:only-of-type {\n        vertical-align: middle;\n    }\n\n    .dataframe tbody tr th {\n        vertical-align: top;\n    }\n\n    .dataframe thead th {\n        text-align: right;\n    }\n</style>\n<table border=\"1\" class=\"dataframe\">\n  <thead>\n    <tr style=\"text-align: right;\">\n      <th></th>\n      <th>x</th>\n      <th>y</th>\n      <th>lm_p</th>\n      <th>logit_p</th>\n    </tr>\n  </thead>\n  <tbody>\n    <tr>\n      <th>0</th>\n      <td>5</td>\n      <td>600</td>\n      <td>693.057385</td>\n      <td>558.225194</td>\n    </tr>\n    <tr>\n      <th>1</th>\n      <td>10</td>\n      <td>550</td>\n      <td>619.844779</td>\n      <td>615.604567</td>\n    </tr>\n    <tr>\n      <th>2</th>\n      <td>15</td>\n      <td>700</td>\n      <td>546.632173</td>\n      <td>670.744617</td>\n    </tr>\n    <tr>\n      <th>3</th>\n      <td>17</td>\n      <td>680</td>\n      <td>517.347131</td>\n      <td>656.449371</td>\n    </tr>\n    <tr>\n      <th>4</th>\n      <td>20</td>\n      <td>500</td>\n      <td>473.419567</td>\n      <td>551.424175</td>\n    </tr>\n    <tr>\n      <th>5</th>\n      <td>23</td>\n      <td>400</td>\n      <td>429.492004</td>\n      <td>370.288847</td>\n    </tr>\n    <tr>\n      <th>6</th>\n      <td>25</td>\n      <td>250</td>\n      <td>400.206961</td>\n      <td>252.617168</td>\n    </tr>\n  </tbody>\n</table>\n</div>"
     },
     "metadata": {},
     "execution_count": 58
    }
   ],
   "source": [
    "prediction_Data"
   ]
  },
  {
   "cell_type": "code",
   "execution_count": 60,
   "metadata": {},
   "outputs": [
    {
     "output_type": "execute_result",
     "data": {
      "text/plain": [
       "{'linear': array([28.19352842]), 'logit': array([19.19352842])}"
      ]
     },
     "metadata": {},
     "execution_count": 60
    },
    {
     "output_type": "display_data",
     "data": {
      "text/plain": "<Figure size 432x288 with 1 Axes>",
      "image/svg+xml": "<?xml version=\"1.0\" encoding=\"utf-8\" standalone=\"no\"?>\n<!DOCTYPE svg PUBLIC \"-//W3C//DTD SVG 1.1//EN\"\n  \"http://www.w3.org/Graphics/SVG/1.1/DTD/svg11.dtd\">\n<svg height=\"248.518125pt\" version=\"1.1\" viewBox=\"0 0 375.2875 248.518125\" width=\"375.2875pt\" xmlns=\"http://www.w3.org/2000/svg\" xmlns:xlink=\"http://www.w3.org/1999/xlink\">\n <metadata>\n  <rdf:RDF xmlns:cc=\"http://creativecommons.org/ns#\" xmlns:dc=\"http://purl.org/dc/elements/1.1/\" xmlns:rdf=\"http://www.w3.org/1999/02/22-rdf-syntax-ns#\">\n   <cc:Work>\n    <dc:type rdf:resource=\"http://purl.org/dc/dcmitype/StillImage\"/>\n    <dc:date>2021-07-19T15:54:07.258336</dc:date>\n    <dc:format>image/svg+xml</dc:format>\n    <dc:creator>\n     <cc:Agent>\n      <dc:title>Matplotlib v3.4.2, https://matplotlib.org/</dc:title>\n     </cc:Agent>\n    </dc:creator>\n   </cc:Work>\n  </rdf:RDF>\n </metadata>\n <defs>\n  <style type=\"text/css\">*{stroke-linecap:butt;stroke-linejoin:round;}</style>\n </defs>\n <g id=\"figure_1\">\n  <g id=\"patch_1\">\n   <path d=\"M 0 248.518125 \nL 375.2875 248.518125 \nL 375.2875 0 \nL 0 0 \nz\n\" style=\"fill:none;\"/>\n  </g>\n  <g id=\"axes_1\">\n   <g id=\"patch_2\">\n    <path d=\"M 33.2875 224.64 \nL 368.0875 224.64 \nL 368.0875 7.2 \nL 33.2875 7.2 \nz\n\" style=\"fill:#ffffff;\"/>\n   </g>\n   <g id=\"PathCollection_1\">\n    <defs>\n     <path d=\"M 0 3 \nC 0.795609 3 1.55874 2.683901 2.12132 2.12132 \nC 2.683901 1.55874 3 0.795609 3 0 \nC 3 -0.795609 2.683901 -1.55874 2.12132 -2.12132 \nC 1.55874 -2.683901 0.795609 -3 0 -3 \nC -0.795609 -3 -1.55874 -2.683901 -2.12132 -2.12132 \nC -2.683901 -1.55874 -3 -0.795609 -3 0 \nC -3 0.795609 -2.683901 1.55874 -2.12132 2.12132 \nC -1.55874 2.683901 -0.795609 3 0 3 \nz\n\" id=\"m4189d36d2d\" style=\"stroke:#1f77b4;\"/>\n    </defs>\n    <g clip-path=\"url(#p5af4dbb797)\">\n     <use style=\"fill:#1f77b4;stroke:#1f77b4;\" x=\"48.505682\" xlink:href=\"#m4189d36d2d\" y=\"61.010909\"/>\n     <use style=\"fill:#1f77b4;stroke:#1f77b4;\" x=\"124.596591\" xlink:href=\"#m4189d36d2d\" y=\"82.974545\"/>\n     <use style=\"fill:#1f77b4;stroke:#1f77b4;\" x=\"200.6875\" xlink:href=\"#m4189d36d2d\" y=\"17.083636\"/>\n     <use style=\"fill:#1f77b4;stroke:#1f77b4;\" x=\"231.123864\" xlink:href=\"#m4189d36d2d\" y=\"25.869091\"/>\n     <use style=\"fill:#1f77b4;stroke:#1f77b4;\" x=\"276.778409\" xlink:href=\"#m4189d36d2d\" y=\"104.938182\"/>\n     <use style=\"fill:#1f77b4;stroke:#1f77b4;\" x=\"322.432955\" xlink:href=\"#m4189d36d2d\" y=\"148.865455\"/>\n     <use style=\"fill:#1f77b4;stroke:#1f77b4;\" x=\"352.869318\" xlink:href=\"#m4189d36d2d\" y=\"214.756364\"/>\n    </g>\n   </g>\n   <g id=\"matplotlib.axis_1\">\n    <g id=\"xtick_1\">\n     <g id=\"line2d_1\">\n      <defs>\n       <path d=\"M 0 0 \nL 0 3.5 \n\" id=\"m85f8e2bb10\" style=\"stroke:#000000;stroke-width:0.8;\"/>\n      </defs>\n      <g>\n       <use style=\"stroke:#000000;stroke-width:0.8;\" x=\"48.505682\" xlink:href=\"#m85f8e2bb10\" y=\"224.64\"/>\n      </g>\n     </g>\n     <g id=\"text_1\">\n      <!-- 5.0 -->\n      <g transform=\"translate(40.554119 239.238437)scale(0.1 -0.1)\">\n       <defs>\n        <path d=\"M 691 4666 \nL 3169 4666 \nL 3169 4134 \nL 1269 4134 \nL 1269 2991 \nQ 1406 3038 1543 3061 \nQ 1681 3084 1819 3084 \nQ 2600 3084 3056 2656 \nQ 3513 2228 3513 1497 \nQ 3513 744 3044 326 \nQ 2575 -91 1722 -91 \nQ 1428 -91 1123 -41 \nQ 819 9 494 109 \nL 494 744 \nQ 775 591 1075 516 \nQ 1375 441 1709 441 \nQ 2250 441 2565 725 \nQ 2881 1009 2881 1497 \nQ 2881 1984 2565 2268 \nQ 2250 2553 1709 2553 \nQ 1456 2553 1204 2497 \nQ 953 2441 691 2322 \nL 691 4666 \nz\n\" id=\"DejaVuSans-35\" transform=\"scale(0.015625)\"/>\n        <path d=\"M 684 794 \nL 1344 794 \nL 1344 0 \nL 684 0 \nL 684 794 \nz\n\" id=\"DejaVuSans-2e\" transform=\"scale(0.015625)\"/>\n        <path d=\"M 2034 4250 \nQ 1547 4250 1301 3770 \nQ 1056 3291 1056 2328 \nQ 1056 1369 1301 889 \nQ 1547 409 2034 409 \nQ 2525 409 2770 889 \nQ 3016 1369 3016 2328 \nQ 3016 3291 2770 3770 \nQ 2525 4250 2034 4250 \nz\nM 2034 4750 \nQ 2819 4750 3233 4129 \nQ 3647 3509 3647 2328 \nQ 3647 1150 3233 529 \nQ 2819 -91 2034 -91 \nQ 1250 -91 836 529 \nQ 422 1150 422 2328 \nQ 422 3509 836 4129 \nQ 1250 4750 2034 4750 \nz\n\" id=\"DejaVuSans-30\" transform=\"scale(0.015625)\"/>\n       </defs>\n       <use xlink:href=\"#DejaVuSans-35\"/>\n       <use x=\"63.623047\" xlink:href=\"#DejaVuSans-2e\"/>\n       <use x=\"95.410156\" xlink:href=\"#DejaVuSans-30\"/>\n      </g>\n     </g>\n    </g>\n    <g id=\"xtick_2\">\n     <g id=\"line2d_2\">\n      <g>\n       <use style=\"stroke:#000000;stroke-width:0.8;\" x=\"86.551136\" xlink:href=\"#m85f8e2bb10\" y=\"224.64\"/>\n      </g>\n     </g>\n     <g id=\"text_2\">\n      <!-- 7.5 -->\n      <g transform=\"translate(78.599574 239.238437)scale(0.1 -0.1)\">\n       <defs>\n        <path d=\"M 525 4666 \nL 3525 4666 \nL 3525 4397 \nL 1831 0 \nL 1172 0 \nL 2766 4134 \nL 525 4134 \nL 525 4666 \nz\n\" id=\"DejaVuSans-37\" transform=\"scale(0.015625)\"/>\n       </defs>\n       <use xlink:href=\"#DejaVuSans-37\"/>\n       <use x=\"63.623047\" xlink:href=\"#DejaVuSans-2e\"/>\n       <use x=\"95.410156\" xlink:href=\"#DejaVuSans-35\"/>\n      </g>\n     </g>\n    </g>\n    <g id=\"xtick_3\">\n     <g id=\"line2d_3\">\n      <g>\n       <use style=\"stroke:#000000;stroke-width:0.8;\" x=\"124.596591\" xlink:href=\"#m85f8e2bb10\" y=\"224.64\"/>\n      </g>\n     </g>\n     <g id=\"text_3\">\n      <!-- 10.0 -->\n      <g transform=\"translate(113.463778 239.238437)scale(0.1 -0.1)\">\n       <defs>\n        <path d=\"M 794 531 \nL 1825 531 \nL 1825 4091 \nL 703 3866 \nL 703 4441 \nL 1819 4666 \nL 2450 4666 \nL 2450 531 \nL 3481 531 \nL 3481 0 \nL 794 0 \nL 794 531 \nz\n\" id=\"DejaVuSans-31\" transform=\"scale(0.015625)\"/>\n       </defs>\n       <use xlink:href=\"#DejaVuSans-31\"/>\n       <use x=\"63.623047\" xlink:href=\"#DejaVuSans-30\"/>\n       <use x=\"127.246094\" xlink:href=\"#DejaVuSans-2e\"/>\n       <use x=\"159.033203\" xlink:href=\"#DejaVuSans-30\"/>\n      </g>\n     </g>\n    </g>\n    <g id=\"xtick_4\">\n     <g id=\"line2d_4\">\n      <g>\n       <use style=\"stroke:#000000;stroke-width:0.8;\" x=\"162.642045\" xlink:href=\"#m85f8e2bb10\" y=\"224.64\"/>\n      </g>\n     </g>\n     <g id=\"text_4\">\n      <!-- 12.5 -->\n      <g transform=\"translate(151.509233 239.238437)scale(0.1 -0.1)\">\n       <defs>\n        <path d=\"M 1228 531 \nL 3431 531 \nL 3431 0 \nL 469 0 \nL 469 531 \nQ 828 903 1448 1529 \nQ 2069 2156 2228 2338 \nQ 2531 2678 2651 2914 \nQ 2772 3150 2772 3378 \nQ 2772 3750 2511 3984 \nQ 2250 4219 1831 4219 \nQ 1534 4219 1204 4116 \nQ 875 4013 500 3803 \nL 500 4441 \nQ 881 4594 1212 4672 \nQ 1544 4750 1819 4750 \nQ 2544 4750 2975 4387 \nQ 3406 4025 3406 3419 \nQ 3406 3131 3298 2873 \nQ 3191 2616 2906 2266 \nQ 2828 2175 2409 1742 \nQ 1991 1309 1228 531 \nz\n\" id=\"DejaVuSans-32\" transform=\"scale(0.015625)\"/>\n       </defs>\n       <use xlink:href=\"#DejaVuSans-31\"/>\n       <use x=\"63.623047\" xlink:href=\"#DejaVuSans-32\"/>\n       <use x=\"127.246094\" xlink:href=\"#DejaVuSans-2e\"/>\n       <use x=\"159.033203\" xlink:href=\"#DejaVuSans-35\"/>\n      </g>\n     </g>\n    </g>\n    <g id=\"xtick_5\">\n     <g id=\"line2d_5\">\n      <g>\n       <use style=\"stroke:#000000;stroke-width:0.8;\" x=\"200.6875\" xlink:href=\"#m85f8e2bb10\" y=\"224.64\"/>\n      </g>\n     </g>\n     <g id=\"text_5\">\n      <!-- 15.0 -->\n      <g transform=\"translate(189.554688 239.238437)scale(0.1 -0.1)\">\n       <use xlink:href=\"#DejaVuSans-31\"/>\n       <use x=\"63.623047\" xlink:href=\"#DejaVuSans-35\"/>\n       <use x=\"127.246094\" xlink:href=\"#DejaVuSans-2e\"/>\n       <use x=\"159.033203\" xlink:href=\"#DejaVuSans-30\"/>\n      </g>\n     </g>\n    </g>\n    <g id=\"xtick_6\">\n     <g id=\"line2d_6\">\n      <g>\n       <use style=\"stroke:#000000;stroke-width:0.8;\" x=\"238.732955\" xlink:href=\"#m85f8e2bb10\" y=\"224.64\"/>\n      </g>\n     </g>\n     <g id=\"text_6\">\n      <!-- 17.5 -->\n      <g transform=\"translate(227.600142 239.238437)scale(0.1 -0.1)\">\n       <use xlink:href=\"#DejaVuSans-31\"/>\n       <use x=\"63.623047\" xlink:href=\"#DejaVuSans-37\"/>\n       <use x=\"127.246094\" xlink:href=\"#DejaVuSans-2e\"/>\n       <use x=\"159.033203\" xlink:href=\"#DejaVuSans-35\"/>\n      </g>\n     </g>\n    </g>\n    <g id=\"xtick_7\">\n     <g id=\"line2d_7\">\n      <g>\n       <use style=\"stroke:#000000;stroke-width:0.8;\" x=\"276.778409\" xlink:href=\"#m85f8e2bb10\" y=\"224.64\"/>\n      </g>\n     </g>\n     <g id=\"text_7\">\n      <!-- 20.0 -->\n      <g transform=\"translate(265.645597 239.238437)scale(0.1 -0.1)\">\n       <use xlink:href=\"#DejaVuSans-32\"/>\n       <use x=\"63.623047\" xlink:href=\"#DejaVuSans-30\"/>\n       <use x=\"127.246094\" xlink:href=\"#DejaVuSans-2e\"/>\n       <use x=\"159.033203\" xlink:href=\"#DejaVuSans-30\"/>\n      </g>\n     </g>\n    </g>\n    <g id=\"xtick_8\">\n     <g id=\"line2d_8\">\n      <g>\n       <use style=\"stroke:#000000;stroke-width:0.8;\" x=\"314.823864\" xlink:href=\"#m85f8e2bb10\" y=\"224.64\"/>\n      </g>\n     </g>\n     <g id=\"text_8\">\n      <!-- 22.5 -->\n      <g transform=\"translate(303.691051 239.238437)scale(0.1 -0.1)\">\n       <use xlink:href=\"#DejaVuSans-32\"/>\n       <use x=\"63.623047\" xlink:href=\"#DejaVuSans-32\"/>\n       <use x=\"127.246094\" xlink:href=\"#DejaVuSans-2e\"/>\n       <use x=\"159.033203\" xlink:href=\"#DejaVuSans-35\"/>\n      </g>\n     </g>\n    </g>\n    <g id=\"xtick_9\">\n     <g id=\"line2d_9\">\n      <g>\n       <use style=\"stroke:#000000;stroke-width:0.8;\" x=\"352.869318\" xlink:href=\"#m85f8e2bb10\" y=\"224.64\"/>\n      </g>\n     </g>\n     <g id=\"text_9\">\n      <!-- 25.0 -->\n      <g transform=\"translate(341.736506 239.238437)scale(0.1 -0.1)\">\n       <use xlink:href=\"#DejaVuSans-32\"/>\n       <use x=\"63.623047\" xlink:href=\"#DejaVuSans-35\"/>\n       <use x=\"127.246094\" xlink:href=\"#DejaVuSans-2e\"/>\n       <use x=\"159.033203\" xlink:href=\"#DejaVuSans-30\"/>\n      </g>\n     </g>\n    </g>\n   </g>\n   <g id=\"matplotlib.axis_2\">\n    <g id=\"ytick_1\">\n     <g id=\"line2d_10\">\n      <defs>\n       <path d=\"M 0 0 \nL -3.5 0 \n\" id=\"m6898f4d4a4\" style=\"stroke:#000000;stroke-width:0.8;\"/>\n      </defs>\n      <g>\n       <use style=\"stroke:#000000;stroke-width:0.8;\" x=\"33.2875\" xlink:href=\"#m6898f4d4a4\" y=\"192.792727\"/>\n      </g>\n     </g>\n     <g id=\"text_10\">\n      <!-- 300 -->\n      <g transform=\"translate(7.2 196.591946)scale(0.1 -0.1)\">\n       <defs>\n        <path d=\"M 2597 2516 \nQ 3050 2419 3304 2112 \nQ 3559 1806 3559 1356 \nQ 3559 666 3084 287 \nQ 2609 -91 1734 -91 \nQ 1441 -91 1130 -33 \nQ 819 25 488 141 \nL 488 750 \nQ 750 597 1062 519 \nQ 1375 441 1716 441 \nQ 2309 441 2620 675 \nQ 2931 909 2931 1356 \nQ 2931 1769 2642 2001 \nQ 2353 2234 1838 2234 \nL 1294 2234 \nL 1294 2753 \nL 1863 2753 \nQ 2328 2753 2575 2939 \nQ 2822 3125 2822 3475 \nQ 2822 3834 2567 4026 \nQ 2313 4219 1838 4219 \nQ 1578 4219 1281 4162 \nQ 984 4106 628 3988 \nL 628 4550 \nQ 988 4650 1302 4700 \nQ 1616 4750 1894 4750 \nQ 2613 4750 3031 4423 \nQ 3450 4097 3450 3541 \nQ 3450 3153 3228 2886 \nQ 3006 2619 2597 2516 \nz\n\" id=\"DejaVuSans-33\" transform=\"scale(0.015625)\"/>\n       </defs>\n       <use xlink:href=\"#DejaVuSans-33\"/>\n       <use x=\"63.623047\" xlink:href=\"#DejaVuSans-30\"/>\n       <use x=\"127.246094\" xlink:href=\"#DejaVuSans-30\"/>\n      </g>\n     </g>\n    </g>\n    <g id=\"ytick_2\">\n     <g id=\"line2d_11\">\n      <g>\n       <use style=\"stroke:#000000;stroke-width:0.8;\" x=\"33.2875\" xlink:href=\"#m6898f4d4a4\" y=\"148.865455\"/>\n      </g>\n     </g>\n     <g id=\"text_11\">\n      <!-- 400 -->\n      <g transform=\"translate(7.2 152.664673)scale(0.1 -0.1)\">\n       <defs>\n        <path d=\"M 2419 4116 \nL 825 1625 \nL 2419 1625 \nL 2419 4116 \nz\nM 2253 4666 \nL 3047 4666 \nL 3047 1625 \nL 3713 1625 \nL 3713 1100 \nL 3047 1100 \nL 3047 0 \nL 2419 0 \nL 2419 1100 \nL 313 1100 \nL 313 1709 \nL 2253 4666 \nz\n\" id=\"DejaVuSans-34\" transform=\"scale(0.015625)\"/>\n       </defs>\n       <use xlink:href=\"#DejaVuSans-34\"/>\n       <use x=\"63.623047\" xlink:href=\"#DejaVuSans-30\"/>\n       <use x=\"127.246094\" xlink:href=\"#DejaVuSans-30\"/>\n      </g>\n     </g>\n    </g>\n    <g id=\"ytick_3\">\n     <g id=\"line2d_12\">\n      <g>\n       <use style=\"stroke:#000000;stroke-width:0.8;\" x=\"33.2875\" xlink:href=\"#m6898f4d4a4\" y=\"104.938182\"/>\n      </g>\n     </g>\n     <g id=\"text_12\">\n      <!-- 500 -->\n      <g transform=\"translate(7.2 108.737401)scale(0.1 -0.1)\">\n       <use xlink:href=\"#DejaVuSans-35\"/>\n       <use x=\"63.623047\" xlink:href=\"#DejaVuSans-30\"/>\n       <use x=\"127.246094\" xlink:href=\"#DejaVuSans-30\"/>\n      </g>\n     </g>\n    </g>\n    <g id=\"ytick_4\">\n     <g id=\"line2d_13\">\n      <g>\n       <use style=\"stroke:#000000;stroke-width:0.8;\" x=\"33.2875\" xlink:href=\"#m6898f4d4a4\" y=\"61.010909\"/>\n      </g>\n     </g>\n     <g id=\"text_13\">\n      <!-- 600 -->\n      <g transform=\"translate(7.2 64.810128)scale(0.1 -0.1)\">\n       <defs>\n        <path d=\"M 2113 2584 \nQ 1688 2584 1439 2293 \nQ 1191 2003 1191 1497 \nQ 1191 994 1439 701 \nQ 1688 409 2113 409 \nQ 2538 409 2786 701 \nQ 3034 994 3034 1497 \nQ 3034 2003 2786 2293 \nQ 2538 2584 2113 2584 \nz\nM 3366 4563 \nL 3366 3988 \nQ 3128 4100 2886 4159 \nQ 2644 4219 2406 4219 \nQ 1781 4219 1451 3797 \nQ 1122 3375 1075 2522 \nQ 1259 2794 1537 2939 \nQ 1816 3084 2150 3084 \nQ 2853 3084 3261 2657 \nQ 3669 2231 3669 1497 \nQ 3669 778 3244 343 \nQ 2819 -91 2113 -91 \nQ 1303 -91 875 529 \nQ 447 1150 447 2328 \nQ 447 3434 972 4092 \nQ 1497 4750 2381 4750 \nQ 2619 4750 2861 4703 \nQ 3103 4656 3366 4563 \nz\n\" id=\"DejaVuSans-36\" transform=\"scale(0.015625)\"/>\n       </defs>\n       <use xlink:href=\"#DejaVuSans-36\"/>\n       <use x=\"63.623047\" xlink:href=\"#DejaVuSans-30\"/>\n       <use x=\"127.246094\" xlink:href=\"#DejaVuSans-30\"/>\n      </g>\n     </g>\n    </g>\n    <g id=\"ytick_5\">\n     <g id=\"line2d_14\">\n      <g>\n       <use style=\"stroke:#000000;stroke-width:0.8;\" x=\"33.2875\" xlink:href=\"#m6898f4d4a4\" y=\"17.083636\"/>\n      </g>\n     </g>\n     <g id=\"text_14\">\n      <!-- 700 -->\n      <g transform=\"translate(7.2 20.882855)scale(0.1 -0.1)\">\n       <use xlink:href=\"#DejaVuSans-37\"/>\n       <use x=\"63.623047\" xlink:href=\"#DejaVuSans-30\"/>\n       <use x=\"127.246094\" xlink:href=\"#DejaVuSans-30\"/>\n      </g>\n     </g>\n    </g>\n   </g>\n   <g id=\"line2d_15\">\n    <path clip-path=\"url(#p5af4dbb797)\" d=\"M 48.505682 20.133338 \nL 124.596591 52.293639 \nL 200.6875 84.45394 \nL 231.123864 97.31806 \nL 276.778409 116.614241 \nL 322.432955 135.910422 \nL 352.869318 148.774542 \n\" style=\"fill:none;stroke:#1f77b4;stroke-linecap:square;stroke-width:1.5;\"/>\n   </g>\n   <g id=\"line2d_16\">\n    <path clip-path=\"url(#p5af4dbb797)\" d=\"M 48.505682 79.361442 \nL 124.596591 54.156248 \nL 200.6875 29.934728 \nL 231.123864 36.21424 \nL 276.778409 82.348944 \nL 322.432955 161.916754 \nL 352.869318 213.606713 \n\" style=\"fill:none;stroke:#ff7f0e;stroke-linecap:square;stroke-width:1.5;\"/>\n   </g>\n   <g id=\"patch_3\">\n    <path d=\"M 33.2875 224.64 \nL 33.2875 7.2 \n\" style=\"fill:none;stroke:#000000;stroke-linecap:square;stroke-linejoin:miter;stroke-width:0.8;\"/>\n   </g>\n   <g id=\"patch_4\">\n    <path d=\"M 368.0875 224.64 \nL 368.0875 7.2 \n\" style=\"fill:none;stroke:#000000;stroke-linecap:square;stroke-linejoin:miter;stroke-width:0.8;\"/>\n   </g>\n   <g id=\"patch_5\">\n    <path d=\"M 33.2875 224.64 \nL 368.0875 224.64 \n\" style=\"fill:none;stroke:#000000;stroke-linecap:square;stroke-linejoin:miter;stroke-width:0.8;\"/>\n   </g>\n   <g id=\"patch_6\">\n    <path d=\"M 33.2875 7.2 \nL 368.0875 7.2 \n\" style=\"fill:none;stroke:#000000;stroke-linecap:square;stroke-linejoin:miter;stroke-width:0.8;\"/>\n   </g>\n  </g>\n </g>\n <defs>\n  <clipPath id=\"p5af4dbb797\">\n   <rect height=\"217.44\" width=\"334.8\" x=\"33.2875\" y=\"7.2\"/>\n  </clipPath>\n </defs>\n</svg>\n",
      "image/png": "[encoded data removed]"
     },
     "metadata": {
      "needs_background": "light"
     }
    }
   ],
   "source": [
    "plt.scatter(prediction_Data.x, prediction_Data.y)\n",
    "plt.plot(prediction_Data.x, prediction_Data.lm_p)\n",
    "plt.plot(prediction_Data.x,prediction_Data.logit_p)\n",
    "\n",
    "logit_linear['point_of_maximum_profits']"
   ]
  },
  {
   "cell_type": "code",
   "execution_count": null,
   "metadata": {},
   "outputs": [],
   "source": []
  }
 ]
}