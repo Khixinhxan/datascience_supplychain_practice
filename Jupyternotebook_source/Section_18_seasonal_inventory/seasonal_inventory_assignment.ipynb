{
 "metadata": {
  "language_info": {
   "codemirror_mode": {
    "name": "ipython",
    "version": 3
   },
   "file_extension": ".py",
   "mimetype": "text/x-python",
   "name": "python",
   "nbconvert_exporter": "python",
   "pygments_lexer": "ipython3",
   "version": "3.7.9"
  },
  "orig_nbformat": 4,
  "kernelspec": {
   "name": "python3",
   "display_name": "Python 3.7.9 64-bit ('env': venv)"
  },
  "interpreter": {
   "hash": "272a83b994da64918daf8b774315e72334003c8696cc4358695b72acf32d7fce"
  }
 },
 "nbformat": 4,
 "nbformat_minor": 2,
 "cells": [
  {
   "cell_type": "code",
   "execution_count": 1,
   "metadata": {},
   "outputs": [
    {
     "output_type": "stream",
     "name": "stdout",
     "text": [
      "/Users/dang/Desktop/Learning/Mygit/datascience_supplychain_practice/Jupyternotebook_source/Section_18_seasonal_inventory\n"
     ]
    }
   ],
   "source": [
    "import pandas as pd \n",
    "import inventorize as inv \n",
    "import numpy as np \n",
    "import os \n",
    "path = os.getcwd()\n",
    "print(path)"
   ]
  },
  {
   "cell_type": "code",
   "execution_count": 2,
   "metadata": {},
   "outputs": [],
   "source": [
    "retail = pd.read_csv('{0}/twentyeleven.csv'.format(path))"
   ]
  },
  {
   "cell_type": "code",
   "execution_count": 3,
   "metadata": {},
   "outputs": [
    {
     "output_type": "stream",
     "name": "stdout",
     "text": [
      "<class 'pandas.core.frame.DataFrame'>\nRangeIndex: 484330 entries, 0 to 484329\nData columns (total 11 columns):\n #   Column       Non-Null Count   Dtype  \n---  ------       --------------   -----  \n 0   Invoice      484329 non-null  float64\n 1   StockCode    484330 non-null  object \n 2   Description  484330 non-null  object \n 3   Quantity     484330 non-null  int64  \n 4   InvoiceDate  484330 non-null  object \n 5   Price        484330 non-null  float64\n 6   Customer ID  367058 non-null  float64\n 7   Country      484330 non-null  object \n 8   date         484330 non-null  object \n 9   revenue      484330 non-null  float64\n 10  year         484330 non-null  int64  \ndtypes: float64(4), int64(2), object(5)\nmemory usage: 40.6+ MB\n"
     ]
    }
   ],
   "source": [
    "retail.info()"
   ]
  },
  {
   "cell_type": "code",
   "execution_count": 4,
   "metadata": {},
   "outputs": [],
   "source": [
    "retail['InvoiceDate']  = pd.to_datetime(retail['InvoiceDate'])"
   ]
  },
  {
   "cell_type": "code",
   "execution_count": 5,
   "metadata": {},
   "outputs": [],
   "source": [
    "retail['date'] = retail['InvoiceDate'].dt.strftime(\"%Y-%m-%d\")"
   ]
  },
  {
   "cell_type": "code",
   "execution_count": 6,
   "metadata": {},
   "outputs": [],
   "source": [
    "retail['date'] = pd.to_datetime(retail['date'])"
   ]
  },
  {
   "cell_type": "code",
   "execution_count": 9,
   "metadata": {},
   "outputs": [],
   "source": [
    "retail['year'] = retail['date'].dt.year"
   ]
  },
  {
   "cell_type": "code",
   "execution_count": 10,
   "metadata": {},
   "outputs": [],
   "source": [
    "total = retail.groupby(['Description']).agg(\n",
    "    total_sales=('Quantity', 'sum'),\n",
    "    price = ('Price', 'mean')\n",
    ").reset_index()"
   ]
  },
  {
   "cell_type": "code",
   "execution_count": 11,
   "metadata": {},
   "outputs": [],
   "source": [
    "total['sd'] = total['total_sales']*0.1"
   ]
  },
  {
   "cell_type": "code",
   "execution_count": 12,
   "metadata": {},
   "outputs": [],
   "source": [
    "total['cost'] = total['price']*0.4"
   ]
  },
  {
   "cell_type": "code",
   "execution_count": 13,
   "metadata": {},
   "outputs": [],
   "source": [
    "empty_data = pd.DataFrame()"
   ]
  },
  {
   "cell_type": "code",
   "execution_count": 15,
   "metadata": {},
   "outputs": [
    {
     "output_type": "stream",
     "name": "stderr",
     "text": [
      "/Users/dang/Desktop/Learning/Mygit/datascience_supplychain_practice/env/lib/python3.7/site-packages/inventorize/__init__.py:696: RuntimeWarning: invalid value encountered in double_scalars\n  quantity= scipy.stats.norm.ppf((p-c+b)/(p-c+b+c-g),mean,standerddeviation)\n"
     ]
    }
   ],
   "source": [
    "for i in range(total.shape[0]):\n",
    "    a = inv.MPN_singleperiod(\n",
    "        total.loc[i,'total_sales'],\n",
    "        total.loc[i,'sd'],\n",
    "        total.loc[i, 'price'],\n",
    "        total.loc[i, 'cost'], 0 , 0\n",
    "    )\n",
    "    b = pd.DataFrame(a, index=[0])\n",
    "    b['decription'] = total.loc[i, 'Description']\n",
    "    empty_data = pd.concat([empty_data, b], axis=0)\n"
   ]
  },
  {
   "cell_type": "code",
   "execution_count": 16,
   "metadata": {},
   "outputs": [
    {
     "output_type": "execute_result",
     "data": {
      "text/plain": [
       "       quantity  demand     sd   unitshort  shortagecost         cost  \\\n",
       "0   6132.526902    5981  598.1  170.460708    177.653908  2556.524336   \n",
       "0   2124.493520    2072  207.2   59.052765     41.516336   597.439849   \n",
       "0    340.411124     332   33.2    9.462123     17.937116   258.123635   \n",
       "0    141.496190     138   13.8    3.933051     65.008088   935.497344   \n",
       "0     41.013388      40    4.0    1.140015      2.371231    34.123139   \n",
       "..          ...     ...    ...         ...           ...          ...   \n",
       "0           NaN     800   80.0         NaN           NaN          NaN   \n",
       "0           NaN    1000  100.0         NaN           NaN          NaN   \n",
       "0           NaN      48    4.8         NaN           NaN          NaN   \n",
       "0           NaN     200   20.0         NaN           NaN          NaN   \n",
       "0           NaN     170   17.0         NaN           NaN          NaN   \n",
       "\n",
       "        revenue       profit  soldatfullprice  sold_discount  \\\n",
       "0   6233.389716  3499.211472      5810.539292     321.987611   \n",
       "0   1456.694684   817.738499      2012.947235     111.546285   \n",
       "0    629.364324   353.303574       322.537877      17.873246   \n",
       "0   2280.956000  1280.450568       134.066949       7.429241   \n",
       "0     83.200000    46.705630        38.859985       2.153403   \n",
       "..          ...          ...              ...            ...   \n",
       "0      0.000000          NaN              NaN            NaN   \n",
       "0      0.000000          NaN              NaN            NaN   \n",
       "0      0.000000          NaN              NaN            NaN   \n",
       "0      0.000000          NaN              NaN            NaN   \n",
       "0      0.000000          NaN              NaN            NaN   \n",
       "\n",
       "                      decription  \n",
       "0         10 COLOUR SPACEBOY PEN  \n",
       "0     12 COLOURED PARTY BALLOONS  \n",
       "0      12 DAISY PEGS IN WOOD BOX  \n",
       "0      12 EGG HOUSE PAINTED WOOD  \n",
       "0   12 HANGING EGGS HAND PAINTED  \n",
       "..                           ...  \n",
       "0            wrongly coded 20713  \n",
       "0            wrongly coded 23343  \n",
       "0                 wrongly marked  \n",
       "0           wrongly marked 23343  \n",
       "0   wrongly sold (22719) barcode  \n",
       "\n",
       "[3960 rows x 11 columns]"
      ],
      "text/html": "<div>\n<style scoped>\n    .dataframe tbody tr th:only-of-type {\n        vertical-align: middle;\n    }\n\n    .dataframe tbody tr th {\n        vertical-align: top;\n    }\n\n    .dataframe thead th {\n        text-align: right;\n    }\n</style>\n<table border=\"1\" class=\"dataframe\">\n  <thead>\n    <tr style=\"text-align: right;\">\n      <th></th>\n      <th>quantity</th>\n      <th>demand</th>\n      <th>sd</th>\n      <th>unitshort</th>\n      <th>shortagecost</th>\n      <th>cost</th>\n      <th>revenue</th>\n      <th>profit</th>\n      <th>soldatfullprice</th>\n      <th>sold_discount</th>\n      <th>decription</th>\n    </tr>\n  </thead>\n  <tbody>\n    <tr>\n      <th>0</th>\n      <td>6132.526902</td>\n      <td>5981</td>\n      <td>598.1</td>\n      <td>170.460708</td>\n      <td>177.653908</td>\n      <td>2556.524336</td>\n      <td>6233.389716</td>\n      <td>3499.211472</td>\n      <td>5810.539292</td>\n      <td>321.987611</td>\n      <td>10 COLOUR SPACEBOY PEN</td>\n    </tr>\n    <tr>\n      <th>0</th>\n      <td>2124.493520</td>\n      <td>2072</td>\n      <td>207.2</td>\n      <td>59.052765</td>\n      <td>41.516336</td>\n      <td>597.439849</td>\n      <td>1456.694684</td>\n      <td>817.738499</td>\n      <td>2012.947235</td>\n      <td>111.546285</td>\n      <td>12 COLOURED PARTY BALLOONS</td>\n    </tr>\n    <tr>\n      <th>0</th>\n      <td>340.411124</td>\n      <td>332</td>\n      <td>33.2</td>\n      <td>9.462123</td>\n      <td>17.937116</td>\n      <td>258.123635</td>\n      <td>629.364324</td>\n      <td>353.303574</td>\n      <td>322.537877</td>\n      <td>17.873246</td>\n      <td>12 DAISY PEGS IN WOOD BOX</td>\n    </tr>\n    <tr>\n      <th>0</th>\n      <td>141.496190</td>\n      <td>138</td>\n      <td>13.8</td>\n      <td>3.933051</td>\n      <td>65.008088</td>\n      <td>935.497344</td>\n      <td>2280.956000</td>\n      <td>1280.450568</td>\n      <td>134.066949</td>\n      <td>7.429241</td>\n      <td>12 EGG HOUSE PAINTED WOOD</td>\n    </tr>\n    <tr>\n      <th>0</th>\n      <td>41.013388</td>\n      <td>40</td>\n      <td>4.0</td>\n      <td>1.140015</td>\n      <td>2.371231</td>\n      <td>34.123139</td>\n      <td>83.200000</td>\n      <td>46.705630</td>\n      <td>38.859985</td>\n      <td>2.153403</td>\n      <td>12 HANGING EGGS HAND PAINTED</td>\n    </tr>\n    <tr>\n      <th>...</th>\n      <td>...</td>\n      <td>...</td>\n      <td>...</td>\n      <td>...</td>\n      <td>...</td>\n      <td>...</td>\n      <td>...</td>\n      <td>...</td>\n      <td>...</td>\n      <td>...</td>\n      <td>...</td>\n    </tr>\n    <tr>\n      <th>0</th>\n      <td>NaN</td>\n      <td>800</td>\n      <td>80.0</td>\n      <td>NaN</td>\n      <td>NaN</td>\n      <td>NaN</td>\n      <td>0.000000</td>\n      <td>NaN</td>\n      <td>NaN</td>\n      <td>NaN</td>\n      <td>wrongly coded 20713</td>\n    </tr>\n    <tr>\n      <th>0</th>\n      <td>NaN</td>\n      <td>1000</td>\n      <td>100.0</td>\n      <td>NaN</td>\n      <td>NaN</td>\n      <td>NaN</td>\n      <td>0.000000</td>\n      <td>NaN</td>\n      <td>NaN</td>\n      <td>NaN</td>\n      <td>wrongly coded 23343</td>\n    </tr>\n    <tr>\n      <th>0</th>\n      <td>NaN</td>\n      <td>48</td>\n      <td>4.8</td>\n      <td>NaN</td>\n      <td>NaN</td>\n      <td>NaN</td>\n      <td>0.000000</td>\n      <td>NaN</td>\n      <td>NaN</td>\n      <td>NaN</td>\n      <td>wrongly marked</td>\n    </tr>\n    <tr>\n      <th>0</th>\n      <td>NaN</td>\n      <td>200</td>\n      <td>20.0</td>\n      <td>NaN</td>\n      <td>NaN</td>\n      <td>NaN</td>\n      <td>0.000000</td>\n      <td>NaN</td>\n      <td>NaN</td>\n      <td>NaN</td>\n      <td>wrongly marked 23343</td>\n    </tr>\n    <tr>\n      <th>0</th>\n      <td>NaN</td>\n      <td>170</td>\n      <td>17.0</td>\n      <td>NaN</td>\n      <td>NaN</td>\n      <td>NaN</td>\n      <td>0.000000</td>\n      <td>NaN</td>\n      <td>NaN</td>\n      <td>NaN</td>\n      <td>wrongly sold (22719) barcode</td>\n    </tr>\n  </tbody>\n</table>\n<p>3960 rows × 11 columns</p>\n</div>"
     },
     "metadata": {},
     "execution_count": 16
    }
   ],
   "source": [
    "empty_data"
   ]
  },
  {
   "cell_type": "code",
   "execution_count": 18,
   "metadata": {},
   "outputs": [
    {
     "output_type": "execute_result",
     "data": {
      "text/plain": [
       "quantity                          2124.493520\n",
       "demand                                   2072\n",
       "sd                                 207.200000\n",
       "unitshort                           59.052765\n",
       "shortagecost                        41.516336\n",
       "cost                               597.439849\n",
       "revenue                           1456.694684\n",
       "profit                             817.738499\n",
       "soldatfullprice                   2012.947235\n",
       "sold_discount                      111.546285\n",
       "decription         12 COLOURED PARTY BALLOONS\n",
       "Name: 0, dtype: object"
      ]
     },
     "metadata": {},
     "execution_count": 18
    }
   ],
   "source": [
    "empty_data.iloc[1,:]"
   ]
  },
  {
   "cell_type": "code",
   "execution_count": null,
   "metadata": {},
   "outputs": [],
   "source": []
  }
 ]
}