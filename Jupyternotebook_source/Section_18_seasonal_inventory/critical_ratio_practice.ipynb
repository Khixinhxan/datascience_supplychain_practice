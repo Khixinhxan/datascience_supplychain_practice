{
 "metadata": {
  "language_info": {
   "codemirror_mode": {
    "name": "ipython",
    "version": 3
   },
   "file_extension": ".py",
   "mimetype": "text/x-python",
   "name": "python",
   "nbconvert_exporter": "python",
   "pygments_lexer": "ipython3",
   "version": "3.7.9"
  },
  "orig_nbformat": 4,
  "kernelspec": {
   "name": "python3",
   "display_name": "Python 3.7.9 64-bit ('env': venv)"
  },
  "interpreter": {
   "hash": "272a83b994da64918daf8b774315e72334003c8696cc4358695b72acf32d7fce"
  }
 },
 "nbformat": 4,
 "nbformat_minor": 2,
 "cells": [
  {
   "cell_type": "code",
   "execution_count": 5,
   "metadata": {},
   "outputs": [],
   "source": [
    "mean = 50\n",
    "sd = 10\n",
    "c = 1.2\n",
    "price = 3"
   ]
  },
  {
   "cell_type": "code",
   "execution_count": 2,
   "metadata": {},
   "outputs": [],
   "source": [
    "salvage = 0.7"
   ]
  },
  {
   "cell_type": "code",
   "execution_count": 3,
   "metadata": {},
   "outputs": [],
   "source": [
    "penality_temp = 0.4"
   ]
  },
  {
   "cell_type": "code",
   "execution_count": 4,
   "metadata": {},
   "outputs": [],
   "source": [
    "import inventorize as inv"
   ]
  },
  {
   "cell_type": "code",
   "execution_count": 9,
   "metadata": {},
   "outputs": [
    {
     "output_type": "execute_result",
     "data": {
      "text/plain": [
       "0.6"
      ]
     },
     "metadata": {},
     "execution_count": 9
    }
   ],
   "source": [
    "inv.CriticalRatio(price, c, 0, 0)"
   ]
  },
  {
   "cell_type": "code",
   "execution_count": 11,
   "metadata": {},
   "outputs": [
    {
     "output_type": "execute_result",
     "data": {
      "text/plain": [
       "0.6"
      ]
     },
     "metadata": {},
     "execution_count": 11
    }
   ],
   "source": [
    "(price-c)/(price-c+c)"
   ]
  },
  {
   "cell_type": "code",
   "execution_count": 12,
   "metadata": {},
   "outputs": [
    {
     "output_type": "execute_result",
     "data": {
      "text/plain": [
       "{'quantity': 52.533471031358,\n",
       " 'demand': 50,\n",
       " 'sd': 10,\n",
       " 'unitshort': 2.8500369224254065,\n",
       " 'shortagecost': 8.55011076727622,\n",
       " 'cost': 63.040165237629594,\n",
       " 'revenue': 150,\n",
       " 'profit': 78.40972399509418,\n",
       " 'soldatfullprice': 47.1499630775746,\n",
       " 'sold_discount': 5.3835079537834005}"
      ]
     },
     "metadata": {},
     "execution_count": 12
    }
   ],
   "source": [
    "inv.MPN_singleperiod(mean, sd, price, c, 0, 0)"
   ]
  },
  {
   "cell_type": "code",
   "execution_count": 13,
   "metadata": {},
   "outputs": [
    {
     "output_type": "execute_result",
     "data": {
      "text/plain": [
       "{'quantity': 57.81033811522709,\n",
       " 'demand': 50,\n",
       " 'sd': 10,\n",
       " 'unitshort': 1.2427768964900099,\n",
       " 'shortagecost': 2.8583868619270225,\n",
       " 'cost': 28.905169057613545,\n",
       " 'revenue': 150,\n",
       " 'profit': 83.23644408045942,\n",
       " 'soldatfullprice': 48.75722310350999,\n",
       " 'sold_discount': 9.053115011717097}"
      ]
     },
     "metadata": {},
     "execution_count": 13
    }
   ],
   "source": [
    "inv.MPN_singleperiod(mean, sd, price, c, salvage, 0)"
   ]
  },
  {
   "cell_type": "code",
   "execution_count": 14,
   "metadata": {},
   "outputs": [
    {
     "output_type": "execute_result",
     "data": {
      "text/plain": [
       "{'quantity': 58.957798188835895,\n",
       " 'demand': 50,\n",
       " 'sd': 10,\n",
       " 'unitshort': 1.012102766308183,\n",
       " 'shortagecost': 2.732677469032094,\n",
       " 'cost': 29.478899094417947,\n",
       " 'revenue': 150,\n",
       " 'profit': 82.78842343654995,\n",
       " 'soldatfullprice': 48.98789723369182,\n",
       " 'sold_discount': 9.969900955144077}"
      ]
     },
     "metadata": {},
     "execution_count": 14
    }
   ],
   "source": [
    "inv.MPN_singleperiod(mean, sd, price, c, salvage, penality_temp)"
   ]
  },
  {
   "cell_type": "code",
   "execution_count": null,
   "metadata": {},
   "outputs": [],
   "source": []
  }
 ]
}