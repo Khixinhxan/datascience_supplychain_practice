{
 "metadata": {
  "language_info": {
   "codemirror_mode": {
    "name": "ipython",
    "version": 3
   },
   "file_extension": ".py",
   "mimetype": "text/x-python",
   "name": "python",
   "nbconvert_exporter": "python",
   "pygments_lexer": "ipython3",
   "version": "3.7.9"
  },
  "orig_nbformat": 4,
  "kernelspec": {
   "name": "python3",
   "display_name": "Python 3.7.9 64-bit ('env': venv)"
  },
  "interpreter": {
   "hash": "272a83b994da64918daf8b774315e72334003c8696cc4358695b72acf32d7fce"
  }
 },
 "nbformat": 4,
 "nbformat_minor": 2,
 "cells": [
  {
   "cell_type": "code",
   "execution_count": 23,
   "metadata": {},
   "outputs": [
    {
     "output_type": "stream",
     "name": "stdout",
     "text": [
      "/Users/dang/Desktop/Learning/Mygit/datascience_supplychain_practice/Jupyternotebook_source/Section_18_seasonal_inventory\n"
     ]
    }
   ],
   "source": [
    "import numpy as np \n",
    "import pandas as pd \n",
    "import os \n",
    "import inventorize as inv\n",
    "path = os.getcwd()\n",
    "print(path)"
   ]
  },
  {
   "cell_type": "code",
   "execution_count": 7,
   "metadata": {},
   "outputs": [],
   "source": [
    "retail_clean = pd.read_csv(\"{0}/retail_clean.csv\".format(path))"
   ]
  },
  {
   "cell_type": "code",
   "execution_count": 8,
   "metadata": {},
   "outputs": [
    {
     "output_type": "stream",
     "name": "stdout",
     "text": [
      "<class 'pandas.core.frame.DataFrame'>\nRangeIndex: 779495 entries, 0 to 779494\nData columns (total 10 columns):\n #   Column       Non-Null Count   Dtype  \n---  ------       --------------   -----  \n 0   Unnamed: 0   779495 non-null  int64  \n 1   Invoice      779495 non-null  int64  \n 2   StockCode    779495 non-null  object \n 3   Description  779495 non-null  object \n 4   Quantity     779495 non-null  int64  \n 5   InvoiceDate  779495 non-null  object \n 6   Price        779495 non-null  float64\n 7   Customer ID  779495 non-null  float64\n 8   Country      779495 non-null  object \n 9   Revenue      779495 non-null  float64\ndtypes: float64(3), int64(3), object(4)\nmemory usage: 59.5+ MB\n"
     ]
    }
   ],
   "source": [
    "retail_clean.info()"
   ]
  },
  {
   "cell_type": "code",
   "execution_count": 9,
   "metadata": {},
   "outputs": [],
   "source": [
    "retail_clean['InvoiceDate'] = pd.to_datetime(retail_clean['InvoiceDate'])"
   ]
  },
  {
   "cell_type": "code",
   "execution_count": 10,
   "metadata": {},
   "outputs": [],
   "source": [
    "retail_clean['date'] = retail_clean['InvoiceDate'].dt.strftime(\"%Y-%m-%d\")"
   ]
  },
  {
   "cell_type": "code",
   "execution_count": 13,
   "metadata": {},
   "outputs": [],
   "source": [
    "retail_clean['date'] = pd.to_datetime(retail_clean['date'])"
   ]
  },
  {
   "cell_type": "code",
   "execution_count": 14,
   "metadata": {},
   "outputs": [],
   "source": [
    "retail_clean['year'] = retail_clean['date'].dt.year"
   ]
  },
  {
   "cell_type": "code",
   "execution_count": 15,
   "metadata": {},
   "outputs": [],
   "source": [
    "years_2 = retail_clean[retail_clean.year.isin([2010,2011])]"
   ]
  },
  {
   "cell_type": "code",
   "execution_count": 16,
   "metadata": {},
   "outputs": [],
   "source": [
    "total = years_2.groupby(['year', 'Description']).agg(\n",
    "    total_sales=('Quantity', np.sum),\n",
    "    price = ('Price', 'mean')\n",
    ").reset_index()"
   ]
  },
  {
   "cell_type": "code",
   "execution_count": 17,
   "metadata": {},
   "outputs": [],
   "source": [
    "expected = total.groupby('Description').agg(\n",
    "    expected_Demand = ('total_sales', np.mean),\n",
    "    sd = ('total_sales', 'std'),\n",
    "    price = ('price', np.mean)\n",
    "    ).reset_index()"
   ]
  },
  {
   "cell_type": "code",
   "execution_count": 18,
   "metadata": {},
   "outputs": [
    {
     "output_type": "execute_result",
     "data": {
      "text/plain": [
       "0              NaN\n",
       "1              NaN\n",
       "2        53.740115\n",
       "3              NaN\n",
       "4              NaN\n",
       "           ...    \n",
       "5146           NaN\n",
       "5147     84.852814\n",
       "5148    545.886435\n",
       "5149           NaN\n",
       "5150           NaN\n",
       "Name: sd, Length: 5151, dtype: float64"
      ]
     },
     "metadata": {},
     "execution_count": 18
    }
   ],
   "source": [
    "expected['sd']"
   ]
  },
  {
   "cell_type": "code",
   "execution_count": 19,
   "metadata": {},
   "outputs": [],
   "source": [
    "def margin_error(dataframe):\n",
    "    if(pd.isna(dataframe['sd'])):\n",
    "        a = dataframe['expected_Demand']*0.1\n",
    "    else:\n",
    "        a = dataframe['sd']\n",
    "    return a"
   ]
  },
  {
   "cell_type": "code",
   "execution_count": 20,
   "metadata": {},
   "outputs": [],
   "source": [
    "expected['sd1'] = expected.apply(margin_error, axis=1)"
   ]
  },
  {
   "cell_type": "code",
   "execution_count": 21,
   "metadata": {},
   "outputs": [],
   "source": [
    "expected['cost'] = expected['price'] * 0.4"
   ]
  },
  {
   "cell_type": "code",
   "execution_count": 22,
   "metadata": {},
   "outputs": [],
   "source": [
    "empty_data = pd.DataFrame()"
   ]
  },
  {
   "cell_type": "code",
   "execution_count": 25,
   "metadata": {},
   "outputs": [
    {
     "output_type": "stream",
     "name": "stderr",
     "text": [
      "/Users/dang/Desktop/Learning/Mygit/datascience_supplychain_practice/env/lib/python3.7/site-packages/scipy/stats/_distn_infrastructure.py:2098: RuntimeWarning: invalid value encountered in multiply\n  lower_bound = _a * scale + loc\n/Users/dang/Desktop/Learning/Mygit/datascience_supplychain_practice/env/lib/python3.7/site-packages/scipy/stats/_distn_infrastructure.py:2099: RuntimeWarning: invalid value encountered in multiply\n  upper_bound = _b * scale + loc\n"
     ]
    }
   ],
   "source": [
    "for i in range(expected.shape[0]):\n",
    "    a = inv.MPN_singleperiod(\n",
    "        expected.loc[i,'expected_Demand'],\n",
    "        expected.loc[i, 'sd1'],\n",
    "        expected.loc[i, 'price'],\n",
    "        expected.loc[i, 'cost'],\n",
    "        0, 0\n",
    "    )\n",
    "    b = pd.DataFrame(a, index=[0])\n",
    "    b['description'] = expected.loc[i, 'Description']\n",
    "    empty_data = pd.concat([empty_data, b], axis=0)"
   ]
  },
  {
   "cell_type": "code",
   "execution_count": 27,
   "metadata": {},
   "outputs": [
    {
     "output_type": "execute_result",
     "data": {
      "text/plain": [
       "       quantity  demand          sd   unitshort  shortagecost         cost  \\\n",
       "0    171.230897   167.0   16.700000    4.759562     31.604423   454.802691   \n",
       "0    409.108549   399.0   39.900000   11.371647     22.077241   317.702011   \n",
       "0    175.614903   162.0   53.740115   15.316131     34.067452   156.247088   \n",
       "0   1932.755929  1885.0  188.500000   53.723196     67.050492   964.888501   \n",
       "0    173.281566   169.0   16.900000    4.816562      1.011478    14.555652   \n",
       "..          ...     ...         ...         ...           ...          ...   \n",
       "0   5017.988072  4894.0  489.400000  139.480807    116.741919  1679.971805   \n",
       "0     90.497215    69.0   84.852814   24.183365    356.791006   534.062848   \n",
       "0   2956.298747  2818.0  545.886435  155.579650    133.888613  1017.651706   \n",
       "0     25.633368    25.0    2.500000    0.712509      5.112254    73.567765   \n",
       "0     82.026777    80.0    8.000000    2.280030      7.875222   113.328195   \n",
       "\n",
       "        revenue       profit  soldatfullprice  sold_discount  \\\n",
       "0   1108.912745   622.505631       162.240438       8.990458   \n",
       "0    774.630000   434.850748       387.628353      21.480197   \n",
       "0    360.334286   170.019746       146.683869      28.931034   \n",
       "0   2352.618349  1320.679356      1831.276804     101.479125   \n",
       "0     35.490000    19.922870       164.183438       9.098128   \n",
       "..          ...          ...              ...            ...   \n",
       "0   4096.154622  2299.440898      4754.519193     263.468879   \n",
       "0   1017.996429   127.142575        44.816635      45.680580   \n",
       "0   2425.112237  1273.571918      2662.420350     293.878397   \n",
       "0    179.375000   100.694981        24.287491       1.345877   \n",
       "0    276.320000   155.116583        77.719970       4.306806   \n",
       "\n",
       "                            description  \n",
       "0     DOORMAT UNION JACK GUNS AND ROSES  \n",
       "0              3 STRIPEY MICE FELTCRAFT  \n",
       "0         4 PURPLE FLOCK DINNER CANDLES  \n",
       "0         50'S CHRISTMAS GIFT BAG LARGE  \n",
       "0                       ANIMAL STICKERS  \n",
       "..                                  ...  \n",
       "0       ZINC T-LIGHT HOLDER STARS SMALL  \n",
       "0        ZINC TOP  2 DOOR WOODEN SHELF   \n",
       "0      ZINC WILLIE WINKIE  CANDLE STICK  \n",
       "0           ZINC WIRE KITCHEN ORGANISER  \n",
       "0      ZINC WIRE SWEETHEART LETTER TRAY  \n",
       "\n",
       "[5151 rows x 11 columns]"
      ],
      "text/html": "<div>\n<style scoped>\n    .dataframe tbody tr th:only-of-type {\n        vertical-align: middle;\n    }\n\n    .dataframe tbody tr th {\n        vertical-align: top;\n    }\n\n    .dataframe thead th {\n        text-align: right;\n    }\n</style>\n<table border=\"1\" class=\"dataframe\">\n  <thead>\n    <tr style=\"text-align: right;\">\n      <th></th>\n      <th>quantity</th>\n      <th>demand</th>\n      <th>sd</th>\n      <th>unitshort</th>\n      <th>shortagecost</th>\n      <th>cost</th>\n      <th>revenue</th>\n      <th>profit</th>\n      <th>soldatfullprice</th>\n      <th>sold_discount</th>\n      <th>description</th>\n    </tr>\n  </thead>\n  <tbody>\n    <tr>\n      <th>0</th>\n      <td>171.230897</td>\n      <td>167.0</td>\n      <td>16.700000</td>\n      <td>4.759562</td>\n      <td>31.604423</td>\n      <td>454.802691</td>\n      <td>1108.912745</td>\n      <td>622.505631</td>\n      <td>162.240438</td>\n      <td>8.990458</td>\n      <td>DOORMAT UNION JACK GUNS AND ROSES</td>\n    </tr>\n    <tr>\n      <th>0</th>\n      <td>409.108549</td>\n      <td>399.0</td>\n      <td>39.900000</td>\n      <td>11.371647</td>\n      <td>22.077241</td>\n      <td>317.702011</td>\n      <td>774.630000</td>\n      <td>434.850748</td>\n      <td>387.628353</td>\n      <td>21.480197</td>\n      <td>3 STRIPEY MICE FELTCRAFT</td>\n    </tr>\n    <tr>\n      <th>0</th>\n      <td>175.614903</td>\n      <td>162.0</td>\n      <td>53.740115</td>\n      <td>15.316131</td>\n      <td>34.067452</td>\n      <td>156.247088</td>\n      <td>360.334286</td>\n      <td>170.019746</td>\n      <td>146.683869</td>\n      <td>28.931034</td>\n      <td>4 PURPLE FLOCK DINNER CANDLES</td>\n    </tr>\n    <tr>\n      <th>0</th>\n      <td>1932.755929</td>\n      <td>1885.0</td>\n      <td>188.500000</td>\n      <td>53.723196</td>\n      <td>67.050492</td>\n      <td>964.888501</td>\n      <td>2352.618349</td>\n      <td>1320.679356</td>\n      <td>1831.276804</td>\n      <td>101.479125</td>\n      <td>50'S CHRISTMAS GIFT BAG LARGE</td>\n    </tr>\n    <tr>\n      <th>0</th>\n      <td>173.281566</td>\n      <td>169.0</td>\n      <td>16.900000</td>\n      <td>4.816562</td>\n      <td>1.011478</td>\n      <td>14.555652</td>\n      <td>35.490000</td>\n      <td>19.922870</td>\n      <td>164.183438</td>\n      <td>9.098128</td>\n      <td>ANIMAL STICKERS</td>\n    </tr>\n    <tr>\n      <th>...</th>\n      <td>...</td>\n      <td>...</td>\n      <td>...</td>\n      <td>...</td>\n      <td>...</td>\n      <td>...</td>\n      <td>...</td>\n      <td>...</td>\n      <td>...</td>\n      <td>...</td>\n      <td>...</td>\n    </tr>\n    <tr>\n      <th>0</th>\n      <td>5017.988072</td>\n      <td>4894.0</td>\n      <td>489.400000</td>\n      <td>139.480807</td>\n      <td>116.741919</td>\n      <td>1679.971805</td>\n      <td>4096.154622</td>\n      <td>2299.440898</td>\n      <td>4754.519193</td>\n      <td>263.468879</td>\n      <td>ZINC T-LIGHT HOLDER STARS SMALL</td>\n    </tr>\n    <tr>\n      <th>0</th>\n      <td>90.497215</td>\n      <td>69.0</td>\n      <td>84.852814</td>\n      <td>24.183365</td>\n      <td>356.791006</td>\n      <td>534.062848</td>\n      <td>1017.996429</td>\n      <td>127.142575</td>\n      <td>44.816635</td>\n      <td>45.680580</td>\n      <td>ZINC TOP  2 DOOR WOODEN SHELF</td>\n    </tr>\n    <tr>\n      <th>0</th>\n      <td>2956.298747</td>\n      <td>2818.0</td>\n      <td>545.886435</td>\n      <td>155.579650</td>\n      <td>133.888613</td>\n      <td>1017.651706</td>\n      <td>2425.112237</td>\n      <td>1273.571918</td>\n      <td>2662.420350</td>\n      <td>293.878397</td>\n      <td>ZINC WILLIE WINKIE  CANDLE STICK</td>\n    </tr>\n    <tr>\n      <th>0</th>\n      <td>25.633368</td>\n      <td>25.0</td>\n      <td>2.500000</td>\n      <td>0.712509</td>\n      <td>5.112254</td>\n      <td>73.567765</td>\n      <td>179.375000</td>\n      <td>100.694981</td>\n      <td>24.287491</td>\n      <td>1.345877</td>\n      <td>ZINC WIRE KITCHEN ORGANISER</td>\n    </tr>\n    <tr>\n      <th>0</th>\n      <td>82.026777</td>\n      <td>80.0</td>\n      <td>8.000000</td>\n      <td>2.280030</td>\n      <td>7.875222</td>\n      <td>113.328195</td>\n      <td>276.320000</td>\n      <td>155.116583</td>\n      <td>77.719970</td>\n      <td>4.306806</td>\n      <td>ZINC WIRE SWEETHEART LETTER TRAY</td>\n    </tr>\n  </tbody>\n</table>\n<p>5151 rows × 11 columns</p>\n</div>"
     },
     "metadata": {},
     "execution_count": 27
    }
   ],
   "source": [
    "empty_data"
   ]
  },
  {
   "cell_type": "code",
   "execution_count": 28,
   "metadata": {},
   "outputs": [
    {
     "output_type": "execute_result",
     "data": {
      "text/plain": [
       "quantity                          409.108549\n",
       "demand                            399.000000\n",
       "sd                                 39.900000\n",
       "unitshort                          11.371647\n",
       "shortagecost                       22.077241\n",
       "cost                              317.702011\n",
       "revenue                           774.630000\n",
       "profit                            434.850748\n",
       "soldatfullprice                   387.628353\n",
       "sold_discount                      21.480197\n",
       "description         3 STRIPEY MICE FELTCRAFT\n",
       "Name: 0, dtype: object"
      ]
     },
     "metadata": {},
     "execution_count": 28
    }
   ],
   "source": [
    "empty_data.iloc[1,:]"
   ]
  }
 ]
}