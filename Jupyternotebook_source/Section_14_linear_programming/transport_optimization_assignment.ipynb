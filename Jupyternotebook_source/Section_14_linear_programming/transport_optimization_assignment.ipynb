{
 "metadata": {
  "language_info": {
   "codemirror_mode": {
    "name": "ipython",
    "version": 3
   },
   "file_extension": ".py",
   "mimetype": "text/x-python",
   "name": "python",
   "nbconvert_exporter": "python",
   "pygments_lexer": "ipython3",
   "version": "3.7.9"
  },
  "orig_nbformat": 4,
  "kernelspec": {
   "name": "python3",
   "display_name": "Python 3.7.9 64-bit ('env': venv)"
  },
  "interpreter": {
   "hash": "272a83b994da64918daf8b774315e72334003c8696cc4358695b72acf32d7fce"
  }
 },
 "nbformat": 4,
 "nbformat_minor": 2,
 "cells": [
  {
   "cell_type": "code",
   "execution_count": 44,
   "metadata": {},
   "outputs": [],
   "source": [
    "from pulp import *"
   ]
  },
  {
   "cell_type": "code",
   "execution_count": 45,
   "metadata": {},
   "outputs": [],
   "source": [
    "model = LpProblem('assignment', LpMinimize)"
   ]
  },
  {
   "cell_type": "code",
   "execution_count": 46,
   "metadata": {},
   "outputs": [],
   "source": [
    "customers = ['Australia', 'Sweeden', 'Brazil']\n",
    "factory = ['Factory1', 'Factory2']\n",
    "products = ['Chair', 'Tables', 'Beds']"
   ]
  },
  {
   "cell_type": "code",
   "execution_count": 47,
   "metadata": {},
   "outputs": [],
   "source": [
    "keys = [(f,p,c) for f in factory for p in products for c in customers]"
   ]
  },
  {
   "cell_type": "code",
   "execution_count": 48,
   "metadata": {},
   "outputs": [
    {
     "output_type": "execute_result",
     "data": {
      "text/plain": [
       "[('Factory1', 'Chair', 'Australia'),\n",
       " ('Factory1', 'Chair', 'Sweeden'),\n",
       " ('Factory1', 'Chair', 'Brazil'),\n",
       " ('Factory1', 'Tables', 'Australia'),\n",
       " ('Factory1', 'Tables', 'Sweeden'),\n",
       " ('Factory1', 'Tables', 'Brazil'),\n",
       " ('Factory1', 'Beds', 'Australia'),\n",
       " ('Factory1', 'Beds', 'Sweeden'),\n",
       " ('Factory1', 'Beds', 'Brazil'),\n",
       " ('Factory2', 'Chair', 'Australia'),\n",
       " ('Factory2', 'Chair', 'Sweeden'),\n",
       " ('Factory2', 'Chair', 'Brazil'),\n",
       " ('Factory2', 'Tables', 'Australia'),\n",
       " ('Factory2', 'Tables', 'Sweeden'),\n",
       " ('Factory2', 'Tables', 'Brazil'),\n",
       " ('Factory2', 'Beds', 'Australia'),\n",
       " ('Factory2', 'Beds', 'Sweeden'),\n",
       " ('Factory2', 'Beds', 'Brazil')]"
      ]
     },
     "metadata": {},
     "execution_count": 48
    }
   ],
   "source": [
    "keys"
   ]
  },
  {
   "cell_type": "code",
   "execution_count": 49,
   "metadata": {},
   "outputs": [],
   "source": [
    "costs_values = [50, 60, 70,\n",
    "80, 90, 90,\n",
    "50, 60, 70,\n",
    "80, 90, 90,\n",
    "50, 60, 70,\n",
    "80, 90, 90]"
   ]
  },
  {
   "cell_type": "code",
   "execution_count": 50,
   "metadata": {},
   "outputs": [],
   "source": [
    "costs = dict(zip(keys, costs_values))"
   ]
  },
  {
   "cell_type": "code",
   "execution_count": 51,
   "metadata": {},
   "outputs": [
    {
     "output_type": "execute_result",
     "data": {
      "text/plain": [
       "{('Factory1', 'Chair', 'Australia'): 50,\n",
       " ('Factory1', 'Chair', 'Sweeden'): 60,\n",
       " ('Factory1', 'Chair', 'Brazil'): 70,\n",
       " ('Factory1', 'Tables', 'Australia'): 80,\n",
       " ('Factory1', 'Tables', 'Sweeden'): 90,\n",
       " ('Factory1', 'Tables', 'Brazil'): 90,\n",
       " ('Factory1', 'Beds', 'Australia'): 50,\n",
       " ('Factory1', 'Beds', 'Sweeden'): 60,\n",
       " ('Factory1', 'Beds', 'Brazil'): 70,\n",
       " ('Factory2', 'Chair', 'Australia'): 80,\n",
       " ('Factory2', 'Chair', 'Sweeden'): 90,\n",
       " ('Factory2', 'Chair', 'Brazil'): 90,\n",
       " ('Factory2', 'Tables', 'Australia'): 50,\n",
       " ('Factory2', 'Tables', 'Sweeden'): 60,\n",
       " ('Factory2', 'Tables', 'Brazil'): 70,\n",
       " ('Factory2', 'Beds', 'Australia'): 80,\n",
       " ('Factory2', 'Beds', 'Sweeden'): 90,\n",
       " ('Factory2', 'Beds', 'Brazil'): 90}"
      ]
     },
     "metadata": {},
     "execution_count": 51
    }
   ],
   "source": [
    "costs"
   ]
  },
  {
   "cell_type": "code",
   "execution_count": 52,
   "metadata": {},
   "outputs": [],
   "source": [
    "demand_keys = [(p,c) for c in customers for p in products]"
   ]
  },
  {
   "cell_type": "code",
   "execution_count": 53,
   "metadata": {},
   "outputs": [
    {
     "output_type": "execute_result",
     "data": {
      "text/plain": [
       "[('Chair', 'Australia'),\n",
       " ('Tables', 'Australia'),\n",
       " ('Beds', 'Australia'),\n",
       " ('Chair', 'Sweeden'),\n",
       " ('Tables', 'Sweeden'),\n",
       " ('Beds', 'Sweeden'),\n",
       " ('Chair', 'Brazil'),\n",
       " ('Tables', 'Brazil'),\n",
       " ('Beds', 'Brazil')]"
      ]
     },
     "metadata": {},
     "execution_count": 53
    }
   ],
   "source": [
    "demand_keys"
   ]
  },
  {
   "cell_type": "code",
   "execution_count": 54,
   "metadata": {},
   "outputs": [],
   "source": [
    "demand_values = [90, 120, 78,\n",
    "65, 450, 52,\n",
    "700, 40, 500]"
   ]
  },
  {
   "cell_type": "code",
   "execution_count": 55,
   "metadata": {},
   "outputs": [],
   "source": [
    "demand = dict(zip(demand_keys, demand_values))"
   ]
  },
  {
   "cell_type": "code",
   "execution_count": 56,
   "metadata": {},
   "outputs": [
    {
     "output_type": "execute_result",
     "data": {
      "text/plain": [
       "{('Chair', 'Australia'): 90,\n",
       " ('Tables', 'Australia'): 120,\n",
       " ('Beds', 'Australia'): 78,\n",
       " ('Chair', 'Sweeden'): 65,\n",
       " ('Tables', 'Sweeden'): 450,\n",
       " ('Beds', 'Sweeden'): 52,\n",
       " ('Chair', 'Brazil'): 700,\n",
       " ('Tables', 'Brazil'): 40,\n",
       " ('Beds', 'Brazil'): 500}"
      ]
     },
     "metadata": {},
     "execution_count": 56
    }
   ],
   "source": [
    "demand"
   ]
  },
  {
   "cell_type": "code",
   "execution_count": 40,
   "metadata": {},
   "outputs": [],
   "source": []
  },
  {
   "cell_type": "code",
   "execution_count": 57,
   "metadata": {},
   "outputs": [],
   "source": [
    "var = LpVariable.dicts('shipment', keys, 0, None, cat='Interger')\n",
    "model += lpSum(var[(f,p,c)]* costs[(f,p,c)] for f in factory for p in products for c in customers)"
   ]
  },
  {
   "cell_type": "code",
   "execution_count": 58,
   "metadata": {},
   "outputs": [],
   "source": [
    "model += lpSum(var[('Factory1', p, c)] for p in products for c in customers) <= 1500\n",
    "model += lpSum(var[('Factory2', p, c)] for p in products for c in customers) <= 2500"
   ]
  },
  {
   "cell_type": "code",
   "execution_count": 59,
   "metadata": {},
   "outputs": [
    {
     "output_type": "execute_result",
     "data": {
      "text/plain": [
       "1"
      ]
     },
     "metadata": {},
     "execution_count": 59
    }
   ],
   "source": [
    "for c in customers:\n",
    "    for p in products:\n",
    "        model += var[('Factory1',p,c)] + var[('Factory2',p,c)] >= demand[(p,c)]\n",
    "\n",
    "model.solve()"
   ]
  },
  {
   "cell_type": "code",
   "execution_count": 60,
   "metadata": {},
   "outputs": [
    {
     "output_type": "stream",
     "name": "stdout",
     "text": [
      "('Factory1', 'Chair', 'Australia') shipping 90.0\n('Factory1', 'Chair', 'Sweeden') shipping 65.0\n('Factory1', 'Chair', 'Brazil') shipping 700.0\n('Factory1', 'Tables', 'Australia') shipping 0.0\n('Factory1', 'Tables', 'Sweeden') shipping 0.0\n('Factory1', 'Tables', 'Brazil') shipping 0.0\n('Factory1', 'Beds', 'Australia') shipping 78.0\n('Factory1', 'Beds', 'Sweeden') shipping 52.0\n('Factory1', 'Beds', 'Brazil') shipping 500.0\n('Factory2', 'Chair', 'Australia') shipping 0.0\n('Factory2', 'Chair', 'Sweeden') shipping 0.0\n('Factory2', 'Chair', 'Brazil') shipping 0.0\n('Factory2', 'Tables', 'Australia') shipping 120.0\n('Factory2', 'Tables', 'Sweeden') shipping 450.0\n('Factory2', 'Tables', 'Brazil') shipping 40.0\n('Factory2', 'Beds', 'Australia') shipping 0.0\n('Factory2', 'Beds', 'Sweeden') shipping 0.0\n('Factory2', 'Beds', 'Brazil') shipping 0.0\n"
     ]
    }
   ],
   "source": [
    "for i in var: \n",
    "    print('{} shipping {}'.format(i,var[i].varValue))\n"
   ]
  }
 ]
}