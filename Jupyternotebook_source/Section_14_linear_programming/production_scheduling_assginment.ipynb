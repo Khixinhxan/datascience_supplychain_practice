{
 "metadata": {
  "language_info": {
   "codemirror_mode": {
    "name": "ipython",
    "version": 3
   },
   "file_extension": ".py",
   "mimetype": "text/x-python",
   "name": "python",
   "nbconvert_exporter": "python",
   "pygments_lexer": "ipython3",
   "version": "3.7.9"
  },
  "orig_nbformat": 4,
  "kernelspec": {
   "name": "python3",
   "display_name": "Python 3.7.9 64-bit ('env': venv)"
  },
  "interpreter": {
   "hash": "272a83b994da64918daf8b774315e72334003c8696cc4358695b72acf32d7fce"
  }
 },
 "nbformat": 4,
 "nbformat_minor": 2,
 "cells": [
  {
   "cell_type": "code",
   "execution_count": 1,
   "metadata": {},
   "outputs": [],
   "source": [
    "from pulp import *\n",
    "import pandas as pd\n",
    "import os \n",
    "path = os.getcwd()"
   ]
  },
  {
   "cell_type": "code",
   "execution_count": 2,
   "metadata": {},
   "outputs": [
    {
     "output_type": "stream",
     "name": "stderr",
     "text": [
      "ipykernel_launcher:1: FutureWarning: Your version of xlrd is 1.2.0. In xlrd >= 2.0, only the xls format is supported. As a result, the openpyxl engine will be used if it is installed and the engine argument is not specified. Install openpyxl instead.\n"
     ]
    }
   ],
   "source": [
    "param = pd.read_excel(\"{0}/assignment_ps.xlsx\".format(path))"
   ]
  },
  {
   "cell_type": "code",
   "execution_count": 3,
   "metadata": {},
   "outputs": [
    {
     "output_type": "execute_result",
     "data": {
      "text/plain": [
       "   Unnamed: 0  demand  fixed cost  var  storage cost  Capacity\n",
       "0    period 1     100        2000   40             1      5000\n",
       "1    period 2    4000        2000   50             1      6000\n",
       "2    period 3    2500        2000   80             1      4000\n",
       "3    period 4    4000        2000   60             1     12000\n",
       "4    period 5    6000        2000   50             1      4000\n",
       "5    period 6     100        2000   60             1      4000\n",
       "6    period 7     250        3000   20             1      8000\n",
       "7    period 8    5000        3000   40             1      4000\n",
       "8    period 9    6000        3000   90             1      4000\n",
       "9   period 10    4000        3000   30             1      7000\n",
       "10  period 11     900        3000   20             1      4000\n",
       "11  period 12    8000        3000  120             1      4000"
      ],
      "text/html": "<div>\n<style scoped>\n    .dataframe tbody tr th:only-of-type {\n        vertical-align: middle;\n    }\n\n    .dataframe tbody tr th {\n        vertical-align: top;\n    }\n\n    .dataframe thead th {\n        text-align: right;\n    }\n</style>\n<table border=\"1\" class=\"dataframe\">\n  <thead>\n    <tr style=\"text-align: right;\">\n      <th></th>\n      <th>Unnamed: 0</th>\n      <th>demand</th>\n      <th>fixed cost</th>\n      <th>var</th>\n      <th>storage cost</th>\n      <th>Capacity</th>\n    </tr>\n  </thead>\n  <tbody>\n    <tr>\n      <th>0</th>\n      <td>period 1</td>\n      <td>100</td>\n      <td>2000</td>\n      <td>40</td>\n      <td>1</td>\n      <td>5000</td>\n    </tr>\n    <tr>\n      <th>1</th>\n      <td>period 2</td>\n      <td>4000</td>\n      <td>2000</td>\n      <td>50</td>\n      <td>1</td>\n      <td>6000</td>\n    </tr>\n    <tr>\n      <th>2</th>\n      <td>period 3</td>\n      <td>2500</td>\n      <td>2000</td>\n      <td>80</td>\n      <td>1</td>\n      <td>4000</td>\n    </tr>\n    <tr>\n      <th>3</th>\n      <td>period 4</td>\n      <td>4000</td>\n      <td>2000</td>\n      <td>60</td>\n      <td>1</td>\n      <td>12000</td>\n    </tr>\n    <tr>\n      <th>4</th>\n      <td>period 5</td>\n      <td>6000</td>\n      <td>2000</td>\n      <td>50</td>\n      <td>1</td>\n      <td>4000</td>\n    </tr>\n    <tr>\n      <th>5</th>\n      <td>period 6</td>\n      <td>100</td>\n      <td>2000</td>\n      <td>60</td>\n      <td>1</td>\n      <td>4000</td>\n    </tr>\n    <tr>\n      <th>6</th>\n      <td>period 7</td>\n      <td>250</td>\n      <td>3000</td>\n      <td>20</td>\n      <td>1</td>\n      <td>8000</td>\n    </tr>\n    <tr>\n      <th>7</th>\n      <td>period 8</td>\n      <td>5000</td>\n      <td>3000</td>\n      <td>40</td>\n      <td>1</td>\n      <td>4000</td>\n    </tr>\n    <tr>\n      <th>8</th>\n      <td>period 9</td>\n      <td>6000</td>\n      <td>3000</td>\n      <td>90</td>\n      <td>1</td>\n      <td>4000</td>\n    </tr>\n    <tr>\n      <th>9</th>\n      <td>period 10</td>\n      <td>4000</td>\n      <td>3000</td>\n      <td>30</td>\n      <td>1</td>\n      <td>7000</td>\n    </tr>\n    <tr>\n      <th>10</th>\n      <td>period 11</td>\n      <td>900</td>\n      <td>3000</td>\n      <td>20</td>\n      <td>1</td>\n      <td>4000</td>\n    </tr>\n    <tr>\n      <th>11</th>\n      <td>period 12</td>\n      <td>8000</td>\n      <td>3000</td>\n      <td>120</td>\n      <td>1</td>\n      <td>4000</td>\n    </tr>\n  </tbody>\n</table>\n</div>"
     },
     "metadata": {},
     "execution_count": 3
    }
   ],
   "source": [
    "param"
   ]
  },
  {
   "cell_type": "code",
   "execution_count": 4,
   "metadata": {},
   "outputs": [],
   "source": [
    "param = param.rename(columns={'Unnamed: 0': 'period'})"
   ]
  },
  {
   "cell_type": "code",
   "execution_count": 7,
   "metadata": {},
   "outputs": [],
   "source": [
    "param['t'] = range(1,13)"
   ]
  },
  {
   "cell_type": "code",
   "execution_count": 8,
   "metadata": {},
   "outputs": [
    {
     "output_type": "execute_result",
     "data": {
      "text/plain": [
       "       period  demand  fixed cost  var  storage cost  Capacity   t\n",
       "0    period 1     100        2000   40             1      5000   1\n",
       "1    period 2    4000        2000   50             1      6000   2\n",
       "2    period 3    2500        2000   80             1      4000   3\n",
       "3    period 4    4000        2000   60             1     12000   4\n",
       "4    period 5    6000        2000   50             1      4000   5\n",
       "5    period 6     100        2000   60             1      4000   6\n",
       "6    period 7     250        3000   20             1      8000   7\n",
       "7    period 8    5000        3000   40             1      4000   8\n",
       "8    period 9    6000        3000   90             1      4000   9\n",
       "9   period 10    4000        3000   30             1      7000  10\n",
       "10  period 11     900        3000   20             1      4000  11\n",
       "11  period 12    8000        3000  120             1      4000  12"
      ],
      "text/html": "<div>\n<style scoped>\n    .dataframe tbody tr th:only-of-type {\n        vertical-align: middle;\n    }\n\n    .dataframe tbody tr th {\n        vertical-align: top;\n    }\n\n    .dataframe thead th {\n        text-align: right;\n    }\n</style>\n<table border=\"1\" class=\"dataframe\">\n  <thead>\n    <tr style=\"text-align: right;\">\n      <th></th>\n      <th>period</th>\n      <th>demand</th>\n      <th>fixed cost</th>\n      <th>var</th>\n      <th>storage cost</th>\n      <th>Capacity</th>\n      <th>t</th>\n    </tr>\n  </thead>\n  <tbody>\n    <tr>\n      <th>0</th>\n      <td>period 1</td>\n      <td>100</td>\n      <td>2000</td>\n      <td>40</td>\n      <td>1</td>\n      <td>5000</td>\n      <td>1</td>\n    </tr>\n    <tr>\n      <th>1</th>\n      <td>period 2</td>\n      <td>4000</td>\n      <td>2000</td>\n      <td>50</td>\n      <td>1</td>\n      <td>6000</td>\n      <td>2</td>\n    </tr>\n    <tr>\n      <th>2</th>\n      <td>period 3</td>\n      <td>2500</td>\n      <td>2000</td>\n      <td>80</td>\n      <td>1</td>\n      <td>4000</td>\n      <td>3</td>\n    </tr>\n    <tr>\n      <th>3</th>\n      <td>period 4</td>\n      <td>4000</td>\n      <td>2000</td>\n      <td>60</td>\n      <td>1</td>\n      <td>12000</td>\n      <td>4</td>\n    </tr>\n    <tr>\n      <th>4</th>\n      <td>period 5</td>\n      <td>6000</td>\n      <td>2000</td>\n      <td>50</td>\n      <td>1</td>\n      <td>4000</td>\n      <td>5</td>\n    </tr>\n    <tr>\n      <th>5</th>\n      <td>period 6</td>\n      <td>100</td>\n      <td>2000</td>\n      <td>60</td>\n      <td>1</td>\n      <td>4000</td>\n      <td>6</td>\n    </tr>\n    <tr>\n      <th>6</th>\n      <td>period 7</td>\n      <td>250</td>\n      <td>3000</td>\n      <td>20</td>\n      <td>1</td>\n      <td>8000</td>\n      <td>7</td>\n    </tr>\n    <tr>\n      <th>7</th>\n      <td>period 8</td>\n      <td>5000</td>\n      <td>3000</td>\n      <td>40</td>\n      <td>1</td>\n      <td>4000</td>\n      <td>8</td>\n    </tr>\n    <tr>\n      <th>8</th>\n      <td>period 9</td>\n      <td>6000</td>\n      <td>3000</td>\n      <td>90</td>\n      <td>1</td>\n      <td>4000</td>\n      <td>9</td>\n    </tr>\n    <tr>\n      <th>9</th>\n      <td>period 10</td>\n      <td>4000</td>\n      <td>3000</td>\n      <td>30</td>\n      <td>1</td>\n      <td>7000</td>\n      <td>10</td>\n    </tr>\n    <tr>\n      <th>10</th>\n      <td>period 11</td>\n      <td>900</td>\n      <td>3000</td>\n      <td>20</td>\n      <td>1</td>\n      <td>4000</td>\n      <td>11</td>\n    </tr>\n    <tr>\n      <th>11</th>\n      <td>period 12</td>\n      <td>8000</td>\n      <td>3000</td>\n      <td>120</td>\n      <td>1</td>\n      <td>4000</td>\n      <td>12</td>\n    </tr>\n  </tbody>\n</table>\n</div>"
     },
     "metadata": {},
     "execution_count": 8
    }
   ],
   "source": [
    "param"
   ]
  },
  {
   "cell_type": "code",
   "execution_count": 9,
   "metadata": {},
   "outputs": [],
   "source": [
    "param = param.set_index('t')"
   ]
  },
  {
   "cell_type": "code",
   "execution_count": 10,
   "metadata": {},
   "outputs": [],
   "source": [
    "inventory = LpVariable.dicts('inv', [0,1,2,3,4,5,6,7,8,9,10,11,12], 0, None, 'Integer')\n",
    "inventory[0] = 200"
   ]
  },
  {
   "cell_type": "code",
   "execution_count": 11,
   "metadata": {},
   "outputs": [],
   "source": [
    "production = LpVariable.dicts('Prod', [1,2,3,4,5,6,7,8,9,10,11,12], 0, None, 'Integer')\n",
    "binary = LpVariable.dicts('binary', [1,2,3,4,5,6,7,8,9,10,11,12], 0, None, 'Binary')"
   ]
  },
  {
   "cell_type": "code",
   "execution_count": 18,
   "metadata": {},
   "outputs": [],
   "source": [
    "time = [i+1 for i in range(0,12)]"
   ]
  },
  {
   "cell_type": "code",
   "execution_count": 20,
   "metadata": {},
   "outputs": [],
   "source": [
    "model = LpProblem('Production', LpMinimize)"
   ]
  },
  {
   "cell_type": "code",
   "execution_count": 21,
   "metadata": {},
   "outputs": [],
   "source": [
    "model += lpSum([inventory[t] * param.loc[t, 'storage cost'] + production[t] * param.loc[t, 'var'] + binary[t] * param.loc[t, 'fixed cost'] for t in time])"
   ]
  },
  {
   "cell_type": "code",
   "execution_count": 22,
   "metadata": {},
   "outputs": [],
   "source": [
    "for t in time:\n",
    "    model += production[t] - inventory[t] + inventory[t-1] >= param.loc[t, 'demand']\n",
    "    model += production[t] <= binary[t] * param.loc[t, 'Capacity']"
   ]
  },
  {
   "cell_type": "code",
   "execution_count": 23,
   "metadata": {},
   "outputs": [
    {
     "output_type": "execute_result",
     "data": {
      "text/plain": [
       "1"
      ]
     },
     "metadata": {},
     "execution_count": 23
    }
   ],
   "source": [
    "model.solve()"
   ]
  },
  {
   "cell_type": "code",
   "execution_count": 24,
   "metadata": {},
   "outputs": [
    {
     "output_type": "stream",
     "name": "stdout",
     "text": [
      "Prod_1 5000.0\nProd_2 6000.0\nProd_3 0.0\nProd_4 1400.0\nProd_5 4000.0\nProd_6 1250.0\nProd_7 8000.0\nProd_8 4000.0\nProd_9 0.0\nProd_10 7000.0\nProd_11 4000.0\nProd_12 0.0\n"
     ]
    }
   ],
   "source": [
    "for i in production:\n",
    "    print(production[i], production[i].varValue)"
   ]
  },
  {
   "cell_type": "code",
   "execution_count": null,
   "metadata": {},
   "outputs": [],
   "source": []
  }
 ]
}