{
 "metadata": {
  "language_info": {
   "codemirror_mode": {
    "name": "ipython",
    "version": 3
   },
   "file_extension": ".py",
   "mimetype": "text/x-python",
   "name": "python",
   "nbconvert_exporter": "python",
   "pygments_lexer": "ipython3",
   "version": "3.7.9"
  },
  "orig_nbformat": 4,
  "kernelspec": {
   "name": "python3",
   "display_name": "Python 3.7.9 64-bit ('env': venv)"
  },
  "interpreter": {
   "hash": "272a83b994da64918daf8b774315e72334003c8696cc4358695b72acf32d7fce"
  }
 },
 "nbformat": 4,
 "nbformat_minor": 2,
 "cells": [
  {
   "cell_type": "code",
   "execution_count": 28,
   "metadata": {},
   "outputs": [],
   "source": [
    "from pulp import *\n",
    "import pandas as pd\n",
    "import os \n",
    "path = os.getcwd()"
   ]
  },
  {
   "cell_type": "code",
   "execution_count": 29,
   "metadata": {},
   "outputs": [
    {
     "output_type": "stream",
     "name": "stderr",
     "text": [
      "ipykernel_launcher:1: FutureWarning: Your version of xlrd is 1.2.0. In xlrd >= 2.0, only the xls format is supported. As a result, the openpyxl engine will be used if it is installed and the engine argument is not specified. Install openpyxl instead.\n"
     ]
    }
   ],
   "source": [
    "param = pd.read_excel('{0}/Production_scheduling.xlsx'.format(path))"
   ]
  },
  {
   "cell_type": "code",
   "execution_count": 30,
   "metadata": {},
   "outputs": [],
   "source": [
    "param = param.rename(columns={'Unnamed: 0': 'period'})"
   ]
  },
  {
   "cell_type": "code",
   "execution_count": 31,
   "metadata": {},
   "outputs": [],
   "source": [
    "param['t'] = range(1,13)\n",
    "param['Capacity'] = 5000"
   ]
  },
  {
   "cell_type": "code",
   "execution_count": 32,
   "metadata": {},
   "outputs": [],
   "source": [
    "param = param.set_index('t')"
   ]
  },
  {
   "cell_type": "code",
   "execution_count": 33,
   "metadata": {},
   "outputs": [],
   "source": [
    "inventory = LpVariable.dicts('inv', [0,1,2,3,4,5,6,7,8,9,10,11,12], 0, None, 'Integer')\n",
    "inventory[0] = 200"
   ]
  },
  {
   "cell_type": "code",
   "execution_count": 34,
   "metadata": {},
   "outputs": [],
   "source": [
    "production = LpVariable.dicts('Prod', [1,2,3,4,5,6,7,8,9,10,11,12], 0, None, 'Integer')\n",
    "binary = LpVariable.dicts('binary', [1,2,3,4,5,6,7,8,9,10,11,12], 0, None, 'Binary')"
   ]
  },
  {
   "cell_type": "code",
   "execution_count": 35,
   "metadata": {},
   "outputs": [],
   "source": [
    "time = [1,2,3,4,5,6,7,8,9,10,11,12]"
   ]
  },
  {
   "cell_type": "code",
   "execution_count": 36,
   "metadata": {},
   "outputs": [],
   "source": [
    "model = LpProblem('Production', LpMinimize)"
   ]
  },
  {
   "cell_type": "code",
   "execution_count": 37,
   "metadata": {},
   "outputs": [],
   "source": [
    "model += lpSum([inventory[t] * param.loc[t, 'storage cost'] + production[t] * param.loc[t,'var'] + binary[t] * param.loc[t, 'fixed cost'] for t in time])"
   ]
  },
  {
   "cell_type": "code",
   "execution_count": 38,
   "metadata": {},
   "outputs": [],
   "source": [
    "for t in time:\n",
    "    model += production[t] - inventory[t] + inventory[t-1]>= param.loc[t, 'demand']\n",
    "    model += production[t] <= binary[t]* param.loc[t, 'Capacity']\n"
   ]
  },
  {
   "cell_type": "code",
   "execution_count": 39,
   "metadata": {},
   "outputs": [
    {
     "output_type": "execute_result",
     "data": {
      "text/plain": [
       "1"
      ]
     },
     "metadata": {},
     "execution_count": 39
    }
   ],
   "source": [
    "model.solve()"
   ]
  },
  {
   "cell_type": "code",
   "execution_count": 40,
   "metadata": {},
   "outputs": [
    {
     "output_type": "stream",
     "name": "stdout",
     "text": [
      "Prod_1 2800.0\nProd_2 4000.0\nProd_3 2600.0\nProd_4 5000.0\nProd_5 5000.0\nProd_6 0.0\nProd_7 1250.0\nProd_8 5000.0\nProd_9 5000.0\nProd_10 1700.0\nProd_11 0.0\nProd_12 1200.0\n"
     ]
    }
   ],
   "source": [
    "for i in production:\n",
    "    print(production[i], production[i].varValue)"
   ]
  },
  {
   "cell_type": "code",
   "execution_count": null,
   "metadata": {},
   "outputs": [],
   "source": []
  }
 ]
}