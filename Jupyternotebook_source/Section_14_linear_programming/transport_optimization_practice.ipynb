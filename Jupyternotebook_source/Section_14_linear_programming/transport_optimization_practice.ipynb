{
 "metadata": {
  "language_info": {
   "codemirror_mode": {
    "name": "ipython",
    "version": 3
   },
   "file_extension": ".py",
   "mimetype": "text/x-python",
   "name": "python",
   "nbconvert_exporter": "python",
   "pygments_lexer": "ipython3",
   "version": "3.7.9"
  },
  "orig_nbformat": 4,
  "kernelspec": {
   "name": "python3",
   "display_name": "Python 3.7.9 64-bit ('env': venv)"
  },
  "interpreter": {
   "hash": "272a83b994da64918daf8b774315e72334003c8696cc4358695b72acf32d7fce"
  }
 },
 "nbformat": 4,
 "nbformat_minor": 2,
 "cells": [
  {
   "cell_type": "code",
   "execution_count": 2,
   "metadata": {},
   "outputs": [],
   "source": [
    "from pulp import *"
   ]
  },
  {
   "cell_type": "code",
   "execution_count": 3,
   "metadata": {},
   "outputs": [],
   "source": [
    "model = LpProblem('shipping', LpMinimize)"
   ]
  },
  {
   "cell_type": "code",
   "execution_count": 7,
   "metadata": {},
   "outputs": [],
   "source": [
    "customers = ['Australia', 'Sweeden', 'Brazil']\n",
    "factory = ['Factory1', 'Factory2']\n",
    "products = ['Chair', 'Table', 'Beds']"
   ]
  },
  {
   "cell_type": "code",
   "execution_count": 13,
   "metadata": {},
   "outputs": [],
   "source": [
    "keys = [(f, p, c) for f in factory for p in products for c in customers]"
   ]
  },
  {
   "cell_type": "code",
   "execution_count": 15,
   "metadata": {},
   "outputs": [
    {
     "output_type": "execute_result",
     "data": {
      "text/plain": [
       "[('Factory1', 'Chair', 'Australia'),\n",
       " ('Factory1', 'Chair', 'Sweeden'),\n",
       " ('Factory1', 'Chair', 'Brazil'),\n",
       " ('Factory1', 'Table', 'Australia'),\n",
       " ('Factory1', 'Table', 'Sweeden'),\n",
       " ('Factory1', 'Table', 'Brazil'),\n",
       " ('Factory1', 'Beds', 'Australia'),\n",
       " ('Factory1', 'Beds', 'Sweeden'),\n",
       " ('Factory1', 'Beds', 'Brazil'),\n",
       " ('Factory2', 'Chair', 'Australia'),\n",
       " ('Factory2', 'Chair', 'Sweeden'),\n",
       " ('Factory2', 'Chair', 'Brazil'),\n",
       " ('Factory2', 'Table', 'Australia'),\n",
       " ('Factory2', 'Table', 'Sweeden'),\n",
       " ('Factory2', 'Table', 'Brazil'),\n",
       " ('Factory2', 'Beds', 'Australia'),\n",
       " ('Factory2', 'Beds', 'Sweeden'),\n",
       " ('Factory2', 'Beds', 'Brazil')]"
      ]
     },
     "metadata": {},
     "execution_count": 15
    }
   ],
   "source": [
    "keys"
   ]
  },
  {
   "cell_type": "code",
   "execution_count": 11,
   "metadata": {},
   "outputs": [],
   "source": [
    "costs_value = [50, 80, 50,\n",
    "60, 90, 60,\n",
    "70, 90, 70,\n",
    "80, 50, 80,\n",
    "90, 60, 90,\n",
    "90, 70, 90]"
   ]
  },
  {
   "cell_type": "code",
   "execution_count": 16,
   "metadata": {},
   "outputs": [],
   "source": [
    "costs = dict(zip(keys, costs_value))"
   ]
  },
  {
   "cell_type": "code",
   "execution_count": 17,
   "metadata": {},
   "outputs": [],
   "source": [
    "demand_keys = [(p,c) for c in customers for p in products]"
   ]
  },
  {
   "cell_type": "code",
   "execution_count": 18,
   "metadata": {},
   "outputs": [],
   "source": [
    "demand_values = [50, 80, 200,\n",
    "120, 80, 40,\n",
    "30, 60, 175]"
   ]
  },
  {
   "cell_type": "code",
   "execution_count": 19,
   "metadata": {},
   "outputs": [],
   "source": [
    "demand = dict(zip(demand_keys, demand_values))"
   ]
  },
  {
   "cell_type": "code",
   "execution_count": 22,
   "metadata": {},
   "outputs": [],
   "source": [
    "var = LpVariable.dicts('shipment', keys,0, None, cat='Integer')\n",
    "model += lpSum(var[(f,p,c)]*costs[(f,p,c)] for f in factory for p in products for c in customers)"
   ]
  },
  {
   "cell_type": "code",
   "execution_count": 26,
   "metadata": {},
   "outputs": [],
   "source": [
    "model += lpSum(var[('Factory1',p,c)] for p in products for c in customers) <= 500\n",
    "model += lpSum(var[('Factory2',p,c)] for p in products for c in customers) <= 500"
   ]
  },
  {
   "cell_type": "code",
   "execution_count": 28,
   "metadata": {},
   "outputs": [],
   "source": [
    "for c in customers:\n",
    "    for p in products:\n",
    "        model += var[('Factory1',p,c)] + var[('Factory2',p,c)] >= demand[(p,c)]\n"
   ]
  },
  {
   "cell_type": "code",
   "execution_count": 29,
   "metadata": {},
   "outputs": [
    {
     "output_type": "stream",
     "name": "stdout",
     "text": [
      "('Factory1', 'Chair', 'Australia') shipping 50.0\n('Factory1', 'Chair', 'Sweeden') shipping 0.0\n('Factory1', 'Chair', 'Brazil') shipping 30.0\n('Factory1', 'Table', 'Australia') shipping 80.0\n('Factory1', 'Table', 'Sweeden') shipping 0.0\n('Factory1', 'Table', 'Brazil') shipping 60.0\n('Factory1', 'Beds', 'Australia') shipping 105.0\n('Factory1', 'Beds', 'Sweeden') shipping 0.0\n('Factory1', 'Beds', 'Brazil') shipping 175.0\n('Factory2', 'Chair', 'Australia') shipping 0.0\n('Factory2', 'Chair', 'Sweeden') shipping 120.0\n('Factory2', 'Chair', 'Brazil') shipping 0.0\n('Factory2', 'Table', 'Australia') shipping 0.0\n('Factory2', 'Table', 'Sweeden') shipping 80.0\n('Factory2', 'Table', 'Brazil') shipping 0.0\n('Factory2', 'Beds', 'Australia') shipping 95.0\n('Factory2', 'Beds', 'Sweeden') shipping 40.0\n('Factory2', 'Beds', 'Brazil') shipping 0.0\n"
     ]
    }
   ],
   "source": [
    "model.solve()\n",
    "\n",
    "for i in var: \n",
    "    print('{} shipping {}'.format(i,var[i].varValue))\n"
   ]
  },
  {
   "cell_type": "code",
   "execution_count": null,
   "metadata": {},
   "outputs": [],
   "source": []
  }
 ]
}