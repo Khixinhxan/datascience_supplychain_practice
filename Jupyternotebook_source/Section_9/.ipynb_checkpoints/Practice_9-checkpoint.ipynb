{
 "cells": [
  {
   "cell_type": "code",
   "execution_count": 82,
   "metadata": {},
   "outputs": [],
   "source": [
    "import pandas as pd\n",
    "import numpy as np\n",
    "import seaborn as sns\n",
    "import inventorize2 as inv "
   ]
  },
  {
   "cell_type": "code",
   "execution_count": 83,
   "metadata": {},
   "outputs": [],
   "source": [
    "retail = pd.read_csv('/Users/dang/Desktop/Learning/DataScience_SupplyChain/Jupyternotebook_source/Section_8/online_retail2.csv')"
   ]
  },
  {
   "cell_type": "code",
   "execution_count": 84,
   "metadata": {},
   "outputs": [],
   "source": [
    "retail = retail.drop_duplicates()"
   ]
  },
  {
   "cell_type": "code",
   "execution_count": 85,
   "metadata": {},
   "outputs": [],
   "source": [
    "retail = retail.dropna()\n",
    "retail = retail[retail.Quantity >0]"
   ]
  },
  {
   "cell_type": "code",
   "execution_count": 86,
   "metadata": {},
   "outputs": [],
   "source": [
    "retail_clean = retail.copy()\n",
    "retail_clean['Revenue'] = retail['Price'] * retail['Quantity']"
   ]
  },
  {
   "cell_type": "code",
   "execution_count": 87,
   "metadata": {},
   "outputs": [],
   "source": [
    "retail_clean.to_csv('./retail_clean.csv')"
   ]
  },
  {
   "cell_type": "code",
   "execution_count": 88,
   "metadata": {},
   "outputs": [
    {
     "data": {
      "text/plain": [
       "Index(['Invoice', 'StockCode', 'Description', 'Quantity', 'InvoiceDate',\n",
       "       'Price', 'Customer ID', 'Country', 'Revenue'],\n",
       "      dtype='object')"
      ]
     },
     "execution_count": 88,
     "metadata": {},
     "output_type": "execute_result"
    }
   ],
   "source": [
    "retail_clean.columns"
   ]
  },
  {
   "cell_type": "code",
   "execution_count": 89,
   "metadata": {},
   "outputs": [],
   "source": [
    "grouped = retail_clean.groupby(['StockCode','Description']).agg(sales=('Quantity', np.sum), \n",
    "                                                              revenue=('Revenue', np.sum)).reset_index()"
   ]
  },
  {
   "cell_type": "code",
   "execution_count": 90,
   "metadata": {},
   "outputs": [],
   "source": [
    "grouped['revenue'] = grouped['revenue'].astype(int)"
   ]
  },
  {
   "cell_type": "code",
   "execution_count": 91,
   "metadata": {},
   "outputs": [],
   "source": [
    "grouped.to_csv('./for_abc.csv', index=False)"
   ]
  },
  {
   "cell_type": "code",
   "execution_count": 92,
   "metadata": {},
   "outputs": [],
   "source": [
    "a = inv.ABC(grouped[['Description', 'sales']])"
   ]
  },
  {
   "cell_type": "code",
   "execution_count": 93,
   "metadata": {},
   "outputs": [
    {
     "data": {
      "text/html": [
       "<div>\n",
       "<style scoped>\n",
       "    .dataframe tbody tr th:only-of-type {\n",
       "        vertical-align: middle;\n",
       "    }\n",
       "\n",
       "    .dataframe tbody tr th {\n",
       "        vertical-align: top;\n",
       "    }\n",
       "\n",
       "    .dataframe thead th {\n",
       "        text-align: right;\n",
       "    }\n",
       "</style>\n",
       "<table border=\"1\" class=\"dataframe\">\n",
       "  <thead>\n",
       "    <tr style=\"text-align: right;\">\n",
       "      <th></th>\n",
       "      <th>Description</th>\n",
       "      <th>sales</th>\n",
       "      <th>Percentage</th>\n",
       "      <th>Category</th>\n",
       "    </tr>\n",
       "  </thead>\n",
       "  <tbody>\n",
       "    <tr>\n",
       "      <th>4031</th>\n",
       "      <td>WORLD WAR 2 GLIDERS ASSTD DESIGNS</td>\n",
       "      <td>105185</td>\n",
       "      <td>9.990307e-03</td>\n",
       "      <td>A</td>\n",
       "    </tr>\n",
       "    <tr>\n",
       "      <th>4751</th>\n",
       "      <td>WHITE HANGING HEART T-LIGHT HOLDER</td>\n",
       "      <td>91757</td>\n",
       "      <td>8.714937e-03</td>\n",
       "      <td>A</td>\n",
       "    </tr>\n",
       "    <tr>\n",
       "      <th>3283</th>\n",
       "      <td>PAPER CRAFT , LITTLE BIRDIE</td>\n",
       "      <td>80995</td>\n",
       "      <td>7.692779e-03</td>\n",
       "      <td>A</td>\n",
       "    </tr>\n",
       "    <tr>\n",
       "      <th>4456</th>\n",
       "      <td>ASSORTED COLOUR BIRD ORNAMENT</td>\n",
       "      <td>78234</td>\n",
       "      <td>7.430543e-03</td>\n",
       "      <td>A</td>\n",
       "    </tr>\n",
       "    <tr>\n",
       "      <th>2781</th>\n",
       "      <td>MEDIUM CERAMIC TOP STORAGE JAR</td>\n",
       "      <td>77916</td>\n",
       "      <td>7.400340e-03</td>\n",
       "      <td>A</td>\n",
       "    </tr>\n",
       "    <tr>\n",
       "      <th>...</th>\n",
       "      <td>...</td>\n",
       "      <td>...</td>\n",
       "      <td>...</td>\n",
       "      <td>...</td>\n",
       "    </tr>\n",
       "    <tr>\n",
       "      <th>2109</th>\n",
       "      <td>CIRCUS PARADE LUNCHBOX</td>\n",
       "      <td>1</td>\n",
       "      <td>9.497844e-08</td>\n",
       "      <td>A</td>\n",
       "    </tr>\n",
       "    <tr>\n",
       "      <th>4206</th>\n",
       "      <td>6 HOOK JEWEL STAND LILAC DRESS</td>\n",
       "      <td>1</td>\n",
       "      <td>9.497844e-08</td>\n",
       "      <td>A</td>\n",
       "    </tr>\n",
       "    <tr>\n",
       "      <th>4255</th>\n",
       "      <td>CANDY STRIPE ROSE QUILT</td>\n",
       "      <td>1</td>\n",
       "      <td>9.497844e-08</td>\n",
       "      <td>A</td>\n",
       "    </tr>\n",
       "    <tr>\n",
       "      <th>4263</th>\n",
       "      <td>NEW BAROQUE WALL MIRROR</td>\n",
       "      <td>1</td>\n",
       "      <td>9.497844e-08</td>\n",
       "      <td>A</td>\n",
       "    </tr>\n",
       "    <tr>\n",
       "      <th>5314</th>\n",
       "      <td>This is a test product.</td>\n",
       "      <td>1</td>\n",
       "      <td>9.497844e-08</td>\n",
       "      <td>A</td>\n",
       "    </tr>\n",
       "  </tbody>\n",
       "</table>\n",
       "<p>5315 rows × 4 columns</p>\n",
       "</div>"
      ],
      "text/plain": [
       "                             Description   sales    Percentage Category\n",
       "4031   WORLD WAR 2 GLIDERS ASSTD DESIGNS  105185  9.990307e-03        A\n",
       "4751  WHITE HANGING HEART T-LIGHT HOLDER   91757  8.714937e-03        A\n",
       "3283         PAPER CRAFT , LITTLE BIRDIE   80995  7.692779e-03        A\n",
       "4456       ASSORTED COLOUR BIRD ORNAMENT   78234  7.430543e-03        A\n",
       "2781      MEDIUM CERAMIC TOP STORAGE JAR   77916  7.400340e-03        A\n",
       "...                                  ...     ...           ...      ...\n",
       "2109             CIRCUS PARADE LUNCHBOX        1  9.497844e-08        A\n",
       "4206      6 HOOK JEWEL STAND LILAC DRESS       1  9.497844e-08        A\n",
       "4255             CANDY STRIPE ROSE QUILT       1  9.497844e-08        A\n",
       "4263             NEW BAROQUE WALL MIRROR       1  9.497844e-08        A\n",
       "5314             This is a test product.       1  9.497844e-08        A\n",
       "\n",
       "[5315 rows x 4 columns]"
      ]
     },
     "execution_count": 93,
     "metadata": {},
     "output_type": "execute_result"
    }
   ],
   "source": [
    "a"
   ]
  },
  {
   "cell_type": "code",
   "execution_count": 94,
   "metadata": {},
   "outputs": [
    {
     "data": {
      "text/plain": [
       "A    5315\n",
       "Name: Category, dtype: int64"
      ]
     },
     "execution_count": 94,
     "metadata": {},
     "output_type": "execute_result"
    }
   ],
   "source": [
    "a.Category.value_counts()"
   ]
  },
  {
   "cell_type": "code",
   "execution_count": 95,
   "metadata": {},
   "outputs": [],
   "source": [
    "### multi creteria abs analysis\n",
    "b = inv.productmix(grouped[['Description', 'sales', 'revenue']])"
   ]
  },
  {
   "cell_type": "code",
   "execution_count": 96,
   "metadata": {},
   "outputs": [
    {
     "data": {
      "text/html": [
       "<div>\n",
       "<style scoped>\n",
       "    .dataframe tbody tr th:only-of-type {\n",
       "        vertical-align: middle;\n",
       "    }\n",
       "\n",
       "    .dataframe tbody tr th {\n",
       "        vertical-align: top;\n",
       "    }\n",
       "\n",
       "    .dataframe thead th {\n",
       "        text-align: right;\n",
       "    }\n",
       "</style>\n",
       "<table border=\"1\" class=\"dataframe\">\n",
       "  <thead>\n",
       "    <tr style=\"text-align: right;\">\n",
       "      <th></th>\n",
       "      <th>Description</th>\n",
       "      <th>sales</th>\n",
       "      <th>revenue</th>\n",
       "      <th>sales_mix</th>\n",
       "      <th>comulative_sales</th>\n",
       "      <th>revenue_mix</th>\n",
       "      <th>comulative_revenue</th>\n",
       "      <th>sales_category</th>\n",
       "      <th>revenue_category</th>\n",
       "      <th>product_mix</th>\n",
       "    </tr>\n",
       "  </thead>\n",
       "  <tbody>\n",
       "    <tr>\n",
       "      <th>1862</th>\n",
       "      <td>REGENCY CAKESTAND 3 TIER</td>\n",
       "      <td>24139</td>\n",
       "      <td>277656</td>\n",
       "      <td>2.292685e-03</td>\n",
       "      <td>0.177816</td>\n",
       "      <td>0.015983</td>\n",
       "      <td>0.015983</td>\n",
       "      <td>A</td>\n",
       "      <td>A</td>\n",
       "      <td>A_A</td>\n",
       "    </tr>\n",
       "    <tr>\n",
       "      <th>4751</th>\n",
       "      <td>WHITE HANGING HEART T-LIGHT HOLDER</td>\n",
       "      <td>91757</td>\n",
       "      <td>247048</td>\n",
       "      <td>8.714937e-03</td>\n",
       "      <td>0.018705</td>\n",
       "      <td>0.014221</td>\n",
       "      <td>0.030204</td>\n",
       "      <td>A</td>\n",
       "      <td>A</td>\n",
       "      <td>A_A</td>\n",
       "    </tr>\n",
       "    <tr>\n",
       "      <th>3283</th>\n",
       "      <td>PAPER CRAFT , LITTLE BIRDIE</td>\n",
       "      <td>80995</td>\n",
       "      <td>168469</td>\n",
       "      <td>7.692779e-03</td>\n",
       "      <td>0.026398</td>\n",
       "      <td>0.009698</td>\n",
       "      <td>0.039901</td>\n",
       "      <td>A</td>\n",
       "      <td>A</td>\n",
       "      <td>A_A</td>\n",
       "    </tr>\n",
       "    <tr>\n",
       "      <th>5309</th>\n",
       "      <td>Manual</td>\n",
       "      <td>9391</td>\n",
       "      <td>151777</td>\n",
       "      <td>8.919426e-04</td>\n",
       "      <td>0.423176</td>\n",
       "      <td>0.008737</td>\n",
       "      <td>0.048638</td>\n",
       "      <td>A</td>\n",
       "      <td>A</td>\n",
       "      <td>A_A</td>\n",
       "    </tr>\n",
       "    <tr>\n",
       "      <th>4725</th>\n",
       "      <td>JUMBO BAG RED RETROSPOT</td>\n",
       "      <td>74224</td>\n",
       "      <td>134307</td>\n",
       "      <td>7.049680e-03</td>\n",
       "      <td>0.048279</td>\n",
       "      <td>0.007731</td>\n",
       "      <td>0.056369</td>\n",
       "      <td>A</td>\n",
       "      <td>A</td>\n",
       "      <td>A_A</td>\n",
       "    </tr>\n",
       "    <tr>\n",
       "      <th>...</th>\n",
       "      <td>...</td>\n",
       "      <td>...</td>\n",
       "      <td>...</td>\n",
       "      <td>...</td>\n",
       "      <td>...</td>\n",
       "      <td>...</td>\n",
       "      <td>...</td>\n",
       "      <td>...</td>\n",
       "      <td>...</td>\n",
       "      <td>...</td>\n",
       "    </tr>\n",
       "    <tr>\n",
       "      <th>3406</th>\n",
       "      <td>PINK HEART CHRISTMAS DECORATION</td>\n",
       "      <td>1</td>\n",
       "      <td>0</td>\n",
       "      <td>9.497844e-08</td>\n",
       "      <td>0.999995</td>\n",
       "      <td>0.000000</td>\n",
       "      <td>1.000000</td>\n",
       "      <td>C</td>\n",
       "      <td>C</td>\n",
       "      <td>C_C</td>\n",
       "    </tr>\n",
       "    <tr>\n",
       "      <th>3015</th>\n",
       "      <td>SET 12 COLOURING PENCILS DOILEY</td>\n",
       "      <td>1</td>\n",
       "      <td>0</td>\n",
       "      <td>9.497844e-08</td>\n",
       "      <td>0.999994</td>\n",
       "      <td>0.000000</td>\n",
       "      <td>1.000000</td>\n",
       "      <td>C</td>\n",
       "      <td>C</td>\n",
       "      <td>C_C</td>\n",
       "    </tr>\n",
       "    <tr>\n",
       "      <th>4043</th>\n",
       "      <td>CAT WITH SUNGLASSES BLANK CARD</td>\n",
       "      <td>5</td>\n",
       "      <td>0</td>\n",
       "      <td>4.748922e-07</td>\n",
       "      <td>0.999952</td>\n",
       "      <td>0.000000</td>\n",
       "      <td>1.000000</td>\n",
       "      <td>C</td>\n",
       "      <td>C</td>\n",
       "      <td>C_C</td>\n",
       "    </tr>\n",
       "    <tr>\n",
       "      <th>4040</th>\n",
       "      <td>HAPPY BIRTHDAY GINGER CAT CARD</td>\n",
       "      <td>2</td>\n",
       "      <td>0</td>\n",
       "      <td>1.899569e-07</td>\n",
       "      <td>0.999988</td>\n",
       "      <td>0.000000</td>\n",
       "      <td>1.000000</td>\n",
       "      <td>C</td>\n",
       "      <td>C</td>\n",
       "      <td>C_C</td>\n",
       "    </tr>\n",
       "    <tr>\n",
       "      <th>274</th>\n",
       "      <td>OWLS CHARLOTTE BAG</td>\n",
       "      <td>1</td>\n",
       "      <td>0</td>\n",
       "      <td>9.497844e-08</td>\n",
       "      <td>0.999998</td>\n",
       "      <td>0.000000</td>\n",
       "      <td>1.000000</td>\n",
       "      <td>C</td>\n",
       "      <td>C</td>\n",
       "      <td>C_C</td>\n",
       "    </tr>\n",
       "  </tbody>\n",
       "</table>\n",
       "<p>5315 rows × 10 columns</p>\n",
       "</div>"
      ],
      "text/plain": [
       "                             Description  sales  revenue     sales_mix  \\\n",
       "1862            REGENCY CAKESTAND 3 TIER  24139   277656  2.292685e-03   \n",
       "4751  WHITE HANGING HEART T-LIGHT HOLDER  91757   247048  8.714937e-03   \n",
       "3283         PAPER CRAFT , LITTLE BIRDIE  80995   168469  7.692779e-03   \n",
       "5309                              Manual   9391   151777  8.919426e-04   \n",
       "4725             JUMBO BAG RED RETROSPOT  74224   134307  7.049680e-03   \n",
       "...                                  ...    ...      ...           ...   \n",
       "3406     PINK HEART CHRISTMAS DECORATION      1        0  9.497844e-08   \n",
       "3015     SET 12 COLOURING PENCILS DOILEY      1        0  9.497844e-08   \n",
       "4043      CAT WITH SUNGLASSES BLANK CARD      5        0  4.748922e-07   \n",
       "4040      HAPPY BIRTHDAY GINGER CAT CARD      2        0  1.899569e-07   \n",
       "274                   OWLS CHARLOTTE BAG      1        0  9.497844e-08   \n",
       "\n",
       "      comulative_sales  revenue_mix  comulative_revenue sales_category  \\\n",
       "1862          0.177816     0.015983            0.015983              A   \n",
       "4751          0.018705     0.014221            0.030204              A   \n",
       "3283          0.026398     0.009698            0.039901              A   \n",
       "5309          0.423176     0.008737            0.048638              A   \n",
       "4725          0.048279     0.007731            0.056369              A   \n",
       "...                ...          ...                 ...            ...   \n",
       "3406          0.999995     0.000000            1.000000              C   \n",
       "3015          0.999994     0.000000            1.000000              C   \n",
       "4043          0.999952     0.000000            1.000000              C   \n",
       "4040          0.999988     0.000000            1.000000              C   \n",
       "274           0.999998     0.000000            1.000000              C   \n",
       "\n",
       "     revenue_category product_mix  \n",
       "1862                A         A_A  \n",
       "4751                A         A_A  \n",
       "3283                A         A_A  \n",
       "5309                A         A_A  \n",
       "4725                A         A_A  \n",
       "...               ...         ...  \n",
       "3406                C         C_C  \n",
       "3015                C         C_C  \n",
       "4043                C         C_C  \n",
       "4040                C         C_C  \n",
       "274                 C         C_C  \n",
       "\n",
       "[5315 rows x 10 columns]"
      ]
     },
     "execution_count": 96,
     "metadata": {},
     "output_type": "execute_result"
    }
   ],
   "source": [
    "b"
   ]
  },
  {
   "cell_type": "code",
   "execution_count": 97,
   "metadata": {},
   "outputs": [
    {
     "data": {
      "text/plain": [
       "Index(['Description', 'sales', 'revenue', 'sales_mix', 'comulative_sales',\n",
       "       'revenue_mix', 'comulative_revenue', 'sales_category',\n",
       "       'revenue_category', 'product_mix'],\n",
       "      dtype='object')"
      ]
     },
     "execution_count": 97,
     "metadata": {},
     "output_type": "execute_result"
    }
   ],
   "source": [
    "b.columns"
   ]
  },
  {
   "cell_type": "code",
   "execution_count": 98,
   "metadata": {},
   "outputs": [
    {
     "data": {
      "text/plain": [
       "C_C    2419\n",
       "A_A     775\n",
       "B_B     635\n",
       "C_B     412\n",
       "B_C     328\n",
       "A_B     320\n",
       "B_A     288\n",
       "C_A      74\n",
       "A_C      64\n",
       "Name: product_mix, dtype: int64"
      ]
     },
     "execution_count": 98,
     "metadata": {},
     "output_type": "execute_result"
    }
   ],
   "source": [
    "b.product_mix.value_counts()"
   ]
  },
  {
   "cell_type": "code",
   "execution_count": 99,
   "metadata": {},
   "outputs": [
    {
     "data": {
      "text/plain": [
       "<AxesSubplot:xlabel='product_mix', ylabel='count'>"
      ]
     },
     "execution_count": 99,
     "metadata": {},
     "output_type": "execute_result"
    },
    {
     "data": {
      "image/png": "[encoded data removed]",
      "text/plain": [
       "<Figure size 432x288 with 1 Axes>"
      ]
     },
     "metadata": {
      "needs_background": "light"
     },
     "output_type": "display_data"
    }
   ],
   "source": [
    "sns.countplot(x='product_mix', data=b)"
   ]
  },
  {
   "cell_type": "code",
   "execution_count": 100,
   "metadata": {},
   "outputs": [
    {
     "data": {
      "text/plain": [
       "<AxesSubplot:xlabel='product_mix', ylabel='sales'>"
      ]
     },
     "execution_count": 100,
     "metadata": {},
     "output_type": "execute_result"
    },
    {
     "data": {
      "image/png": "[encoded data removed]",
      "text/plain": [
       "<Figure size 432x288 with 1 Axes>"
      ]
     },
     "metadata": {
      "needs_background": "light"
     },
     "output_type": "display_data"
    }
   ],
   "source": [
    "sns.barplot(x='product_mix', y='sales', data=b)"
   ]
  },
  {
   "cell_type": "code",
   "execution_count": 101,
   "metadata": {},
   "outputs": [
    {
     "data": {
      "text/plain": [
       "<AxesSubplot:xlabel='product_mix', ylabel='revenue'>"
      ]
     },
     "execution_count": 101,
     "metadata": {},
     "output_type": "execute_result"
    },
    {
     "data": {
      "image/png": "[encoded data removed]",
      "text/plain": [
       "<Figure size 432x288 with 1 Axes>"
      ]
     },
     "metadata": {
      "needs_background": "light"
     },
     "output_type": "display_data"
    }
   ],
   "source": [
    "sns.barplot(x='product_mix', y='revenue', data=b)"
   ]
  },
  {
   "cell_type": "code",
   "execution_count": 102,
   "metadata": {},
   "outputs": [],
   "source": [
    "by_store = retail_clean.groupby(['Country', 'Description']).agg(sales=('Quantity', 'sum'), \n",
    "                                                    revenue=('Revenue', 'sum')).reset_index()"
   ]
  },
  {
   "cell_type": "code",
   "execution_count": 104,
   "metadata": {},
   "outputs": [
    {
     "data": {
      "text/html": [
       "<div>\n",
       "<style scoped>\n",
       "    .dataframe tbody tr th:only-of-type {\n",
       "        vertical-align: middle;\n",
       "    }\n",
       "\n",
       "    .dataframe tbody tr th {\n",
       "        vertical-align: top;\n",
       "    }\n",
       "\n",
       "    .dataframe thead th {\n",
       "        text-align: right;\n",
       "    }\n",
       "</style>\n",
       "<table border=\"1\" class=\"dataframe\">\n",
       "  <thead>\n",
       "    <tr style=\"text-align: right;\">\n",
       "      <th></th>\n",
       "      <th>Country</th>\n",
       "      <th>Description</th>\n",
       "      <th>sales</th>\n",
       "      <th>revenue</th>\n",
       "    </tr>\n",
       "  </thead>\n",
       "  <tbody>\n",
       "    <tr>\n",
       "      <th>0</th>\n",
       "      <td>Australia</td>\n",
       "      <td>DOLLY GIRL BEAKER</td>\n",
       "      <td>200</td>\n",
       "      <td>216.0</td>\n",
       "    </tr>\n",
       "    <tr>\n",
       "      <th>1</th>\n",
       "      <td>Australia</td>\n",
       "      <td>I LOVE LONDON MINI BACKPACK</td>\n",
       "      <td>4</td>\n",
       "      <td>16.6</td>\n",
       "    </tr>\n",
       "    <tr>\n",
       "      <th>2</th>\n",
       "      <td>Australia</td>\n",
       "      <td>10 COLOUR SPACEBOY PEN</td>\n",
       "      <td>48</td>\n",
       "      <td>40.8</td>\n",
       "    </tr>\n",
       "    <tr>\n",
       "      <th>3</th>\n",
       "      <td>Australia</td>\n",
       "      <td>12 PENCIL SMALL TUBE WOODLAND</td>\n",
       "      <td>384</td>\n",
       "      <td>211.2</td>\n",
       "    </tr>\n",
       "    <tr>\n",
       "      <th>4</th>\n",
       "      <td>Australia</td>\n",
       "      <td>12 PENCILS SMALL TUBE RED SPOTTY</td>\n",
       "      <td>24</td>\n",
       "      <td>15.6</td>\n",
       "    </tr>\n",
       "  </tbody>\n",
       "</table>\n",
       "</div>"
      ],
      "text/plain": [
       "     Country                       Description  sales  revenue\n",
       "0  Australia                 DOLLY GIRL BEAKER    200    216.0\n",
       "1  Australia       I LOVE LONDON MINI BACKPACK      4     16.6\n",
       "2  Australia            10 COLOUR SPACEBOY PEN     48     40.8\n",
       "3  Australia     12 PENCIL SMALL TUBE WOODLAND    384    211.2\n",
       "4  Australia  12 PENCILS SMALL TUBE RED SPOTTY     24     15.6"
      ]
     },
     "execution_count": 104,
     "metadata": {},
     "output_type": "execute_result"
    }
   ],
   "source": [
    "by_store.head()"
   ]
  },
  {
   "cell_type": "code",
   "execution_count": 107,
   "metadata": {},
   "outputs": [
    {
     "name": "stderr",
     "output_type": "stream",
     "text": [
      "/Users/dang/opt/anaconda3/envs/datascience_supplychain/lib/python3.7/site-packages/inventorize2/__init__.py:1101: SettingWithCopyWarning: \n",
      "A value is trying to be set on a copy of a slice from a DataFrame.\n",
      "Try using .loc[row_indexer,col_indexer] = value instead\n",
      "\n",
      "See the caveats in the documentation: https://pandas.pydata.org/pandas-docs/stable/user_guide/indexing.html#returning-a-view-versus-a-copy\n",
      "  store['sales_mix']= store['sales']/sum(store['sales'])\n"
     ]
    }
   ],
   "source": [
    "mix_country = inv.productmix_storelevel(by_store['Description'],by_store['sales'], by_store['revenue'], by_store['Country'])"
   ]
  },
  {
   "cell_type": "code",
   "execution_count": 111,
   "metadata": {},
   "outputs": [],
   "source": [
    "product_mix = mix_country.groupby(['storeofsku', 'product_mix']).count().reset_index().iloc[:,0:3]"
   ]
  },
  {
   "cell_type": "code",
   "execution_count": 113,
   "metadata": {},
   "outputs": [
    {
     "data": {
      "text/html": [
       "<div>\n",
       "<style scoped>\n",
       "    .dataframe tbody tr th:only-of-type {\n",
       "        vertical-align: middle;\n",
       "    }\n",
       "\n",
       "    .dataframe tbody tr th {\n",
       "        vertical-align: top;\n",
       "    }\n",
       "\n",
       "    .dataframe thead th {\n",
       "        text-align: right;\n",
       "    }\n",
       "</style>\n",
       "<table border=\"1\" class=\"dataframe\">\n",
       "  <thead>\n",
       "    <tr style=\"text-align: right;\">\n",
       "      <th></th>\n",
       "      <th>storeofsku</th>\n",
       "      <th>product_mix</th>\n",
       "      <th>sku</th>\n",
       "    </tr>\n",
       "  </thead>\n",
       "  <tbody>\n",
       "    <tr>\n",
       "      <th>0</th>\n",
       "      <td>Australia</td>\n",
       "      <td>A_A</td>\n",
       "      <td>176</td>\n",
       "    </tr>\n",
       "    <tr>\n",
       "      <th>1</th>\n",
       "      <td>Australia</td>\n",
       "      <td>A_B</td>\n",
       "      <td>79</td>\n",
       "    </tr>\n",
       "    <tr>\n",
       "      <th>2</th>\n",
       "      <td>Australia</td>\n",
       "      <td>A_C</td>\n",
       "      <td>7</td>\n",
       "    </tr>\n",
       "    <tr>\n",
       "      <th>3</th>\n",
       "      <td>Australia</td>\n",
       "      <td>B_A</td>\n",
       "      <td>76</td>\n",
       "    </tr>\n",
       "    <tr>\n",
       "      <th>4</th>\n",
       "      <td>Australia</td>\n",
       "      <td>B_B</td>\n",
       "      <td>104</td>\n",
       "    </tr>\n",
       "    <tr>\n",
       "      <th>5</th>\n",
       "      <td>Australia</td>\n",
       "      <td>B_C</td>\n",
       "      <td>26</td>\n",
       "    </tr>\n",
       "    <tr>\n",
       "      <th>6</th>\n",
       "      <td>Australia</td>\n",
       "      <td>C_A</td>\n",
       "      <td>8</td>\n",
       "    </tr>\n",
       "    <tr>\n",
       "      <th>7</th>\n",
       "      <td>Australia</td>\n",
       "      <td>C_B</td>\n",
       "      <td>59</td>\n",
       "    </tr>\n",
       "    <tr>\n",
       "      <th>8</th>\n",
       "      <td>Australia</td>\n",
       "      <td>C_C</td>\n",
       "      <td>298</td>\n",
       "    </tr>\n",
       "  </tbody>\n",
       "</table>\n",
       "</div>"
      ],
      "text/plain": [
       "  storeofsku product_mix  sku\n",
       "0  Australia         A_A  176\n",
       "1  Australia         A_B   79\n",
       "2  Australia         A_C    7\n",
       "3  Australia         B_A   76\n",
       "4  Australia         B_B  104\n",
       "5  Australia         B_C   26\n",
       "6  Australia         C_A    8\n",
       "7  Australia         C_B   59\n",
       "8  Australia         C_C  298"
      ]
     },
     "execution_count": 113,
     "metadata": {},
     "output_type": "execute_result"
    }
   ],
   "source": [
    "product_mix[product_mix.storeofsku=='Australia']"
   ]
  },
  {
   "cell_type": "code",
   "execution_count": 114,
   "metadata": {},
   "outputs": [],
   "source": [
    "#### supplier segmentation\n",
    "suplier = pd.read_csv('/Users/dang/Desktop/Learning/DataScience_SupplyChain/Jupyternotebook_source/Section_9/supplier_data.csv')"
   ]
  },
  {
   "cell_type": "code",
   "execution_count": 116,
   "metadata": {},
   "outputs": [
    {
     "data": {
      "text/html": [
       "<div>\n",
       "<style scoped>\n",
       "    .dataframe tbody tr th:only-of-type {\n",
       "        vertical-align: middle;\n",
       "    }\n",
       "\n",
       "    .dataframe tbody tr th {\n",
       "        vertical-align: top;\n",
       "    }\n",
       "\n",
       "    .dataframe thead th {\n",
       "        text-align: right;\n",
       "    }\n",
       "</style>\n",
       "<table border=\"1\" class=\"dataframe\">\n",
       "  <thead>\n",
       "    <tr style=\"text-align: right;\">\n",
       "      <th></th>\n",
       "      <th>supplier</th>\n",
       "      <th>product</th>\n",
       "      <th>availability</th>\n",
       "      <th>no_suppliers</th>\n",
       "      <th>standard</th>\n",
       "      <th>price_fluctuation</th>\n",
       "      <th>Quantity</th>\n",
       "      <th>price</th>\n",
       "    </tr>\n",
       "  </thead>\n",
       "  <tbody>\n",
       "    <tr>\n",
       "      <th>0</th>\n",
       "      <td>supplier1</td>\n",
       "      <td>product_1</td>\n",
       "      <td>0.0</td>\n",
       "      <td>0.5</td>\n",
       "      <td>0.0</td>\n",
       "      <td>0.5</td>\n",
       "      <td>710</td>\n",
       "      <td>360</td>\n",
       "    </tr>\n",
       "    <tr>\n",
       "      <th>1</th>\n",
       "      <td>supplier1</td>\n",
       "      <td>product_2</td>\n",
       "      <td>0.0</td>\n",
       "      <td>0.5</td>\n",
       "      <td>0.0</td>\n",
       "      <td>0.5</td>\n",
       "      <td>2997</td>\n",
       "      <td>2740</td>\n",
       "    </tr>\n",
       "    <tr>\n",
       "      <th>2</th>\n",
       "      <td>supplier1</td>\n",
       "      <td>product_3</td>\n",
       "      <td>0.0</td>\n",
       "      <td>0.5</td>\n",
       "      <td>0.0</td>\n",
       "      <td>0.5</td>\n",
       "      <td>3917</td>\n",
       "      <td>2919</td>\n",
       "    </tr>\n",
       "    <tr>\n",
       "      <th>3</th>\n",
       "      <td>supplier1</td>\n",
       "      <td>product_4</td>\n",
       "      <td>0.0</td>\n",
       "      <td>0.5</td>\n",
       "      <td>0.0</td>\n",
       "      <td>0.5</td>\n",
       "      <td>3827</td>\n",
       "      <td>3246</td>\n",
       "    </tr>\n",
       "    <tr>\n",
       "      <th>4</th>\n",
       "      <td>supplier1</td>\n",
       "      <td>product_5</td>\n",
       "      <td>0.0</td>\n",
       "      <td>0.5</td>\n",
       "      <td>0.0</td>\n",
       "      <td>0.0</td>\n",
       "      <td>3882</td>\n",
       "      <td>3596</td>\n",
       "    </tr>\n",
       "  </tbody>\n",
       "</table>\n",
       "</div>"
      ],
      "text/plain": [
       "    supplier    product  availability  no_suppliers  standard  \\\n",
       "0  supplier1  product_1           0.0           0.5       0.0   \n",
       "1  supplier1  product_2           0.0           0.5       0.0   \n",
       "2  supplier1  product_3           0.0           0.5       0.0   \n",
       "3  supplier1  product_4           0.0           0.5       0.0   \n",
       "4  supplier1  product_5           0.0           0.5       0.0   \n",
       "\n",
       "   price_fluctuation  Quantity  price  \n",
       "0                0.5       710    360  \n",
       "1                0.5      2997   2740  \n",
       "2                0.5      3917   2919  \n",
       "3                0.5      3827   3246  \n",
       "4                0.0      3882   3596  "
      ]
     },
     "execution_count": 116,
     "metadata": {},
     "output_type": "execute_result"
    }
   ],
   "source": [
    "suplier.head()"
   ]
  },
  {
   "cell_type": "code",
   "execution_count": 118,
   "metadata": {},
   "outputs": [],
   "source": [
    "suplier['risk_index'] = suplier['availability'] + suplier['no_suppliers'] + suplier['standard'] + suplier['price_fluctuation']"
   ]
  },
  {
   "cell_type": "code",
   "execution_count": 119,
   "metadata": {},
   "outputs": [
    {
     "data": {
      "text/html": [
       "<div>\n",
       "<style scoped>\n",
       "    .dataframe tbody tr th:only-of-type {\n",
       "        vertical-align: middle;\n",
       "    }\n",
       "\n",
       "    .dataframe tbody tr th {\n",
       "        vertical-align: top;\n",
       "    }\n",
       "\n",
       "    .dataframe thead th {\n",
       "        text-align: right;\n",
       "    }\n",
       "</style>\n",
       "<table border=\"1\" class=\"dataframe\">\n",
       "  <thead>\n",
       "    <tr style=\"text-align: right;\">\n",
       "      <th></th>\n",
       "      <th>supplier</th>\n",
       "      <th>product</th>\n",
       "      <th>availability</th>\n",
       "      <th>no_suppliers</th>\n",
       "      <th>standard</th>\n",
       "      <th>price_fluctuation</th>\n",
       "      <th>Quantity</th>\n",
       "      <th>price</th>\n",
       "      <th>risk_index</th>\n",
       "    </tr>\n",
       "  </thead>\n",
       "  <tbody>\n",
       "    <tr>\n",
       "      <th>0</th>\n",
       "      <td>supplier1</td>\n",
       "      <td>product_1</td>\n",
       "      <td>0.0</td>\n",
       "      <td>0.5</td>\n",
       "      <td>0.0</td>\n",
       "      <td>0.5</td>\n",
       "      <td>710</td>\n",
       "      <td>360</td>\n",
       "      <td>1.0</td>\n",
       "    </tr>\n",
       "    <tr>\n",
       "      <th>1</th>\n",
       "      <td>supplier1</td>\n",
       "      <td>product_2</td>\n",
       "      <td>0.0</td>\n",
       "      <td>0.5</td>\n",
       "      <td>0.0</td>\n",
       "      <td>0.5</td>\n",
       "      <td>2997</td>\n",
       "      <td>2740</td>\n",
       "      <td>1.0</td>\n",
       "    </tr>\n",
       "    <tr>\n",
       "      <th>2</th>\n",
       "      <td>supplier1</td>\n",
       "      <td>product_3</td>\n",
       "      <td>0.0</td>\n",
       "      <td>0.5</td>\n",
       "      <td>0.0</td>\n",
       "      <td>0.5</td>\n",
       "      <td>3917</td>\n",
       "      <td>2919</td>\n",
       "      <td>1.0</td>\n",
       "    </tr>\n",
       "    <tr>\n",
       "      <th>3</th>\n",
       "      <td>supplier1</td>\n",
       "      <td>product_4</td>\n",
       "      <td>0.0</td>\n",
       "      <td>0.5</td>\n",
       "      <td>0.0</td>\n",
       "      <td>0.5</td>\n",
       "      <td>3827</td>\n",
       "      <td>3246</td>\n",
       "      <td>1.0</td>\n",
       "    </tr>\n",
       "    <tr>\n",
       "      <th>4</th>\n",
       "      <td>supplier1</td>\n",
       "      <td>product_5</td>\n",
       "      <td>0.0</td>\n",
       "      <td>0.5</td>\n",
       "      <td>0.0</td>\n",
       "      <td>0.0</td>\n",
       "      <td>3882</td>\n",
       "      <td>3596</td>\n",
       "      <td>0.5</td>\n",
       "    </tr>\n",
       "  </tbody>\n",
       "</table>\n",
       "</div>"
      ],
      "text/plain": [
       "    supplier    product  availability  no_suppliers  standard  \\\n",
       "0  supplier1  product_1           0.0           0.5       0.0   \n",
       "1  supplier1  product_2           0.0           0.5       0.0   \n",
       "2  supplier1  product_3           0.0           0.5       0.0   \n",
       "3  supplier1  product_4           0.0           0.5       0.0   \n",
       "4  supplier1  product_5           0.0           0.5       0.0   \n",
       "\n",
       "   price_fluctuation  Quantity  price  risk_index  \n",
       "0                0.5       710    360         1.0  \n",
       "1                0.5      2997   2740         1.0  \n",
       "2                0.5      3917   2919         1.0  \n",
       "3                0.5      3827   3246         1.0  \n",
       "4                0.0      3882   3596         0.5  "
      ]
     },
     "execution_count": 119,
     "metadata": {},
     "output_type": "execute_result"
    }
   ],
   "source": [
    "suplier.head()"
   ]
  }
 ],
 "metadata": {
  "kernelspec": {
   "display_name": "Python 3",
   "language": "python",
   "name": "python3"
  },
  "language_info": {
   "codemirror_mode": {
    "name": "ipython",
    "version": 3
   },
   "file_extension": ".py",
   "mimetype": "text/x-python",
   "name": "python",
   "nbconvert_exporter": "python",
   "pygments_lexer": "ipython3",
   "version": "3.7.9"
  }
 },
 "nbformat": 4,
 "nbformat_minor": 4
}
