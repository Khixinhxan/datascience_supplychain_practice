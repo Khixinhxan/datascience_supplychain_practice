{
 "metadata": {
  "language_info": {
   "codemirror_mode": {
    "name": "ipython",
    "version": 3
   },
   "file_extension": ".py",
   "mimetype": "text/x-python",
   "name": "python",
   "nbconvert_exporter": "python",
   "pygments_lexer": "ipython3",
   "version": "3.7.9"
  },
  "orig_nbformat": 2,
  "kernelspec": {
   "name": "python3",
   "display_name": "Python 3.7.9  ('env': venv)"
  },
  "metadata": {
   "interpreter": {
    "hash": "272a83b994da64918daf8b774315e72334003c8696cc4358695b72acf32d7fce"
   }
  },
  "interpreter": {
   "hash": "272a83b994da64918daf8b774315e72334003c8696cc4358695b72acf32d7fce"
  }
 },
 "nbformat": 4,
 "nbformat_minor": 2,
 "cells": [
  {
   "cell_type": "code",
   "execution_count": 2,
   "metadata": {},
   "outputs": [],
   "source": [
    "import numpy as np "
   ]
  },
  {
   "cell_type": "code",
   "execution_count": 3,
   "metadata": {},
   "outputs": [],
   "source": [
    "lambda_value = 1\n",
    "mean_service = 1\n",
    "sd = 0.2"
   ]
  },
  {
   "cell_type": "code",
   "execution_count": 4,
   "metadata": {},
   "outputs": [],
   "source": [
    "arrival_time = np.random.exponential(1,400).cumsum()"
   ]
  },
  {
   "cell_type": "code",
   "execution_count": 5,
   "metadata": {},
   "outputs": [
    {
     "output_type": "execute_result",
     "data": {
      "text/plain": [
       "array([3.27037235e-01, 2.10152796e+00, 3.83006396e+00, 8.05395147e+00,\n",
       "       8.53161220e+00, 8.70603828e+00, 8.72938223e+00, 1.06225866e+01,\n",
       "       1.07820141e+01, 1.42752392e+01, 1.42986650e+01, 1.59536523e+01,\n",
       "       1.66691746e+01, 1.67728552e+01, 1.71561504e+01, 1.81626748e+01,\n",
       "       2.08984276e+01, 2.26423540e+01, 2.33525079e+01, 2.33779402e+01,\n",
       "       2.37034327e+01, 2.56279200e+01, 2.68428587e+01, 2.69077495e+01,\n",
       "       2.84225414e+01, 2.93313625e+01, 3.01742543e+01, 3.01833170e+01,\n",
       "       3.02611367e+01, 3.04284727e+01, 3.05267364e+01, 3.10408222e+01,\n",
       "       3.15576438e+01, 3.22029048e+01, 3.36951407e+01, 3.65063672e+01,\n",
       "       3.81089150e+01, 4.21927122e+01, 4.24914110e+01, 4.35446277e+01,\n",
       "       4.55411155e+01, 4.56281040e+01, 4.60346196e+01, 4.66463687e+01,\n",
       "       4.98252704e+01, 5.12443516e+01, 5.24319423e+01, 5.42068701e+01,\n",
       "       5.45627364e+01, 5.46254379e+01, 5.57436780e+01, 5.62600138e+01,\n",
       "       5.64528618e+01, 5.67579987e+01, 5.72301431e+01, 5.84583547e+01,\n",
       "       5.99136521e+01, 6.01003020e+01, 6.08439166e+01, 6.17114008e+01,\n",
       "       6.25188667e+01, 6.32098228e+01, 6.42139804e+01, 6.51913294e+01,\n",
       "       6.61386820e+01, 6.73422692e+01, 6.80067902e+01, 6.93673723e+01,\n",
       "       7.10321634e+01, 7.20963666e+01, 7.22351503e+01, 7.31719015e+01,\n",
       "       7.36199055e+01, 7.39780331e+01, 7.59238944e+01, 7.67598058e+01,\n",
       "       7.74293589e+01, 7.79150392e+01, 7.83967513e+01, 8.10255470e+01,\n",
       "       8.23493692e+01, 8.49505999e+01, 8.53621090e+01, 8.62689003e+01,\n",
       "       8.65476968e+01, 8.81363309e+01, 8.97761805e+01, 9.15979853e+01,\n",
       "       9.22494540e+01, 9.27379930e+01, 9.33205768e+01, 9.35730999e+01,\n",
       "       9.38372986e+01, 9.72036207e+01, 9.77448400e+01, 9.84786674e+01,\n",
       "       1.01631599e+02, 1.03950609e+02, 1.04621138e+02, 1.04862083e+02,\n",
       "       1.05268384e+02, 1.06316021e+02, 1.06903450e+02, 1.06994719e+02,\n",
       "       1.07081208e+02, 1.09959098e+02, 1.10161594e+02, 1.10965877e+02,\n",
       "       1.11915875e+02, 1.13625926e+02, 1.15196252e+02, 1.15655338e+02,\n",
       "       1.16371526e+02, 1.18372737e+02, 1.19593647e+02, 1.20571021e+02,\n",
       "       1.20814857e+02, 1.22079363e+02, 1.23180126e+02, 1.25035640e+02,\n",
       "       1.26265911e+02, 1.26572623e+02, 1.27429847e+02, 1.27610242e+02,\n",
       "       1.30116731e+02, 1.30253710e+02, 1.30381610e+02, 1.31320749e+02,\n",
       "       1.31340880e+02, 1.31504066e+02, 1.35158166e+02, 1.36729750e+02,\n",
       "       1.37089292e+02, 1.37446859e+02, 1.41042675e+02, 1.41305147e+02,\n",
       "       1.41600461e+02, 1.43443539e+02, 1.43924059e+02, 1.44546855e+02,\n",
       "       1.44896938e+02, 1.44979029e+02, 1.46091888e+02, 1.46928144e+02,\n",
       "       1.47312127e+02, 1.48081759e+02, 1.48729059e+02, 1.49148674e+02,\n",
       "       1.50324723e+02, 1.50529404e+02, 1.51016529e+02, 1.51545211e+02,\n",
       "       1.53250630e+02, 1.53480440e+02, 1.54470323e+02, 1.54646391e+02,\n",
       "       1.55335986e+02, 1.56029155e+02, 1.56563975e+02, 1.56666183e+02,\n",
       "       1.58387109e+02, 1.59467235e+02, 1.59495416e+02, 1.62063008e+02,\n",
       "       1.62301313e+02, 1.62735574e+02, 1.65621269e+02, 1.65807681e+02,\n",
       "       1.68747907e+02, 1.70240073e+02, 1.70465600e+02, 1.71297946e+02,\n",
       "       1.72816179e+02, 1.73371160e+02, 1.73744820e+02, 1.74049104e+02,\n",
       "       1.74872890e+02, 1.75216238e+02, 1.76570670e+02, 1.76687903e+02,\n",
       "       1.77631179e+02, 1.77809263e+02, 1.78189150e+02, 1.81418194e+02,\n",
       "       1.81831515e+02, 1.81960127e+02, 1.83561068e+02, 1.83690116e+02,\n",
       "       1.84041712e+02, 1.84372323e+02, 1.84891449e+02, 1.86015270e+02,\n",
       "       1.86270312e+02, 1.86450659e+02, 1.88102648e+02, 1.88742351e+02,\n",
       "       1.90259205e+02, 1.91073421e+02, 1.91121994e+02, 1.91494147e+02,\n",
       "       1.92295608e+02, 1.92431610e+02, 1.93838340e+02, 1.93922025e+02,\n",
       "       1.94063827e+02, 1.94623646e+02, 1.94923179e+02, 1.95156934e+02,\n",
       "       1.95915335e+02, 1.96456519e+02, 1.97118460e+02, 1.97156758e+02,\n",
       "       1.98376491e+02, 2.00360406e+02, 2.01025755e+02, 2.01317602e+02,\n",
       "       2.02032745e+02, 2.02708279e+02, 2.03254862e+02, 2.04238168e+02,\n",
       "       2.04975223e+02, 2.05713910e+02, 2.06391252e+02, 2.09544292e+02,\n",
       "       2.12238459e+02, 2.12316996e+02, 2.12946674e+02, 2.13606264e+02,\n",
       "       2.14494928e+02, 2.14879427e+02, 2.14998150e+02, 2.15786811e+02,\n",
       "       2.16492008e+02, 2.16673216e+02, 2.18364218e+02, 2.22685680e+02,\n",
       "       2.22713805e+02, 2.22821290e+02, 2.24130423e+02, 2.24918423e+02,\n",
       "       2.26229483e+02, 2.26392814e+02, 2.26942453e+02, 2.27327482e+02,\n",
       "       2.27404273e+02, 2.28654294e+02, 2.29942846e+02, 2.30100665e+02,\n",
       "       2.31230359e+02, 2.31303024e+02, 2.31734427e+02, 2.32263845e+02,\n",
       "       2.32794008e+02, 2.33789913e+02, 2.37977474e+02, 2.38148644e+02,\n",
       "       2.39771556e+02, 2.41786471e+02, 2.45455634e+02, 2.45853961e+02,\n",
       "       2.47884965e+02, 2.48246081e+02, 2.48654102e+02, 2.50163428e+02,\n",
       "       2.50176005e+02, 2.53804553e+02, 2.54159465e+02, 2.54298734e+02,\n",
       "       2.54952042e+02, 2.55091971e+02, 2.55898500e+02, 2.56041410e+02,\n",
       "       2.58789382e+02, 2.61578050e+02, 2.63577300e+02, 2.66743214e+02,\n",
       "       2.66781061e+02, 2.67446914e+02, 2.67469775e+02, 2.69072157e+02,\n",
       "       2.70290772e+02, 2.71090184e+02, 2.71677019e+02, 2.72275387e+02,\n",
       "       2.73073019e+02, 2.75975653e+02, 2.76611840e+02, 2.79379053e+02,\n",
       "       2.80982220e+02, 2.81459184e+02, 2.81678376e+02, 2.82741363e+02,\n",
       "       2.83617134e+02, 2.85135524e+02, 2.85468063e+02, 2.87537765e+02,\n",
       "       2.87809397e+02, 2.87860677e+02, 2.88692543e+02, 2.88717126e+02,\n",
       "       2.91116642e+02, 2.91326192e+02, 2.92204211e+02, 2.93368227e+02,\n",
       "       2.94284210e+02, 2.96006859e+02, 2.96789286e+02, 2.96907533e+02,\n",
       "       2.98659840e+02, 2.99157770e+02, 3.01947348e+02, 3.02577634e+02,\n",
       "       3.02834137e+02, 3.03630693e+02, 3.10684263e+02, 3.11082060e+02,\n",
       "       3.11805132e+02, 3.11934802e+02, 3.13198508e+02, 3.14065922e+02,\n",
       "       3.14177624e+02, 3.14252322e+02, 3.15661871e+02, 3.16490428e+02,\n",
       "       3.18657528e+02, 3.19053591e+02, 3.19991581e+02, 3.21350719e+02,\n",
       "       3.22708802e+02, 3.23307061e+02, 3.24379152e+02, 3.25900375e+02,\n",
       "       3.26264856e+02, 3.26969042e+02, 3.29086096e+02, 3.29206204e+02,\n",
       "       3.29398839e+02, 3.29913259e+02, 3.30272254e+02, 3.31627796e+02,\n",
       "       3.33605558e+02, 3.34560971e+02, 3.34745011e+02, 3.35435611e+02,\n",
       "       3.35590063e+02, 3.36919385e+02, 3.36966299e+02, 3.37253579e+02,\n",
       "       3.37463398e+02, 3.39044877e+02, 3.40955476e+02, 3.44585922e+02,\n",
       "       3.46552286e+02, 3.48893135e+02, 3.49919937e+02, 3.50563326e+02,\n",
       "       3.50588577e+02, 3.53388769e+02, 3.53708499e+02, 3.54042628e+02,\n",
       "       3.54232650e+02, 3.54840794e+02, 3.55691961e+02, 3.56842742e+02,\n",
       "       3.58573783e+02, 3.60305323e+02, 3.60489084e+02, 3.62517768e+02,\n",
       "       3.62959758e+02, 3.63037578e+02, 3.63363586e+02, 3.64574259e+02,\n",
       "       3.65873786e+02, 3.67120931e+02, 3.68036926e+02, 3.68354839e+02,\n",
       "       3.68845573e+02, 3.69095435e+02, 3.70524256e+02, 3.72192713e+02,\n",
       "       3.73429353e+02, 3.74391303e+02, 3.74747605e+02, 3.75661509e+02,\n",
       "       3.75707784e+02, 3.76231071e+02, 3.76842605e+02, 3.77420771e+02,\n",
       "       3.79849217e+02, 3.79851345e+02, 3.81242050e+02, 3.81494936e+02,\n",
       "       3.81588780e+02, 3.81917203e+02, 3.83166226e+02, 3.83887574e+02,\n",
       "       3.84274759e+02, 3.85252463e+02, 3.85280388e+02, 3.86001860e+02])"
      ]
     },
     "metadata": {},
     "execution_count": 5
    }
   ],
   "source": [
    "arrival_time"
   ]
  },
  {
   "cell_type": "code",
   "execution_count": 6,
   "metadata": {},
   "outputs": [],
   "source": [
    "service_time = np.random.normal(1, sd, 400)"
   ]
  },
  {
   "cell_type": "code",
   "execution_count": 7,
   "metadata": {},
   "outputs": [
    {
     "output_type": "execute_result",
     "data": {
      "text/plain": [
       "array([1.25103158, 0.88411104, 0.96829777, 0.90503713, 1.13114779,\n",
       "       1.04892674, 1.14131402, 1.35051585, 0.97255114, 0.72433568,\n",
       "       0.95009867, 0.91710767, 0.84436802, 0.95535246, 1.05936793,\n",
       "       1.12938132, 0.88352555, 0.94378413, 1.07824095, 1.02010591,\n",
       "       0.94074776, 1.27314533, 0.96770326, 0.93239637, 1.07741407,\n",
       "       0.69857301, 1.12347186, 1.33134784, 1.41323844, 1.10277754,\n",
       "       1.32144173, 0.72272175, 1.04246045, 1.101742  , 1.32211076,\n",
       "       1.23608929, 0.89885725, 0.84182052, 0.99937861, 1.0831526 ,\n",
       "       0.99775082, 0.82591979, 0.57891884, 1.20198786, 1.23674468,\n",
       "       1.10957251, 0.86026584, 1.20579032, 1.26879321, 0.87882177,\n",
       "       1.20415666, 1.20092303, 1.11247111, 1.06031787, 0.73747972,\n",
       "       0.85339285, 1.24869574, 0.65748133, 0.89486698, 1.33048928,\n",
       "       0.80081288, 0.93750621, 0.91336039, 0.92906893, 1.12978474,\n",
       "       1.55889731, 1.0923302 , 1.01985304, 1.05553794, 0.84424369,\n",
       "       0.88271138, 0.74419625, 0.89932947, 1.56966114, 0.94638113,\n",
       "       1.33469949, 0.95296138, 1.06024435, 1.35684297, 1.07251585,\n",
       "       0.73108211, 0.97807176, 0.84522631, 0.65036344, 0.90916355,\n",
       "       1.30030684, 1.20903061, 0.68627264, 1.08363317, 1.10054003,\n",
       "       1.15299577, 0.9918875 , 1.37738263, 1.1108182 , 1.47163428,\n",
       "       1.27959753, 0.95070973, 0.81299395, 0.80304631, 1.24437713,\n",
       "       0.76756551, 1.4686104 , 0.86214488, 0.99561801, 1.09228573,\n",
       "       0.91693379, 0.92974399, 0.8851389 , 1.25202992, 0.71031448,\n",
       "       1.12993531, 0.92633916, 1.39329727, 1.29988504, 0.67206982,\n",
       "       0.84288269, 0.90973531, 0.87992264, 1.31263899, 1.22423105,\n",
       "       0.55920814, 0.98076875, 1.01376915, 0.99447766, 1.28421624,\n",
       "       1.12310104, 0.96179188, 1.04727803, 1.07689386, 1.10653448,\n",
       "       0.98779098, 0.84571072, 1.01512644, 1.16365012, 0.97023063,\n",
       "       0.75220512, 0.92855088, 1.15858763, 0.83837357, 0.99665613,\n",
       "       0.9060982 , 1.33104271, 0.724337  , 1.2028651 , 1.17079055,\n",
       "       0.74991892, 0.97242068, 1.01958414, 0.91191376, 0.89000125,\n",
       "       0.8186109 , 0.77344108, 1.23539574, 0.83013447, 0.75156385,\n",
       "       0.99565341, 1.20403346, 1.50187398, 1.36987076, 1.17572353,\n",
       "       0.88202871, 0.73769341, 1.2248474 , 1.19693878, 0.90966694,\n",
       "       1.31064025, 1.20751366, 0.74463856, 0.81010384, 1.35750265,\n",
       "       1.05084672, 1.2075023 , 1.13267625, 0.91589675, 1.04542633,\n",
       "       0.99788591, 0.642513  , 1.02957644, 1.23066869, 0.64667993,\n",
       "       0.99513127, 1.26645194, 1.0725169 , 1.13627593, 1.07289336,\n",
       "       1.04081305, 1.01636694, 0.98024171, 0.83229762, 1.34765996,\n",
       "       1.31416591, 1.00718546, 1.05980504, 0.82676557, 1.18480361,\n",
       "       0.99091139, 0.7259429 , 0.9950395 , 0.66164523, 1.36036772,\n",
       "       1.13638343, 1.11019026, 1.12114997, 1.08240677, 1.23302697,\n",
       "       1.03909367, 1.24939544, 0.97225813, 1.46190379, 0.89609742,\n",
       "       0.79311033, 0.864993  , 1.02506579, 1.07855963, 1.57950947,\n",
       "       0.99592698, 1.00855137, 1.06201468, 1.07707145, 1.10891947,\n",
       "       0.58175273, 1.35346428, 0.97491881, 1.15444462, 1.12542405,\n",
       "       0.9607582 , 0.96573904, 1.26749418, 1.31903089, 1.06995076,\n",
       "       1.10987197, 0.80101784, 1.06049335, 1.12796041, 1.52605859,\n",
       "       1.59398299, 1.13548517, 0.64733371, 0.74254929, 0.63882167,\n",
       "       0.94912169, 0.91817394, 1.25479625, 0.77795226, 1.30569205,\n",
       "       1.35885658, 1.12650279, 0.88651856, 0.96112423, 0.91776736,\n",
       "       0.89215194, 1.18390433, 1.08582804, 1.00025622, 0.60359663,\n",
       "       0.71875972, 1.14077862, 0.89920953, 1.16532297, 0.86219468,\n",
       "       0.97333498, 1.45855679, 0.58843071, 1.27461013, 0.77815997,\n",
       "       0.78378199, 0.99768275, 1.04203139, 1.15326366, 0.91601548,\n",
       "       0.92372636, 0.89476949, 0.94080858, 0.63792416, 0.81691268,\n",
       "       1.23454094, 1.16459507, 0.98838149, 0.84543731, 0.83940118,\n",
       "       1.11332905, 1.21410511, 1.04073012, 0.9636878 , 0.85146508,\n",
       "       1.01753115, 1.21322683, 1.39532333, 0.91752897, 1.07595071,\n",
       "       0.83928389, 1.0853412 , 0.73716619, 1.02028854, 0.84760762,\n",
       "       1.26236633, 1.03879613, 1.24450324, 0.91871577, 1.13135037,\n",
       "       0.85858077, 0.96383074, 0.69941512, 1.24854474, 1.00534935,\n",
       "       1.22519341, 0.91153058, 1.23391838, 1.22618775, 1.51319642,\n",
       "       1.02397501, 0.89454752, 0.9815175 , 1.16764216, 0.81410051,\n",
       "       1.01384261, 1.00298868, 1.17921423, 1.28199114, 1.29153751,\n",
       "       1.39355949, 0.91605394, 1.0148946 , 1.0048558 , 1.07276395,\n",
       "       1.10450399, 0.80157579, 1.19836977, 1.31505114, 1.16166463,\n",
       "       0.7035607 , 1.23675321, 0.90878877, 1.00891247, 1.10708633,\n",
       "       1.17247691, 0.56319666, 0.93467586, 0.88625491, 0.78150957,\n",
       "       1.1561436 , 1.16645725, 1.2151802 , 0.72202076, 1.07606154,\n",
       "       1.01852956, 1.08283453, 0.9701175 , 0.84841589, 0.95173139,\n",
       "       1.1857288 , 0.87439506, 1.0383451 , 0.88767705, 1.22508645,\n",
       "       1.04576745, 1.08505921, 0.8335885 , 1.35734155, 0.94442764,\n",
       "       0.872594  , 0.55549304, 0.89144923, 0.91520641, 0.92808051,\n",
       "       1.12693219, 1.34976937, 1.06595868, 1.22895899, 1.04494419,\n",
       "       0.96279496, 0.98892092, 1.02812216, 1.00630917, 0.61775473,\n",
       "       1.05130705, 0.94667105, 1.09510579, 1.19854228, 1.22284401,\n",
       "       1.09639897, 1.101296  , 0.87870031, 1.10363089, 1.18563137,\n",
       "       0.8502807 , 1.01629007, 1.06228659, 1.00255305, 0.89945837,\n",
       "       1.05219759, 1.15687452, 0.83818057, 0.92937668, 1.20760102,\n",
       "       1.09711154, 1.15808054, 0.81135016, 1.06590911, 0.92418216])"
      ]
     },
     "metadata": {},
     "execution_count": 7
    }
   ],
   "source": [
    "service_time"
   ]
  },
  {
   "cell_type": "code",
   "execution_count": 8,
   "metadata": {},
   "outputs": [],
   "source": [
    "def waiting_mean(arrival_time, service_time):\n",
    "    waiting_time = []\n",
    "    leaving_time = []\n",
    "\n",
    "    waiting_time.append(0)\n",
    "    leaving_time.append(arrival_time[0] + service_time[0] + waiting_time[0])\n",
    "\n",
    "    for i in range(1, len(arrival_time)):\n",
    "        waiting_time.append(max(0, leaving_time[i-1] - arrival_time[i]))\n",
    "        leaving_time.append(arrival_time[i] + service_time[i] + waiting_time[i])\n",
    "    mean_waiting = np.mean(waiting_time)\n",
    "    return mean_waiting"
   ]
  },
  {
   "cell_type": "code",
   "execution_count": 9,
   "metadata": {},
   "outputs": [
    {
     "output_type": "stream",
     "name": "stdout",
     "text": [
      "15.912971610658634\n"
     ]
    }
   ],
   "source": [
    "print(waiting_mean(arrival_time,service_time))"
   ]
  },
  {
   "cell_type": "code",
   "execution_count": 10,
   "metadata": {},
   "outputs": [],
   "source": [
    "# simulation 1000"
   ]
  },
  {
   "cell_type": "code",
   "execution_count": 12,
   "metadata": {},
   "outputs": [],
   "source": [
    "average_sim = []\n",
    "for i in range(0, 1000):\n",
    "    arrival_time = np.random.exponential(1,400).cumsum()\n",
    "    service_time = np.random.normal(1,0.2,400)\n",
    "    waiting_time = waiting_mean(arrival_time, service_time)\n",
    "    average_sim.append(waiting_time)"
   ]
  },
  {
   "cell_type": "code",
   "execution_count": 13,
   "metadata": {},
   "outputs": [
    {
     "output_type": "execute_result",
     "data": {
      "text/plain": [
       "10.176897871219937"
      ]
     },
     "metadata": {},
     "execution_count": 13
    }
   ],
   "source": [
    "np.mean(average_sim)"
   ]
  },
  {
   "cell_type": "code",
   "execution_count": 14,
   "metadata": {},
   "outputs": [
    {
     "output_type": "execute_result",
     "data": {
      "text/plain": [
       "8.554677124334857"
      ]
     },
     "metadata": {},
     "execution_count": 14
    }
   ],
   "source": [
    "np.median(average_sim)"
   ]
  },
  {
   "cell_type": "code",
   "execution_count": 15,
   "metadata": {},
   "outputs": [],
   "source": [
    "import matplotlib.pyplot as plt "
   ]
  },
  {
   "cell_type": "code",
   "execution_count": 16,
   "metadata": {},
   "outputs": [
    {
     "output_type": "execute_result",
     "data": {
      "text/plain": [
       "(array([241., 300., 195., 109.,  76.,  43.,  22.,  12.,   1.,   1.]),\n",
       " array([ 2.21015106,  5.70595669,  9.20176233, 12.69756796, 16.19337359,\n",
       "        19.68917923, 23.18498486, 26.68079049, 30.17659613, 33.67240176,\n",
       "        37.16820739]),\n",
       " <BarContainer object of 10 artists>)"
      ]
     },
     "metadata": {},
     "execution_count": 16
    },
    {
     "output_type": "display_data",
     "data": {
      "text/plain": "<Figure size 432x288 with 1 Axes>",
      "image/svg+xml": "<?xml version=\"1.0\" encoding=\"utf-8\" standalone=\"no\"?>\n<!DOCTYPE svg PUBLIC \"-//W3C//DTD SVG 1.1//EN\"\n  \"http://www.w3.org/Graphics/SVG/1.1/DTD/svg11.dtd\">\n<svg height=\"248.518125pt\" version=\"1.1\" viewBox=\"0 0 375.2875 248.518125\" width=\"375.2875pt\" xmlns=\"http://www.w3.org/2000/svg\" xmlns:xlink=\"http://www.w3.org/1999/xlink\">\n <metadata>\n  <rdf:RDF xmlns:cc=\"http://creativecommons.org/ns#\" xmlns:dc=\"http://purl.org/dc/elements/1.1/\" xmlns:rdf=\"http://www.w3.org/1999/02/22-rdf-syntax-ns#\">\n   <cc:Work>\n    <dc:type rdf:resource=\"http://purl.org/dc/dcmitype/StillImage\"/>\n    <dc:date>2021-06-14T20:46:31.128184</dc:date>\n    <dc:format>image/svg+xml</dc:format>\n    <dc:creator>\n     <cc:Agent>\n      <dc:title>Matplotlib v3.4.2, https://matplotlib.org/</dc:title>\n     </cc:Agent>\n    </dc:creator>\n   </cc:Work>\n  </rdf:RDF>\n </metadata>\n <defs>\n  <style type=\"text/css\">*{stroke-linecap:butt;stroke-linejoin:round;}</style>\n </defs>\n <g id=\"figure_1\">\n  <g id=\"patch_1\">\n   <path d=\"M 0 248.518125 \nL 375.2875 248.518125 \nL 375.2875 0 \nL 0 0 \nz\n\" style=\"fill:none;\"/>\n  </g>\n  <g id=\"axes_1\">\n   <g id=\"patch_2\">\n    <path d=\"M 33.2875 224.64 \nL 368.0875 224.64 \nL 368.0875 7.2 \nL 33.2875 7.2 \nz\n\" style=\"fill:#ffffff;\"/>\n   </g>\n   <g id=\"patch_3\">\n    <path clip-path=\"url(#pbcf5cba186)\" d=\"M 48.505682 224.64 \nL 78.942045 224.64 \nL 78.942045 58.281143 \nL 48.505682 58.281143 \nz\n\" style=\"fill:#1f77b4;\"/>\n   </g>\n   <g id=\"patch_4\">\n    <path clip-path=\"url(#pbcf5cba186)\" d=\"M 78.942045 224.64 \nL 109.378409 224.64 \nL 109.378409 17.554286 \nL 78.942045 17.554286 \nz\n\" style=\"fill:#1f77b4;\"/>\n   </g>\n   <g id=\"patch_5\">\n    <path clip-path=\"url(#pbcf5cba186)\" d=\"M 109.378409 224.64 \nL 139.814773 224.64 \nL 139.814773 90.034286 \nL 109.378409 90.034286 \nz\n\" style=\"fill:#1f77b4;\"/>\n   </g>\n   <g id=\"patch_6\">\n    <path clip-path=\"url(#pbcf5cba186)\" d=\"M 139.814773 224.64 \nL 170.251136 224.64 \nL 170.251136 149.398857 \nL 139.814773 149.398857 \nz\n\" style=\"fill:#1f77b4;\"/>\n   </g>\n   <g id=\"patch_7\">\n    <path clip-path=\"url(#pbcf5cba186)\" d=\"M 170.251136 224.64 \nL 200.6875 224.64 \nL 200.6875 172.178286 \nL 170.251136 172.178286 \nz\n\" style=\"fill:#1f77b4;\"/>\n   </g>\n   <g id=\"patch_8\">\n    <path clip-path=\"url(#pbcf5cba186)\" d=\"M 200.6875 224.64 \nL 231.123864 224.64 \nL 231.123864 194.957714 \nL 200.6875 194.957714 \nz\n\" style=\"fill:#1f77b4;\"/>\n   </g>\n   <g id=\"patch_9\">\n    <path clip-path=\"url(#pbcf5cba186)\" d=\"M 231.123864 224.64 \nL 261.560227 224.64 \nL 261.560227 209.453714 \nL 231.123864 209.453714 \nz\n\" style=\"fill:#1f77b4;\"/>\n   </g>\n   <g id=\"patch_10\">\n    <path clip-path=\"url(#pbcf5cba186)\" d=\"M 261.560227 224.64 \nL 291.996591 224.64 \nL 291.996591 216.356571 \nL 261.560227 216.356571 \nz\n\" style=\"fill:#1f77b4;\"/>\n   </g>\n   <g id=\"patch_11\">\n    <path clip-path=\"url(#pbcf5cba186)\" d=\"M 291.996591 224.64 \nL 322.432955 224.64 \nL 322.432955 223.949714 \nL 291.996591 223.949714 \nz\n\" style=\"fill:#1f77b4;\"/>\n   </g>\n   <g id=\"patch_12\">\n    <path clip-path=\"url(#pbcf5cba186)\" d=\"M 322.432955 224.64 \nL 352.869318 224.64 \nL 352.869318 223.949714 \nL 322.432955 223.949714 \nz\n\" style=\"fill:#1f77b4;\"/>\n   </g>\n   <g id=\"matplotlib.axis_1\">\n    <g id=\"xtick_1\">\n     <g id=\"line2d_1\">\n      <defs>\n       <path d=\"M 0 0 \nL 0 3.5 \n\" id=\"mc301e50057\" style=\"stroke:#000000;stroke-width:0.8;\"/>\n      </defs>\n      <g>\n       <use style=\"stroke:#000000;stroke-width:0.8;\" x=\"72.795607\" xlink:href=\"#mc301e50057\" y=\"224.64\"/>\n      </g>\n     </g>\n     <g id=\"text_1\">\n      <!-- 5 -->\n      <g transform=\"translate(69.614357 239.238437)scale(0.1 -0.1)\">\n       <defs>\n        <path d=\"M 691 4666 \nL 3169 4666 \nL 3169 4134 \nL 1269 4134 \nL 1269 2991 \nQ 1406 3038 1543 3061 \nQ 1681 3084 1819 3084 \nQ 2600 3084 3056 2656 \nQ 3513 2228 3513 1497 \nQ 3513 744 3044 326 \nQ 2575 -91 1722 -91 \nQ 1428 -91 1123 -41 \nQ 819 9 494 109 \nL 494 744 \nQ 775 591 1075 516 \nQ 1375 441 1709 441 \nQ 2250 441 2565 725 \nQ 2881 1009 2881 1497 \nQ 2881 1984 2565 2268 \nQ 2250 2553 1709 2553 \nQ 1456 2553 1204 2497 \nQ 953 2441 691 2322 \nL 691 4666 \nz\n\" id=\"DejaVuSans-35\" transform=\"scale(0.015625)\"/>\n       </defs>\n       <use xlink:href=\"#DejaVuSans-35\"/>\n      </g>\n     </g>\n    </g>\n    <g id=\"xtick_2\">\n     <g id=\"line2d_2\">\n      <g>\n       <use style=\"stroke:#000000;stroke-width:0.8;\" x=\"116.328296\" xlink:href=\"#mc301e50057\" y=\"224.64\"/>\n      </g>\n     </g>\n     <g id=\"text_2\">\n      <!-- 10 -->\n      <g transform=\"translate(109.965796 239.238437)scale(0.1 -0.1)\">\n       <defs>\n        <path d=\"M 794 531 \nL 1825 531 \nL 1825 4091 \nL 703 3866 \nL 703 4441 \nL 1819 4666 \nL 2450 4666 \nL 2450 531 \nL 3481 531 \nL 3481 0 \nL 794 0 \nL 794 531 \nz\n\" id=\"DejaVuSans-31\" transform=\"scale(0.015625)\"/>\n        <path d=\"M 2034 4250 \nQ 1547 4250 1301 3770 \nQ 1056 3291 1056 2328 \nQ 1056 1369 1301 889 \nQ 1547 409 2034 409 \nQ 2525 409 2770 889 \nQ 3016 1369 3016 2328 \nQ 3016 3291 2770 3770 \nQ 2525 4250 2034 4250 \nz\nM 2034 4750 \nQ 2819 4750 3233 4129 \nQ 3647 3509 3647 2328 \nQ 3647 1150 3233 529 \nQ 2819 -91 2034 -91 \nQ 1250 -91 836 529 \nQ 422 1150 422 2328 \nQ 422 3509 836 4129 \nQ 1250 4750 2034 4750 \nz\n\" id=\"DejaVuSans-30\" transform=\"scale(0.015625)\"/>\n       </defs>\n       <use xlink:href=\"#DejaVuSans-31\"/>\n       <use x=\"63.623047\" xlink:href=\"#DejaVuSans-30\"/>\n      </g>\n     </g>\n    </g>\n    <g id=\"xtick_3\">\n     <g id=\"line2d_3\">\n      <g>\n       <use style=\"stroke:#000000;stroke-width:0.8;\" x=\"159.860984\" xlink:href=\"#mc301e50057\" y=\"224.64\"/>\n      </g>\n     </g>\n     <g id=\"text_3\">\n      <!-- 15 -->\n      <g transform=\"translate(153.498484 239.238437)scale(0.1 -0.1)\">\n       <use xlink:href=\"#DejaVuSans-31\"/>\n       <use x=\"63.623047\" xlink:href=\"#DejaVuSans-35\"/>\n      </g>\n     </g>\n    </g>\n    <g id=\"xtick_4\">\n     <g id=\"line2d_4\">\n      <g>\n       <use style=\"stroke:#000000;stroke-width:0.8;\" x=\"203.393673\" xlink:href=\"#mc301e50057\" y=\"224.64\"/>\n      </g>\n     </g>\n     <g id=\"text_4\">\n      <!-- 20 -->\n      <g transform=\"translate(197.031173 239.238437)scale(0.1 -0.1)\">\n       <defs>\n        <path d=\"M 1228 531 \nL 3431 531 \nL 3431 0 \nL 469 0 \nL 469 531 \nQ 828 903 1448 1529 \nQ 2069 2156 2228 2338 \nQ 2531 2678 2651 2914 \nQ 2772 3150 2772 3378 \nQ 2772 3750 2511 3984 \nQ 2250 4219 1831 4219 \nQ 1534 4219 1204 4116 \nQ 875 4013 500 3803 \nL 500 4441 \nQ 881 4594 1212 4672 \nQ 1544 4750 1819 4750 \nQ 2544 4750 2975 4387 \nQ 3406 4025 3406 3419 \nQ 3406 3131 3298 2873 \nQ 3191 2616 2906 2266 \nQ 2828 2175 2409 1742 \nQ 1991 1309 1228 531 \nz\n\" id=\"DejaVuSans-32\" transform=\"scale(0.015625)\"/>\n       </defs>\n       <use xlink:href=\"#DejaVuSans-32\"/>\n       <use x=\"63.623047\" xlink:href=\"#DejaVuSans-30\"/>\n      </g>\n     </g>\n    </g>\n    <g id=\"xtick_5\">\n     <g id=\"line2d_5\">\n      <g>\n       <use style=\"stroke:#000000;stroke-width:0.8;\" x=\"246.926361\" xlink:href=\"#mc301e50057\" y=\"224.64\"/>\n      </g>\n     </g>\n     <g id=\"text_5\">\n      <!-- 25 -->\n      <g transform=\"translate(240.563861 239.238437)scale(0.1 -0.1)\">\n       <use xlink:href=\"#DejaVuSans-32\"/>\n       <use x=\"63.623047\" xlink:href=\"#DejaVuSans-35\"/>\n      </g>\n     </g>\n    </g>\n    <g id=\"xtick_6\">\n     <g id=\"line2d_6\">\n      <g>\n       <use style=\"stroke:#000000;stroke-width:0.8;\" x=\"290.45905\" xlink:href=\"#mc301e50057\" y=\"224.64\"/>\n      </g>\n     </g>\n     <g id=\"text_6\">\n      <!-- 30 -->\n      <g transform=\"translate(284.09655 239.238437)scale(0.1 -0.1)\">\n       <defs>\n        <path d=\"M 2597 2516 \nQ 3050 2419 3304 2112 \nQ 3559 1806 3559 1356 \nQ 3559 666 3084 287 \nQ 2609 -91 1734 -91 \nQ 1441 -91 1130 -33 \nQ 819 25 488 141 \nL 488 750 \nQ 750 597 1062 519 \nQ 1375 441 1716 441 \nQ 2309 441 2620 675 \nQ 2931 909 2931 1356 \nQ 2931 1769 2642 2001 \nQ 2353 2234 1838 2234 \nL 1294 2234 \nL 1294 2753 \nL 1863 2753 \nQ 2328 2753 2575 2939 \nQ 2822 3125 2822 3475 \nQ 2822 3834 2567 4026 \nQ 2313 4219 1838 4219 \nQ 1578 4219 1281 4162 \nQ 984 4106 628 3988 \nL 628 4550 \nQ 988 4650 1302 4700 \nQ 1616 4750 1894 4750 \nQ 2613 4750 3031 4423 \nQ 3450 4097 3450 3541 \nQ 3450 3153 3228 2886 \nQ 3006 2619 2597 2516 \nz\n\" id=\"DejaVuSans-33\" transform=\"scale(0.015625)\"/>\n       </defs>\n       <use xlink:href=\"#DejaVuSans-33\"/>\n       <use x=\"63.623047\" xlink:href=\"#DejaVuSans-30\"/>\n      </g>\n     </g>\n    </g>\n    <g id=\"xtick_7\">\n     <g id=\"line2d_7\">\n      <g>\n       <use style=\"stroke:#000000;stroke-width:0.8;\" x=\"333.991739\" xlink:href=\"#mc301e50057\" y=\"224.64\"/>\n      </g>\n     </g>\n     <g id=\"text_7\">\n      <!-- 35 -->\n      <g transform=\"translate(327.629239 239.238437)scale(0.1 -0.1)\">\n       <use xlink:href=\"#DejaVuSans-33\"/>\n       <use x=\"63.623047\" xlink:href=\"#DejaVuSans-35\"/>\n      </g>\n     </g>\n    </g>\n   </g>\n   <g id=\"matplotlib.axis_2\">\n    <g id=\"ytick_1\">\n     <g id=\"line2d_8\">\n      <defs>\n       <path d=\"M 0 0 \nL -3.5 0 \n\" id=\"mac320a035f\" style=\"stroke:#000000;stroke-width:0.8;\"/>\n      </defs>\n      <g>\n       <use style=\"stroke:#000000;stroke-width:0.8;\" x=\"33.2875\" xlink:href=\"#mac320a035f\" y=\"224.64\"/>\n      </g>\n     </g>\n     <g id=\"text_8\">\n      <!-- 0 -->\n      <g transform=\"translate(19.925 228.439219)scale(0.1 -0.1)\">\n       <use xlink:href=\"#DejaVuSans-30\"/>\n      </g>\n     </g>\n    </g>\n    <g id=\"ytick_2\">\n     <g id=\"line2d_9\">\n      <g>\n       <use style=\"stroke:#000000;stroke-width:0.8;\" x=\"33.2875\" xlink:href=\"#mac320a035f\" y=\"190.125714\"/>\n      </g>\n     </g>\n     <g id=\"text_9\">\n      <!-- 50 -->\n      <g transform=\"translate(13.5625 193.924933)scale(0.1 -0.1)\">\n       <use xlink:href=\"#DejaVuSans-35\"/>\n       <use x=\"63.623047\" xlink:href=\"#DejaVuSans-30\"/>\n      </g>\n     </g>\n    </g>\n    <g id=\"ytick_3\">\n     <g id=\"line2d_10\">\n      <g>\n       <use style=\"stroke:#000000;stroke-width:0.8;\" x=\"33.2875\" xlink:href=\"#mac320a035f\" y=\"155.611429\"/>\n      </g>\n     </g>\n     <g id=\"text_10\">\n      <!-- 100 -->\n      <g transform=\"translate(7.2 159.410647)scale(0.1 -0.1)\">\n       <use xlink:href=\"#DejaVuSans-31\"/>\n       <use x=\"63.623047\" xlink:href=\"#DejaVuSans-30\"/>\n       <use x=\"127.246094\" xlink:href=\"#DejaVuSans-30\"/>\n      </g>\n     </g>\n    </g>\n    <g id=\"ytick_4\">\n     <g id=\"line2d_11\">\n      <g>\n       <use style=\"stroke:#000000;stroke-width:0.8;\" x=\"33.2875\" xlink:href=\"#mac320a035f\" y=\"121.097143\"/>\n      </g>\n     </g>\n     <g id=\"text_11\">\n      <!-- 150 -->\n      <g transform=\"translate(7.2 124.896362)scale(0.1 -0.1)\">\n       <use xlink:href=\"#DejaVuSans-31\"/>\n       <use x=\"63.623047\" xlink:href=\"#DejaVuSans-35\"/>\n       <use x=\"127.246094\" xlink:href=\"#DejaVuSans-30\"/>\n      </g>\n     </g>\n    </g>\n    <g id=\"ytick_5\">\n     <g id=\"line2d_12\">\n      <g>\n       <use style=\"stroke:#000000;stroke-width:0.8;\" x=\"33.2875\" xlink:href=\"#mac320a035f\" y=\"86.582857\"/>\n      </g>\n     </g>\n     <g id=\"text_12\">\n      <!-- 200 -->\n      <g transform=\"translate(7.2 90.382076)scale(0.1 -0.1)\">\n       <use xlink:href=\"#DejaVuSans-32\"/>\n       <use x=\"63.623047\" xlink:href=\"#DejaVuSans-30\"/>\n       <use x=\"127.246094\" xlink:href=\"#DejaVuSans-30\"/>\n      </g>\n     </g>\n    </g>\n    <g id=\"ytick_6\">\n     <g id=\"line2d_13\">\n      <g>\n       <use style=\"stroke:#000000;stroke-width:0.8;\" x=\"33.2875\" xlink:href=\"#mac320a035f\" y=\"52.068571\"/>\n      </g>\n     </g>\n     <g id=\"text_13\">\n      <!-- 250 -->\n      <g transform=\"translate(7.2 55.86779)scale(0.1 -0.1)\">\n       <use xlink:href=\"#DejaVuSans-32\"/>\n       <use x=\"63.623047\" xlink:href=\"#DejaVuSans-35\"/>\n       <use x=\"127.246094\" xlink:href=\"#DejaVuSans-30\"/>\n      </g>\n     </g>\n    </g>\n    <g id=\"ytick_7\">\n     <g id=\"line2d_14\">\n      <g>\n       <use style=\"stroke:#000000;stroke-width:0.8;\" x=\"33.2875\" xlink:href=\"#mac320a035f\" y=\"17.554286\"/>\n      </g>\n     </g>\n     <g id=\"text_14\">\n      <!-- 300 -->\n      <g transform=\"translate(7.2 21.353504)scale(0.1 -0.1)\">\n       <use xlink:href=\"#DejaVuSans-33\"/>\n       <use x=\"63.623047\" xlink:href=\"#DejaVuSans-30\"/>\n       <use x=\"127.246094\" xlink:href=\"#DejaVuSans-30\"/>\n      </g>\n     </g>\n    </g>\n   </g>\n   <g id=\"patch_13\">\n    <path d=\"M 33.2875 224.64 \nL 33.2875 7.2 \n\" style=\"fill:none;stroke:#000000;stroke-linecap:square;stroke-linejoin:miter;stroke-width:0.8;\"/>\n   </g>\n   <g id=\"patch_14\">\n    <path d=\"M 368.0875 224.64 \nL 368.0875 7.2 \n\" style=\"fill:none;stroke:#000000;stroke-linecap:square;stroke-linejoin:miter;stroke-width:0.8;\"/>\n   </g>\n   <g id=\"patch_15\">\n    <path d=\"M 33.2875 224.64 \nL 368.0875 224.64 \n\" style=\"fill:none;stroke:#000000;stroke-linecap:square;stroke-linejoin:miter;stroke-width:0.8;\"/>\n   </g>\n   <g id=\"patch_16\">\n    <path d=\"M 33.2875 7.2 \nL 368.0875 7.2 \n\" style=\"fill:none;stroke:#000000;stroke-linecap:square;stroke-linejoin:miter;stroke-width:0.8;\"/>\n   </g>\n  </g>\n </g>\n <defs>\n  <clipPath id=\"pbcf5cba186\">\n   <rect height=\"217.44\" width=\"334.8\" x=\"33.2875\" y=\"7.2\"/>\n  </clipPath>\n </defs>\n</svg>\n",
      "image/png": "[encoded data removed]"
     },
     "metadata": {
      "needs_background": "light"
     }
    }
   ],
   "source": [
    "plt.hist(average_sim)"
   ]
  },
  {
   "cell_type": "code",
   "execution_count": null,
   "metadata": {},
   "outputs": [],
   "source": []
  }
 ]
}